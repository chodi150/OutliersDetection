{
 "cells": [
  {
   "cell_type": "code",
   "execution_count": 1,
   "metadata": {},
   "outputs": [],
   "source": [
    "import matplotlib.pyplot as plt\n",
    "from sklearn.preprocessing import MinMaxScaler\n",
    "from sklearn.metrics import silhouette_samples, silhouette_score\n",
    "import numpy as np\n",
    "import seaborn as sns\n",
    "import pandas as pd\n",
    "from sklearn.cluster import KMeans\n",
    "from sklearn_extra.cluster import KMedoids\n",
    "from torch.nn import Module, Linear, MSELoss\n",
    "from torch.optim import Adam\n",
    "import torch\n",
    "from sklearn.svm import OneClassSVM\n",
    "\n",
    "from sklearn.neighbors import LocalOutlierFactor\n",
    "from torch.utils.data import DataLoader\n",
    "import visualizing_utils as viz\n",
    "%matplotlib notebook\n",
    "%load_ext autoreload\n",
    "%autoreload 2"
   ]
  },
  {
   "cell_type": "code",
   "execution_count": 2,
   "metadata": {},
   "outputs": [],
   "source": [
    "data = pd.read_csv('OD_dataset.csv')  \n",
    "data_sliced = data.loc[:, list(data)[1:]]\n",
    "names = data.loc[:,list(data)[0]]\n",
    "df = (data_sliced - data_sliced.mean())/data_sliced.std() #data normalization"
   ]
  },
  {
   "cell_type": "code",
   "execution_count": null,
   "metadata": {},
   "outputs": [],
   "source": []
  },
  {
   "cell_type": "markdown",
   "metadata": {},
   "source": [
    "<h2>1. Exploratory data analysis</h2>\n",
    "<ol>\n",
    "    <li>Basic information about the data</li>\n",
    "    <li>Correlation of features</li>\n",
    "    <li>Histograms of features</li>\n",
    "</ol>\n",
    "\n",
    "\n",
    "Remarks:\n",
    "<ul>\n",
    "    <li>During the preprocessing highly correlated features will be dropped (covariance of normalized features > 0.8) - getting rid of redundant dimensions is particularly important for PAM clustering. High dimensionality increases the sparsity of data, so that the distances between \"normal\" data might be big, which may downgrade the quality of created model.</li>\n",
    "</ul>"
   ]
  },
  {
   "cell_type": "code",
   "execution_count": 3,
   "metadata": {},
   "outputs": [
    {
     "data": {
      "text/html": [
       "<div>\n",
       "<style scoped>\n",
       "    .dataframe tbody tr th:only-of-type {\n",
       "        vertical-align: middle;\n",
       "    }\n",
       "\n",
       "    .dataframe tbody tr th {\n",
       "        vertical-align: top;\n",
       "    }\n",
       "\n",
       "    .dataframe thead th {\n",
       "        text-align: right;\n",
       "    }\n",
       "</style>\n",
       "<table border=\"1\" class=\"dataframe\">\n",
       "  <thead>\n",
       "    <tr style=\"text-align: right;\">\n",
       "      <th></th>\n",
       "      <th>tx_cnt</th>\n",
       "      <th>amt_mean</th>\n",
       "      <th>amt_median</th>\n",
       "      <th>amt_std</th>\n",
       "      <th>amt_skew</th>\n",
       "      <th>amt_kurt</th>\n",
       "      <th>amt_q025</th>\n",
       "      <th>amt_q05</th>\n",
       "      <th>amt_q95</th>\n",
       "      <th>amt_q975</th>\n",
       "      <th>...</th>\n",
       "      <th>vol_chg_q2</th>\n",
       "      <th>vol_chg_q3</th>\n",
       "      <th>vol_chg_q4</th>\n",
       "      <th>ref_pct</th>\n",
       "      <th>ref_vol_pct</th>\n",
       "      <th>vel_purch_cnt</th>\n",
       "      <th>vel_purch_vol</th>\n",
       "      <th>vel_ref_cnt</th>\n",
       "      <th>vel_ref_vol</th>\n",
       "      <th>num_outlets</th>\n",
       "    </tr>\n",
       "  </thead>\n",
       "  <tbody>\n",
       "    <tr>\n",
       "      <th>count</th>\n",
       "      <td>2.680000e+02</td>\n",
       "      <td>268.000000</td>\n",
       "      <td>2.680000e+02</td>\n",
       "      <td>2.680000e+02</td>\n",
       "      <td>2.680000e+02</td>\n",
       "      <td>2.680000e+02</td>\n",
       "      <td>2.680000e+02</td>\n",
       "      <td>2.680000e+02</td>\n",
       "      <td>2.680000e+02</td>\n",
       "      <td>2.680000e+02</td>\n",
       "      <td>...</td>\n",
       "      <td>2.680000e+02</td>\n",
       "      <td>2.680000e+02</td>\n",
       "      <td>2.680000e+02</td>\n",
       "      <td>2.680000e+02</td>\n",
       "      <td>2.680000e+02</td>\n",
       "      <td>2.680000e+02</td>\n",
       "      <td>2.680000e+02</td>\n",
       "      <td>2.680000e+02</td>\n",
       "      <td>2.680000e+02</td>\n",
       "      <td>2.680000e+02</td>\n",
       "    </tr>\n",
       "    <tr>\n",
       "      <th>mean</th>\n",
       "      <td>2.651279e-17</td>\n",
       "      <td>0.000000</td>\n",
       "      <td>2.651279e-16</td>\n",
       "      <td>1.259357e-16</td>\n",
       "      <td>-5.269417e-16</td>\n",
       "      <td>8.285246e-18</td>\n",
       "      <td>-7.556145e-16</td>\n",
       "      <td>-7.158453e-16</td>\n",
       "      <td>9.279476e-17</td>\n",
       "      <td>1.590767e-16</td>\n",
       "      <td>...</td>\n",
       "      <td>-6.628197e-18</td>\n",
       "      <td>1.325639e-17</td>\n",
       "      <td>-1.657049e-17</td>\n",
       "      <td>-1.325639e-17</td>\n",
       "      <td>-1.325639e-17</td>\n",
       "      <td>6.628197e-18</td>\n",
       "      <td>-2.054741e-16</td>\n",
       "      <td>-3.645508e-17</td>\n",
       "      <td>3.314099e-17</td>\n",
       "      <td>6.628197e-18</td>\n",
       "    </tr>\n",
       "    <tr>\n",
       "      <th>std</th>\n",
       "      <td>1.000000e+00</td>\n",
       "      <td>1.000000</td>\n",
       "      <td>1.000000e+00</td>\n",
       "      <td>1.000000e+00</td>\n",
       "      <td>1.000000e+00</td>\n",
       "      <td>1.000000e+00</td>\n",
       "      <td>1.000000e+00</td>\n",
       "      <td>1.000000e+00</td>\n",
       "      <td>1.000000e+00</td>\n",
       "      <td>1.000000e+00</td>\n",
       "      <td>...</td>\n",
       "      <td>1.000000e+00</td>\n",
       "      <td>1.000000e+00</td>\n",
       "      <td>1.000000e+00</td>\n",
       "      <td>1.000000e+00</td>\n",
       "      <td>1.000000e+00</td>\n",
       "      <td>1.000000e+00</td>\n",
       "      <td>1.000000e+00</td>\n",
       "      <td>1.000000e+00</td>\n",
       "      <td>1.000000e+00</td>\n",
       "      <td>1.000000e+00</td>\n",
       "    </tr>\n",
       "    <tr>\n",
       "      <th>min</th>\n",
       "      <td>-1.649432e-01</td>\n",
       "      <td>-0.525964</td>\n",
       "      <td>-8.419566e-01</td>\n",
       "      <td>-3.027041e-01</td>\n",
       "      <td>-5.583675e-01</td>\n",
       "      <td>-1.866129e-01</td>\n",
       "      <td>-1.078316e+00</td>\n",
       "      <td>-1.124762e+00</td>\n",
       "      <td>-3.698104e-01</td>\n",
       "      <td>-3.353169e-01</td>\n",
       "      <td>...</td>\n",
       "      <td>-8.681408e-01</td>\n",
       "      <td>-6.238516e-02</td>\n",
       "      <td>-7.985609e-02</td>\n",
       "      <td>-7.680613e-02</td>\n",
       "      <td>-6.508316e-02</td>\n",
       "      <td>-1.959960e-01</td>\n",
       "      <td>-2.244482e-01</td>\n",
       "      <td>-8.038617e-02</td>\n",
       "      <td>-7.660399e-02</td>\n",
       "      <td>-1.200669e-01</td>\n",
       "    </tr>\n",
       "    <tr>\n",
       "      <th>25%</th>\n",
       "      <td>-1.565660e-01</td>\n",
       "      <td>-0.308120</td>\n",
       "      <td>-4.277070e-01</td>\n",
       "      <td>-2.384845e-01</td>\n",
       "      <td>-4.103529e-01</td>\n",
       "      <td>-1.839740e-01</td>\n",
       "      <td>-4.294608e-01</td>\n",
       "      <td>-4.768385e-01</td>\n",
       "      <td>-2.514880e-01</td>\n",
       "      <td>-2.399730e-01</td>\n",
       "      <td>...</td>\n",
       "      <td>-8.730817e-02</td>\n",
       "      <td>-6.235224e-02</td>\n",
       "      <td>-7.080755e-02</td>\n",
       "      <td>-7.680613e-02</td>\n",
       "      <td>-6.508316e-02</td>\n",
       "      <td>-1.737091e-01</td>\n",
       "      <td>-2.024749e-01</td>\n",
       "      <td>-8.038617e-02</td>\n",
       "      <td>-7.660399e-02</td>\n",
       "      <td>-1.200669e-01</td>\n",
       "    </tr>\n",
       "    <tr>\n",
       "      <th>50%</th>\n",
       "      <td>-1.318475e-01</td>\n",
       "      <td>-0.268511</td>\n",
       "      <td>-3.229240e-01</td>\n",
       "      <td>-2.218929e-01</td>\n",
       "      <td>-3.066545e-01</td>\n",
       "      <td>-1.735467e-01</td>\n",
       "      <td>-3.027077e-01</td>\n",
       "      <td>-2.195299e-01</td>\n",
       "      <td>-2.194694e-01</td>\n",
       "      <td>-2.172060e-01</td>\n",
       "      <td>...</td>\n",
       "      <td>-7.728178e-02</td>\n",
       "      <td>-6.235067e-02</td>\n",
       "      <td>-7.014637e-02</td>\n",
       "      <td>-7.680613e-02</td>\n",
       "      <td>-6.508316e-02</td>\n",
       "      <td>-1.499835e-01</td>\n",
       "      <td>-1.846040e-01</td>\n",
       "      <td>-8.038617e-02</td>\n",
       "      <td>-7.660399e-02</td>\n",
       "      <td>-1.200669e-01</td>\n",
       "    </tr>\n",
       "    <tr>\n",
       "      <th>75%</th>\n",
       "      <td>-9.595919e-02</td>\n",
       "      <td>-0.129768</td>\n",
       "      <td>-1.206815e-01</td>\n",
       "      <td>-1.412966e-01</td>\n",
       "      <td>1.035700e-02</td>\n",
       "      <td>-1.315886e-01</td>\n",
       "      <td>8.139122e-03</td>\n",
       "      <td>-8.810931e-02</td>\n",
       "      <td>-1.146319e-01</td>\n",
       "      <td>-1.201885e-01</td>\n",
       "      <td>...</td>\n",
       "      <td>-2.889888e-02</td>\n",
       "      <td>-6.234741e-02</td>\n",
       "      <td>-6.484436e-02</td>\n",
       "      <td>-7.680613e-02</td>\n",
       "      <td>-6.508316e-02</td>\n",
       "      <td>-1.094524e-01</td>\n",
       "      <td>-1.395871e-01</td>\n",
       "      <td>-8.038617e-02</td>\n",
       "      <td>-7.660399e-02</td>\n",
       "      <td>-1.095787e-01</td>\n",
       "    </tr>\n",
       "    <tr>\n",
       "      <th>max</th>\n",
       "      <td>1.249179e+01</td>\n",
       "      <td>9.109497</td>\n",
       "      <td>6.573976e+00</td>\n",
       "      <td>1.161292e+01</td>\n",
       "      <td>1.057759e+01</td>\n",
       "      <td>1.104833e+01</td>\n",
       "      <td>8.316502e+00</td>\n",
       "      <td>7.151643e+00</td>\n",
       "      <td>1.040953e+01</td>\n",
       "      <td>1.002592e+01</td>\n",
       "      <td>...</td>\n",
       "      <td>1.578518e+01</td>\n",
       "      <td>1.630824e+01</td>\n",
       "      <td>1.624024e+01</td>\n",
       "      <td>1.570552e+01</td>\n",
       "      <td>1.628478e+01</td>\n",
       "      <td>1.236350e+01</td>\n",
       "      <td>1.361108e+01</td>\n",
       "      <td>1.610263e+01</td>\n",
       "      <td>1.617139e+01</td>\n",
       "      <td>1.538505e+01</td>\n",
       "    </tr>\n",
       "  </tbody>\n",
       "</table>\n",
       "<p>8 rows × 32 columns</p>\n",
       "</div>"
      ],
      "text/plain": [
       "             tx_cnt    amt_mean    amt_median       amt_std      amt_skew  \\\n",
       "count  2.680000e+02  268.000000  2.680000e+02  2.680000e+02  2.680000e+02   \n",
       "mean   2.651279e-17    0.000000  2.651279e-16  1.259357e-16 -5.269417e-16   \n",
       "std    1.000000e+00    1.000000  1.000000e+00  1.000000e+00  1.000000e+00   \n",
       "min   -1.649432e-01   -0.525964 -8.419566e-01 -3.027041e-01 -5.583675e-01   \n",
       "25%   -1.565660e-01   -0.308120 -4.277070e-01 -2.384845e-01 -4.103529e-01   \n",
       "50%   -1.318475e-01   -0.268511 -3.229240e-01 -2.218929e-01 -3.066545e-01   \n",
       "75%   -9.595919e-02   -0.129768 -1.206815e-01 -1.412966e-01  1.035700e-02   \n",
       "max    1.249179e+01    9.109497  6.573976e+00  1.161292e+01  1.057759e+01   \n",
       "\n",
       "           amt_kurt      amt_q025       amt_q05       amt_q95      amt_q975  \\\n",
       "count  2.680000e+02  2.680000e+02  2.680000e+02  2.680000e+02  2.680000e+02   \n",
       "mean   8.285246e-18 -7.556145e-16 -7.158453e-16  9.279476e-17  1.590767e-16   \n",
       "std    1.000000e+00  1.000000e+00  1.000000e+00  1.000000e+00  1.000000e+00   \n",
       "min   -1.866129e-01 -1.078316e+00 -1.124762e+00 -3.698104e-01 -3.353169e-01   \n",
       "25%   -1.839740e-01 -4.294608e-01 -4.768385e-01 -2.514880e-01 -2.399730e-01   \n",
       "50%   -1.735467e-01 -3.027077e-01 -2.195299e-01 -2.194694e-01 -2.172060e-01   \n",
       "75%   -1.315886e-01  8.139122e-03 -8.810931e-02 -1.146319e-01 -1.201885e-01   \n",
       "max    1.104833e+01  8.316502e+00  7.151643e+00  1.040953e+01  1.002592e+01   \n",
       "\n",
       "       ...    vol_chg_q2    vol_chg_q3    vol_chg_q4       ref_pct  \\\n",
       "count  ...  2.680000e+02  2.680000e+02  2.680000e+02  2.680000e+02   \n",
       "mean   ... -6.628197e-18  1.325639e-17 -1.657049e-17 -1.325639e-17   \n",
       "std    ...  1.000000e+00  1.000000e+00  1.000000e+00  1.000000e+00   \n",
       "min    ... -8.681408e-01 -6.238516e-02 -7.985609e-02 -7.680613e-02   \n",
       "25%    ... -8.730817e-02 -6.235224e-02 -7.080755e-02 -7.680613e-02   \n",
       "50%    ... -7.728178e-02 -6.235067e-02 -7.014637e-02 -7.680613e-02   \n",
       "75%    ... -2.889888e-02 -6.234741e-02 -6.484436e-02 -7.680613e-02   \n",
       "max    ...  1.578518e+01  1.630824e+01  1.624024e+01  1.570552e+01   \n",
       "\n",
       "        ref_vol_pct  vel_purch_cnt  vel_purch_vol   vel_ref_cnt   vel_ref_vol  \\\n",
       "count  2.680000e+02   2.680000e+02   2.680000e+02  2.680000e+02  2.680000e+02   \n",
       "mean  -1.325639e-17   6.628197e-18  -2.054741e-16 -3.645508e-17  3.314099e-17   \n",
       "std    1.000000e+00   1.000000e+00   1.000000e+00  1.000000e+00  1.000000e+00   \n",
       "min   -6.508316e-02  -1.959960e-01  -2.244482e-01 -8.038617e-02 -7.660399e-02   \n",
       "25%   -6.508316e-02  -1.737091e-01  -2.024749e-01 -8.038617e-02 -7.660399e-02   \n",
       "50%   -6.508316e-02  -1.499835e-01  -1.846040e-01 -8.038617e-02 -7.660399e-02   \n",
       "75%   -6.508316e-02  -1.094524e-01  -1.395871e-01 -8.038617e-02 -7.660399e-02   \n",
       "max    1.628478e+01   1.236350e+01   1.361108e+01  1.610263e+01  1.617139e+01   \n",
       "\n",
       "        num_outlets  \n",
       "count  2.680000e+02  \n",
       "mean   6.628197e-18  \n",
       "std    1.000000e+00  \n",
       "min   -1.200669e-01  \n",
       "25%   -1.200669e-01  \n",
       "50%   -1.200669e-01  \n",
       "75%   -1.095787e-01  \n",
       "max    1.538505e+01  \n",
       "\n",
       "[8 rows x 32 columns]"
      ]
     },
     "execution_count": 3,
     "metadata": {},
     "output_type": "execute_result"
    }
   ],
   "source": [
    "df.describe()"
   ]
  },
  {
   "cell_type": "code",
   "execution_count": 4,
   "metadata": {},
   "outputs": [
    {
     "data": {
      "text/plain": [
       "<matplotlib.axes._subplots.AxesSubplot at 0x7f3074e3a7b8>"
      ]
     },
     "execution_count": 4,
     "metadata": {},
     "output_type": "execute_result"
    },
    {
     "data": {
      "image/png": "[encoded data removed]",
      "text/plain": [
       "<Figure size 576x432 with 2 Axes>"
      ]
     },
     "metadata": {
      "needs_background": "light"
     },
     "output_type": "display_data"
    }
   ],
   "source": [
    "cova = df.cov()\n",
    "f, ax = plt.subplots(figsize=(8, 6))\n",
    "cmap = sns.diverging_palette(150, 10, as_cmap=True)\n",
    "mask = np.triu(np.ones_like(cova, dtype=np.bool))\n",
    "sns.heatmap(cova, mask = mask, cmap = cmap)"
   ]
  },
  {
   "cell_type": "code",
   "execution_count": 5,
   "metadata": {},
   "outputs": [
    {
     "data": {
      "image/png": "[encoded data removed]",
      "text/plain": [
       "<Figure size 2160x3024 with 32 Axes>"
      ]
     },
     "metadata": {
      "needs_background": "light"
     },
     "output_type": "display_data"
    }
   ],
   "source": [
    "l = df.columns.values\n",
    "rows = 7\n",
    "columns = 5\n",
    "plt.figure(figsize=(6*columns, 6*rows))\n",
    "for i in range(0,len(l)):\n",
    "    plt.subplot(rows+1,columns,i+1)\n",
    "    sns.distplot(df[l[i]],kde=True) "
   ]
  },
  {
   "cell_type": "code",
   "execution_count": 6,
   "metadata": {},
   "outputs": [],
   "source": [
    "#drop highly correlated features\n",
    "\n",
    "column_names = list(df)\n",
    "length = len(column_names)\n",
    "deleted = []\n",
    "for i in range(0,length):\n",
    "    col = column_names[i]\n",
    "    if col in deleted:\n",
    "        continue\n",
    "    x_cor = abs(cova[col])\n",
    "    correlated_features = list(x_cor[x_cor>0.8].to_frame().index)\n",
    "    correlated_features.remove(col)\n",
    "    \n",
    "    for y in correlated_features:\n",
    "        deleted.append(y)\n",
    "        df = df.drop(y, axis=1)\n",
    "    cova = df.cov()"
   ]
  },
  {
   "cell_type": "code",
   "execution_count": 7,
   "metadata": {},
   "outputs": [
    {
     "name": "stdout",
     "output_type": "stream",
     "text": [
      "(268, 19)\n"
     ]
    },
    {
     "data": {
      "text/html": [
       "<div>\n",
       "<style scoped>\n",
       "    .dataframe tbody tr th:only-of-type {\n",
       "        vertical-align: middle;\n",
       "    }\n",
       "\n",
       "    .dataframe tbody tr th {\n",
       "        vertical-align: top;\n",
       "    }\n",
       "\n",
       "    .dataframe thead th {\n",
       "        text-align: right;\n",
       "    }\n",
       "</style>\n",
       "<table border=\"1\" class=\"dataframe\">\n",
       "  <thead>\n",
       "    <tr style=\"text-align: right;\">\n",
       "      <th></th>\n",
       "      <th>tx_cnt</th>\n",
       "      <th>amt_mean</th>\n",
       "      <th>amt_median</th>\n",
       "      <th>amt_skew</th>\n",
       "      <th>ref_count</th>\n",
       "      <th>acq_curr_differs</th>\n",
       "      <th>uniq_curr</th>\n",
       "      <th>loc_cur_ratio</th>\n",
       "      <th>dates_spread</th>\n",
       "      <th>holiday_ratio</th>\n",
       "      <th>weekend_ratio</th>\n",
       "      <th>uniq_pans_ratio</th>\n",
       "      <th>non_loc_pans_ratio</th>\n",
       "      <th>tx_online_ratio</th>\n",
       "      <th>vol_chg_q2</th>\n",
       "      <th>vol_chg_q3</th>\n",
       "      <th>vol_chg_q4</th>\n",
       "      <th>ref_pct</th>\n",
       "      <th>num_outlets</th>\n",
       "    </tr>\n",
       "  </thead>\n",
       "  <tbody>\n",
       "    <tr>\n",
       "      <th>0</th>\n",
       "      <td>-0.150877</td>\n",
       "      <td>-0.294056</td>\n",
       "      <td>-0.363485</td>\n",
       "      <td>-0.354568</td>\n",
       "      <td>-0.070236</td>\n",
       "      <td>-0.463149</td>\n",
       "      <td>-0.113659</td>\n",
       "      <td>0.095295</td>\n",
       "      <td>-0.985185</td>\n",
       "      <td>0.428037</td>\n",
       "      <td>0.217411</td>\n",
       "      <td>-0.559134</td>\n",
       "      <td>-0.537313</td>\n",
       "      <td>-0.150336</td>\n",
       "      <td>-0.077282</td>\n",
       "      <td>-0.061712</td>\n",
       "      <td>-0.067817</td>\n",
       "      <td>-0.076806</td>\n",
       "      <td>-0.120067</td>\n",
       "    </tr>\n",
       "    <tr>\n",
       "      <th>1</th>\n",
       "      <td>0.036474</td>\n",
       "      <td>-0.257077</td>\n",
       "      <td>-0.443856</td>\n",
       "      <td>-0.411895</td>\n",
       "      <td>-0.070236</td>\n",
       "      <td>-0.463149</td>\n",
       "      <td>-0.113659</td>\n",
       "      <td>0.095295</td>\n",
       "      <td>0.700005</td>\n",
       "      <td>0.538036</td>\n",
       "      <td>0.359096</td>\n",
       "      <td>-0.231799</td>\n",
       "      <td>-0.080928</td>\n",
       "      <td>-0.149376</td>\n",
       "      <td>-0.077898</td>\n",
       "      <td>-0.062350</td>\n",
       "      <td>-0.072306</td>\n",
       "      <td>-0.076806</td>\n",
       "      <td>-0.050145</td>\n",
       "    </tr>\n",
       "    <tr>\n",
       "      <th>2</th>\n",
       "      <td>-0.158352</td>\n",
       "      <td>1.189511</td>\n",
       "      <td>2.623018</td>\n",
       "      <td>-0.457288</td>\n",
       "      <td>-0.070236</td>\n",
       "      <td>-0.463149</td>\n",
       "      <td>-0.113659</td>\n",
       "      <td>0.095295</td>\n",
       "      <td>-1.464308</td>\n",
       "      <td>0.230863</td>\n",
       "      <td>1.096956</td>\n",
       "      <td>1.520790</td>\n",
       "      <td>0.396958</td>\n",
       "      <td>-0.146498</td>\n",
       "      <td>-0.077282</td>\n",
       "      <td>-0.062351</td>\n",
       "      <td>-0.064844</td>\n",
       "      <td>-0.076806</td>\n",
       "      <td>-0.116571</td>\n",
       "    </tr>\n",
       "    <tr>\n",
       "      <th>3</th>\n",
       "      <td>-0.162616</td>\n",
       "      <td>-0.293298</td>\n",
       "      <td>-0.407802</td>\n",
       "      <td>-0.154390</td>\n",
       "      <td>-0.070236</td>\n",
       "      <td>-0.463149</td>\n",
       "      <td>-0.113659</td>\n",
       "      <td>0.095295</td>\n",
       "      <td>0.700005</td>\n",
       "      <td>-0.484929</td>\n",
       "      <td>-0.882597</td>\n",
       "      <td>-0.251878</td>\n",
       "      <td>0.114633</td>\n",
       "      <td>-0.151511</td>\n",
       "      <td>-0.394992</td>\n",
       "      <td>-0.062361</td>\n",
       "      <td>-0.071035</td>\n",
       "      <td>-0.076806</td>\n",
       "      <td>-0.113075</td>\n",
       "    </tr>\n",
       "    <tr>\n",
       "      <th>4</th>\n",
       "      <td>-0.164941</td>\n",
       "      <td>0.051412</td>\n",
       "      <td>0.816544</td>\n",
       "      <td>-0.558368</td>\n",
       "      <td>-0.070236</td>\n",
       "      <td>-0.463149</td>\n",
       "      <td>-0.113659</td>\n",
       "      <td>0.095295</td>\n",
       "      <td>-0.059983</td>\n",
       "      <td>7.385958</td>\n",
       "      <td>3.713345</td>\n",
       "      <td>2.166009</td>\n",
       "      <td>-0.881128</td>\n",
       "      <td>-0.151511</td>\n",
       "      <td>-0.077282</td>\n",
       "      <td>-0.062188</td>\n",
       "      <td>-0.064844</td>\n",
       "      <td>-0.076806</td>\n",
       "      <td>-0.106083</td>\n",
       "    </tr>\n",
       "  </tbody>\n",
       "</table>\n",
       "</div>"
      ],
      "text/plain": [
       "     tx_cnt  amt_mean  amt_median  amt_skew  ref_count  acq_curr_differs  \\\n",
       "0 -0.150877 -0.294056   -0.363485 -0.354568  -0.070236         -0.463149   \n",
       "1  0.036474 -0.257077   -0.443856 -0.411895  -0.070236         -0.463149   \n",
       "2 -0.158352  1.189511    2.623018 -0.457288  -0.070236         -0.463149   \n",
       "3 -0.162616 -0.293298   -0.407802 -0.154390  -0.070236         -0.463149   \n",
       "4 -0.164941  0.051412    0.816544 -0.558368  -0.070236         -0.463149   \n",
       "\n",
       "   uniq_curr  loc_cur_ratio  dates_spread  holiday_ratio  weekend_ratio  \\\n",
       "0  -0.113659       0.095295     -0.985185       0.428037       0.217411   \n",
       "1  -0.113659       0.095295      0.700005       0.538036       0.359096   \n",
       "2  -0.113659       0.095295     -1.464308       0.230863       1.096956   \n",
       "3  -0.113659       0.095295      0.700005      -0.484929      -0.882597   \n",
       "4  -0.113659       0.095295     -0.059983       7.385958       3.713345   \n",
       "\n",
       "   uniq_pans_ratio  non_loc_pans_ratio  tx_online_ratio  vol_chg_q2  \\\n",
       "0        -0.559134           -0.537313        -0.150336   -0.077282   \n",
       "1        -0.231799           -0.080928        -0.149376   -0.077898   \n",
       "2         1.520790            0.396958        -0.146498   -0.077282   \n",
       "3        -0.251878            0.114633        -0.151511   -0.394992   \n",
       "4         2.166009           -0.881128        -0.151511   -0.077282   \n",
       "\n",
       "   vol_chg_q3  vol_chg_q4   ref_pct  num_outlets  \n",
       "0   -0.061712   -0.067817 -0.076806    -0.120067  \n",
       "1   -0.062350   -0.072306 -0.076806    -0.050145  \n",
       "2   -0.062351   -0.064844 -0.076806    -0.116571  \n",
       "3   -0.062361   -0.071035 -0.076806    -0.113075  \n",
       "4   -0.062188   -0.064844 -0.076806    -0.106083  "
      ]
     },
     "execution_count": 7,
     "metadata": {},
     "output_type": "execute_result"
    }
   ],
   "source": [
    "print(df.shape)\n",
    "df.head()"
   ]
  },
  {
   "cell_type": "code",
   "execution_count": null,
   "metadata": {},
   "outputs": [],
   "source": []
  },
  {
   "cell_type": "markdown",
   "metadata": {},
   "source": [
    "<h2>2.Finding outliers</h2>\n",
    "<ol>\n",
    "    <li>PAM Clustering</li>\n",
    "    <li>Reconstruction error of autoencoder</li>\n",
    "</ol>\n",
    "\n",
    "Simplifying assumptions:\n",
    "<ul>\n",
    "    <li>the objective is to detect outliers in the provided dataset, not to create a robust model that will generalize well, therefore considering the small size of dataset, divison of dataset into train and validation will be neglected. Models will be trained on all provided data</li>\n",
    "    <li>since we know the percentage of outliers in the dataset, the number of seeked outliers will be fixed and set to 5 (preference for false positives among outliers, that can be analysed manually in further steps of analysis) </li>\n",
    "</ul>"
   ]
  },
  {
   "cell_type": "markdown",
   "metadata": {},
   "source": [
    "<h3>2.1 PAM Clustering</h3>\n",
    "PAM Clustering algorithm was chosen for anomaly detection due to its good robustness towards outliers among the ones belonging to k-centers algorithms. The number of clusters will be chosen corresponding to the internal evaulation criterion - silhouette width. The clustering maximizing silhouette width will be applied [1].\n",
    "\n",
    "Outliers will be chosen as elements that have maximum distance to the closest medoid.\n",
    "\n",
    "\n",
    "\n"
   ]
  },
  {
   "cell_type": "code",
   "execution_count": 8,
   "metadata": {},
   "outputs": [
    {
     "name": "stdout",
     "output_type": "stream",
     "text": [
      "Number of clusters 2, avg silh: 0.17251634514962555\n",
      "Number of clusters 3, avg silh: -0.024864590714183333\n",
      "Number of clusters 4, avg silh: 0.1635242056529558\n",
      "Number of clusters 5, avg silh: 0.1317204752927541\n",
      "Number of clusters 6, avg silh: 0.1190423674834056\n",
      "Number of clusters 7, avg silh: 0.05568794717264774\n",
      "Number of clusters 8, avg silh: 0.06582268050260962\n",
      "Number of clusters 9, avg silh: 0.04173094418505561\n"
     ]
    }
   ],
   "source": [
    "num_clusters = 10\n",
    "\n",
    "\n",
    "for x in range(2,num_clusters):\n",
    "    km = KMedoids(n_clusters=x)\n",
    "    kmeans = km.fit(df)\n",
    "    centroids = kmeans.cluster_centers_\n",
    "    y_kmeans = kmeans.predict(df)\n",
    "    silhouette_avg = silhouette_score(df, y_kmeans)\n",
    "    print(f\"Number of clusters {x}, avg silh: {silhouette_avg}\")\n"
   ]
  },
  {
   "cell_type": "code",
   "execution_count": 9,
   "metadata": {},
   "outputs": [],
   "source": [
    "km = KMedoids(n_clusters=2)\n",
    "kmeans = km.fit(df)"
   ]
  },
  {
   "cell_type": "code",
   "execution_count": 10,
   "metadata": {},
   "outputs": [],
   "source": [
    "outliers_indices = np.argsort(kmeans.transform(df).min(axis=1))[-5:]"
   ]
  },
  {
   "cell_type": "code",
   "execution_count": 11,
   "metadata": {},
   "outputs": [
    {
     "name": "stdout",
     "output_type": "stream",
     "text": [
      "Outliers found:\n",
      "['EID-2196' 'EID-865004798' 'EID-6532' 'EID-6558' 'EID-1270']\n"
     ]
    }
   ],
   "source": [
    "print(\"Outliers found:\")\n",
    "print(names[outliers_indices].values)"
   ]
  },
  {
   "cell_type": "code",
   "execution_count": 24,
   "metadata": {},
   "outputs": [
    {
     "data": {
      "application/vnd.plotly.v1+json": {
       "config": {
        "plotlyServerURL": "https://plot.ly"
       },
       "data": [
        {
         "marker": {
          "color": [
           "blue",
           "blue",
           "blue",
           "blue",
           "blue",
           "blue",
           "blue",
           "blue",
           "blue",
           "blue",
           "red",
           "blue",
           "blue",
           "blue",
           "blue",
           "blue",
           "blue",
           "blue",
           "blue",
           "blue",
           "blue",
           "blue",
           "blue",
           "blue",
           "blue",
           "blue",
           "blue",
           "blue",
           "blue",
           "blue",
           "blue",
           "blue",
           "blue",
           "blue",
           "blue",
           "blue",
           "blue",
           "blue",
           "blue",
           "blue",
           "blue",
           "blue",
           "blue",
           "blue",
           "blue",
           "blue",
           "blue",
           "blue",
           "blue",
           "blue",
           "blue",
           "blue",
           "blue",
           "blue",
           "blue",
           "blue",
           "blue",
           "blue",
           "blue",
           "blue",
           "blue",
           "blue",
           "blue",
           "blue",
           "blue",
           "red",
           "blue",
           "blue",
           "blue",
           "blue",
           "blue",
           "blue",
           "blue",
           "blue",
           "blue",
           "blue",
           "blue",
           "blue",
           "blue",
           "blue",
           "blue",
           "blue",
           "blue",
           "blue",
           "blue",
           "blue",
           "blue",
           "blue",
           "blue",
           "blue",
           "blue",
           "blue",
           "blue",
           "blue",
           "blue",
           "blue",
           "blue",
           "blue",
           "blue",
           "blue",
           "blue",
           "blue",
           "blue",
           "blue",
           "blue",
           "blue",
           "blue",
           "blue",
           "blue",
           "blue",
           "blue",
           "blue",
           "blue",
           "blue",
           "blue",
           "blue",
           "blue",
           "blue",
           "blue",
           "blue",
           "blue",
           "blue",
           "blue",
           "blue",
           "blue",
           "blue",
           "blue",
           "blue",
           "blue",
           "blue",
           "blue",
           "blue",
           "blue",
           "blue",
           "blue",
           "blue",
           "blue",
           "blue",
           "blue",
           "blue",
           "blue",
           "blue",
           "blue",
           "blue",
           "blue",
           "blue",
           "blue",
           "blue",
           "blue",
           "blue",
           "blue",
           "blue",
           "blue",
           "blue",
           "blue",
           "blue",
           "blue",
           "blue",
           "blue",
           "blue",
           "blue",
           "blue",
           "blue",
           "blue",
           "blue",
           "blue",
           "blue",
           "blue",
           "blue",
           "blue",
           "blue",
           "blue",
           "blue",
           "blue",
           "blue",
           "blue",
           "blue",
           "blue",
           "blue",
           "blue",
           "blue",
           "blue",
           "blue",
           "blue",
           "blue",
           "red",
           "blue",
           "blue",
           "blue",
           "red",
           "blue",
           "blue",
           "blue",
           "blue",
           "blue",
           "blue",
           "blue",
           "blue",
           "blue",
           "blue",
           "blue",
           "blue",
           "blue",
           "blue",
           "blue",
           "blue",
           "blue",
           "blue",
           "blue",
           "blue",
           "blue",
           "blue",
           "blue",
           "blue",
           "blue",
           "blue",
           "blue",
           "blue",
           "blue",
           "blue",
           "blue",
           "blue",
           "blue",
           "blue",
           "blue",
           "blue",
           "blue",
           "blue",
           "blue",
           "blue",
           "blue",
           "blue",
           "blue",
           "blue",
           "blue",
           "blue",
           "blue",
           "blue",
           "blue",
           "blue",
           "blue",
           "blue",
           "blue",
           "blue",
           "red",
           "blue",
           "blue",
           "blue",
           "blue",
           "blue",
           "blue",
           "blue",
           "blue",
           "blue",
           "blue",
           "blue",
           "blue",
           "blue",
           "blue",
           "blue",
           "blue",
           "blue",
           "blue",
           "blue",
           "blue",
           "blue",
           "blue",
           "blue"
          ],
          "colorscale": [
           [
            0,
            "#440154"
           ],
           [
            0.1111111111111111,
            "#482878"
           ],
           [
            0.2222222222222222,
            "#3e4989"
           ],
           [
            0.3333333333333333,
            "#31688e"
           ],
           [
            0.4444444444444444,
            "#26828e"
           ],
           [
            0.5555555555555556,
            "#1f9e89"
           ],
           [
            0.6666666666666666,
            "#35b779"
           ],
           [
            0.7777777777777778,
            "#6ece58"
           ],
           [
            0.8888888888888888,
            "#b5de2b"
           ],
           [
            1,
            "#fde725"
           ]
          ]
         },
         "mode": "markers",
         "text": [
          "EID-1000",
          "EID-1009",
          "EID-1091",
          "EID-1095",
          "EID-1117",
          "EID-1138",
          "EID-1147",
          "EID-1215",
          "EID-1263",
          "EID-1264",
          "EID-1270",
          "EID-1277",
          "EID-1296",
          "EID-1304",
          "EID-1352",
          "EID-1364",
          "EID-1397",
          "EID-1427",
          "EID-1437",
          "EID-1440",
          "EID-1457",
          "EID-146",
          "EID-1462",
          "EID-148",
          "EID-1494",
          "EID-1516",
          "EID-1523",
          "EID-1556",
          "EID-1568",
          "EID-1596",
          "EID-1629",
          "EID-1663",
          "EID-1676",
          "EID-1688",
          "EID-1691",
          "EID-1718",
          "EID-1772",
          "EID-1778",
          "EID-1797",
          "EID-1835",
          "EID-1848",
          "EID-1867",
          "EID-1890",
          "EID-1891",
          "EID-1914",
          "EID-1924",
          "EID-1977",
          "EID-1997",
          "EID-2003",
          "EID-2004",
          "EID-2008",
          "EID-2014",
          "EID-2048",
          "EID-2051",
          "EID-2052",
          "EID-2063",
          "EID-2068",
          "EID-2071",
          "EID-2073",
          "EID-2119",
          "EID-2121",
          "EID-2153",
          "EID-2159",
          "EID-2165",
          "EID-2174",
          "EID-2196",
          "EID-2197",
          "EID-2207",
          "EID-222",
          "EID-2263",
          "EID-2279",
          "EID-233",
          "EID-234",
          "EID-235",
          "EID-236",
          "EID-243",
          "EID-248",
          "EID-2559",
          "EID-267",
          "EID-270",
          "EID-272",
          "EID-275",
          "EID-279",
          "EID-280",
          "EID-288",
          "EID-289",
          "EID-290",
          "EID-307",
          "EID-308",
          "EID-309",
          "EID-318",
          "EID-320",
          "EID-321",
          "EID-323",
          "EID-326",
          "EID-335",
          "EID-342",
          "EID-353",
          "EID-363",
          "EID-372",
          "EID-390",
          "EID-395",
          "EID-400",
          "EID-405",
          "EID-409",
          "EID-422",
          "EID-432",
          "EID-4330",
          "EID-434",
          "EID-4501",
          "EID-4521",
          "EID-458",
          "EID-462",
          "EID-475",
          "EID-482",
          "EID-485",
          "EID-486",
          "EID-489",
          "EID-494",
          "EID-498",
          "EID-509",
          "EID-514",
          "EID-516",
          "EID-517",
          "EID-519",
          "EID-520",
          "EID-521",
          "EID-522",
          "EID-523",
          "EID-527",
          "EID-532",
          "EID-534",
          "EID-536",
          "EID-537",
          "EID-540",
          "EID-548",
          "EID-549",
          "EID-550",
          "EID-555",
          "EID-557",
          "EID-558",
          "EID-559",
          "EID-561",
          "EID-563",
          "EID-568",
          "EID-571",
          "EID-578",
          "EID-592",
          "EID-620",
          "EID-621",
          "EID-622",
          "EID-623",
          "EID-6291",
          "EID-6292",
          "EID-6296",
          "EID-6298",
          "EID-6299",
          "EID-6304",
          "EID-6310",
          "EID-6331",
          "EID-6341",
          "EID-6346",
          "EID-6363",
          "EID-6369",
          "EID-6385",
          "EID-6392",
          "EID-6393",
          "EID-6400",
          "EID-6403",
          "EID-6423",
          "EID-6426",
          "EID-6431",
          "EID-6432",
          "EID-6437",
          "EID-6449",
          "EID-6453",
          "EID-6455",
          "EID-6464",
          "EID-6484",
          "EID-6485",
          "EID-6495",
          "EID-6499",
          "EID-6508",
          "EID-6517",
          "EID-6527",
          "EID-6532",
          "EID-6539",
          "EID-6542",
          "EID-6545",
          "EID-6558",
          "EID-6578",
          "EID-6586",
          "EID-6603",
          "EID-6618",
          "EID-6619",
          "EID-676",
          "EID-6884",
          "EID-694",
          "EID-70",
          "EID-707",
          "EID-750",
          "EID-753",
          "EID-775",
          "EID-78",
          "EID-79",
          "EID-793",
          "EID-794",
          "EID-80",
          "EID-805",
          "EID-817",
          "EID-820",
          "EID-833",
          "EID-862",
          "EID-865000540",
          "EID-865000753",
          "EID-865000790",
          "EID-865000966",
          "EID-865001062",
          "EID-865001162",
          "EID-865001197",
          "EID-865001268",
          "EID-865001442",
          "EID-865002050",
          "EID-865002101",
          "EID-865002369",
          "EID-865002569",
          "EID-865002585",
          "EID-865002675",
          "EID-865002688",
          "EID-865002970",
          "EID-865003423",
          "EID-865003448",
          "EID-865003619",
          "EID-865003672",
          "EID-865003770",
          "EID-865003787",
          "EID-865003934",
          "EID-865003961",
          "EID-865003982",
          "EID-865003983",
          "EID-865004125",
          "EID-865004280",
          "EID-865004323",
          "EID-865004516",
          "EID-865004798",
          "EID-865004939",
          "EID-865004957",
          "EID-865004984",
          "EID-865004988",
          "EID-865004995",
          "EID-865004996",
          "EID-870",
          "EID-874",
          "EID-894",
          "EID-897",
          "EID-901",
          "EID-902",
          "EID-911",
          "EID-914",
          "EID-92",
          "EID-921",
          "EID-927",
          "EID-929",
          "EID-937",
          "EID-938",
          "EID-944",
          "EID-983",
          "EID-987"
         ],
         "type": "scatter",
         "x": [
          0.2926802107333376,
          0.501039512730767,
          -2.892230134521756,
          1.0576157717515227,
          -3.556337257725958,
          0.9841503291278363,
          1.1775474865564122,
          -2.826740179092615,
          2.171917501125567,
          2.2762466706962847,
          6.074632234222473,
          0.7942683079309498,
          0.9212255867875137,
          0.5376866752772004,
          -4.26837955568724,
          2.9219309512864657,
          0.5206274907806705,
          1.8299931232438635,
          -1.10065116577463,
          -1.6689218762410927,
          0.6142321605037021,
          0.5740638345117014,
          2.2004463622072086,
          -1.3826622475138635,
          0.4524431825196926,
          -3.944232171431804,
          0.3912342373822334,
          -1.0738561499187793,
          0.3093311914545125,
          0.45197426883618436,
          -1.4459153107772316,
          -2.852997566753046,
          1.7187958342628198,
          1.8356034124329155,
          0.2968277933289529,
          0.5871974048866005,
          -0.6157126397350643,
          1.589321271640809,
          0.6675576216024846,
          1.9493288028745395,
          0.2313762311282677,
          1.1927643752961163,
          0.6148389066915169,
          2.5868457545759678,
          1.1259407996290067,
          2.19674502373544,
          -0.945728057057721,
          0.761853388684114,
          -0.8435940752181804,
          0.6410222083096385,
          -4.607484768490859,
          -1.7127949651212853,
          2.278230846767301,
          -1.636414514921984,
          -5.825191065746596,
          0.27558973457833835,
          -0.9983243442853095,
          -2.8179053871050397,
          -3.772624640895861,
          0.6128608216250699,
          0.9978910208385823,
          1.1630774153093202,
          0.4526180048790995,
          0.46529628729978056,
          -1.5734864774013029,
          -5.454924642086963,
          -5.001830276504807,
          -1.0529633305789639,
          0.5166309100035015,
          0.6993463746952304,
          -1.7052566331524268,
          -1.8584309221944424,
          1.636940713962129,
          1.429647724314307,
          1.655512796737619,
          0.5433695295626767,
          1.3342005402343737,
          0.03184768223301246,
          -0.6091045549277825,
          1.1782548720756285,
          0.4069287240955423,
          1.6620044729643693,
          2.0552552463912694,
          -0.10072471508846277,
          0.5137948137974017,
          0.981236122680211,
          0.5241616820315458,
          -0.8651052529760926,
          1.7919708237055305,
          0.3599536208343089,
          0.7828353002813727,
          0.8153400705408116,
          0.8694607308791829,
          0.7121044938951634,
          1.5015047438115994,
          -4.0964690236587895,
          0.7947632653594405,
          2.1001463969343117,
          1.0397170913943596,
          1.8679645742015623,
          -1.4672895458745565,
          2.1870595715208445,
          -1.3153678930047967,
          -1.644325013416234,
          0.9507209897380924,
          1.2435874037500723,
          0.4387553823026033,
          1.9910218590326327,
          1.3143914066397848,
          1.1082880021161117,
          0.4206514499026655,
          1.5772250995397763,
          -1.8106821771308677,
          -1.5444971014519522,
          0.551328274703334,
          1.757229252629257,
          0.831703069606105,
          1.5453079361743562,
          0.6677986745611474,
          1.6073138629252437,
          1.0918517637834162,
          0.570415435643539,
          0.4867149056412928,
          0.6649858272001072,
          0.676629217962301,
          1.495926656715142,
          0.584438441243152,
          0.16707824612189012,
          0.7460742460483999,
          1.2469532853569922,
          -0.2047444607561189,
          0.7316974402973716,
          1.2316520916007958,
          0.8068797545554663,
          1.5358954111443734,
          0.5374476546817477,
          1.7235100835726136,
          1.0459863335818702,
          1.5624202957948576,
          0.43096257430024776,
          1.5682086919692646,
          0.8036197388670696,
          0.7068497891449896,
          1.248032276179828,
          0.8636973416781951,
          0.41087655653580246,
          0.8870668712555592,
          0.200635427280754,
          -3.255881526528405,
          1.5110594144460208,
          -2.272279010649619,
          -0.3913161802677948,
          -0.10631121233975115,
          -0.04405202829124801,
          0.42256351639206247,
          0.5433327698041843,
          1.0671094504187841,
          0.6023328634080327,
          2.015820927070858,
          0.13445125353336965,
          1.277759815018947,
          1.8828659339701879,
          0.43664093216041266,
          1.332897041602571,
          1.7659645610645216,
          2.235390941927499,
          -1.497413272824079,
          -0.09181376188788432,
          1.8373901033708815,
          1.364241304052489,
          0.47787831069579045,
          0.9340965975233531,
          -1.9638831328070507,
          1.285340056168416,
          0.04402383301601047,
          1.7663507387227864,
          0.7049184791950182,
          0.8312970481552114,
          0.7675905656880825,
          0.37056607816491954,
          -1.2093315680754906,
          1.3598424436986318,
          1.5569429427927903,
          1.2035383626014664,
          -1.6064475009710528,
          -1.6978394674569142,
          -0.17644235510281037,
          -1.848512876763121,
          -2.130636563893346,
          -3.1332794725064486,
          -2.0540553622816176,
          -0.3423467742939059,
          -2.1631507941643733,
          0.9100217770897594,
          0.5039211232753436,
          2.5799124969076015,
          -0.6885883895939728,
          1.2854379601311703,
          0.4605514133553873,
          0.9630028070009602,
          0.772437813327501,
          1.3678782497329183,
          0.24310790611128116,
          2.95391097487216,
          -0.334648786139841,
          0.2969086241311321,
          0.16717988301788383,
          0.5753795901727868,
          1.6073455801060526,
          -0.3085381458667645,
          0.35530882536780856,
          -0.745882634898463,
          0.6137128627985988,
          -2.3418116536428757,
          -1.558226042557553,
          0.15770945608710932,
          -2.5047519611168263,
          -2.6087405644725608,
          -0.8069067755119033,
          -1.3950035075169835,
          -0.7120096343381805,
          -1.8473033718665197,
          -1.4961319360866374,
          -2.4559280333283926,
          -2.826379941296961,
          -1.7363592262365606,
          -2.5887024011847513,
          -3.5677519305792575,
          -0.8355666151459038,
          0.028737752330262406,
          0.5528450670105018,
          -1.7298406409349447,
          -1.454475954171096,
          -0.32489689124585347,
          0.8038154511090672,
          -2.625748386998345,
          -0.8725625761839365,
          0.12850399848209787,
          -2.3643514560929773,
          -0.8217768387056028,
          -1.0468370344338425,
          -1.7636212506081506,
          -2.8796469923214856,
          1.3204582743124536,
          -3.6633056721393316,
          -3.14482155452287,
          -1.2643562648957916,
          -2.1246632228576052,
          -2.0741974819780356,
          -1.4298916985884165,
          -3.6397790210967567,
          0.9742423851058643,
          -1.1022199804168993,
          2.1337279737201373,
          1.0860007190030239,
          1.165199644409914,
          1.0020377336767048,
          0.9138689035849739,
          0.44647409637328606,
          -0.6537770100642899,
          0.7866544619987725,
          -1.0598162393096817,
          1.5291441988289893,
          -5.27969948289156,
          -1.948335440073433,
          0.45858558290468326,
          0.8288239397753547,
          0.6810398255040716
         ],
         "y": [
          -0.31299888491215544,
          -0.7413701318181554,
          -0.988755310535247,
          0.2670292351653309,
          -5.473496127651643,
          -0.8031552351681412,
          0.32342883347572815,
          -2.463400803891062,
          0.7203065286521012,
          0.796528751414581,
          1.6235377276278606,
          -0.4952356933591413,
          -0.21319377853260882,
          -1.1297402091916748,
          -0.4107787500044408,
          1.0650442408347047,
          -1.058474359483334,
          0.645885208578617,
          -2.2324601397053225,
          -2.444701308649122,
          -0.9787553378288972,
          -0.9372704992344107,
          0.7727652865019923,
          -1.70154804087608,
          -1.0148038059419149,
          -3.478188600992452,
          -0.9911825272705989,
          -1.3692434677197876,
          -0.7811701514373371,
          -1.0252882227421478,
          -2.8526500632630176,
          -0.6952829856989704,
          0.44162621374995853,
          0.5323609752877133,
          -1.1600278940436004,
          -0.6644164176722753,
          -0.09702127816415547,
          0.4274545272345443,
          -0.5418170857650806,
          0.7018063482782331,
          -1.2691395570324062,
          -0.1039774989628163,
          -1.0782555260004973,
          -0.32782231441747395,
          -0.3180398473495341,
          0.2602139354602994,
          -1.4814702612290476,
          -0.8579208566135916,
          -1.8804337097595625,
          -0.10034330713069349,
          3.6254602210951266,
          -0.2917023257299142,
          0.727110849088856,
          -2.696733694825664,
          -0.05131642834016039,
          -0.9435491750672688,
          -0.48986135744369574,
          -2.079500507322264,
          1.465343818873605,
          -0.9307329710477547,
          -0.5981396763042256,
          0.3600184102511881,
          0.633631670363101,
          -1.0469535958559244,
          -0.9545904123775264,
          3.5603466351096302,
          0.8621827871544845,
          -1.1909000892350587,
          -1.176804796741698,
          -1.0325756886732484,
          -1.9049721144522915,
          -0.989556516717412,
          0.7570759549757515,
          0.8480637598852454,
          0.4022123811268318,
          -1.1782651137885654,
          0.5112609740768402,
          1.468744114291958,
          -0.357565748663528,
          -0.15662789592023255,
          -1.2128491425885386,
          0.6080576533056958,
          0.6160570879471032,
          -1.1390435310079234,
          -1.1628006135829256,
          -0.4791370022972658,
          -1.212181227307147,
          -1.8564126145841142,
          0.8160119734483735,
          0.9414835723500399,
          -0.5318994759119602,
          -0.23892089881448084,
          -0.6639018137217584,
          0.18287106801952707,
          0.48483332879555824,
          -1.3090293335413088,
          -0.6757040874554112,
          -0.4232802322025094,
          -0.29577816136672846,
          0.5844373412953852,
          -3.5781851654688546,
          1.2407760579300624,
          -0.5520452563268954,
          -0.9927080914592185,
          0.3388244007237707,
          -0.24876214071412278,
          -1.2611579613041968,
          0.6333647214473237,
          0.4186653348386584,
          -0.2030386223092031,
          -1.0252250459465768,
          0.249159727840472,
          -2.6119454917211558,
          -0.5258964091702124,
          -0.952854548878405,
          0.3712733601107631,
          -0.7474978087762122,
          0.6390464200325734,
          -0.9572649265639434,
          0.7372718380739152,
          0.5593776067908325,
          -0.9951178879701849,
          -0.7052793615100199,
          -0.9103437855917742,
          -0.4659719172125205,
          0.4707544052094719,
          -0.9609463686936796,
          -0.8725857596971036,
          -0.9978686308136242,
          -0.15872716925388894,
          -0.7093193251967204,
          -0.7744312486280193,
          0.2534823821987245,
          -0.17086023868266942,
          0.2014886576832486,
          -0.986577472382371,
          0.3392456832026881,
          0.8571662379928988,
          0.36090597913219885,
          -1.0941915467956902,
          0.009692746178171348,
          -0.9467444359458064,
          -0.9097209903696726,
          -0.35033389068027593,
          -0.27272475348618064,
          -1.0124581718491175,
          0.006131057259123358,
          -0.5802470600730968,
          -1.5096369790475581,
          0.4283641923908591,
          -1.0493765779221167,
          0.14980832385039763,
          -0.7549245737530029,
          -1.1189457804052714,
          -1.3119896074641468,
          -0.817550965886226,
          0.1137723795800614,
          -0.695992427574094,
          0.7895236845127592,
          -1.1162824415779509,
          1.3730158371668677,
          0.7895328899886305,
          -1.1782088528438566,
          0.33558147887712725,
          0.5883074117788692,
          0.78597842830685,
          -0.8471066304141999,
          -0.8584843409544383,
          0.5315903344748152,
          0.46820519078037803,
          -0.2600750442176603,
          -0.3887066592800385,
          -2.3631913871290395,
          0.4023546561499933,
          -0.8490794855695603,
          0.908509982305949,
          -0.2559331068332679,
          0.2922969855713314,
          -0.6147275026698684,
          -1.1728693284863994,
          -1.0632177112889785,
          0.9050705073184049,
          1.0657820091659047,
          1.4612205743931685,
          0.8909830369595935,
          9.668186517487431,
          3.3516337976052046,
          0.7095010643519502,
          0.4332495820001498,
          12.61433241801409,
          2.2528266246282005,
          2.084758994364433,
          0.5130954999639562,
          1.2704260151662996,
          1.1066057705986712,
          1.338818829511293,
          3.2079036354468426,
          -0.29188330544301855,
          -1.187482519293643,
          -0.664903542140868,
          -0.9016221446522329,
          0.5928605072210448,
          -1.3219354434006791,
          1.1496454021005085,
          -1.194095759351469,
          -1.170282786959182,
          -0.17112214850248947,
          -1.0166876875672708,
          0.25079738000738916,
          -0.6481567388113865,
          -0.4688201723656061,
          -2.0577211501285015,
          -0.9390301770492931,
          1.3470854153412706,
          1.3735826991202018,
          2.4308791919854738,
          0.980507683493065,
          0.9891644952301264,
          2.6740384990842947,
          1.1907831774810629,
          1.889174779411854,
          1.4931621396993673,
          1.3803538632261996,
          1.362925607156328,
          0.7232607330856993,
          1.005324180987571,
          0.3451712449429019,
          0.5331179335562952,
          0.9871084806957331,
          1.5937210598431093,
          2.0815304958110987,
          0.9091296588910249,
          0.5501663215116483,
          1.9276113418305123,
          2.5694324995566125,
          0.5215746259431451,
          1.9321422909473769,
          2.843494669216186,
          0.5821761033857857,
          1.2320205548218768,
          1.0560714051635358,
          1.408108950535679,
          0.3807218987636318,
          1.0936972727093806,
          1.1997334143757326,
          -0.005888971722903428,
          1.720954950044562,
          0.8496357709772344,
          0.4738892258685297,
          1.1481841620171687,
          -0.5498045141483551,
          -0.2681001052817585,
          -0.3328303250677676,
          0.7378112809719621,
          -0.6909551200944845,
          -0.14692116354154555,
          -0.7911952734907849,
          0.25060012066403825,
          -0.36314984046657617,
          0.7272207375883641,
          -0.3332058908101434,
          -0.03665813194759517,
          0.20077595006088028,
          -0.8826304962178639,
          -0.07126634547396407,
          -1.1450015286548219,
          -0.7023212065517682,
          0.6157167504651596
         ]
        }
       ],
       "layout": {
        "template": {
         "data": {
          "bar": [
           {
            "error_x": {
             "color": "#2a3f5f"
            },
            "error_y": {
             "color": "#2a3f5f"
            },
            "marker": {
             "line": {
              "color": "#E5ECF6",
              "width": 0.5
             }
            },
            "type": "bar"
           }
          ],
          "barpolar": [
           {
            "marker": {
             "line": {
              "color": "#E5ECF6",
              "width": 0.5
             }
            },
            "type": "barpolar"
           }
          ],
          "carpet": [
           {
            "aaxis": {
             "endlinecolor": "#2a3f5f",
             "gridcolor": "white",
             "linecolor": "white",
             "minorgridcolor": "white",
             "startlinecolor": "#2a3f5f"
            },
            "baxis": {
             "endlinecolor": "#2a3f5f",
             "gridcolor": "white",
             "linecolor": "white",
             "minorgridcolor": "white",
             "startlinecolor": "#2a3f5f"
            },
            "type": "carpet"
           }
          ],
          "choropleth": [
           {
            "colorbar": {
             "outlinewidth": 0,
             "ticks": ""
            },
            "type": "choropleth"
           }
          ],
          "contour": [
           {
            "colorbar": {
             "outlinewidth": 0,
             "ticks": ""
            },
            "colorscale": [
             [
              0,
              "#0d0887"
             ],
             [
              0.1111111111111111,
              "#46039f"
             ],
             [
              0.2222222222222222,
              "#7201a8"
             ],
             [
              0.3333333333333333,
              "#9c179e"
             ],
             [
              0.4444444444444444,
              "#bd3786"
             ],
             [
              0.5555555555555556,
              "#d8576b"
             ],
             [
              0.6666666666666666,
              "#ed7953"
             ],
             [
              0.7777777777777778,
              "#fb9f3a"
             ],
             [
              0.8888888888888888,
              "#fdca26"
             ],
             [
              1,
              "#f0f921"
             ]
            ],
            "type": "contour"
           }
          ],
          "contourcarpet": [
           {
            "colorbar": {
             "outlinewidth": 0,
             "ticks": ""
            },
            "type": "contourcarpet"
           }
          ],
          "heatmap": [
           {
            "colorbar": {
             "outlinewidth": 0,
             "ticks": ""
            },
            "colorscale": [
             [
              0,
              "#0d0887"
             ],
             [
              0.1111111111111111,
              "#46039f"
             ],
             [
              0.2222222222222222,
              "#7201a8"
             ],
             [
              0.3333333333333333,
              "#9c179e"
             ],
             [
              0.4444444444444444,
              "#bd3786"
             ],
             [
              0.5555555555555556,
              "#d8576b"
             ],
             [
              0.6666666666666666,
              "#ed7953"
             ],
             [
              0.7777777777777778,
              "#fb9f3a"
             ],
             [
              0.8888888888888888,
              "#fdca26"
             ],
             [
              1,
              "#f0f921"
             ]
            ],
            "type": "heatmap"
           }
          ],
          "heatmapgl": [
           {
            "colorbar": {
             "outlinewidth": 0,
             "ticks": ""
            },
            "colorscale": [
             [
              0,
              "#0d0887"
             ],
             [
              0.1111111111111111,
              "#46039f"
             ],
             [
              0.2222222222222222,
              "#7201a8"
             ],
             [
              0.3333333333333333,
              "#9c179e"
             ],
             [
              0.4444444444444444,
              "#bd3786"
             ],
             [
              0.5555555555555556,
              "#d8576b"
             ],
             [
              0.6666666666666666,
              "#ed7953"
             ],
             [
              0.7777777777777778,
              "#fb9f3a"
             ],
             [
              0.8888888888888888,
              "#fdca26"
             ],
             [
              1,
              "#f0f921"
             ]
            ],
            "type": "heatmapgl"
           }
          ],
          "histogram": [
           {
            "marker": {
             "colorbar": {
              "outlinewidth": 0,
              "ticks": ""
             }
            },
            "type": "histogram"
           }
          ],
          "histogram2d": [
           {
            "colorbar": {
             "outlinewidth": 0,
             "ticks": ""
            },
            "colorscale": [
             [
              0,
              "#0d0887"
             ],
             [
              0.1111111111111111,
              "#46039f"
             ],
             [
              0.2222222222222222,
              "#7201a8"
             ],
             [
              0.3333333333333333,
              "#9c179e"
             ],
             [
              0.4444444444444444,
              "#bd3786"
             ],
             [
              0.5555555555555556,
              "#d8576b"
             ],
             [
              0.6666666666666666,
              "#ed7953"
             ],
             [
              0.7777777777777778,
              "#fb9f3a"
             ],
             [
              0.8888888888888888,
              "#fdca26"
             ],
             [
              1,
              "#f0f921"
             ]
            ],
            "type": "histogram2d"
           }
          ],
          "histogram2dcontour": [
           {
            "colorbar": {
             "outlinewidth": 0,
             "ticks": ""
            },
            "colorscale": [
             [
              0,
              "#0d0887"
             ],
             [
              0.1111111111111111,
              "#46039f"
             ],
             [
              0.2222222222222222,
              "#7201a8"
             ],
             [
              0.3333333333333333,
              "#9c179e"
             ],
             [
              0.4444444444444444,
              "#bd3786"
             ],
             [
              0.5555555555555556,
              "#d8576b"
             ],
             [
              0.6666666666666666,
              "#ed7953"
             ],
             [
              0.7777777777777778,
              "#fb9f3a"
             ],
             [
              0.8888888888888888,
              "#fdca26"
             ],
             [
              1,
              "#f0f921"
             ]
            ],
            "type": "histogram2dcontour"
           }
          ],
          "mesh3d": [
           {
            "colorbar": {
             "outlinewidth": 0,
             "ticks": ""
            },
            "type": "mesh3d"
           }
          ],
          "parcoords": [
           {
            "line": {
             "colorbar": {
              "outlinewidth": 0,
              "ticks": ""
             }
            },
            "type": "parcoords"
           }
          ],
          "pie": [
           {
            "automargin": true,
            "type": "pie"
           }
          ],
          "scatter": [
           {
            "marker": {
             "colorbar": {
              "outlinewidth": 0,
              "ticks": ""
             }
            },
            "type": "scatter"
           }
          ],
          "scatter3d": [
           {
            "line": {
             "colorbar": {
              "outlinewidth": 0,
              "ticks": ""
             }
            },
            "marker": {
             "colorbar": {
              "outlinewidth": 0,
              "ticks": ""
             }
            },
            "type": "scatter3d"
           }
          ],
          "scattercarpet": [
           {
            "marker": {
             "colorbar": {
              "outlinewidth": 0,
              "ticks": ""
             }
            },
            "type": "scattercarpet"
           }
          ],
          "scattergeo": [
           {
            "marker": {
             "colorbar": {
              "outlinewidth": 0,
              "ticks": ""
             }
            },
            "type": "scattergeo"
           }
          ],
          "scattergl": [
           {
            "marker": {
             "colorbar": {
              "outlinewidth": 0,
              "ticks": ""
             }
            },
            "type": "scattergl"
           }
          ],
          "scattermapbox": [
           {
            "marker": {
             "colorbar": {
              "outlinewidth": 0,
              "ticks": ""
             }
            },
            "type": "scattermapbox"
           }
          ],
          "scatterpolar": [
           {
            "marker": {
             "colorbar": {
              "outlinewidth": 0,
              "ticks": ""
             }
            },
            "type": "scatterpolar"
           }
          ],
          "scatterpolargl": [
           {
            "marker": {
             "colorbar": {
              "outlinewidth": 0,
              "ticks": ""
             }
            },
            "type": "scatterpolargl"
           }
          ],
          "scatterternary": [
           {
            "marker": {
             "colorbar": {
              "outlinewidth": 0,
              "ticks": ""
             }
            },
            "type": "scatterternary"
           }
          ],
          "surface": [
           {
            "colorbar": {
             "outlinewidth": 0,
             "ticks": ""
            },
            "colorscale": [
             [
              0,
              "#0d0887"
             ],
             [
              0.1111111111111111,
              "#46039f"
             ],
             [
              0.2222222222222222,
              "#7201a8"
             ],
             [
              0.3333333333333333,
              "#9c179e"
             ],
             [
              0.4444444444444444,
              "#bd3786"
             ],
             [
              0.5555555555555556,
              "#d8576b"
             ],
             [
              0.6666666666666666,
              "#ed7953"
             ],
             [
              0.7777777777777778,
              "#fb9f3a"
             ],
             [
              0.8888888888888888,
              "#fdca26"
             ],
             [
              1,
              "#f0f921"
             ]
            ],
            "type": "surface"
           }
          ],
          "table": [
           {
            "cells": {
             "fill": {
              "color": "#EBF0F8"
             },
             "line": {
              "color": "white"
             }
            },
            "header": {
             "fill": {
              "color": "#C8D4E3"
             },
             "line": {
              "color": "white"
             }
            },
            "type": "table"
           }
          ]
         },
         "layout": {
          "annotationdefaults": {
           "arrowcolor": "#2a3f5f",
           "arrowhead": 0,
           "arrowwidth": 1
          },
          "coloraxis": {
           "colorbar": {
            "outlinewidth": 0,
            "ticks": ""
           }
          },
          "colorscale": {
           "diverging": [
            [
             0,
             "#8e0152"
            ],
            [
             0.1,
             "#c51b7d"
            ],
            [
             0.2,
             "#de77ae"
            ],
            [
             0.3,
             "#f1b6da"
            ],
            [
             0.4,
             "#fde0ef"
            ],
            [
             0.5,
             "#f7f7f7"
            ],
            [
             0.6,
             "#e6f5d0"
            ],
            [
             0.7,
             "#b8e186"
            ],
            [
             0.8,
             "#7fbc41"
            ],
            [
             0.9,
             "#4d9221"
            ],
            [
             1,
             "#276419"
            ]
           ],
           "sequential": [
            [
             0,
             "#0d0887"
            ],
            [
             0.1111111111111111,
             "#46039f"
            ],
            [
             0.2222222222222222,
             "#7201a8"
            ],
            [
             0.3333333333333333,
             "#9c179e"
            ],
            [
             0.4444444444444444,
             "#bd3786"
            ],
            [
             0.5555555555555556,
             "#d8576b"
            ],
            [
             0.6666666666666666,
             "#ed7953"
            ],
            [
             0.7777777777777778,
             "#fb9f3a"
            ],
            [
             0.8888888888888888,
             "#fdca26"
            ],
            [
             1,
             "#f0f921"
            ]
           ],
           "sequentialminus": [
            [
             0,
             "#0d0887"
            ],
            [
             0.1111111111111111,
             "#46039f"
            ],
            [
             0.2222222222222222,
             "#7201a8"
            ],
            [
             0.3333333333333333,
             "#9c179e"
            ],
            [
             0.4444444444444444,
             "#bd3786"
            ],
            [
             0.5555555555555556,
             "#d8576b"
            ],
            [
             0.6666666666666666,
             "#ed7953"
            ],
            [
             0.7777777777777778,
             "#fb9f3a"
            ],
            [
             0.8888888888888888,
             "#fdca26"
            ],
            [
             1,
             "#f0f921"
            ]
           ]
          },
          "colorway": [
           "#636efa",
           "#EF553B",
           "#00cc96",
           "#ab63fa",
           "#FFA15A",
           "#19d3f3",
           "#FF6692",
           "#B6E880",
           "#FF97FF",
           "#FECB52"
          ],
          "font": {
           "color": "#2a3f5f"
          },
          "geo": {
           "bgcolor": "white",
           "lakecolor": "white",
           "landcolor": "#E5ECF6",
           "showlakes": true,
           "showland": true,
           "subunitcolor": "white"
          },
          "hoverlabel": {
           "align": "left"
          },
          "hovermode": "closest",
          "mapbox": {
           "style": "light"
          },
          "paper_bgcolor": "white",
          "plot_bgcolor": "#E5ECF6",
          "polar": {
           "angularaxis": {
            "gridcolor": "white",
            "linecolor": "white",
            "ticks": ""
           },
           "bgcolor": "#E5ECF6",
           "radialaxis": {
            "gridcolor": "white",
            "linecolor": "white",
            "ticks": ""
           }
          },
          "scene": {
           "xaxis": {
            "backgroundcolor": "#E5ECF6",
            "gridcolor": "white",
            "gridwidth": 2,
            "linecolor": "white",
            "showbackground": true,
            "ticks": "",
            "zerolinecolor": "white"
           },
           "yaxis": {
            "backgroundcolor": "#E5ECF6",
            "gridcolor": "white",
            "gridwidth": 2,
            "linecolor": "white",
            "showbackground": true,
            "ticks": "",
            "zerolinecolor": "white"
           },
           "zaxis": {
            "backgroundcolor": "#E5ECF6",
            "gridcolor": "white",
            "gridwidth": 2,
            "linecolor": "white",
            "showbackground": true,
            "ticks": "",
            "zerolinecolor": "white"
           }
          },
          "shapedefaults": {
           "line": {
            "color": "#2a3f5f"
           }
          },
          "ternary": {
           "aaxis": {
            "gridcolor": "white",
            "linecolor": "white",
            "ticks": ""
           },
           "baxis": {
            "gridcolor": "white",
            "linecolor": "white",
            "ticks": ""
           },
           "bgcolor": "#E5ECF6",
           "caxis": {
            "gridcolor": "white",
            "linecolor": "white",
            "ticks": ""
           }
          },
          "title": {
           "x": 0.05
          },
          "xaxis": {
           "automargin": true,
           "gridcolor": "white",
           "linecolor": "white",
           "ticks": "",
           "title": {
            "standoff": 15
           },
           "zerolinecolor": "white",
           "zerolinewidth": 2
          },
          "yaxis": {
           "automargin": true,
           "gridcolor": "white",
           "linecolor": "white",
           "ticks": "",
           "title": {
            "standoff": 15
           },
           "zerolinecolor": "white",
           "zerolinewidth": 2
          }
         }
        },
        "title": {
         "text": "PCA"
        }
       }
      },
      "text/html": [
       "<div>\n",
       "        \n",
       "        \n",
       "            <div id=\"c5f74442-8697-4b84-bfc8-5327265a0ef3\" class=\"plotly-graph-div\" style=\"height:525px; width:100%;\"></div>\n",
       "            <script type=\"text/javascript\">\n",
       "                require([\"plotly\"], function(Plotly) {\n",
       "                    window.PLOTLYENV=window.PLOTLYENV || {};\n",
       "                    \n",
       "                if (document.getElementById(\"c5f74442-8697-4b84-bfc8-5327265a0ef3\")) {\n",
       "                    Plotly.newPlot(\n",
       "                        'c5f74442-8697-4b84-bfc8-5327265a0ef3',\n",
       "                        [{\"marker\": {\"color\": [\"blue\", \"blue\", \"blue\", \"blue\", \"blue\", \"blue\", \"blue\", \"blue\", \"blue\", \"blue\", \"red\", \"blue\", \"blue\", \"blue\", \"blue\", \"blue\", \"blue\", \"blue\", \"blue\", \"blue\", \"blue\", \"blue\", \"blue\", \"blue\", \"blue\", \"blue\", \"blue\", \"blue\", \"blue\", \"blue\", \"blue\", \"blue\", \"blue\", \"blue\", \"blue\", \"blue\", \"blue\", \"blue\", \"blue\", \"blue\", \"blue\", \"blue\", \"blue\", \"blue\", \"blue\", \"blue\", \"blue\", \"blue\", \"blue\", \"blue\", \"blue\", \"blue\", \"blue\", \"blue\", \"blue\", \"blue\", \"blue\", \"blue\", \"blue\", \"blue\", \"blue\", \"blue\", \"blue\", \"blue\", \"blue\", \"red\", \"blue\", \"blue\", \"blue\", \"blue\", \"blue\", \"blue\", \"blue\", \"blue\", \"blue\", \"blue\", \"blue\", \"blue\", \"blue\", \"blue\", \"blue\", \"blue\", \"blue\", \"blue\", \"blue\", \"blue\", \"blue\", \"blue\", \"blue\", \"blue\", \"blue\", \"blue\", \"blue\", \"blue\", \"blue\", \"blue\", \"blue\", \"blue\", \"blue\", \"blue\", \"blue\", \"blue\", \"blue\", \"blue\", \"blue\", \"blue\", \"blue\", \"blue\", \"blue\", \"blue\", \"blue\", \"blue\", \"blue\", \"blue\", \"blue\", \"blue\", \"blue\", \"blue\", \"blue\", \"blue\", \"blue\", \"blue\", \"blue\", \"blue\", \"blue\", \"blue\", \"blue\", \"blue\", \"blue\", \"blue\", \"blue\", \"blue\", \"blue\", \"blue\", \"blue\", \"blue\", \"blue\", \"blue\", \"blue\", \"blue\", \"blue\", \"blue\", \"blue\", \"blue\", \"blue\", \"blue\", \"blue\", \"blue\", \"blue\", \"blue\", \"blue\", \"blue\", \"blue\", \"blue\", \"blue\", \"blue\", \"blue\", \"blue\", \"blue\", \"blue\", \"blue\", \"blue\", \"blue\", \"blue\", \"blue\", \"blue\", \"blue\", \"blue\", \"blue\", \"blue\", \"blue\", \"blue\", \"blue\", \"blue\", \"blue\", \"blue\", \"blue\", \"blue\", \"blue\", \"blue\", \"blue\", \"blue\", \"blue\", \"blue\", \"blue\", \"red\", \"blue\", \"blue\", \"blue\", \"red\", \"blue\", \"blue\", \"blue\", \"blue\", \"blue\", \"blue\", \"blue\", \"blue\", \"blue\", \"blue\", \"blue\", \"blue\", \"blue\", \"blue\", \"blue\", \"blue\", \"blue\", \"blue\", \"blue\", \"blue\", \"blue\", \"blue\", \"blue\", \"blue\", \"blue\", \"blue\", \"blue\", \"blue\", \"blue\", \"blue\", \"blue\", \"blue\", \"blue\", \"blue\", \"blue\", \"blue\", \"blue\", \"blue\", \"blue\", \"blue\", \"blue\", \"blue\", \"blue\", \"blue\", \"blue\", \"blue\", \"blue\", \"blue\", \"blue\", \"blue\", \"blue\", \"blue\", \"blue\", \"blue\", \"red\", \"blue\", \"blue\", \"blue\", \"blue\", \"blue\", \"blue\", \"blue\", \"blue\", \"blue\", \"blue\", \"blue\", \"blue\", \"blue\", \"blue\", \"blue\", \"blue\", \"blue\", \"blue\", \"blue\", \"blue\", \"blue\", \"blue\", \"blue\"], \"colorscale\": [[0.0, \"#440154\"], [0.1111111111111111, \"#482878\"], [0.2222222222222222, \"#3e4989\"], [0.3333333333333333, \"#31688e\"], [0.4444444444444444, \"#26828e\"], [0.5555555555555556, \"#1f9e89\"], [0.6666666666666666, \"#35b779\"], [0.7777777777777778, \"#6ece58\"], [0.8888888888888888, \"#b5de2b\"], [1.0, \"#fde725\"]]}, \"mode\": \"markers\", \"text\": [\"EID-1000\", \"EID-1009\", \"EID-1091\", \"EID-1095\", \"EID-1117\", \"EID-1138\", \"EID-1147\", \"EID-1215\", \"EID-1263\", \"EID-1264\", \"EID-1270\", \"EID-1277\", \"EID-1296\", \"EID-1304\", \"EID-1352\", \"EID-1364\", \"EID-1397\", \"EID-1427\", \"EID-1437\", \"EID-1440\", \"EID-1457\", \"EID-146\", \"EID-1462\", \"EID-148\", \"EID-1494\", \"EID-1516\", \"EID-1523\", \"EID-1556\", \"EID-1568\", \"EID-1596\", \"EID-1629\", \"EID-1663\", \"EID-1676\", \"EID-1688\", \"EID-1691\", \"EID-1718\", \"EID-1772\", \"EID-1778\", \"EID-1797\", \"EID-1835\", \"EID-1848\", \"EID-1867\", \"EID-1890\", \"EID-1891\", \"EID-1914\", \"EID-1924\", \"EID-1977\", \"EID-1997\", \"EID-2003\", \"EID-2004\", \"EID-2008\", \"EID-2014\", \"EID-2048\", \"EID-2051\", \"EID-2052\", \"EID-2063\", \"EID-2068\", \"EID-2071\", \"EID-2073\", \"EID-2119\", \"EID-2121\", \"EID-2153\", \"EID-2159\", \"EID-2165\", \"EID-2174\", \"EID-2196\", \"EID-2197\", \"EID-2207\", \"EID-222\", \"EID-2263\", \"EID-2279\", \"EID-233\", \"EID-234\", \"EID-235\", \"EID-236\", \"EID-243\", \"EID-248\", \"EID-2559\", \"EID-267\", \"EID-270\", \"EID-272\", \"EID-275\", \"EID-279\", \"EID-280\", \"EID-288\", \"EID-289\", \"EID-290\", \"EID-307\", \"EID-308\", \"EID-309\", \"EID-318\", \"EID-320\", \"EID-321\", \"EID-323\", \"EID-326\", \"EID-335\", \"EID-342\", \"EID-353\", \"EID-363\", \"EID-372\", \"EID-390\", \"EID-395\", \"EID-400\", \"EID-405\", \"EID-409\", \"EID-422\", \"EID-432\", \"EID-4330\", \"EID-434\", \"EID-4501\", \"EID-4521\", \"EID-458\", \"EID-462\", \"EID-475\", \"EID-482\", \"EID-485\", \"EID-486\", \"EID-489\", \"EID-494\", \"EID-498\", \"EID-509\", \"EID-514\", \"EID-516\", \"EID-517\", \"EID-519\", \"EID-520\", \"EID-521\", \"EID-522\", \"EID-523\", \"EID-527\", \"EID-532\", \"EID-534\", \"EID-536\", \"EID-537\", \"EID-540\", \"EID-548\", \"EID-549\", \"EID-550\", \"EID-555\", \"EID-557\", \"EID-558\", \"EID-559\", \"EID-561\", \"EID-563\", \"EID-568\", \"EID-571\", \"EID-578\", \"EID-592\", \"EID-620\", \"EID-621\", \"EID-622\", \"EID-623\", \"EID-6291\", \"EID-6292\", \"EID-6296\", \"EID-6298\", \"EID-6299\", \"EID-6304\", \"EID-6310\", \"EID-6331\", \"EID-6341\", \"EID-6346\", \"EID-6363\", \"EID-6369\", \"EID-6385\", \"EID-6392\", \"EID-6393\", \"EID-6400\", \"EID-6403\", \"EID-6423\", \"EID-6426\", \"EID-6431\", \"EID-6432\", \"EID-6437\", \"EID-6449\", \"EID-6453\", \"EID-6455\", \"EID-6464\", \"EID-6484\", \"EID-6485\", \"EID-6495\", \"EID-6499\", \"EID-6508\", \"EID-6517\", \"EID-6527\", \"EID-6532\", \"EID-6539\", \"EID-6542\", \"EID-6545\", \"EID-6558\", \"EID-6578\", \"EID-6586\", \"EID-6603\", \"EID-6618\", \"EID-6619\", \"EID-676\", \"EID-6884\", \"EID-694\", \"EID-70\", \"EID-707\", \"EID-750\", \"EID-753\", \"EID-775\", \"EID-78\", \"EID-79\", \"EID-793\", \"EID-794\", \"EID-80\", \"EID-805\", \"EID-817\", \"EID-820\", \"EID-833\", \"EID-862\", \"EID-865000540\", \"EID-865000753\", \"EID-865000790\", \"EID-865000966\", \"EID-865001062\", \"EID-865001162\", \"EID-865001197\", \"EID-865001268\", \"EID-865001442\", \"EID-865002050\", \"EID-865002101\", \"EID-865002369\", \"EID-865002569\", \"EID-865002585\", \"EID-865002675\", \"EID-865002688\", \"EID-865002970\", \"EID-865003423\", \"EID-865003448\", \"EID-865003619\", \"EID-865003672\", \"EID-865003770\", \"EID-865003787\", \"EID-865003934\", \"EID-865003961\", \"EID-865003982\", \"EID-865003983\", \"EID-865004125\", \"EID-865004280\", \"EID-865004323\", \"EID-865004516\", \"EID-865004798\", \"EID-865004939\", \"EID-865004957\", \"EID-865004984\", \"EID-865004988\", \"EID-865004995\", \"EID-865004996\", \"EID-870\", \"EID-874\", \"EID-894\", \"EID-897\", \"EID-901\", \"EID-902\", \"EID-911\", \"EID-914\", \"EID-92\", \"EID-921\", \"EID-927\", \"EID-929\", \"EID-937\", \"EID-938\", \"EID-944\", \"EID-983\", \"EID-987\"], \"type\": \"scatter\", \"x\": [0.2926802107333376, 0.501039512730767, -2.892230134521756, 1.0576157717515227, -3.556337257725958, 0.9841503291278363, 1.1775474865564122, -2.826740179092615, 2.171917501125567, 2.2762466706962847, 6.074632234222473, 0.7942683079309498, 0.9212255867875137, 0.5376866752772004, -4.26837955568724, 2.9219309512864657, 0.5206274907806705, 1.8299931232438635, -1.10065116577463, -1.6689218762410927, 0.6142321605037021, 0.5740638345117014, 2.2004463622072086, -1.3826622475138635, 0.4524431825196926, -3.944232171431804, 0.3912342373822334, -1.0738561499187793, 0.3093311914545125, 0.45197426883618436, -1.4459153107772316, -2.852997566753046, 1.7187958342628198, 1.8356034124329155, 0.2968277933289529, 0.5871974048866005, -0.6157126397350643, 1.589321271640809, 0.6675576216024846, 1.9493288028745395, 0.2313762311282677, 1.1927643752961163, 0.6148389066915169, 2.5868457545759678, 1.1259407996290067, 2.19674502373544, -0.945728057057721, 0.761853388684114, -0.8435940752181804, 0.6410222083096385, -4.607484768490859, -1.7127949651212853, 2.278230846767301, -1.636414514921984, -5.825191065746596, 0.27558973457833835, -0.9983243442853095, -2.8179053871050397, -3.772624640895861, 0.6128608216250699, 0.9978910208385823, 1.1630774153093202, 0.4526180048790995, 0.46529628729978056, -1.5734864774013029, -5.454924642086963, -5.001830276504807, -1.0529633305789639, 0.5166309100035015, 0.6993463746952304, -1.7052566331524268, -1.8584309221944424, 1.636940713962129, 1.429647724314307, 1.655512796737619, 0.5433695295626767, 1.3342005402343737, 0.03184768223301246, -0.6091045549277825, 1.1782548720756285, 0.4069287240955423, 1.6620044729643693, 2.0552552463912694, -0.10072471508846277, 0.5137948137974017, 0.981236122680211, 0.5241616820315458, -0.8651052529760926, 1.7919708237055305, 0.3599536208343089, 0.7828353002813727, 0.8153400705408116, 0.8694607308791829, 0.7121044938951634, 1.5015047438115994, -4.0964690236587895, 0.7947632653594405, 2.1001463969343117, 1.0397170913943596, 1.8679645742015623, -1.4672895458745565, 2.1870595715208445, -1.3153678930047967, -1.644325013416234, 0.9507209897380924, 1.2435874037500723, 0.4387553823026033, 1.9910218590326327, 1.3143914066397848, 1.1082880021161117, 0.4206514499026655, 1.5772250995397763, -1.8106821771308677, -1.5444971014519522, 0.551328274703334, 1.757229252629257, 0.831703069606105, 1.5453079361743562, 0.6677986745611474, 1.6073138629252437, 1.0918517637834162, 0.570415435643539, 0.4867149056412928, 0.6649858272001072, 0.676629217962301, 1.495926656715142, 0.584438441243152, 0.16707824612189012, 0.7460742460483999, 1.2469532853569922, -0.2047444607561189, 0.7316974402973716, 1.2316520916007958, 0.8068797545554663, 1.5358954111443734, 0.5374476546817477, 1.7235100835726136, 1.0459863335818702, 1.5624202957948576, 0.43096257430024776, 1.5682086919692646, 0.8036197388670696, 0.7068497891449896, 1.248032276179828, 0.8636973416781951, 0.41087655653580246, 0.8870668712555592, 0.200635427280754, -3.255881526528405, 1.5110594144460208, -2.272279010649619, -0.3913161802677948, -0.10631121233975115, -0.04405202829124801, 0.42256351639206247, 0.5433327698041843, 1.0671094504187841, 0.6023328634080327, 2.015820927070858, 0.13445125353336965, 1.277759815018947, 1.8828659339701879, 0.43664093216041266, 1.332897041602571, 1.7659645610645216, 2.235390941927499, -1.497413272824079, -0.09181376188788432, 1.8373901033708815, 1.364241304052489, 0.47787831069579045, 0.9340965975233531, -1.9638831328070507, 1.285340056168416, 0.04402383301601047, 1.7663507387227864, 0.7049184791950182, 0.8312970481552114, 0.7675905656880825, 0.37056607816491954, -1.2093315680754906, 1.3598424436986318, 1.5569429427927903, 1.2035383626014664, -1.6064475009710528, -1.6978394674569142, -0.17644235510281037, -1.848512876763121, -2.130636563893346, -3.1332794725064486, -2.0540553622816176, -0.3423467742939059, -2.1631507941643733, 0.9100217770897594, 0.5039211232753436, 2.5799124969076015, -0.6885883895939728, 1.2854379601311703, 0.4605514133553873, 0.9630028070009602, 0.772437813327501, 1.3678782497329183, 0.24310790611128116, 2.95391097487216, -0.334648786139841, 0.2969086241311321, 0.16717988301788383, 0.5753795901727868, 1.6073455801060526, -0.3085381458667645, 0.35530882536780856, -0.745882634898463, 0.6137128627985988, -2.3418116536428757, -1.558226042557553, 0.15770945608710932, -2.5047519611168263, -2.6087405644725608, -0.8069067755119033, -1.3950035075169835, -0.7120096343381805, -1.8473033718665197, -1.4961319360866374, -2.4559280333283926, -2.826379941296961, -1.7363592262365606, -2.5887024011847513, -3.5677519305792575, -0.8355666151459038, 0.028737752330262406, 0.5528450670105018, -1.7298406409349447, -1.454475954171096, -0.32489689124585347, 0.8038154511090672, -2.625748386998345, -0.8725625761839365, 0.12850399848209787, -2.3643514560929773, -0.8217768387056028, -1.0468370344338425, -1.7636212506081506, -2.8796469923214856, 1.3204582743124536, -3.6633056721393316, -3.14482155452287, -1.2643562648957916, -2.1246632228576052, -2.0741974819780356, -1.4298916985884165, -3.6397790210967567, 0.9742423851058643, -1.1022199804168993, 2.1337279737201373, 1.0860007190030239, 1.165199644409914, 1.0020377336767048, 0.9138689035849739, 0.44647409637328606, -0.6537770100642899, 0.7866544619987725, -1.0598162393096817, 1.5291441988289893, -5.27969948289156, -1.948335440073433, 0.45858558290468326, 0.8288239397753547, 0.6810398255040716], \"y\": [-0.31299888491215544, -0.7413701318181554, -0.988755310535247, 0.2670292351653309, -5.473496127651643, -0.8031552351681412, 0.32342883347572815, -2.463400803891062, 0.7203065286521012, 0.796528751414581, 1.6235377276278606, -0.4952356933591413, -0.21319377853260882, -1.1297402091916748, -0.4107787500044408, 1.0650442408347047, -1.058474359483334, 0.645885208578617, -2.2324601397053225, -2.444701308649122, -0.9787553378288972, -0.9372704992344107, 0.7727652865019923, -1.70154804087608, -1.0148038059419149, -3.478188600992452, -0.9911825272705989, -1.3692434677197876, -0.7811701514373371, -1.0252882227421478, -2.8526500632630176, -0.6952829856989704, 0.44162621374995853, 0.5323609752877133, -1.1600278940436004, -0.6644164176722753, -0.09702127816415547, 0.4274545272345443, -0.5418170857650806, 0.7018063482782331, -1.2691395570324062, -0.1039774989628163, -1.0782555260004973, -0.32782231441747395, -0.3180398473495341, 0.2602139354602994, -1.4814702612290476, -0.8579208566135916, -1.8804337097595625, -0.10034330713069349, 3.6254602210951266, -0.2917023257299142, 0.727110849088856, -2.696733694825664, -0.05131642834016039, -0.9435491750672688, -0.48986135744369574, -2.079500507322264, 1.465343818873605, -0.9307329710477547, -0.5981396763042256, 0.3600184102511881, 0.633631670363101, -1.0469535958559244, -0.9545904123775264, 3.5603466351096302, 0.8621827871544845, -1.1909000892350587, -1.176804796741698, -1.0325756886732484, -1.9049721144522915, -0.989556516717412, 0.7570759549757515, 0.8480637598852454, 0.4022123811268318, -1.1782651137885654, 0.5112609740768402, 1.468744114291958, -0.357565748663528, -0.15662789592023255, -1.2128491425885386, 0.6080576533056958, 0.6160570879471032, -1.1390435310079234, -1.1628006135829256, -0.4791370022972658, -1.212181227307147, -1.8564126145841142, 0.8160119734483735, 0.9414835723500399, -0.5318994759119602, -0.23892089881448084, -0.6639018137217584, 0.18287106801952707, 0.48483332879555824, -1.3090293335413088, -0.6757040874554112, -0.4232802322025094, -0.29577816136672846, 0.5844373412953852, -3.5781851654688546, 1.2407760579300624, -0.5520452563268954, -0.9927080914592185, 0.3388244007237707, -0.24876214071412278, -1.2611579613041968, 0.6333647214473237, 0.4186653348386584, -0.2030386223092031, -1.0252250459465768, 0.249159727840472, -2.6119454917211558, -0.5258964091702124, -0.952854548878405, 0.3712733601107631, -0.7474978087762122, 0.6390464200325734, -0.9572649265639434, 0.7372718380739152, 0.5593776067908325, -0.9951178879701849, -0.7052793615100199, -0.9103437855917742, -0.4659719172125205, 0.4707544052094719, -0.9609463686936796, -0.8725857596971036, -0.9978686308136242, -0.15872716925388894, -0.7093193251967204, -0.7744312486280193, 0.2534823821987245, -0.17086023868266942, 0.2014886576832486, -0.986577472382371, 0.3392456832026881, 0.8571662379928988, 0.36090597913219885, -1.0941915467956902, 0.009692746178171348, -0.9467444359458064, -0.9097209903696726, -0.35033389068027593, -0.27272475348618064, -1.0124581718491175, 0.006131057259123358, -0.5802470600730968, -1.5096369790475581, 0.4283641923908591, -1.0493765779221167, 0.14980832385039763, -0.7549245737530029, -1.1189457804052714, -1.3119896074641468, -0.817550965886226, 0.1137723795800614, -0.695992427574094, 0.7895236845127592, -1.1162824415779509, 1.3730158371668677, 0.7895328899886305, -1.1782088528438566, 0.33558147887712725, 0.5883074117788692, 0.78597842830685, -0.8471066304141999, -0.8584843409544383, 0.5315903344748152, 0.46820519078037803, -0.2600750442176603, -0.3887066592800385, -2.3631913871290395, 0.4023546561499933, -0.8490794855695603, 0.908509982305949, -0.2559331068332679, 0.2922969855713314, -0.6147275026698684, -1.1728693284863994, -1.0632177112889785, 0.9050705073184049, 1.0657820091659047, 1.4612205743931685, 0.8909830369595935, 9.668186517487431, 3.3516337976052046, 0.7095010643519502, 0.4332495820001498, 12.61433241801409, 2.2528266246282005, 2.084758994364433, 0.5130954999639562, 1.2704260151662996, 1.1066057705986712, 1.338818829511293, 3.2079036354468426, -0.29188330544301855, -1.187482519293643, -0.664903542140868, -0.9016221446522329, 0.5928605072210448, -1.3219354434006791, 1.1496454021005085, -1.194095759351469, -1.170282786959182, -0.17112214850248947, -1.0166876875672708, 0.25079738000738916, -0.6481567388113865, -0.4688201723656061, -2.0577211501285015, -0.9390301770492931, 1.3470854153412706, 1.3735826991202018, 2.4308791919854738, 0.980507683493065, 0.9891644952301264, 2.6740384990842947, 1.1907831774810629, 1.889174779411854, 1.4931621396993673, 1.3803538632261996, 1.362925607156328, 0.7232607330856993, 1.005324180987571, 0.3451712449429019, 0.5331179335562952, 0.9871084806957331, 1.5937210598431093, 2.0815304958110987, 0.9091296588910249, 0.5501663215116483, 1.9276113418305123, 2.5694324995566125, 0.5215746259431451, 1.9321422909473769, 2.843494669216186, 0.5821761033857857, 1.2320205548218768, 1.0560714051635358, 1.408108950535679, 0.3807218987636318, 1.0936972727093806, 1.1997334143757326, -0.005888971722903428, 1.720954950044562, 0.8496357709772344, 0.4738892258685297, 1.1481841620171687, -0.5498045141483551, -0.2681001052817585, -0.3328303250677676, 0.7378112809719621, -0.6909551200944845, -0.14692116354154555, -0.7911952734907849, 0.25060012066403825, -0.36314984046657617, 0.7272207375883641, -0.3332058908101434, -0.03665813194759517, 0.20077595006088028, -0.8826304962178639, -0.07126634547396407, -1.1450015286548219, -0.7023212065517682, 0.6157167504651596]}],\n",
       "                        {\"template\": {\"data\": {\"bar\": [{\"error_x\": {\"color\": \"#2a3f5f\"}, \"error_y\": {\"color\": \"#2a3f5f\"}, \"marker\": {\"line\": {\"color\": \"#E5ECF6\", \"width\": 0.5}}, \"type\": \"bar\"}], \"barpolar\": [{\"marker\": {\"line\": {\"color\": \"#E5ECF6\", \"width\": 0.5}}, \"type\": \"barpolar\"}], \"carpet\": [{\"aaxis\": {\"endlinecolor\": \"#2a3f5f\", \"gridcolor\": \"white\", \"linecolor\": \"white\", \"minorgridcolor\": \"white\", \"startlinecolor\": \"#2a3f5f\"}, \"baxis\": {\"endlinecolor\": \"#2a3f5f\", \"gridcolor\": \"white\", \"linecolor\": \"white\", \"minorgridcolor\": \"white\", \"startlinecolor\": \"#2a3f5f\"}, \"type\": \"carpet\"}], \"choropleth\": [{\"colorbar\": {\"outlinewidth\": 0, \"ticks\": \"\"}, \"type\": \"choropleth\"}], \"contour\": [{\"colorbar\": {\"outlinewidth\": 0, \"ticks\": \"\"}, \"colorscale\": [[0.0, \"#0d0887\"], [0.1111111111111111, \"#46039f\"], [0.2222222222222222, \"#7201a8\"], [0.3333333333333333, \"#9c179e\"], [0.4444444444444444, \"#bd3786\"], [0.5555555555555556, \"#d8576b\"], [0.6666666666666666, \"#ed7953\"], [0.7777777777777778, \"#fb9f3a\"], [0.8888888888888888, \"#fdca26\"], [1.0, \"#f0f921\"]], \"type\": \"contour\"}], \"contourcarpet\": [{\"colorbar\": {\"outlinewidth\": 0, \"ticks\": \"\"}, \"type\": \"contourcarpet\"}], \"heatmap\": [{\"colorbar\": {\"outlinewidth\": 0, \"ticks\": \"\"}, \"colorscale\": [[0.0, \"#0d0887\"], [0.1111111111111111, \"#46039f\"], [0.2222222222222222, \"#7201a8\"], [0.3333333333333333, \"#9c179e\"], [0.4444444444444444, \"#bd3786\"], [0.5555555555555556, \"#d8576b\"], [0.6666666666666666, \"#ed7953\"], [0.7777777777777778, \"#fb9f3a\"], [0.8888888888888888, \"#fdca26\"], [1.0, \"#f0f921\"]], \"type\": \"heatmap\"}], \"heatmapgl\": [{\"colorbar\": {\"outlinewidth\": 0, \"ticks\": \"\"}, \"colorscale\": [[0.0, \"#0d0887\"], [0.1111111111111111, \"#46039f\"], [0.2222222222222222, \"#7201a8\"], [0.3333333333333333, \"#9c179e\"], [0.4444444444444444, \"#bd3786\"], [0.5555555555555556, \"#d8576b\"], [0.6666666666666666, \"#ed7953\"], [0.7777777777777778, \"#fb9f3a\"], [0.8888888888888888, \"#fdca26\"], [1.0, \"#f0f921\"]], \"type\": \"heatmapgl\"}], \"histogram\": [{\"marker\": {\"colorbar\": {\"outlinewidth\": 0, \"ticks\": \"\"}}, \"type\": \"histogram\"}], \"histogram2d\": [{\"colorbar\": {\"outlinewidth\": 0, \"ticks\": \"\"}, \"colorscale\": [[0.0, \"#0d0887\"], [0.1111111111111111, \"#46039f\"], [0.2222222222222222, \"#7201a8\"], [0.3333333333333333, \"#9c179e\"], [0.4444444444444444, \"#bd3786\"], [0.5555555555555556, \"#d8576b\"], [0.6666666666666666, \"#ed7953\"], [0.7777777777777778, \"#fb9f3a\"], [0.8888888888888888, \"#fdca26\"], [1.0, \"#f0f921\"]], \"type\": \"histogram2d\"}], \"histogram2dcontour\": [{\"colorbar\": {\"outlinewidth\": 0, \"ticks\": \"\"}, \"colorscale\": [[0.0, \"#0d0887\"], [0.1111111111111111, \"#46039f\"], [0.2222222222222222, \"#7201a8\"], [0.3333333333333333, \"#9c179e\"], [0.4444444444444444, \"#bd3786\"], [0.5555555555555556, \"#d8576b\"], [0.6666666666666666, \"#ed7953\"], [0.7777777777777778, \"#fb9f3a\"], [0.8888888888888888, \"#fdca26\"], [1.0, \"#f0f921\"]], \"type\": \"histogram2dcontour\"}], \"mesh3d\": [{\"colorbar\": {\"outlinewidth\": 0, \"ticks\": \"\"}, \"type\": \"mesh3d\"}], \"parcoords\": [{\"line\": {\"colorbar\": {\"outlinewidth\": 0, \"ticks\": \"\"}}, \"type\": \"parcoords\"}], \"pie\": [{\"automargin\": true, \"type\": \"pie\"}], \"scatter\": [{\"marker\": {\"colorbar\": {\"outlinewidth\": 0, \"ticks\": \"\"}}, \"type\": \"scatter\"}], \"scatter3d\": [{\"line\": {\"colorbar\": {\"outlinewidth\": 0, \"ticks\": \"\"}}, \"marker\": {\"colorbar\": {\"outlinewidth\": 0, \"ticks\": \"\"}}, \"type\": \"scatter3d\"}], \"scattercarpet\": [{\"marker\": {\"colorbar\": {\"outlinewidth\": 0, \"ticks\": \"\"}}, \"type\": \"scattercarpet\"}], \"scattergeo\": [{\"marker\": {\"colorbar\": {\"outlinewidth\": 0, \"ticks\": \"\"}}, \"type\": \"scattergeo\"}], \"scattergl\": [{\"marker\": {\"colorbar\": {\"outlinewidth\": 0, \"ticks\": \"\"}}, \"type\": \"scattergl\"}], \"scattermapbox\": [{\"marker\": {\"colorbar\": {\"outlinewidth\": 0, \"ticks\": \"\"}}, \"type\": \"scattermapbox\"}], \"scatterpolar\": [{\"marker\": {\"colorbar\": {\"outlinewidth\": 0, \"ticks\": \"\"}}, \"type\": \"scatterpolar\"}], \"scatterpolargl\": [{\"marker\": {\"colorbar\": {\"outlinewidth\": 0, \"ticks\": \"\"}}, \"type\": \"scatterpolargl\"}], \"scatterternary\": [{\"marker\": {\"colorbar\": {\"outlinewidth\": 0, \"ticks\": \"\"}}, \"type\": \"scatterternary\"}], \"surface\": [{\"colorbar\": {\"outlinewidth\": 0, \"ticks\": \"\"}, \"colorscale\": [[0.0, \"#0d0887\"], [0.1111111111111111, \"#46039f\"], [0.2222222222222222, \"#7201a8\"], [0.3333333333333333, \"#9c179e\"], [0.4444444444444444, \"#bd3786\"], [0.5555555555555556, \"#d8576b\"], [0.6666666666666666, \"#ed7953\"], [0.7777777777777778, \"#fb9f3a\"], [0.8888888888888888, \"#fdca26\"], [1.0, \"#f0f921\"]], \"type\": \"surface\"}], \"table\": [{\"cells\": {\"fill\": {\"color\": \"#EBF0F8\"}, \"line\": {\"color\": \"white\"}}, \"header\": {\"fill\": {\"color\": \"#C8D4E3\"}, \"line\": {\"color\": \"white\"}}, \"type\": \"table\"}]}, \"layout\": {\"annotationdefaults\": {\"arrowcolor\": \"#2a3f5f\", \"arrowhead\": 0, \"arrowwidth\": 1}, \"coloraxis\": {\"colorbar\": {\"outlinewidth\": 0, \"ticks\": \"\"}}, \"colorscale\": {\"diverging\": [[0, \"#8e0152\"], [0.1, \"#c51b7d\"], [0.2, \"#de77ae\"], [0.3, \"#f1b6da\"], [0.4, \"#fde0ef\"], [0.5, \"#f7f7f7\"], [0.6, \"#e6f5d0\"], [0.7, \"#b8e186\"], [0.8, \"#7fbc41\"], [0.9, \"#4d9221\"], [1, \"#276419\"]], \"sequential\": [[0.0, \"#0d0887\"], [0.1111111111111111, \"#46039f\"], [0.2222222222222222, \"#7201a8\"], [0.3333333333333333, \"#9c179e\"], [0.4444444444444444, \"#bd3786\"], [0.5555555555555556, \"#d8576b\"], [0.6666666666666666, \"#ed7953\"], [0.7777777777777778, \"#fb9f3a\"], [0.8888888888888888, \"#fdca26\"], [1.0, \"#f0f921\"]], \"sequentialminus\": [[0.0, \"#0d0887\"], [0.1111111111111111, \"#46039f\"], [0.2222222222222222, \"#7201a8\"], [0.3333333333333333, \"#9c179e\"], [0.4444444444444444, \"#bd3786\"], [0.5555555555555556, \"#d8576b\"], [0.6666666666666666, \"#ed7953\"], [0.7777777777777778, \"#fb9f3a\"], [0.8888888888888888, \"#fdca26\"], [1.0, \"#f0f921\"]]}, \"colorway\": [\"#636efa\", \"#EF553B\", \"#00cc96\", \"#ab63fa\", \"#FFA15A\", \"#19d3f3\", \"#FF6692\", \"#B6E880\", \"#FF97FF\", \"#FECB52\"], \"font\": {\"color\": \"#2a3f5f\"}, \"geo\": {\"bgcolor\": \"white\", \"lakecolor\": \"white\", \"landcolor\": \"#E5ECF6\", \"showlakes\": true, \"showland\": true, \"subunitcolor\": \"white\"}, \"hoverlabel\": {\"align\": \"left\"}, \"hovermode\": \"closest\", \"mapbox\": {\"style\": \"light\"}, \"paper_bgcolor\": \"white\", \"plot_bgcolor\": \"#E5ECF6\", \"polar\": {\"angularaxis\": {\"gridcolor\": \"white\", \"linecolor\": \"white\", \"ticks\": \"\"}, \"bgcolor\": \"#E5ECF6\", \"radialaxis\": {\"gridcolor\": \"white\", \"linecolor\": \"white\", \"ticks\": \"\"}}, \"scene\": {\"xaxis\": {\"backgroundcolor\": \"#E5ECF6\", \"gridcolor\": \"white\", \"gridwidth\": 2, \"linecolor\": \"white\", \"showbackground\": true, \"ticks\": \"\", \"zerolinecolor\": \"white\"}, \"yaxis\": {\"backgroundcolor\": \"#E5ECF6\", \"gridcolor\": \"white\", \"gridwidth\": 2, \"linecolor\": \"white\", \"showbackground\": true, \"ticks\": \"\", \"zerolinecolor\": \"white\"}, \"zaxis\": {\"backgroundcolor\": \"#E5ECF6\", \"gridcolor\": \"white\", \"gridwidth\": 2, \"linecolor\": \"white\", \"showbackground\": true, \"ticks\": \"\", \"zerolinecolor\": \"white\"}}, \"shapedefaults\": {\"line\": {\"color\": \"#2a3f5f\"}}, \"ternary\": {\"aaxis\": {\"gridcolor\": \"white\", \"linecolor\": \"white\", \"ticks\": \"\"}, \"baxis\": {\"gridcolor\": \"white\", \"linecolor\": \"white\", \"ticks\": \"\"}, \"bgcolor\": \"#E5ECF6\", \"caxis\": {\"gridcolor\": \"white\", \"linecolor\": \"white\", \"ticks\": \"\"}}, \"title\": {\"x\": 0.05}, \"xaxis\": {\"automargin\": true, \"gridcolor\": \"white\", \"linecolor\": \"white\", \"ticks\": \"\", \"title\": {\"standoff\": 15}, \"zerolinecolor\": \"white\", \"zerolinewidth\": 2}, \"yaxis\": {\"automargin\": true, \"gridcolor\": \"white\", \"linecolor\": \"white\", \"ticks\": \"\", \"title\": {\"standoff\": 15}, \"zerolinecolor\": \"white\", \"zerolinewidth\": 2}}}, \"title\": {\"text\": \"PCA\"}},\n",
       "                        {\"responsive\": true}\n",
       "                    ).then(function(){\n",
       "                            \n",
       "var gd = document.getElementById('c5f74442-8697-4b84-bfc8-5327265a0ef3');\n",
       "var x = new MutationObserver(function (mutations, observer) {{\n",
       "        var display = window.getComputedStyle(gd).display;\n",
       "        if (!display || display === 'none') {{\n",
       "            console.log([gd, 'removed!']);\n",
       "            Plotly.purge(gd);\n",
       "            observer.disconnect();\n",
       "        }}\n",
       "}});\n",
       "\n",
       "// Listen for the removal of the full notebook cells\n",
       "var notebookContainer = gd.closest('#notebook-container');\n",
       "if (notebookContainer) {{\n",
       "    x.observe(notebookContainer, {childList: true});\n",
       "}}\n",
       "\n",
       "// Listen for the clearing of the current output cell\n",
       "var outputEl = gd.closest('.output');\n",
       "if (outputEl) {{\n",
       "    x.observe(outputEl, {childList: true});\n",
       "}}\n",
       "\n",
       "                        })\n",
       "                };\n",
       "                });\n",
       "            </script>\n",
       "        </div>"
      ]
     },
     "metadata": {},
     "output_type": "display_data"
    }
   ],
   "source": [
    "viz.show_pca(df, outliers_indices, names)"
   ]
  },
  {
   "cell_type": "code",
   "execution_count": null,
   "metadata": {},
   "outputs": [],
   "source": []
  },
  {
   "cell_type": "code",
   "execution_count": 13,
   "metadata": {},
   "outputs": [
    {
     "data": {
      "image/png": "[encoded data removed]"
     },
     "metadata": {},
     "output_type": "display_data"
    }
   ],
   "source": [
    "viz.show_tsne(df, outliers_indices, names)"
   ]
  },
  {
   "cell_type": "code",
   "execution_count": null,
   "metadata": {},
   "outputs": [],
   "source": []
  },
  {
   "cell_type": "markdown",
   "metadata": {},
   "source": [
    "<h3>2.2 Reconstruction error of autoencoder</h3>\n",
    "Our dataset contains only around 1% of outliers, therefore it is expected, that autoencoder is able to learn  reconstructing well the \"normal\" examples, whereas outliers should produce higher reconstruction error (little data, so the autoencoder will not learn how to reconstruct outliers)[2].\n",
    "\n",
    "Outliers will be chosen as elements that have maximal reconstruction error.\n",
    "\n",
    "\n",
    "Assumptions:\n",
    "The number of neurons in autoencoder's \"bottleneck\" was set to 4 and batch size to 16.\n",
    "\n",
    "\n"
   ]
  },
  {
   "cell_type": "code",
   "execution_count": 14,
   "metadata": {},
   "outputs": [],
   "source": [
    "input_neurons = 19\n",
    "hidden_neurons = 4\n",
    "class AutoEncoder(torch.nn.Module):\n",
    "    def __init__(self):\n",
    "        super(AutoEncoder, self).__init__()\n",
    "        self.fc1 = Linear(input_neurons, hidden_neurons)\n",
    "        self.fc2 = Linear(hidden_neurons, hidden_neurons)\n",
    "        self.fc3 = Linear(hidden_neurons, input_neurons)\n",
    "    \n",
    "    def forward(self, x):\n",
    "        x = self.fc1(x)\n",
    "        x = self.fc2(x)\n",
    "        x = self.fc3(x)\n",
    "        return x\n",
    "model = AutoEncoder()\n",
    "criterion = MSELoss()\n",
    "optimizer = Adam(model.parameters())"
   ]
  },
  {
   "cell_type": "code",
   "execution_count": 15,
   "metadata": {},
   "outputs": [],
   "source": [
    "batch_size = 16\n",
    "num_iters = 250\n",
    "data_tensor = torch.tensor(df.values.astype(np.float32))\n",
    "train_loader = DataLoader(data_tensor, batch_size=batch_size,shuffle=True, num_workers=0)\n",
    "\n"
   ]
  },
  {
   "cell_type": "code",
   "execution_count": 16,
   "metadata": {},
   "outputs": [],
   "source": [
    "def train():\n",
    "    ls = []\n",
    "    for batch_i, batch in enumerate(train_loader):\n",
    "        optimizer.zero_grad()\n",
    "        output = model(batch)\n",
    "        loss = criterion(output, batch)\n",
    "        loss.backward()\n",
    "        optimizer.step()\n",
    "        ls.append(loss.item()/batch_size)\n",
    "    return np.mean(ls)"
   ]
  },
  {
   "cell_type": "code",
   "execution_count": 17,
   "metadata": {},
   "outputs": [
    {
     "data": {
      "image/png": "[encoded data removed]",
      "text/plain": [
       "<Figure size 432x288 with 1 Axes>"
      ]
     },
     "metadata": {
      "needs_background": "light"
     },
     "output_type": "display_data"
    }
   ],
   "source": [
    "losses=[]\n",
    "for epoch in range(num_iters):\n",
    "    losses.append(train())\n",
    "    \n",
    "\n",
    "plt.plot(np.arange(num_iters),losses)\n",
    "plt.title(\"Loss function\")\n",
    "plt.show()"
   ]
  },
  {
   "cell_type": "code",
   "execution_count": 18,
   "metadata": {},
   "outputs": [],
   "source": [
    "test_loader = DataLoader(data_tensor, batch_size=1,shuffle=False, num_workers=0)\n",
    "\n",
    "errors = []\n",
    "with torch.no_grad():\n",
    "    for batch_i, batch in enumerate(test_loader):\n",
    "        out = model(batch)\n",
    "        err = criterion(out, batch)\n",
    "        errors.append(err.item())"
   ]
  },
  {
   "cell_type": "code",
   "execution_count": 19,
   "metadata": {},
   "outputs": [],
   "source": [
    "outliers_indices_ae = np.argsort(errors)[-5:]"
   ]
  },
  {
   "cell_type": "code",
   "execution_count": 20,
   "metadata": {},
   "outputs": [
    {
     "name": "stdout",
     "output_type": "stream",
     "text": [
      "Outliers found:\n",
      "['EID-6532' 'EID-6558' 'EID-2071' 'EID-390' 'EID-865004798']\n"
     ]
    }
   ],
   "source": [
    "print(\"Outliers found:\")\n",
    "print(names[outliers_indices_ae].values)"
   ]
  },
  {
   "cell_type": "code",
   "execution_count": 21,
   "metadata": {},
   "outputs": [
    {
     "data": {
      "application/vnd.plotly.v1+json": {
       "config": {
        "plotlyServerURL": "https://plot.ly"
       },
       "data": [
        {
         "marker": {
          "color": [
           "blue",
           "blue",
           "blue",
           "blue",
           "blue",
           "blue",
           "blue",
           "blue",
           "blue",
           "blue",
           "blue",
           "blue",
           "blue",
           "blue",
           "blue",
           "blue",
           "blue",
           "blue",
           "blue",
           "blue",
           "blue",
           "blue",
           "blue",
           "blue",
           "blue",
           "blue",
           "blue",
           "blue",
           "blue",
           "blue",
           "blue",
           "blue",
           "blue",
           "blue",
           "blue",
           "blue",
           "blue",
           "blue",
           "blue",
           "blue",
           "blue",
           "blue",
           "blue",
           "blue",
           "blue",
           "blue",
           "blue",
           "blue",
           "blue",
           "blue",
           "blue",
           "blue",
           "blue",
           "blue",
           "blue",
           "blue",
           "blue",
           "red",
           "blue",
           "blue",
           "blue",
           "blue",
           "blue",
           "blue",
           "blue",
           "blue",
           "blue",
           "blue",
           "blue",
           "blue",
           "blue",
           "blue",
           "blue",
           "blue",
           "blue",
           "blue",
           "blue",
           "blue",
           "blue",
           "blue",
           "blue",
           "blue",
           "blue",
           "blue",
           "blue",
           "blue",
           "blue",
           "blue",
           "blue",
           "blue",
           "blue",
           "blue",
           "blue",
           "blue",
           "blue",
           "blue",
           "blue",
           "blue",
           "blue",
           "blue",
           "red",
           "blue",
           "blue",
           "blue",
           "blue",
           "blue",
           "blue",
           "blue",
           "blue",
           "blue",
           "blue",
           "blue",
           "blue",
           "blue",
           "blue",
           "blue",
           "blue",
           "blue",
           "blue",
           "blue",
           "blue",
           "blue",
           "blue",
           "blue",
           "blue",
           "blue",
           "blue",
           "blue",
           "blue",
           "blue",
           "blue",
           "blue",
           "blue",
           "blue",
           "blue",
           "blue",
           "blue",
           "blue",
           "blue",
           "blue",
           "blue",
           "blue",
           "blue",
           "blue",
           "blue",
           "blue",
           "blue",
           "blue",
           "blue",
           "blue",
           "blue",
           "blue",
           "blue",
           "blue",
           "blue",
           "blue",
           "blue",
           "blue",
           "blue",
           "blue",
           "blue",
           "blue",
           "blue",
           "blue",
           "blue",
           "blue",
           "blue",
           "blue",
           "blue",
           "blue",
           "blue",
           "blue",
           "blue",
           "blue",
           "blue",
           "blue",
           "blue",
           "blue",
           "blue",
           "blue",
           "blue",
           "blue",
           "blue",
           "blue",
           "blue",
           "red",
           "blue",
           "blue",
           "blue",
           "red",
           "blue",
           "blue",
           "blue",
           "blue",
           "blue",
           "blue",
           "blue",
           "blue",
           "blue",
           "blue",
           "blue",
           "blue",
           "blue",
           "blue",
           "blue",
           "blue",
           "blue",
           "blue",
           "blue",
           "blue",
           "blue",
           "blue",
           "blue",
           "blue",
           "blue",
           "blue",
           "blue",
           "blue",
           "blue",
           "blue",
           "blue",
           "blue",
           "blue",
           "blue",
           "blue",
           "blue",
           "blue",
           "blue",
           "blue",
           "blue",
           "blue",
           "blue",
           "blue",
           "blue",
           "blue",
           "blue",
           "blue",
           "blue",
           "blue",
           "blue",
           "blue",
           "blue",
           "blue",
           "blue",
           "red",
           "blue",
           "blue",
           "blue",
           "blue",
           "blue",
           "blue",
           "blue",
           "blue",
           "blue",
           "blue",
           "blue",
           "blue",
           "blue",
           "blue",
           "blue",
           "blue",
           "blue",
           "blue",
           "blue",
           "blue",
           "blue",
           "blue",
           "blue"
          ],
          "colorscale": [
           [
            0,
            "#440154"
           ],
           [
            0.1111111111111111,
            "#482878"
           ],
           [
            0.2222222222222222,
            "#3e4989"
           ],
           [
            0.3333333333333333,
            "#31688e"
           ],
           [
            0.4444444444444444,
            "#26828e"
           ],
           [
            0.5555555555555556,
            "#1f9e89"
           ],
           [
            0.6666666666666666,
            "#35b779"
           ],
           [
            0.7777777777777778,
            "#6ece58"
           ],
           [
            0.8888888888888888,
            "#b5de2b"
           ],
           [
            1,
            "#fde725"
           ]
          ]
         },
         "mode": "markers",
         "text": [
          "EID-1000",
          "EID-1009",
          "EID-1091",
          "EID-1095",
          "EID-1117",
          "EID-1138",
          "EID-1147",
          "EID-1215",
          "EID-1263",
          "EID-1264",
          "EID-1270",
          "EID-1277",
          "EID-1296",
          "EID-1304",
          "EID-1352",
          "EID-1364",
          "EID-1397",
          "EID-1427",
          "EID-1437",
          "EID-1440",
          "EID-1457",
          "EID-146",
          "EID-1462",
          "EID-148",
          "EID-1494",
          "EID-1516",
          "EID-1523",
          "EID-1556",
          "EID-1568",
          "EID-1596",
          "EID-1629",
          "EID-1663",
          "EID-1676",
          "EID-1688",
          "EID-1691",
          "EID-1718",
          "EID-1772",
          "EID-1778",
          "EID-1797",
          "EID-1835",
          "EID-1848",
          "EID-1867",
          "EID-1890",
          "EID-1891",
          "EID-1914",
          "EID-1924",
          "EID-1977",
          "EID-1997",
          "EID-2003",
          "EID-2004",
          "EID-2008",
          "EID-2014",
          "EID-2048",
          "EID-2051",
          "EID-2052",
          "EID-2063",
          "EID-2068",
          "EID-2071",
          "EID-2073",
          "EID-2119",
          "EID-2121",
          "EID-2153",
          "EID-2159",
          "EID-2165",
          "EID-2174",
          "EID-2196",
          "EID-2197",
          "EID-2207",
          "EID-222",
          "EID-2263",
          "EID-2279",
          "EID-233",
          "EID-234",
          "EID-235",
          "EID-236",
          "EID-243",
          "EID-248",
          "EID-2559",
          "EID-267",
          "EID-270",
          "EID-272",
          "EID-275",
          "EID-279",
          "EID-280",
          "EID-288",
          "EID-289",
          "EID-290",
          "EID-307",
          "EID-308",
          "EID-309",
          "EID-318",
          "EID-320",
          "EID-321",
          "EID-323",
          "EID-326",
          "EID-335",
          "EID-342",
          "EID-353",
          "EID-363",
          "EID-372",
          "EID-390",
          "EID-395",
          "EID-400",
          "EID-405",
          "EID-409",
          "EID-422",
          "EID-432",
          "EID-4330",
          "EID-434",
          "EID-4501",
          "EID-4521",
          "EID-458",
          "EID-462",
          "EID-475",
          "EID-482",
          "EID-485",
          "EID-486",
          "EID-489",
          "EID-494",
          "EID-498",
          "EID-509",
          "EID-514",
          "EID-516",
          "EID-517",
          "EID-519",
          "EID-520",
          "EID-521",
          "EID-522",
          "EID-523",
          "EID-527",
          "EID-532",
          "EID-534",
          "EID-536",
          "EID-537",
          "EID-540",
          "EID-548",
          "EID-549",
          "EID-550",
          "EID-555",
          "EID-557",
          "EID-558",
          "EID-559",
          "EID-561",
          "EID-563",
          "EID-568",
          "EID-571",
          "EID-578",
          "EID-592",
          "EID-620",
          "EID-621",
          "EID-622",
          "EID-623",
          "EID-6291",
          "EID-6292",
          "EID-6296",
          "EID-6298",
          "EID-6299",
          "EID-6304",
          "EID-6310",
          "EID-6331",
          "EID-6341",
          "EID-6346",
          "EID-6363",
          "EID-6369",
          "EID-6385",
          "EID-6392",
          "EID-6393",
          "EID-6400",
          "EID-6403",
          "EID-6423",
          "EID-6426",
          "EID-6431",
          "EID-6432",
          "EID-6437",
          "EID-6449",
          "EID-6453",
          "EID-6455",
          "EID-6464",
          "EID-6484",
          "EID-6485",
          "EID-6495",
          "EID-6499",
          "EID-6508",
          "EID-6517",
          "EID-6527",
          "EID-6532",
          "EID-6539",
          "EID-6542",
          "EID-6545",
          "EID-6558",
          "EID-6578",
          "EID-6586",
          "EID-6603",
          "EID-6618",
          "EID-6619",
          "EID-676",
          "EID-6884",
          "EID-694",
          "EID-70",
          "EID-707",
          "EID-750",
          "EID-753",
          "EID-775",
          "EID-78",
          "EID-79",
          "EID-793",
          "EID-794",
          "EID-80",
          "EID-805",
          "EID-817",
          "EID-820",
          "EID-833",
          "EID-862",
          "EID-865000540",
          "EID-865000753",
          "EID-865000790",
          "EID-865000966",
          "EID-865001062",
          "EID-865001162",
          "EID-865001197",
          "EID-865001268",
          "EID-865001442",
          "EID-865002050",
          "EID-865002101",
          "EID-865002369",
          "EID-865002569",
          "EID-865002585",
          "EID-865002675",
          "EID-865002688",
          "EID-865002970",
          "EID-865003423",
          "EID-865003448",
          "EID-865003619",
          "EID-865003672",
          "EID-865003770",
          "EID-865003787",
          "EID-865003934",
          "EID-865003961",
          "EID-865003982",
          "EID-865003983",
          "EID-865004125",
          "EID-865004280",
          "EID-865004323",
          "EID-865004516",
          "EID-865004798",
          "EID-865004939",
          "EID-865004957",
          "EID-865004984",
          "EID-865004988",
          "EID-865004995",
          "EID-865004996",
          "EID-870",
          "EID-874",
          "EID-894",
          "EID-897",
          "EID-901",
          "EID-902",
          "EID-911",
          "EID-914",
          "EID-92",
          "EID-921",
          "EID-927",
          "EID-929",
          "EID-937",
          "EID-938",
          "EID-944",
          "EID-983",
          "EID-987"
         ],
         "type": "scatter",
         "x": [
          0.2926802107333376,
          0.501039512730767,
          -2.892230134521756,
          1.0576157717515227,
          -3.556337257725958,
          0.9841503291278363,
          1.1775474865564122,
          -2.826740179092615,
          2.171917501125567,
          2.2762466706962847,
          6.074632234222473,
          0.7942683079309498,
          0.9212255867875137,
          0.5376866752772004,
          -4.26837955568724,
          2.9219309512864657,
          0.5206274907806705,
          1.8299931232438635,
          -1.10065116577463,
          -1.6689218762410927,
          0.6142321605037021,
          0.5740638345117014,
          2.2004463622072086,
          -1.3826622475138635,
          0.4524431825196926,
          -3.944232171431804,
          0.3912342373822334,
          -1.0738561499187793,
          0.3093311914545125,
          0.45197426883618436,
          -1.4459153107772316,
          -2.852997566753046,
          1.7187958342628198,
          1.8356034124329155,
          0.2968277933289529,
          0.5871974048866005,
          -0.6157126397350643,
          1.589321271640809,
          0.6675576216024846,
          1.9493288028745395,
          0.2313762311282677,
          1.1927643752961163,
          0.6148389066915169,
          2.5868457545759678,
          1.1259407996290067,
          2.19674502373544,
          -0.945728057057721,
          0.761853388684114,
          -0.8435940752181804,
          0.6410222083096385,
          -4.607484768490859,
          -1.7127949651212853,
          2.278230846767301,
          -1.636414514921984,
          -5.825191065746596,
          0.27558973457833835,
          -0.9983243442853095,
          -2.8179053871050397,
          -3.772624640895861,
          0.6128608216250699,
          0.9978910208385823,
          1.1630774153093202,
          0.4526180048790995,
          0.46529628729978056,
          -1.5734864774013029,
          -5.454924642086963,
          -5.001830276504807,
          -1.0529633305789639,
          0.5166309100035015,
          0.6993463746952304,
          -1.7052566331524268,
          -1.8584309221944424,
          1.636940713962129,
          1.429647724314307,
          1.655512796737619,
          0.5433695295626767,
          1.3342005402343737,
          0.03184768223301246,
          -0.6091045549277825,
          1.1782548720756285,
          0.4069287240955423,
          1.6620044729643693,
          2.0552552463912694,
          -0.10072471508846277,
          0.5137948137974017,
          0.981236122680211,
          0.5241616820315458,
          -0.8651052529760926,
          1.7919708237055305,
          0.3599536208343089,
          0.7828353002813727,
          0.8153400705408116,
          0.8694607308791829,
          0.7121044938951634,
          1.5015047438115994,
          -4.0964690236587895,
          0.7947632653594405,
          2.1001463969343117,
          1.0397170913943596,
          1.8679645742015623,
          -1.4672895458745565,
          2.1870595715208445,
          -1.3153678930047967,
          -1.644325013416234,
          0.9507209897380924,
          1.2435874037500723,
          0.4387553823026033,
          1.9910218590326327,
          1.3143914066397848,
          1.1082880021161117,
          0.4206514499026655,
          1.5772250995397763,
          -1.8106821771308677,
          -1.5444971014519522,
          0.551328274703334,
          1.757229252629257,
          0.831703069606105,
          1.5453079361743562,
          0.6677986745611474,
          1.6073138629252437,
          1.0918517637834162,
          0.570415435643539,
          0.4867149056412928,
          0.6649858272001072,
          0.676629217962301,
          1.495926656715142,
          0.584438441243152,
          0.16707824612189012,
          0.7460742460483999,
          1.2469532853569922,
          -0.2047444607561189,
          0.7316974402973716,
          1.2316520916007958,
          0.8068797545554663,
          1.5358954111443734,
          0.5374476546817477,
          1.7235100835726136,
          1.0459863335818702,
          1.5624202957948576,
          0.43096257430024776,
          1.5682086919692646,
          0.8036197388670696,
          0.7068497891449896,
          1.248032276179828,
          0.8636973416781951,
          0.41087655653580246,
          0.8870668712555592,
          0.200635427280754,
          -3.255881526528405,
          1.5110594144460208,
          -2.272279010649619,
          -0.3913161802677948,
          -0.10631121233975115,
          -0.04405202829124801,
          0.42256351639206247,
          0.5433327698041843,
          1.0671094504187841,
          0.6023328634080327,
          2.015820927070858,
          0.13445125353336965,
          1.277759815018947,
          1.8828659339701879,
          0.43664093216041266,
          1.332897041602571,
          1.7659645610645216,
          2.235390941927499,
          -1.497413272824079,
          -0.09181376188788432,
          1.8373901033708815,
          1.364241304052489,
          0.47787831069579045,
          0.9340965975233531,
          -1.9638831328070507,
          1.285340056168416,
          0.04402383301601047,
          1.7663507387227864,
          0.7049184791950182,
          0.8312970481552114,
          0.7675905656880825,
          0.37056607816491954,
          -1.2093315680754906,
          1.3598424436986318,
          1.5569429427927903,
          1.2035383626014664,
          -1.6064475009710528,
          -1.6978394674569142,
          -0.17644235510281037,
          -1.848512876763121,
          -2.130636563893346,
          -3.1332794725064486,
          -2.0540553622816176,
          -0.3423467742939059,
          -2.1631507941643733,
          0.9100217770897594,
          0.5039211232753436,
          2.5799124969076015,
          -0.6885883895939728,
          1.2854379601311703,
          0.4605514133553873,
          0.9630028070009602,
          0.772437813327501,
          1.3678782497329183,
          0.24310790611128116,
          2.95391097487216,
          -0.334648786139841,
          0.2969086241311321,
          0.16717988301788383,
          0.5753795901727868,
          1.6073455801060526,
          -0.3085381458667645,
          0.35530882536780856,
          -0.745882634898463,
          0.6137128627985988,
          -2.3418116536428757,
          -1.558226042557553,
          0.15770945608710932,
          -2.5047519611168263,
          -2.6087405644725608,
          -0.8069067755119033,
          -1.3950035075169835,
          -0.7120096343381805,
          -1.8473033718665197,
          -1.4961319360866374,
          -2.4559280333283926,
          -2.826379941296961,
          -1.7363592262365606,
          -2.5887024011847513,
          -3.5677519305792575,
          -0.8355666151459038,
          0.028737752330262406,
          0.5528450670105018,
          -1.7298406409349447,
          -1.454475954171096,
          -0.32489689124585347,
          0.8038154511090672,
          -2.625748386998345,
          -0.8725625761839365,
          0.12850399848209787,
          -2.3643514560929773,
          -0.8217768387056028,
          -1.0468370344338425,
          -1.7636212506081506,
          -2.8796469923214856,
          1.3204582743124536,
          -3.6633056721393316,
          -3.14482155452287,
          -1.2643562648957916,
          -2.1246632228576052,
          -2.0741974819780356,
          -1.4298916985884165,
          -3.6397790210967567,
          0.9742423851058643,
          -1.1022199804168993,
          2.1337279737201373,
          1.0860007190030239,
          1.165199644409914,
          1.0020377336767048,
          0.9138689035849739,
          0.44647409637328606,
          -0.6537770100642899,
          0.7866544619987725,
          -1.0598162393096817,
          1.5291441988289893,
          -5.27969948289156,
          -1.948335440073433,
          0.45858558290468326,
          0.8288239397753547,
          0.6810398255040716
         ],
         "y": [
          -0.31299888491215544,
          -0.7413701318181554,
          -0.988755310535247,
          0.2670292351653309,
          -5.473496127651643,
          -0.8031552351681412,
          0.32342883347572815,
          -2.463400803891062,
          0.7203065286521012,
          0.796528751414581,
          1.6235377276278606,
          -0.4952356933591413,
          -0.21319377853260882,
          -1.1297402091916748,
          -0.4107787500044408,
          1.0650442408347047,
          -1.058474359483334,
          0.645885208578617,
          -2.2324601397053225,
          -2.444701308649122,
          -0.9787553378288972,
          -0.9372704992344107,
          0.7727652865019923,
          -1.70154804087608,
          -1.0148038059419149,
          -3.478188600992452,
          -0.9911825272705989,
          -1.3692434677197876,
          -0.7811701514373371,
          -1.0252882227421478,
          -2.8526500632630176,
          -0.6952829856989704,
          0.44162621374995853,
          0.5323609752877133,
          -1.1600278940436004,
          -0.6644164176722753,
          -0.09702127816415547,
          0.4274545272345443,
          -0.5418170857650806,
          0.7018063482782331,
          -1.2691395570324062,
          -0.1039774989628163,
          -1.0782555260004973,
          -0.32782231441747395,
          -0.3180398473495341,
          0.2602139354602994,
          -1.4814702612290476,
          -0.8579208566135916,
          -1.8804337097595625,
          -0.10034330713069349,
          3.6254602210951266,
          -0.2917023257299142,
          0.727110849088856,
          -2.696733694825664,
          -0.05131642834016039,
          -0.9435491750672688,
          -0.48986135744369574,
          -2.079500507322264,
          1.465343818873605,
          -0.9307329710477547,
          -0.5981396763042256,
          0.3600184102511881,
          0.633631670363101,
          -1.0469535958559244,
          -0.9545904123775264,
          3.5603466351096302,
          0.8621827871544845,
          -1.1909000892350587,
          -1.176804796741698,
          -1.0325756886732484,
          -1.9049721144522915,
          -0.989556516717412,
          0.7570759549757515,
          0.8480637598852454,
          0.4022123811268318,
          -1.1782651137885654,
          0.5112609740768402,
          1.468744114291958,
          -0.357565748663528,
          -0.15662789592023255,
          -1.2128491425885386,
          0.6080576533056958,
          0.6160570879471032,
          -1.1390435310079234,
          -1.1628006135829256,
          -0.4791370022972658,
          -1.212181227307147,
          -1.8564126145841142,
          0.8160119734483735,
          0.9414835723500399,
          -0.5318994759119602,
          -0.23892089881448084,
          -0.6639018137217584,
          0.18287106801952707,
          0.48483332879555824,
          -1.3090293335413088,
          -0.6757040874554112,
          -0.4232802322025094,
          -0.29577816136672846,
          0.5844373412953852,
          -3.5781851654688546,
          1.2407760579300624,
          -0.5520452563268954,
          -0.9927080914592185,
          0.3388244007237707,
          -0.24876214071412278,
          -1.2611579613041968,
          0.6333647214473237,
          0.4186653348386584,
          -0.2030386223092031,
          -1.0252250459465768,
          0.249159727840472,
          -2.6119454917211558,
          -0.5258964091702124,
          -0.952854548878405,
          0.3712733601107631,
          -0.7474978087762122,
          0.6390464200325734,
          -0.9572649265639434,
          0.7372718380739152,
          0.5593776067908325,
          -0.9951178879701849,
          -0.7052793615100199,
          -0.9103437855917742,
          -0.4659719172125205,
          0.4707544052094719,
          -0.9609463686936796,
          -0.8725857596971036,
          -0.9978686308136242,
          -0.15872716925388894,
          -0.7093193251967204,
          -0.7744312486280193,
          0.2534823821987245,
          -0.17086023868266942,
          0.2014886576832486,
          -0.986577472382371,
          0.3392456832026881,
          0.8571662379928988,
          0.36090597913219885,
          -1.0941915467956902,
          0.009692746178171348,
          -0.9467444359458064,
          -0.9097209903696726,
          -0.35033389068027593,
          -0.27272475348618064,
          -1.0124581718491175,
          0.006131057259123358,
          -0.5802470600730968,
          -1.5096369790475581,
          0.4283641923908591,
          -1.0493765779221167,
          0.14980832385039763,
          -0.7549245737530029,
          -1.1189457804052714,
          -1.3119896074641468,
          -0.817550965886226,
          0.1137723795800614,
          -0.695992427574094,
          0.7895236845127592,
          -1.1162824415779509,
          1.3730158371668677,
          0.7895328899886305,
          -1.1782088528438566,
          0.33558147887712725,
          0.5883074117788692,
          0.78597842830685,
          -0.8471066304141999,
          -0.8584843409544383,
          0.5315903344748152,
          0.46820519078037803,
          -0.2600750442176603,
          -0.3887066592800385,
          -2.3631913871290395,
          0.4023546561499933,
          -0.8490794855695603,
          0.908509982305949,
          -0.2559331068332679,
          0.2922969855713314,
          -0.6147275026698684,
          -1.1728693284863994,
          -1.0632177112889785,
          0.9050705073184049,
          1.0657820091659047,
          1.4612205743931685,
          0.8909830369595935,
          9.668186517487431,
          3.3516337976052046,
          0.7095010643519502,
          0.4332495820001498,
          12.61433241801409,
          2.2528266246282005,
          2.084758994364433,
          0.5130954999639562,
          1.2704260151662996,
          1.1066057705986712,
          1.338818829511293,
          3.2079036354468426,
          -0.29188330544301855,
          -1.187482519293643,
          -0.664903542140868,
          -0.9016221446522329,
          0.5928605072210448,
          -1.3219354434006791,
          1.1496454021005085,
          -1.194095759351469,
          -1.170282786959182,
          -0.17112214850248947,
          -1.0166876875672708,
          0.25079738000738916,
          -0.6481567388113865,
          -0.4688201723656061,
          -2.0577211501285015,
          -0.9390301770492931,
          1.3470854153412706,
          1.3735826991202018,
          2.4308791919854738,
          0.980507683493065,
          0.9891644952301264,
          2.6740384990842947,
          1.1907831774810629,
          1.889174779411854,
          1.4931621396993673,
          1.3803538632261996,
          1.362925607156328,
          0.7232607330856993,
          1.005324180987571,
          0.3451712449429019,
          0.5331179335562952,
          0.9871084806957331,
          1.5937210598431093,
          2.0815304958110987,
          0.9091296588910249,
          0.5501663215116483,
          1.9276113418305123,
          2.5694324995566125,
          0.5215746259431451,
          1.9321422909473769,
          2.843494669216186,
          0.5821761033857857,
          1.2320205548218768,
          1.0560714051635358,
          1.408108950535679,
          0.3807218987636318,
          1.0936972727093806,
          1.1997334143757326,
          -0.005888971722903428,
          1.720954950044562,
          0.8496357709772344,
          0.4738892258685297,
          1.1481841620171687,
          -0.5498045141483551,
          -0.2681001052817585,
          -0.3328303250677676,
          0.7378112809719621,
          -0.6909551200944845,
          -0.14692116354154555,
          -0.7911952734907849,
          0.25060012066403825,
          -0.36314984046657617,
          0.7272207375883641,
          -0.3332058908101434,
          -0.03665813194759517,
          0.20077595006088028,
          -0.8826304962178639,
          -0.07126634547396407,
          -1.1450015286548219,
          -0.7023212065517682,
          0.6157167504651596
         ]
        }
       ],
       "layout": {
        "template": {
         "data": {
          "bar": [
           {
            "error_x": {
             "color": "#2a3f5f"
            },
            "error_y": {
             "color": "#2a3f5f"
            },
            "marker": {
             "line": {
              "color": "#E5ECF6",
              "width": 0.5
             }
            },
            "type": "bar"
           }
          ],
          "barpolar": [
           {
            "marker": {
             "line": {
              "color": "#E5ECF6",
              "width": 0.5
             }
            },
            "type": "barpolar"
           }
          ],
          "carpet": [
           {
            "aaxis": {
             "endlinecolor": "#2a3f5f",
             "gridcolor": "white",
             "linecolor": "white",
             "minorgridcolor": "white",
             "startlinecolor": "#2a3f5f"
            },
            "baxis": {
             "endlinecolor": "#2a3f5f",
             "gridcolor": "white",
             "linecolor": "white",
             "minorgridcolor": "white",
             "startlinecolor": "#2a3f5f"
            },
            "type": "carpet"
           }
          ],
          "choropleth": [
           {
            "colorbar": {
             "outlinewidth": 0,
             "ticks": ""
            },
            "type": "choropleth"
           }
          ],
          "contour": [
           {
            "colorbar": {
             "outlinewidth": 0,
             "ticks": ""
            },
            "colorscale": [
             [
              0,
              "#0d0887"
             ],
             [
              0.1111111111111111,
              "#46039f"
             ],
             [
              0.2222222222222222,
              "#7201a8"
             ],
             [
              0.3333333333333333,
              "#9c179e"
             ],
             [
              0.4444444444444444,
              "#bd3786"
             ],
             [
              0.5555555555555556,
              "#d8576b"
             ],
             [
              0.6666666666666666,
              "#ed7953"
             ],
             [
              0.7777777777777778,
              "#fb9f3a"
             ],
             [
              0.8888888888888888,
              "#fdca26"
             ],
             [
              1,
              "#f0f921"
             ]
            ],
            "type": "contour"
           }
          ],
          "contourcarpet": [
           {
            "colorbar": {
             "outlinewidth": 0,
             "ticks": ""
            },
            "type": "contourcarpet"
           }
          ],
          "heatmap": [
           {
            "colorbar": {
             "outlinewidth": 0,
             "ticks": ""
            },
            "colorscale": [
             [
              0,
              "#0d0887"
             ],
             [
              0.1111111111111111,
              "#46039f"
             ],
             [
              0.2222222222222222,
              "#7201a8"
             ],
             [
              0.3333333333333333,
              "#9c179e"
             ],
             [
              0.4444444444444444,
              "#bd3786"
             ],
             [
              0.5555555555555556,
              "#d8576b"
             ],
             [
              0.6666666666666666,
              "#ed7953"
             ],
             [
              0.7777777777777778,
              "#fb9f3a"
             ],
             [
              0.8888888888888888,
              "#fdca26"
             ],
             [
              1,
              "#f0f921"
             ]
            ],
            "type": "heatmap"
           }
          ],
          "heatmapgl": [
           {
            "colorbar": {
             "outlinewidth": 0,
             "ticks": ""
            },
            "colorscale": [
             [
              0,
              "#0d0887"
             ],
             [
              0.1111111111111111,
              "#46039f"
             ],
             [
              0.2222222222222222,
              "#7201a8"
             ],
             [
              0.3333333333333333,
              "#9c179e"
             ],
             [
              0.4444444444444444,
              "#bd3786"
             ],
             [
              0.5555555555555556,
              "#d8576b"
             ],
             [
              0.6666666666666666,
              "#ed7953"
             ],
             [
              0.7777777777777778,
              "#fb9f3a"
             ],
             [
              0.8888888888888888,
              "#fdca26"
             ],
             [
              1,
              "#f0f921"
             ]
            ],
            "type": "heatmapgl"
           }
          ],
          "histogram": [
           {
            "marker": {
             "colorbar": {
              "outlinewidth": 0,
              "ticks": ""
             }
            },
            "type": "histogram"
           }
          ],
          "histogram2d": [
           {
            "colorbar": {
             "outlinewidth": 0,
             "ticks": ""
            },
            "colorscale": [
             [
              0,
              "#0d0887"
             ],
             [
              0.1111111111111111,
              "#46039f"
             ],
             [
              0.2222222222222222,
              "#7201a8"
             ],
             [
              0.3333333333333333,
              "#9c179e"
             ],
             [
              0.4444444444444444,
              "#bd3786"
             ],
             [
              0.5555555555555556,
              "#d8576b"
             ],
             [
              0.6666666666666666,
              "#ed7953"
             ],
             [
              0.7777777777777778,
              "#fb9f3a"
             ],
             [
              0.8888888888888888,
              "#fdca26"
             ],
             [
              1,
              "#f0f921"
             ]
            ],
            "type": "histogram2d"
           }
          ],
          "histogram2dcontour": [
           {
            "colorbar": {
             "outlinewidth": 0,
             "ticks": ""
            },
            "colorscale": [
             [
              0,
              "#0d0887"
             ],
             [
              0.1111111111111111,
              "#46039f"
             ],
             [
              0.2222222222222222,
              "#7201a8"
             ],
             [
              0.3333333333333333,
              "#9c179e"
             ],
             [
              0.4444444444444444,
              "#bd3786"
             ],
             [
              0.5555555555555556,
              "#d8576b"
             ],
             [
              0.6666666666666666,
              "#ed7953"
             ],
             [
              0.7777777777777778,
              "#fb9f3a"
             ],
             [
              0.8888888888888888,
              "#fdca26"
             ],
             [
              1,
              "#f0f921"
             ]
            ],
            "type": "histogram2dcontour"
           }
          ],
          "mesh3d": [
           {
            "colorbar": {
             "outlinewidth": 0,
             "ticks": ""
            },
            "type": "mesh3d"
           }
          ],
          "parcoords": [
           {
            "line": {
             "colorbar": {
              "outlinewidth": 0,
              "ticks": ""
             }
            },
            "type": "parcoords"
           }
          ],
          "pie": [
           {
            "automargin": true,
            "type": "pie"
           }
          ],
          "scatter": [
           {
            "marker": {
             "colorbar": {
              "outlinewidth": 0,
              "ticks": ""
             }
            },
            "type": "scatter"
           }
          ],
          "scatter3d": [
           {
            "line": {
             "colorbar": {
              "outlinewidth": 0,
              "ticks": ""
             }
            },
            "marker": {
             "colorbar": {
              "outlinewidth": 0,
              "ticks": ""
             }
            },
            "type": "scatter3d"
           }
          ],
          "scattercarpet": [
           {
            "marker": {
             "colorbar": {
              "outlinewidth": 0,
              "ticks": ""
             }
            },
            "type": "scattercarpet"
           }
          ],
          "scattergeo": [
           {
            "marker": {
             "colorbar": {
              "outlinewidth": 0,
              "ticks": ""
             }
            },
            "type": "scattergeo"
           }
          ],
          "scattergl": [
           {
            "marker": {
             "colorbar": {
              "outlinewidth": 0,
              "ticks": ""
             }
            },
            "type": "scattergl"
           }
          ],
          "scattermapbox": [
           {
            "marker": {
             "colorbar": {
              "outlinewidth": 0,
              "ticks": ""
             }
            },
            "type": "scattermapbox"
           }
          ],
          "scatterpolar": [
           {
            "marker": {
             "colorbar": {
              "outlinewidth": 0,
              "ticks": ""
             }
            },
            "type": "scatterpolar"
           }
          ],
          "scatterpolargl": [
           {
            "marker": {
             "colorbar": {
              "outlinewidth": 0,
              "ticks": ""
             }
            },
            "type": "scatterpolargl"
           }
          ],
          "scatterternary": [
           {
            "marker": {
             "colorbar": {
              "outlinewidth": 0,
              "ticks": ""
             }
            },
            "type": "scatterternary"
           }
          ],
          "surface": [
           {
            "colorbar": {
             "outlinewidth": 0,
             "ticks": ""
            },
            "colorscale": [
             [
              0,
              "#0d0887"
             ],
             [
              0.1111111111111111,
              "#46039f"
             ],
             [
              0.2222222222222222,
              "#7201a8"
             ],
             [
              0.3333333333333333,
              "#9c179e"
             ],
             [
              0.4444444444444444,
              "#bd3786"
             ],
             [
              0.5555555555555556,
              "#d8576b"
             ],
             [
              0.6666666666666666,
              "#ed7953"
             ],
             [
              0.7777777777777778,
              "#fb9f3a"
             ],
             [
              0.8888888888888888,
              "#fdca26"
             ],
             [
              1,
              "#f0f921"
             ]
            ],
            "type": "surface"
           }
          ],
          "table": [
           {
            "cells": {
             "fill": {
              "color": "#EBF0F8"
             },
             "line": {
              "color": "white"
             }
            },
            "header": {
             "fill": {
              "color": "#C8D4E3"
             },
             "line": {
              "color": "white"
             }
            },
            "type": "table"
           }
          ]
         },
         "layout": {
          "annotationdefaults": {
           "arrowcolor": "#2a3f5f",
           "arrowhead": 0,
           "arrowwidth": 1
          },
          "coloraxis": {
           "colorbar": {
            "outlinewidth": 0,
            "ticks": ""
           }
          },
          "colorscale": {
           "diverging": [
            [
             0,
             "#8e0152"
            ],
            [
             0.1,
             "#c51b7d"
            ],
            [
             0.2,
             "#de77ae"
            ],
            [
             0.3,
             "#f1b6da"
            ],
            [
             0.4,
             "#fde0ef"
            ],
            [
             0.5,
             "#f7f7f7"
            ],
            [
             0.6,
             "#e6f5d0"
            ],
            [
             0.7,
             "#b8e186"
            ],
            [
             0.8,
             "#7fbc41"
            ],
            [
             0.9,
             "#4d9221"
            ],
            [
             1,
             "#276419"
            ]
           ],
           "sequential": [
            [
             0,
             "#0d0887"
            ],
            [
             0.1111111111111111,
             "#46039f"
            ],
            [
             0.2222222222222222,
             "#7201a8"
            ],
            [
             0.3333333333333333,
             "#9c179e"
            ],
            [
             0.4444444444444444,
             "#bd3786"
            ],
            [
             0.5555555555555556,
             "#d8576b"
            ],
            [
             0.6666666666666666,
             "#ed7953"
            ],
            [
             0.7777777777777778,
             "#fb9f3a"
            ],
            [
             0.8888888888888888,
             "#fdca26"
            ],
            [
             1,
             "#f0f921"
            ]
           ],
           "sequentialminus": [
            [
             0,
             "#0d0887"
            ],
            [
             0.1111111111111111,
             "#46039f"
            ],
            [
             0.2222222222222222,
             "#7201a8"
            ],
            [
             0.3333333333333333,
             "#9c179e"
            ],
            [
             0.4444444444444444,
             "#bd3786"
            ],
            [
             0.5555555555555556,
             "#d8576b"
            ],
            [
             0.6666666666666666,
             "#ed7953"
            ],
            [
             0.7777777777777778,
             "#fb9f3a"
            ],
            [
             0.8888888888888888,
             "#fdca26"
            ],
            [
             1,
             "#f0f921"
            ]
           ]
          },
          "colorway": [
           "#636efa",
           "#EF553B",
           "#00cc96",
           "#ab63fa",
           "#FFA15A",
           "#19d3f3",
           "#FF6692",
           "#B6E880",
           "#FF97FF",
           "#FECB52"
          ],
          "font": {
           "color": "#2a3f5f"
          },
          "geo": {
           "bgcolor": "white",
           "lakecolor": "white",
           "landcolor": "#E5ECF6",
           "showlakes": true,
           "showland": true,
           "subunitcolor": "white"
          },
          "hoverlabel": {
           "align": "left"
          },
          "hovermode": "closest",
          "mapbox": {
           "style": "light"
          },
          "paper_bgcolor": "white",
          "plot_bgcolor": "#E5ECF6",
          "polar": {
           "angularaxis": {
            "gridcolor": "white",
            "linecolor": "white",
            "ticks": ""
           },
           "bgcolor": "#E5ECF6",
           "radialaxis": {
            "gridcolor": "white",
            "linecolor": "white",
            "ticks": ""
           }
          },
          "scene": {
           "xaxis": {
            "backgroundcolor": "#E5ECF6",
            "gridcolor": "white",
            "gridwidth": 2,
            "linecolor": "white",
            "showbackground": true,
            "ticks": "",
            "zerolinecolor": "white"
           },
           "yaxis": {
            "backgroundcolor": "#E5ECF6",
            "gridcolor": "white",
            "gridwidth": 2,
            "linecolor": "white",
            "showbackground": true,
            "ticks": "",
            "zerolinecolor": "white"
           },
           "zaxis": {
            "backgroundcolor": "#E5ECF6",
            "gridcolor": "white",
            "gridwidth": 2,
            "linecolor": "white",
            "showbackground": true,
            "ticks": "",
            "zerolinecolor": "white"
           }
          },
          "shapedefaults": {
           "line": {
            "color": "#2a3f5f"
           }
          },
          "ternary": {
           "aaxis": {
            "gridcolor": "white",
            "linecolor": "white",
            "ticks": ""
           },
           "baxis": {
            "gridcolor": "white",
            "linecolor": "white",
            "ticks": ""
           },
           "bgcolor": "#E5ECF6",
           "caxis": {
            "gridcolor": "white",
            "linecolor": "white",
            "ticks": ""
           }
          },
          "title": {
           "x": 0.05
          },
          "xaxis": {
           "automargin": true,
           "gridcolor": "white",
           "linecolor": "white",
           "ticks": "",
           "title": {
            "standoff": 15
           },
           "zerolinecolor": "white",
           "zerolinewidth": 2
          },
          "yaxis": {
           "automargin": true,
           "gridcolor": "white",
           "linecolor": "white",
           "ticks": "",
           "title": {
            "standoff": 15
           },
           "zerolinecolor": "white",
           "zerolinewidth": 2
          }
         }
        },
        "title": {
         "text": "PCA"
        }
       }
      },
      "text/html": [
       "<div>\n",
       "        \n",
       "        \n",
       "            <div id=\"7a4af5c1-1c91-4887-a2ac-6ca609dc37fe\" class=\"plotly-graph-div\" style=\"height:525px; width:100%;\"></div>\n",
       "            <script type=\"text/javascript\">\n",
       "                require([\"plotly\"], function(Plotly) {\n",
       "                    window.PLOTLYENV=window.PLOTLYENV || {};\n",
       "                    \n",
       "                if (document.getElementById(\"7a4af5c1-1c91-4887-a2ac-6ca609dc37fe\")) {\n",
       "                    Plotly.newPlot(\n",
       "                        '7a4af5c1-1c91-4887-a2ac-6ca609dc37fe',\n",
       "                        [{\"marker\": {\"color\": [\"blue\", \"blue\", \"blue\", \"blue\", \"blue\", \"blue\", \"blue\", \"blue\", \"blue\", \"blue\", \"blue\", \"blue\", \"blue\", \"blue\", \"blue\", \"blue\", \"blue\", \"blue\", \"blue\", \"blue\", \"blue\", \"blue\", \"blue\", \"blue\", \"blue\", \"blue\", \"blue\", \"blue\", \"blue\", \"blue\", \"blue\", \"blue\", \"blue\", \"blue\", \"blue\", \"blue\", \"blue\", \"blue\", \"blue\", \"blue\", \"blue\", \"blue\", \"blue\", \"blue\", \"blue\", \"blue\", \"blue\", \"blue\", \"blue\", \"blue\", \"blue\", \"blue\", \"blue\", \"blue\", \"blue\", \"blue\", \"blue\", \"red\", \"blue\", \"blue\", \"blue\", \"blue\", \"blue\", \"blue\", \"blue\", \"blue\", \"blue\", \"blue\", \"blue\", \"blue\", \"blue\", \"blue\", \"blue\", \"blue\", \"blue\", \"blue\", \"blue\", \"blue\", \"blue\", \"blue\", \"blue\", \"blue\", \"blue\", \"blue\", \"blue\", \"blue\", \"blue\", \"blue\", \"blue\", \"blue\", \"blue\", \"blue\", \"blue\", \"blue\", \"blue\", \"blue\", \"blue\", \"blue\", \"blue\", \"blue\", \"red\", \"blue\", \"blue\", \"blue\", \"blue\", \"blue\", \"blue\", \"blue\", \"blue\", \"blue\", \"blue\", \"blue\", \"blue\", \"blue\", \"blue\", \"blue\", \"blue\", \"blue\", \"blue\", \"blue\", \"blue\", \"blue\", \"blue\", \"blue\", \"blue\", \"blue\", \"blue\", \"blue\", \"blue\", \"blue\", \"blue\", \"blue\", \"blue\", \"blue\", \"blue\", \"blue\", \"blue\", \"blue\", \"blue\", \"blue\", \"blue\", \"blue\", \"blue\", \"blue\", \"blue\", \"blue\", \"blue\", \"blue\", \"blue\", \"blue\", \"blue\", \"blue\", \"blue\", \"blue\", \"blue\", \"blue\", \"blue\", \"blue\", \"blue\", \"blue\", \"blue\", \"blue\", \"blue\", \"blue\", \"blue\", \"blue\", \"blue\", \"blue\", \"blue\", \"blue\", \"blue\", \"blue\", \"blue\", \"blue\", \"blue\", \"blue\", \"blue\", \"blue\", \"blue\", \"blue\", \"blue\", \"blue\", \"blue\", \"blue\", \"blue\", \"red\", \"blue\", \"blue\", \"blue\", \"red\", \"blue\", \"blue\", \"blue\", \"blue\", \"blue\", \"blue\", \"blue\", \"blue\", \"blue\", \"blue\", \"blue\", \"blue\", \"blue\", \"blue\", \"blue\", \"blue\", \"blue\", \"blue\", \"blue\", \"blue\", \"blue\", \"blue\", \"blue\", \"blue\", \"blue\", \"blue\", \"blue\", \"blue\", \"blue\", \"blue\", \"blue\", \"blue\", \"blue\", \"blue\", \"blue\", \"blue\", \"blue\", \"blue\", \"blue\", \"blue\", \"blue\", \"blue\", \"blue\", \"blue\", \"blue\", \"blue\", \"blue\", \"blue\", \"blue\", \"blue\", \"blue\", \"blue\", \"blue\", \"blue\", \"red\", \"blue\", \"blue\", \"blue\", \"blue\", \"blue\", \"blue\", \"blue\", \"blue\", \"blue\", \"blue\", \"blue\", \"blue\", \"blue\", \"blue\", \"blue\", \"blue\", \"blue\", \"blue\", \"blue\", \"blue\", \"blue\", \"blue\", \"blue\"], \"colorscale\": [[0.0, \"#440154\"], [0.1111111111111111, \"#482878\"], [0.2222222222222222, \"#3e4989\"], [0.3333333333333333, \"#31688e\"], [0.4444444444444444, \"#26828e\"], [0.5555555555555556, \"#1f9e89\"], [0.6666666666666666, \"#35b779\"], [0.7777777777777778, \"#6ece58\"], [0.8888888888888888, \"#b5de2b\"], [1.0, \"#fde725\"]]}, \"mode\": \"markers\", \"text\": [\"EID-1000\", \"EID-1009\", \"EID-1091\", \"EID-1095\", \"EID-1117\", \"EID-1138\", \"EID-1147\", \"EID-1215\", \"EID-1263\", \"EID-1264\", \"EID-1270\", \"EID-1277\", \"EID-1296\", \"EID-1304\", \"EID-1352\", \"EID-1364\", \"EID-1397\", \"EID-1427\", \"EID-1437\", \"EID-1440\", \"EID-1457\", \"EID-146\", \"EID-1462\", \"EID-148\", \"EID-1494\", \"EID-1516\", \"EID-1523\", \"EID-1556\", \"EID-1568\", \"EID-1596\", \"EID-1629\", \"EID-1663\", \"EID-1676\", \"EID-1688\", \"EID-1691\", \"EID-1718\", \"EID-1772\", \"EID-1778\", \"EID-1797\", \"EID-1835\", \"EID-1848\", \"EID-1867\", \"EID-1890\", \"EID-1891\", \"EID-1914\", \"EID-1924\", \"EID-1977\", \"EID-1997\", \"EID-2003\", \"EID-2004\", \"EID-2008\", \"EID-2014\", \"EID-2048\", \"EID-2051\", \"EID-2052\", \"EID-2063\", \"EID-2068\", \"EID-2071\", \"EID-2073\", \"EID-2119\", \"EID-2121\", \"EID-2153\", \"EID-2159\", \"EID-2165\", \"EID-2174\", \"EID-2196\", \"EID-2197\", \"EID-2207\", \"EID-222\", \"EID-2263\", \"EID-2279\", \"EID-233\", \"EID-234\", \"EID-235\", \"EID-236\", \"EID-243\", \"EID-248\", \"EID-2559\", \"EID-267\", \"EID-270\", \"EID-272\", \"EID-275\", \"EID-279\", \"EID-280\", \"EID-288\", \"EID-289\", \"EID-290\", \"EID-307\", \"EID-308\", \"EID-309\", \"EID-318\", \"EID-320\", \"EID-321\", \"EID-323\", \"EID-326\", \"EID-335\", \"EID-342\", \"EID-353\", \"EID-363\", \"EID-372\", \"EID-390\", \"EID-395\", \"EID-400\", \"EID-405\", \"EID-409\", \"EID-422\", \"EID-432\", \"EID-4330\", \"EID-434\", \"EID-4501\", \"EID-4521\", \"EID-458\", \"EID-462\", \"EID-475\", \"EID-482\", \"EID-485\", \"EID-486\", \"EID-489\", \"EID-494\", \"EID-498\", \"EID-509\", \"EID-514\", \"EID-516\", \"EID-517\", \"EID-519\", \"EID-520\", \"EID-521\", \"EID-522\", \"EID-523\", \"EID-527\", \"EID-532\", \"EID-534\", \"EID-536\", \"EID-537\", \"EID-540\", \"EID-548\", \"EID-549\", \"EID-550\", \"EID-555\", \"EID-557\", \"EID-558\", \"EID-559\", \"EID-561\", \"EID-563\", \"EID-568\", \"EID-571\", \"EID-578\", \"EID-592\", \"EID-620\", \"EID-621\", \"EID-622\", \"EID-623\", \"EID-6291\", \"EID-6292\", \"EID-6296\", \"EID-6298\", \"EID-6299\", \"EID-6304\", \"EID-6310\", \"EID-6331\", \"EID-6341\", \"EID-6346\", \"EID-6363\", \"EID-6369\", \"EID-6385\", \"EID-6392\", \"EID-6393\", \"EID-6400\", \"EID-6403\", \"EID-6423\", \"EID-6426\", \"EID-6431\", \"EID-6432\", \"EID-6437\", \"EID-6449\", \"EID-6453\", \"EID-6455\", \"EID-6464\", \"EID-6484\", \"EID-6485\", \"EID-6495\", \"EID-6499\", \"EID-6508\", \"EID-6517\", \"EID-6527\", \"EID-6532\", \"EID-6539\", \"EID-6542\", \"EID-6545\", \"EID-6558\", \"EID-6578\", \"EID-6586\", \"EID-6603\", \"EID-6618\", \"EID-6619\", \"EID-676\", \"EID-6884\", \"EID-694\", \"EID-70\", \"EID-707\", \"EID-750\", \"EID-753\", \"EID-775\", \"EID-78\", \"EID-79\", \"EID-793\", \"EID-794\", \"EID-80\", \"EID-805\", \"EID-817\", \"EID-820\", \"EID-833\", \"EID-862\", \"EID-865000540\", \"EID-865000753\", \"EID-865000790\", \"EID-865000966\", \"EID-865001062\", \"EID-865001162\", \"EID-865001197\", \"EID-865001268\", \"EID-865001442\", \"EID-865002050\", \"EID-865002101\", \"EID-865002369\", \"EID-865002569\", \"EID-865002585\", \"EID-865002675\", \"EID-865002688\", \"EID-865002970\", \"EID-865003423\", \"EID-865003448\", \"EID-865003619\", \"EID-865003672\", \"EID-865003770\", \"EID-865003787\", \"EID-865003934\", \"EID-865003961\", \"EID-865003982\", \"EID-865003983\", \"EID-865004125\", \"EID-865004280\", \"EID-865004323\", \"EID-865004516\", \"EID-865004798\", \"EID-865004939\", \"EID-865004957\", \"EID-865004984\", \"EID-865004988\", \"EID-865004995\", \"EID-865004996\", \"EID-870\", \"EID-874\", \"EID-894\", \"EID-897\", \"EID-901\", \"EID-902\", \"EID-911\", \"EID-914\", \"EID-92\", \"EID-921\", \"EID-927\", \"EID-929\", \"EID-937\", \"EID-938\", \"EID-944\", \"EID-983\", \"EID-987\"], \"type\": \"scatter\", \"x\": [0.2926802107333376, 0.501039512730767, -2.892230134521756, 1.0576157717515227, -3.556337257725958, 0.9841503291278363, 1.1775474865564122, -2.826740179092615, 2.171917501125567, 2.2762466706962847, 6.074632234222473, 0.7942683079309498, 0.9212255867875137, 0.5376866752772004, -4.26837955568724, 2.9219309512864657, 0.5206274907806705, 1.8299931232438635, -1.10065116577463, -1.6689218762410927, 0.6142321605037021, 0.5740638345117014, 2.2004463622072086, -1.3826622475138635, 0.4524431825196926, -3.944232171431804, 0.3912342373822334, -1.0738561499187793, 0.3093311914545125, 0.45197426883618436, -1.4459153107772316, -2.852997566753046, 1.7187958342628198, 1.8356034124329155, 0.2968277933289529, 0.5871974048866005, -0.6157126397350643, 1.589321271640809, 0.6675576216024846, 1.9493288028745395, 0.2313762311282677, 1.1927643752961163, 0.6148389066915169, 2.5868457545759678, 1.1259407996290067, 2.19674502373544, -0.945728057057721, 0.761853388684114, -0.8435940752181804, 0.6410222083096385, -4.607484768490859, -1.7127949651212853, 2.278230846767301, -1.636414514921984, -5.825191065746596, 0.27558973457833835, -0.9983243442853095, -2.8179053871050397, -3.772624640895861, 0.6128608216250699, 0.9978910208385823, 1.1630774153093202, 0.4526180048790995, 0.46529628729978056, -1.5734864774013029, -5.454924642086963, -5.001830276504807, -1.0529633305789639, 0.5166309100035015, 0.6993463746952304, -1.7052566331524268, -1.8584309221944424, 1.636940713962129, 1.429647724314307, 1.655512796737619, 0.5433695295626767, 1.3342005402343737, 0.03184768223301246, -0.6091045549277825, 1.1782548720756285, 0.4069287240955423, 1.6620044729643693, 2.0552552463912694, -0.10072471508846277, 0.5137948137974017, 0.981236122680211, 0.5241616820315458, -0.8651052529760926, 1.7919708237055305, 0.3599536208343089, 0.7828353002813727, 0.8153400705408116, 0.8694607308791829, 0.7121044938951634, 1.5015047438115994, -4.0964690236587895, 0.7947632653594405, 2.1001463969343117, 1.0397170913943596, 1.8679645742015623, -1.4672895458745565, 2.1870595715208445, -1.3153678930047967, -1.644325013416234, 0.9507209897380924, 1.2435874037500723, 0.4387553823026033, 1.9910218590326327, 1.3143914066397848, 1.1082880021161117, 0.4206514499026655, 1.5772250995397763, -1.8106821771308677, -1.5444971014519522, 0.551328274703334, 1.757229252629257, 0.831703069606105, 1.5453079361743562, 0.6677986745611474, 1.6073138629252437, 1.0918517637834162, 0.570415435643539, 0.4867149056412928, 0.6649858272001072, 0.676629217962301, 1.495926656715142, 0.584438441243152, 0.16707824612189012, 0.7460742460483999, 1.2469532853569922, -0.2047444607561189, 0.7316974402973716, 1.2316520916007958, 0.8068797545554663, 1.5358954111443734, 0.5374476546817477, 1.7235100835726136, 1.0459863335818702, 1.5624202957948576, 0.43096257430024776, 1.5682086919692646, 0.8036197388670696, 0.7068497891449896, 1.248032276179828, 0.8636973416781951, 0.41087655653580246, 0.8870668712555592, 0.200635427280754, -3.255881526528405, 1.5110594144460208, -2.272279010649619, -0.3913161802677948, -0.10631121233975115, -0.04405202829124801, 0.42256351639206247, 0.5433327698041843, 1.0671094504187841, 0.6023328634080327, 2.015820927070858, 0.13445125353336965, 1.277759815018947, 1.8828659339701879, 0.43664093216041266, 1.332897041602571, 1.7659645610645216, 2.235390941927499, -1.497413272824079, -0.09181376188788432, 1.8373901033708815, 1.364241304052489, 0.47787831069579045, 0.9340965975233531, -1.9638831328070507, 1.285340056168416, 0.04402383301601047, 1.7663507387227864, 0.7049184791950182, 0.8312970481552114, 0.7675905656880825, 0.37056607816491954, -1.2093315680754906, 1.3598424436986318, 1.5569429427927903, 1.2035383626014664, -1.6064475009710528, -1.6978394674569142, -0.17644235510281037, -1.848512876763121, -2.130636563893346, -3.1332794725064486, -2.0540553622816176, -0.3423467742939059, -2.1631507941643733, 0.9100217770897594, 0.5039211232753436, 2.5799124969076015, -0.6885883895939728, 1.2854379601311703, 0.4605514133553873, 0.9630028070009602, 0.772437813327501, 1.3678782497329183, 0.24310790611128116, 2.95391097487216, -0.334648786139841, 0.2969086241311321, 0.16717988301788383, 0.5753795901727868, 1.6073455801060526, -0.3085381458667645, 0.35530882536780856, -0.745882634898463, 0.6137128627985988, -2.3418116536428757, -1.558226042557553, 0.15770945608710932, -2.5047519611168263, -2.6087405644725608, -0.8069067755119033, -1.3950035075169835, -0.7120096343381805, -1.8473033718665197, -1.4961319360866374, -2.4559280333283926, -2.826379941296961, -1.7363592262365606, -2.5887024011847513, -3.5677519305792575, -0.8355666151459038, 0.028737752330262406, 0.5528450670105018, -1.7298406409349447, -1.454475954171096, -0.32489689124585347, 0.8038154511090672, -2.625748386998345, -0.8725625761839365, 0.12850399848209787, -2.3643514560929773, -0.8217768387056028, -1.0468370344338425, -1.7636212506081506, -2.8796469923214856, 1.3204582743124536, -3.6633056721393316, -3.14482155452287, -1.2643562648957916, -2.1246632228576052, -2.0741974819780356, -1.4298916985884165, -3.6397790210967567, 0.9742423851058643, -1.1022199804168993, 2.1337279737201373, 1.0860007190030239, 1.165199644409914, 1.0020377336767048, 0.9138689035849739, 0.44647409637328606, -0.6537770100642899, 0.7866544619987725, -1.0598162393096817, 1.5291441988289893, -5.27969948289156, -1.948335440073433, 0.45858558290468326, 0.8288239397753547, 0.6810398255040716], \"y\": [-0.31299888491215544, -0.7413701318181554, -0.988755310535247, 0.2670292351653309, -5.473496127651643, -0.8031552351681412, 0.32342883347572815, -2.463400803891062, 0.7203065286521012, 0.796528751414581, 1.6235377276278606, -0.4952356933591413, -0.21319377853260882, -1.1297402091916748, -0.4107787500044408, 1.0650442408347047, -1.058474359483334, 0.645885208578617, -2.2324601397053225, -2.444701308649122, -0.9787553378288972, -0.9372704992344107, 0.7727652865019923, -1.70154804087608, -1.0148038059419149, -3.478188600992452, -0.9911825272705989, -1.3692434677197876, -0.7811701514373371, -1.0252882227421478, -2.8526500632630176, -0.6952829856989704, 0.44162621374995853, 0.5323609752877133, -1.1600278940436004, -0.6644164176722753, -0.09702127816415547, 0.4274545272345443, -0.5418170857650806, 0.7018063482782331, -1.2691395570324062, -0.1039774989628163, -1.0782555260004973, -0.32782231441747395, -0.3180398473495341, 0.2602139354602994, -1.4814702612290476, -0.8579208566135916, -1.8804337097595625, -0.10034330713069349, 3.6254602210951266, -0.2917023257299142, 0.727110849088856, -2.696733694825664, -0.05131642834016039, -0.9435491750672688, -0.48986135744369574, -2.079500507322264, 1.465343818873605, -0.9307329710477547, -0.5981396763042256, 0.3600184102511881, 0.633631670363101, -1.0469535958559244, -0.9545904123775264, 3.5603466351096302, 0.8621827871544845, -1.1909000892350587, -1.176804796741698, -1.0325756886732484, -1.9049721144522915, -0.989556516717412, 0.7570759549757515, 0.8480637598852454, 0.4022123811268318, -1.1782651137885654, 0.5112609740768402, 1.468744114291958, -0.357565748663528, -0.15662789592023255, -1.2128491425885386, 0.6080576533056958, 0.6160570879471032, -1.1390435310079234, -1.1628006135829256, -0.4791370022972658, -1.212181227307147, -1.8564126145841142, 0.8160119734483735, 0.9414835723500399, -0.5318994759119602, -0.23892089881448084, -0.6639018137217584, 0.18287106801952707, 0.48483332879555824, -1.3090293335413088, -0.6757040874554112, -0.4232802322025094, -0.29577816136672846, 0.5844373412953852, -3.5781851654688546, 1.2407760579300624, -0.5520452563268954, -0.9927080914592185, 0.3388244007237707, -0.24876214071412278, -1.2611579613041968, 0.6333647214473237, 0.4186653348386584, -0.2030386223092031, -1.0252250459465768, 0.249159727840472, -2.6119454917211558, -0.5258964091702124, -0.952854548878405, 0.3712733601107631, -0.7474978087762122, 0.6390464200325734, -0.9572649265639434, 0.7372718380739152, 0.5593776067908325, -0.9951178879701849, -0.7052793615100199, -0.9103437855917742, -0.4659719172125205, 0.4707544052094719, -0.9609463686936796, -0.8725857596971036, -0.9978686308136242, -0.15872716925388894, -0.7093193251967204, -0.7744312486280193, 0.2534823821987245, -0.17086023868266942, 0.2014886576832486, -0.986577472382371, 0.3392456832026881, 0.8571662379928988, 0.36090597913219885, -1.0941915467956902, 0.009692746178171348, -0.9467444359458064, -0.9097209903696726, -0.35033389068027593, -0.27272475348618064, -1.0124581718491175, 0.006131057259123358, -0.5802470600730968, -1.5096369790475581, 0.4283641923908591, -1.0493765779221167, 0.14980832385039763, -0.7549245737530029, -1.1189457804052714, -1.3119896074641468, -0.817550965886226, 0.1137723795800614, -0.695992427574094, 0.7895236845127592, -1.1162824415779509, 1.3730158371668677, 0.7895328899886305, -1.1782088528438566, 0.33558147887712725, 0.5883074117788692, 0.78597842830685, -0.8471066304141999, -0.8584843409544383, 0.5315903344748152, 0.46820519078037803, -0.2600750442176603, -0.3887066592800385, -2.3631913871290395, 0.4023546561499933, -0.8490794855695603, 0.908509982305949, -0.2559331068332679, 0.2922969855713314, -0.6147275026698684, -1.1728693284863994, -1.0632177112889785, 0.9050705073184049, 1.0657820091659047, 1.4612205743931685, 0.8909830369595935, 9.668186517487431, 3.3516337976052046, 0.7095010643519502, 0.4332495820001498, 12.61433241801409, 2.2528266246282005, 2.084758994364433, 0.5130954999639562, 1.2704260151662996, 1.1066057705986712, 1.338818829511293, 3.2079036354468426, -0.29188330544301855, -1.187482519293643, -0.664903542140868, -0.9016221446522329, 0.5928605072210448, -1.3219354434006791, 1.1496454021005085, -1.194095759351469, -1.170282786959182, -0.17112214850248947, -1.0166876875672708, 0.25079738000738916, -0.6481567388113865, -0.4688201723656061, -2.0577211501285015, -0.9390301770492931, 1.3470854153412706, 1.3735826991202018, 2.4308791919854738, 0.980507683493065, 0.9891644952301264, 2.6740384990842947, 1.1907831774810629, 1.889174779411854, 1.4931621396993673, 1.3803538632261996, 1.362925607156328, 0.7232607330856993, 1.005324180987571, 0.3451712449429019, 0.5331179335562952, 0.9871084806957331, 1.5937210598431093, 2.0815304958110987, 0.9091296588910249, 0.5501663215116483, 1.9276113418305123, 2.5694324995566125, 0.5215746259431451, 1.9321422909473769, 2.843494669216186, 0.5821761033857857, 1.2320205548218768, 1.0560714051635358, 1.408108950535679, 0.3807218987636318, 1.0936972727093806, 1.1997334143757326, -0.005888971722903428, 1.720954950044562, 0.8496357709772344, 0.4738892258685297, 1.1481841620171687, -0.5498045141483551, -0.2681001052817585, -0.3328303250677676, 0.7378112809719621, -0.6909551200944845, -0.14692116354154555, -0.7911952734907849, 0.25060012066403825, -0.36314984046657617, 0.7272207375883641, -0.3332058908101434, -0.03665813194759517, 0.20077595006088028, -0.8826304962178639, -0.07126634547396407, -1.1450015286548219, -0.7023212065517682, 0.6157167504651596]}],\n",
       "                        {\"template\": {\"data\": {\"bar\": [{\"error_x\": {\"color\": \"#2a3f5f\"}, \"error_y\": {\"color\": \"#2a3f5f\"}, \"marker\": {\"line\": {\"color\": \"#E5ECF6\", \"width\": 0.5}}, \"type\": \"bar\"}], \"barpolar\": [{\"marker\": {\"line\": {\"color\": \"#E5ECF6\", \"width\": 0.5}}, \"type\": \"barpolar\"}], \"carpet\": [{\"aaxis\": {\"endlinecolor\": \"#2a3f5f\", \"gridcolor\": \"white\", \"linecolor\": \"white\", \"minorgridcolor\": \"white\", \"startlinecolor\": \"#2a3f5f\"}, \"baxis\": {\"endlinecolor\": \"#2a3f5f\", \"gridcolor\": \"white\", \"linecolor\": \"white\", \"minorgridcolor\": \"white\", \"startlinecolor\": \"#2a3f5f\"}, \"type\": \"carpet\"}], \"choropleth\": [{\"colorbar\": {\"outlinewidth\": 0, \"ticks\": \"\"}, \"type\": \"choropleth\"}], \"contour\": [{\"colorbar\": {\"outlinewidth\": 0, \"ticks\": \"\"}, \"colorscale\": [[0.0, \"#0d0887\"], [0.1111111111111111, \"#46039f\"], [0.2222222222222222, \"#7201a8\"], [0.3333333333333333, \"#9c179e\"], [0.4444444444444444, \"#bd3786\"], [0.5555555555555556, \"#d8576b\"], [0.6666666666666666, \"#ed7953\"], [0.7777777777777778, \"#fb9f3a\"], [0.8888888888888888, \"#fdca26\"], [1.0, \"#f0f921\"]], \"type\": \"contour\"}], \"contourcarpet\": [{\"colorbar\": {\"outlinewidth\": 0, \"ticks\": \"\"}, \"type\": \"contourcarpet\"}], \"heatmap\": [{\"colorbar\": {\"outlinewidth\": 0, \"ticks\": \"\"}, \"colorscale\": [[0.0, \"#0d0887\"], [0.1111111111111111, \"#46039f\"], [0.2222222222222222, \"#7201a8\"], [0.3333333333333333, \"#9c179e\"], [0.4444444444444444, \"#bd3786\"], [0.5555555555555556, \"#d8576b\"], [0.6666666666666666, \"#ed7953\"], [0.7777777777777778, \"#fb9f3a\"], [0.8888888888888888, \"#fdca26\"], [1.0, \"#f0f921\"]], \"type\": \"heatmap\"}], \"heatmapgl\": [{\"colorbar\": {\"outlinewidth\": 0, \"ticks\": \"\"}, \"colorscale\": [[0.0, \"#0d0887\"], [0.1111111111111111, \"#46039f\"], [0.2222222222222222, \"#7201a8\"], [0.3333333333333333, \"#9c179e\"], [0.4444444444444444, \"#bd3786\"], [0.5555555555555556, \"#d8576b\"], [0.6666666666666666, \"#ed7953\"], [0.7777777777777778, \"#fb9f3a\"], [0.8888888888888888, \"#fdca26\"], [1.0, \"#f0f921\"]], \"type\": \"heatmapgl\"}], \"histogram\": [{\"marker\": {\"colorbar\": {\"outlinewidth\": 0, \"ticks\": \"\"}}, \"type\": \"histogram\"}], \"histogram2d\": [{\"colorbar\": {\"outlinewidth\": 0, \"ticks\": \"\"}, \"colorscale\": [[0.0, \"#0d0887\"], [0.1111111111111111, \"#46039f\"], [0.2222222222222222, \"#7201a8\"], [0.3333333333333333, \"#9c179e\"], [0.4444444444444444, \"#bd3786\"], [0.5555555555555556, \"#d8576b\"], [0.6666666666666666, \"#ed7953\"], [0.7777777777777778, \"#fb9f3a\"], [0.8888888888888888, \"#fdca26\"], [1.0, \"#f0f921\"]], \"type\": \"histogram2d\"}], \"histogram2dcontour\": [{\"colorbar\": {\"outlinewidth\": 0, \"ticks\": \"\"}, \"colorscale\": [[0.0, \"#0d0887\"], [0.1111111111111111, \"#46039f\"], [0.2222222222222222, \"#7201a8\"], [0.3333333333333333, \"#9c179e\"], [0.4444444444444444, \"#bd3786\"], [0.5555555555555556, \"#d8576b\"], [0.6666666666666666, \"#ed7953\"], [0.7777777777777778, \"#fb9f3a\"], [0.8888888888888888, \"#fdca26\"], [1.0, \"#f0f921\"]], \"type\": \"histogram2dcontour\"}], \"mesh3d\": [{\"colorbar\": {\"outlinewidth\": 0, \"ticks\": \"\"}, \"type\": \"mesh3d\"}], \"parcoords\": [{\"line\": {\"colorbar\": {\"outlinewidth\": 0, \"ticks\": \"\"}}, \"type\": \"parcoords\"}], \"pie\": [{\"automargin\": true, \"type\": \"pie\"}], \"scatter\": [{\"marker\": {\"colorbar\": {\"outlinewidth\": 0, \"ticks\": \"\"}}, \"type\": \"scatter\"}], \"scatter3d\": [{\"line\": {\"colorbar\": {\"outlinewidth\": 0, \"ticks\": \"\"}}, \"marker\": {\"colorbar\": {\"outlinewidth\": 0, \"ticks\": \"\"}}, \"type\": \"scatter3d\"}], \"scattercarpet\": [{\"marker\": {\"colorbar\": {\"outlinewidth\": 0, \"ticks\": \"\"}}, \"type\": \"scattercarpet\"}], \"scattergeo\": [{\"marker\": {\"colorbar\": {\"outlinewidth\": 0, \"ticks\": \"\"}}, \"type\": \"scattergeo\"}], \"scattergl\": [{\"marker\": {\"colorbar\": {\"outlinewidth\": 0, \"ticks\": \"\"}}, \"type\": \"scattergl\"}], \"scattermapbox\": [{\"marker\": {\"colorbar\": {\"outlinewidth\": 0, \"ticks\": \"\"}}, \"type\": \"scattermapbox\"}], \"scatterpolar\": [{\"marker\": {\"colorbar\": {\"outlinewidth\": 0, \"ticks\": \"\"}}, \"type\": \"scatterpolar\"}], \"scatterpolargl\": [{\"marker\": {\"colorbar\": {\"outlinewidth\": 0, \"ticks\": \"\"}}, \"type\": \"scatterpolargl\"}], \"scatterternary\": [{\"marker\": {\"colorbar\": {\"outlinewidth\": 0, \"ticks\": \"\"}}, \"type\": \"scatterternary\"}], \"surface\": [{\"colorbar\": {\"outlinewidth\": 0, \"ticks\": \"\"}, \"colorscale\": [[0.0, \"#0d0887\"], [0.1111111111111111, \"#46039f\"], [0.2222222222222222, \"#7201a8\"], [0.3333333333333333, \"#9c179e\"], [0.4444444444444444, \"#bd3786\"], [0.5555555555555556, \"#d8576b\"], [0.6666666666666666, \"#ed7953\"], [0.7777777777777778, \"#fb9f3a\"], [0.8888888888888888, \"#fdca26\"], [1.0, \"#f0f921\"]], \"type\": \"surface\"}], \"table\": [{\"cells\": {\"fill\": {\"color\": \"#EBF0F8\"}, \"line\": {\"color\": \"white\"}}, \"header\": {\"fill\": {\"color\": \"#C8D4E3\"}, \"line\": {\"color\": \"white\"}}, \"type\": \"table\"}]}, \"layout\": {\"annotationdefaults\": {\"arrowcolor\": \"#2a3f5f\", \"arrowhead\": 0, \"arrowwidth\": 1}, \"coloraxis\": {\"colorbar\": {\"outlinewidth\": 0, \"ticks\": \"\"}}, \"colorscale\": {\"diverging\": [[0, \"#8e0152\"], [0.1, \"#c51b7d\"], [0.2, \"#de77ae\"], [0.3, \"#f1b6da\"], [0.4, \"#fde0ef\"], [0.5, \"#f7f7f7\"], [0.6, \"#e6f5d0\"], [0.7, \"#b8e186\"], [0.8, \"#7fbc41\"], [0.9, \"#4d9221\"], [1, \"#276419\"]], \"sequential\": [[0.0, \"#0d0887\"], [0.1111111111111111, \"#46039f\"], [0.2222222222222222, \"#7201a8\"], [0.3333333333333333, \"#9c179e\"], [0.4444444444444444, \"#bd3786\"], [0.5555555555555556, \"#d8576b\"], [0.6666666666666666, \"#ed7953\"], [0.7777777777777778, \"#fb9f3a\"], [0.8888888888888888, \"#fdca26\"], [1.0, \"#f0f921\"]], \"sequentialminus\": [[0.0, \"#0d0887\"], [0.1111111111111111, \"#46039f\"], [0.2222222222222222, \"#7201a8\"], [0.3333333333333333, \"#9c179e\"], [0.4444444444444444, \"#bd3786\"], [0.5555555555555556, \"#d8576b\"], [0.6666666666666666, \"#ed7953\"], [0.7777777777777778, \"#fb9f3a\"], [0.8888888888888888, \"#fdca26\"], [1.0, \"#f0f921\"]]}, \"colorway\": [\"#636efa\", \"#EF553B\", \"#00cc96\", \"#ab63fa\", \"#FFA15A\", \"#19d3f3\", \"#FF6692\", \"#B6E880\", \"#FF97FF\", \"#FECB52\"], \"font\": {\"color\": \"#2a3f5f\"}, \"geo\": {\"bgcolor\": \"white\", \"lakecolor\": \"white\", \"landcolor\": \"#E5ECF6\", \"showlakes\": true, \"showland\": true, \"subunitcolor\": \"white\"}, \"hoverlabel\": {\"align\": \"left\"}, \"hovermode\": \"closest\", \"mapbox\": {\"style\": \"light\"}, \"paper_bgcolor\": \"white\", \"plot_bgcolor\": \"#E5ECF6\", \"polar\": {\"angularaxis\": {\"gridcolor\": \"white\", \"linecolor\": \"white\", \"ticks\": \"\"}, \"bgcolor\": \"#E5ECF6\", \"radialaxis\": {\"gridcolor\": \"white\", \"linecolor\": \"white\", \"ticks\": \"\"}}, \"scene\": {\"xaxis\": {\"backgroundcolor\": \"#E5ECF6\", \"gridcolor\": \"white\", \"gridwidth\": 2, \"linecolor\": \"white\", \"showbackground\": true, \"ticks\": \"\", \"zerolinecolor\": \"white\"}, \"yaxis\": {\"backgroundcolor\": \"#E5ECF6\", \"gridcolor\": \"white\", \"gridwidth\": 2, \"linecolor\": \"white\", \"showbackground\": true, \"ticks\": \"\", \"zerolinecolor\": \"white\"}, \"zaxis\": {\"backgroundcolor\": \"#E5ECF6\", \"gridcolor\": \"white\", \"gridwidth\": 2, \"linecolor\": \"white\", \"showbackground\": true, \"ticks\": \"\", \"zerolinecolor\": \"white\"}}, \"shapedefaults\": {\"line\": {\"color\": \"#2a3f5f\"}}, \"ternary\": {\"aaxis\": {\"gridcolor\": \"white\", \"linecolor\": \"white\", \"ticks\": \"\"}, \"baxis\": {\"gridcolor\": \"white\", \"linecolor\": \"white\", \"ticks\": \"\"}, \"bgcolor\": \"#E5ECF6\", \"caxis\": {\"gridcolor\": \"white\", \"linecolor\": \"white\", \"ticks\": \"\"}}, \"title\": {\"x\": 0.05}, \"xaxis\": {\"automargin\": true, \"gridcolor\": \"white\", \"linecolor\": \"white\", \"ticks\": \"\", \"title\": {\"standoff\": 15}, \"zerolinecolor\": \"white\", \"zerolinewidth\": 2}, \"yaxis\": {\"automargin\": true, \"gridcolor\": \"white\", \"linecolor\": \"white\", \"ticks\": \"\", \"title\": {\"standoff\": 15}, \"zerolinecolor\": \"white\", \"zerolinewidth\": 2}}}, \"title\": {\"text\": \"PCA\"}},\n",
       "                        {\"responsive\": true}\n",
       "                    ).then(function(){\n",
       "                            \n",
       "var gd = document.getElementById('7a4af5c1-1c91-4887-a2ac-6ca609dc37fe');\n",
       "var x = new MutationObserver(function (mutations, observer) {{\n",
       "        var display = window.getComputedStyle(gd).display;\n",
       "        if (!display || display === 'none') {{\n",
       "            console.log([gd, 'removed!']);\n",
       "            Plotly.purge(gd);\n",
       "            observer.disconnect();\n",
       "        }}\n",
       "}});\n",
       "\n",
       "// Listen for the removal of the full notebook cells\n",
       "var notebookContainer = gd.closest('#notebook-container');\n",
       "if (notebookContainer) {{\n",
       "    x.observe(notebookContainer, {childList: true});\n",
       "}}\n",
       "\n",
       "// Listen for the clearing of the current output cell\n",
       "var outputEl = gd.closest('.output');\n",
       "if (outputEl) {{\n",
       "    x.observe(outputEl, {childList: true});\n",
       "}}\n",
       "\n",
       "                        })\n",
       "                };\n",
       "                });\n",
       "            </script>\n",
       "        </div>"
      ]
     },
     "metadata": {},
     "output_type": "display_data"
    }
   ],
   "source": [
    "viz.show_pca(df, outliers_indices_ae, names)"
   ]
  },
  {
   "cell_type": "code",
   "execution_count": null,
   "metadata": {},
   "outputs": [],
   "source": []
  },
  {
   "cell_type": "code",
   "execution_count": 22,
   "metadata": {},
   "outputs": [
    {
     "data": {
      "image/png": "[encoded data removed]"
     },
     "metadata": {},
     "output_type": "display_data"
    }
   ],
   "source": [
    "viz.show_tsne(df, outliers_indices_ae, names)\n"
   ]
  },
  {
   "cell_type": "markdown",
   "metadata": {},
   "source": [
    "<h3>3.Evaluation of results and conclusions </h3>\n",
    "\n",
    "<ul>\n",
    "       <li>Validation of obtained results can be done be using intrinsic measures, such as local density around a suspicious point </li>\n",
    "       <li>Ensembling different methods might help improve efficiency and increase the certanity about made predictions </li>\n",
    "       <li>Expert knowledge might be needed to check manually the outliers </li>\n",
    "    <li>Plotting data of reduced dimensionality does not neccessairly provide valuable insight into the data. The dimensions indicating on anomaly might be \"dropped\" by dimensionality reduction techniques</li>\n",
    "</ul>\n"
   ]
  },
  {
   "cell_type": "code",
   "execution_count": 23,
   "metadata": {},
   "outputs": [
    {
     "name": "stdout",
     "output_type": "stream",
     "text": [
      "Elements classified by both methods as outliers:\n",
      "{'EID-6558', 'EID-6532', 'EID-865004798'}\n"
     ]
    }
   ],
   "source": [
    "print(\"Elements classified by both methods as outliers:\")\n",
    "print(set(names[outliers_indices_ae].values).intersection(names[outliers_indices].values))\n"
   ]
  },
  {
   "cell_type": "markdown",
   "metadata": {},
   "source": [
    "<h2>Sources</h2>\n",
    "[1] Paweł Cichosz. „Anomaly detection in discussion forum posts using glo-bal vectors”. W:Photonics Applications in Astronomy, Communications,Industry, and High-Energy Physics Experiments 2018. T. 10808. Interna-tional Society for Optics i Photonics. 2018, 108081R.\n",
    "\n",
    "[2] Varun Chandola, Arindam Banerjee i Vipin Kumar. „Anomaly Detection:A Survey”. W:ACM Comput. Surv.41.3 (lip. 2009).issn: 0360-0300.doi:10.1145/1541880.1541882.url:https://doi.org/10.1145/1541880.1541882."
   ]
  },
  {
   "cell_type": "code",
   "execution_count": null,
   "metadata": {},
   "outputs": [],
   "source": []
  },
  {
   "cell_type": "code",
   "execution_count": null,
   "metadata": {},
   "outputs": [],
   "source": []
  }
 ],
 "metadata": {
  "kernelspec": {
   "display_name": "Python 3",
   "language": "python",
   "name": "python3"
  },
  "language_info": {
   "codemirror_mode": {
    "name": "ipython",
    "version": 3
   },
   "file_extension": ".py",
   "mimetype": "text/x-python",
   "name": "python",
   "nbconvert_exporter": "python",
   "pygments_lexer": "ipython3",
   "version": "3.6.9"
  }
 },
 "nbformat": 4,
 "nbformat_minor": 2
}

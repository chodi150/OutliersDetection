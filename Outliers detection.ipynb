{
 "cells": [
  {
   "cell_type": "code",
   "execution_count": 36,
   "metadata": {},
   "outputs": [
    {
     "name": "stdout",
     "output_type": "stream",
     "text": [
      "The autoreload extension is already loaded. To reload it, use:\n",
      "  %reload_ext autoreload\n"
     ]
    }
   ],
   "source": [
    "\n",
    "\n",
    "import matplotlib.pyplot as plt\n",
    "from sklearn.preprocessing import MinMaxScaler\n",
    "from sklearn.metrics import silhouette_samples, silhouette_score\n",
    "import numpy as np\n",
    "import seaborn as sns\n",
    "import pandas as pd\n",
    "from sklearn.cluster import KMeans\n",
    "from sklearn_extra.cluster import KMedoids\n",
    "from torch.nn import Module, Linear, MSELoss\n",
    "from torch.optim import Adam\n",
    "import torch\n",
    "from sklearn.svm import OneClassSVM\n",
    "\n",
    "from sklearn.neighbors import LocalOutlierFactor\n",
    "from torch.utils.data import DataLoader\n",
    "import visualizing_utils as viz\n",
    "%matplotlib notebook\n",
    "%load_ext autoreload\n",
    "%autoreload 2"
   ]
  },
  {
   "cell_type": "code",
   "execution_count": 20,
   "metadata": {},
   "outputs": [],
   "source": [
    "data = pd.read_csv('OD_dataset.csv')  \n",
    "data_sliced = data.loc[:, list(data)[1:]]\n",
    "names = data.loc[:,list(data)[1]]\n",
    "df = (data_sliced - data_sliced.mean())/data_sliced.std() #data normalization"
   ]
  },
  {
   "cell_type": "code",
   "execution_count": null,
   "metadata": {},
   "outputs": [],
   "source": []
  },
  {
   "cell_type": "markdown",
   "metadata": {},
   "source": [
    "<h2>1. Exploratory data analysis</h2>\n",
    "<ol>\n",
    "    <li>Basic information about the data</li>\n",
    "    <li>Correlation of features</li>\n",
    "    <li>Histograms of features</li>\n",
    "</ol>\n",
    "\n",
    "\n",
    "Remarks:\n",
    "<ul>\n",
    "    <li>During the preprocessing highly correlated features will be dropped (covariance of normalized features > 0.8) - getting rid of redundant dimensions is particularly important for PAM clustering. High dimensionality increases the sparsity of data, so that the distances between \"normal\" data might be big, which may downgrade the quality of created model.</li>\n",
    "</ul>"
   ]
  },
  {
   "cell_type": "code",
   "execution_count": 59,
   "metadata": {},
   "outputs": [
    {
     "data": {
      "text/html": [
       "<div>\n",
       "<style scoped>\n",
       "    .dataframe tbody tr th:only-of-type {\n",
       "        vertical-align: middle;\n",
       "    }\n",
       "\n",
       "    .dataframe tbody tr th {\n",
       "        vertical-align: top;\n",
       "    }\n",
       "\n",
       "    .dataframe thead th {\n",
       "        text-align: right;\n",
       "    }\n",
       "</style>\n",
       "<table border=\"1\" class=\"dataframe\">\n",
       "  <thead>\n",
       "    <tr style=\"text-align: right;\">\n",
       "      <th></th>\n",
       "      <th>tx_cnt</th>\n",
       "      <th>amt_mean</th>\n",
       "      <th>amt_median</th>\n",
       "      <th>amt_skew</th>\n",
       "      <th>ref_count</th>\n",
       "      <th>acq_curr_differs</th>\n",
       "      <th>uniq_curr</th>\n",
       "      <th>loc_cur_ratio</th>\n",
       "      <th>dates_spread</th>\n",
       "      <th>holiday_ratio</th>\n",
       "      <th>weekend_ratio</th>\n",
       "      <th>uniq_pans_ratio</th>\n",
       "      <th>non_loc_pans_ratio</th>\n",
       "      <th>tx_online_ratio</th>\n",
       "      <th>vol_chg_q2</th>\n",
       "      <th>vol_chg_q3</th>\n",
       "      <th>vol_chg_q4</th>\n",
       "      <th>ref_pct</th>\n",
       "      <th>num_outlets</th>\n",
       "    </tr>\n",
       "  </thead>\n",
       "  <tbody>\n",
       "    <tr>\n",
       "      <th>count</th>\n",
       "      <td>2.680000e+02</td>\n",
       "      <td>268.000000</td>\n",
       "      <td>2.680000e+02</td>\n",
       "      <td>2.680000e+02</td>\n",
       "      <td>2.680000e+02</td>\n",
       "      <td>2.680000e+02</td>\n",
       "      <td>2.680000e+02</td>\n",
       "      <td>2.680000e+02</td>\n",
       "      <td>2.680000e+02</td>\n",
       "      <td>2.680000e+02</td>\n",
       "      <td>2.680000e+02</td>\n",
       "      <td>2.680000e+02</td>\n",
       "      <td>2.680000e+02</td>\n",
       "      <td>2.680000e+02</td>\n",
       "      <td>2.680000e+02</td>\n",
       "      <td>2.680000e+02</td>\n",
       "      <td>2.680000e+02</td>\n",
       "      <td>2.680000e+02</td>\n",
       "      <td>2.680000e+02</td>\n",
       "    </tr>\n",
       "    <tr>\n",
       "      <th>mean</th>\n",
       "      <td>2.651279e-17</td>\n",
       "      <td>0.000000</td>\n",
       "      <td>2.651279e-16</td>\n",
       "      <td>-5.269417e-16</td>\n",
       "      <td>-4.639738e-17</td>\n",
       "      <td>1.060512e-16</td>\n",
       "      <td>2.651279e-17</td>\n",
       "      <td>-5.899095e-16</td>\n",
       "      <td>5.302558e-17</td>\n",
       "      <td>-5.832814e-16</td>\n",
       "      <td>-1.299127e-15</td>\n",
       "      <td>5.169994e-16</td>\n",
       "      <td>1.126794e-16</td>\n",
       "      <td>-4.971148e-17</td>\n",
       "      <td>-6.628197e-18</td>\n",
       "      <td>1.325639e-17</td>\n",
       "      <td>-1.657049e-17</td>\n",
       "      <td>-1.325639e-17</td>\n",
       "      <td>6.628197e-18</td>\n",
       "    </tr>\n",
       "    <tr>\n",
       "      <th>std</th>\n",
       "      <td>1.000000e+00</td>\n",
       "      <td>1.000000</td>\n",
       "      <td>1.000000e+00</td>\n",
       "      <td>1.000000e+00</td>\n",
       "      <td>1.000000e+00</td>\n",
       "      <td>1.000000e+00</td>\n",
       "      <td>1.000000e+00</td>\n",
       "      <td>1.000000e+00</td>\n",
       "      <td>1.000000e+00</td>\n",
       "      <td>1.000000e+00</td>\n",
       "      <td>1.000000e+00</td>\n",
       "      <td>1.000000e+00</td>\n",
       "      <td>1.000000e+00</td>\n",
       "      <td>1.000000e+00</td>\n",
       "      <td>1.000000e+00</td>\n",
       "      <td>1.000000e+00</td>\n",
       "      <td>1.000000e+00</td>\n",
       "      <td>1.000000e+00</td>\n",
       "      <td>1.000000e+00</td>\n",
       "    </tr>\n",
       "    <tr>\n",
       "      <th>min</th>\n",
       "      <td>-1.649432e-01</td>\n",
       "      <td>-0.525964</td>\n",
       "      <td>-8.419566e-01</td>\n",
       "      <td>-5.583675e-01</td>\n",
       "      <td>-7.023587e-02</td>\n",
       "      <td>-4.631494e-01</td>\n",
       "      <td>-1.136587e-01</td>\n",
       "      <td>-1.138044e+01</td>\n",
       "      <td>-2.009516e+00</td>\n",
       "      <td>-9.506618e-01</td>\n",
       "      <td>-1.440444e+00</td>\n",
       "      <td>-2.041785e+00</td>\n",
       "      <td>-8.811285e-01</td>\n",
       "      <td>-1.515110e-01</td>\n",
       "      <td>-8.681408e-01</td>\n",
       "      <td>-6.238516e-02</td>\n",
       "      <td>-7.985609e-02</td>\n",
       "      <td>-7.680613e-02</td>\n",
       "      <td>-1.200669e-01</td>\n",
       "    </tr>\n",
       "    <tr>\n",
       "      <th>25%</th>\n",
       "      <td>-1.565660e-01</td>\n",
       "      <td>-0.308120</td>\n",
       "      <td>-4.277070e-01</td>\n",
       "      <td>-4.103529e-01</td>\n",
       "      <td>-7.023587e-02</td>\n",
       "      <td>-4.631494e-01</td>\n",
       "      <td>-1.136587e-01</td>\n",
       "      <td>9.529450e-02</td>\n",
       "      <td>-1.094640e+00</td>\n",
       "      <td>-9.506618e-01</td>\n",
       "      <td>-9.636195e-01</td>\n",
       "      <td>-6.970992e-01</td>\n",
       "      <td>-5.411901e-01</td>\n",
       "      <td>-1.515110e-01</td>\n",
       "      <td>-8.730817e-02</td>\n",
       "      <td>-6.235224e-02</td>\n",
       "      <td>-7.080755e-02</td>\n",
       "      <td>-7.680613e-02</td>\n",
       "      <td>-1.200669e-01</td>\n",
       "    </tr>\n",
       "    <tr>\n",
       "      <th>50%</th>\n",
       "      <td>-1.318475e-01</td>\n",
       "      <td>-0.268511</td>\n",
       "      <td>-3.229240e-01</td>\n",
       "      <td>-3.066545e-01</td>\n",
       "      <td>-7.023587e-02</td>\n",
       "      <td>-4.631494e-01</td>\n",
       "      <td>-1.136587e-01</td>\n",
       "      <td>9.529450e-02</td>\n",
       "      <td>6.917441e-01</td>\n",
       "      <td>-1.137850e-01</td>\n",
       "      <td>2.470770e-01</td>\n",
       "      <td>-2.963368e-01</td>\n",
       "      <td>-2.426237e-01</td>\n",
       "      <td>-1.514669e-01</td>\n",
       "      <td>-7.728178e-02</td>\n",
       "      <td>-6.235067e-02</td>\n",
       "      <td>-7.014637e-02</td>\n",
       "      <td>-7.680613e-02</td>\n",
       "      <td>-1.200669e-01</td>\n",
       "    </tr>\n",
       "    <tr>\n",
       "      <th>75%</th>\n",
       "      <td>-9.595919e-02</td>\n",
       "      <td>-0.129768</td>\n",
       "      <td>-1.206815e-01</td>\n",
       "      <td>1.035700e-02</td>\n",
       "      <td>-7.023587e-02</td>\n",
       "      <td>-4.631494e-01</td>\n",
       "      <td>-1.136587e-01</td>\n",
       "      <td>9.529450e-02</td>\n",
       "      <td>7.000048e-01</td>\n",
       "      <td>5.596428e-01</td>\n",
       "      <td>6.931543e-01</td>\n",
       "      <td>7.419765e-01</td>\n",
       "      <td>1.029980e-01</td>\n",
       "      <td>-1.500625e-01</td>\n",
       "      <td>-2.889888e-02</td>\n",
       "      <td>-6.234741e-02</td>\n",
       "      <td>-6.484436e-02</td>\n",
       "      <td>-7.680613e-02</td>\n",
       "      <td>-1.095787e-01</td>\n",
       "    </tr>\n",
       "    <tr>\n",
       "      <th>max</th>\n",
       "      <td>1.249179e+01</td>\n",
       "      <td>9.109497</td>\n",
       "      <td>6.573976e+00</td>\n",
       "      <td>1.057759e+01</td>\n",
       "      <td>1.628109e+01</td>\n",
       "      <td>2.166176e+00</td>\n",
       "      <td>9.475769e+00</td>\n",
       "      <td>9.529450e-02</td>\n",
       "      <td>7.000048e-01</td>\n",
       "      <td>7.385958e+00</td>\n",
       "      <td>3.713345e+00</td>\n",
       "      <td>2.166009e+00</td>\n",
       "      <td>5.812817e+00</td>\n",
       "      <td>7.453045e+00</td>\n",
       "      <td>1.578518e+01</td>\n",
       "      <td>1.630824e+01</td>\n",
       "      <td>1.624024e+01</td>\n",
       "      <td>1.570552e+01</td>\n",
       "      <td>1.538505e+01</td>\n",
       "    </tr>\n",
       "  </tbody>\n",
       "</table>\n",
       "</div>"
      ],
      "text/plain": [
       "             tx_cnt    amt_mean    amt_median      amt_skew     ref_count  \\\n",
       "count  2.680000e+02  268.000000  2.680000e+02  2.680000e+02  2.680000e+02   \n",
       "mean   2.651279e-17    0.000000  2.651279e-16 -5.269417e-16 -4.639738e-17   \n",
       "std    1.000000e+00    1.000000  1.000000e+00  1.000000e+00  1.000000e+00   \n",
       "min   -1.649432e-01   -0.525964 -8.419566e-01 -5.583675e-01 -7.023587e-02   \n",
       "25%   -1.565660e-01   -0.308120 -4.277070e-01 -4.103529e-01 -7.023587e-02   \n",
       "50%   -1.318475e-01   -0.268511 -3.229240e-01 -3.066545e-01 -7.023587e-02   \n",
       "75%   -9.595919e-02   -0.129768 -1.206815e-01  1.035700e-02 -7.023587e-02   \n",
       "max    1.249179e+01    9.109497  6.573976e+00  1.057759e+01  1.628109e+01   \n",
       "\n",
       "       acq_curr_differs     uniq_curr  loc_cur_ratio  dates_spread  \\\n",
       "count      2.680000e+02  2.680000e+02   2.680000e+02  2.680000e+02   \n",
       "mean       1.060512e-16  2.651279e-17  -5.899095e-16  5.302558e-17   \n",
       "std        1.000000e+00  1.000000e+00   1.000000e+00  1.000000e+00   \n",
       "min       -4.631494e-01 -1.136587e-01  -1.138044e+01 -2.009516e+00   \n",
       "25%       -4.631494e-01 -1.136587e-01   9.529450e-02 -1.094640e+00   \n",
       "50%       -4.631494e-01 -1.136587e-01   9.529450e-02  6.917441e-01   \n",
       "75%       -4.631494e-01 -1.136587e-01   9.529450e-02  7.000048e-01   \n",
       "max        2.166176e+00  9.475769e+00   9.529450e-02  7.000048e-01   \n",
       "\n",
       "       holiday_ratio  weekend_ratio  uniq_pans_ratio  non_loc_pans_ratio  \\\n",
       "count   2.680000e+02   2.680000e+02     2.680000e+02        2.680000e+02   \n",
       "mean   -5.832814e-16  -1.299127e-15     5.169994e-16        1.126794e-16   \n",
       "std     1.000000e+00   1.000000e+00     1.000000e+00        1.000000e+00   \n",
       "min    -9.506618e-01  -1.440444e+00    -2.041785e+00       -8.811285e-01   \n",
       "25%    -9.506618e-01  -9.636195e-01    -6.970992e-01       -5.411901e-01   \n",
       "50%    -1.137850e-01   2.470770e-01    -2.963368e-01       -2.426237e-01   \n",
       "75%     5.596428e-01   6.931543e-01     7.419765e-01        1.029980e-01   \n",
       "max     7.385958e+00   3.713345e+00     2.166009e+00        5.812817e+00   \n",
       "\n",
       "       tx_online_ratio    vol_chg_q2    vol_chg_q3    vol_chg_q4  \\\n",
       "count     2.680000e+02  2.680000e+02  2.680000e+02  2.680000e+02   \n",
       "mean     -4.971148e-17 -6.628197e-18  1.325639e-17 -1.657049e-17   \n",
       "std       1.000000e+00  1.000000e+00  1.000000e+00  1.000000e+00   \n",
       "min      -1.515110e-01 -8.681408e-01 -6.238516e-02 -7.985609e-02   \n",
       "25%      -1.515110e-01 -8.730817e-02 -6.235224e-02 -7.080755e-02   \n",
       "50%      -1.514669e-01 -7.728178e-02 -6.235067e-02 -7.014637e-02   \n",
       "75%      -1.500625e-01 -2.889888e-02 -6.234741e-02 -6.484436e-02   \n",
       "max       7.453045e+00  1.578518e+01  1.630824e+01  1.624024e+01   \n",
       "\n",
       "            ref_pct   num_outlets  \n",
       "count  2.680000e+02  2.680000e+02  \n",
       "mean  -1.325639e-17  6.628197e-18  \n",
       "std    1.000000e+00  1.000000e+00  \n",
       "min   -7.680613e-02 -1.200669e-01  \n",
       "25%   -7.680613e-02 -1.200669e-01  \n",
       "50%   -7.680613e-02 -1.200669e-01  \n",
       "75%   -7.680613e-02 -1.095787e-01  \n",
       "max    1.570552e+01  1.538505e+01  "
      ]
     },
     "execution_count": 59,
     "metadata": {},
     "output_type": "execute_result"
    }
   ],
   "source": [
    "df.describe()"
   ]
  },
  {
   "cell_type": "code",
   "execution_count": 60,
   "metadata": {},
   "outputs": [
    {
     "data": {
      "application/javascript": [
       "/* Put everything inside the global mpl namespace */\n",
       "window.mpl = {};\n",
       "\n",
       "\n",
       "mpl.get_websocket_type = function() {\n",
       "    if (typeof(WebSocket) !== 'undefined') {\n",
       "        return WebSocket;\n",
       "    } else if (typeof(MozWebSocket) !== 'undefined') {\n",
       "        return MozWebSocket;\n",
       "    } else {\n",
       "        alert('Your browser does not have WebSocket support. ' +\n",
       "              'Please try Chrome, Safari or Firefox ≥ 6. ' +\n",
       "              'Firefox 4 and 5 are also supported but you ' +\n",
       "              'have to enable WebSockets in about:config.');\n",
       "    };\n",
       "}\n",
       "\n",
       "mpl.figure = function(figure_id, websocket, ondownload, parent_element) {\n",
       "    this.id = figure_id;\n",
       "\n",
       "    this.ws = websocket;\n",
       "\n",
       "    this.supports_binary = (this.ws.binaryType != undefined);\n",
       "\n",
       "    if (!this.supports_binary) {\n",
       "        var warnings = document.getElementById(\"mpl-warnings\");\n",
       "        if (warnings) {\n",
       "            warnings.style.display = 'block';\n",
       "            warnings.textContent = (\n",
       "                \"This browser does not support binary websocket messages. \" +\n",
       "                    \"Performance may be slow.\");\n",
       "        }\n",
       "    }\n",
       "\n",
       "    this.imageObj = new Image();\n",
       "\n",
       "    this.context = undefined;\n",
       "    this.message = undefined;\n",
       "    this.canvas = undefined;\n",
       "    this.rubberband_canvas = undefined;\n",
       "    this.rubberband_context = undefined;\n",
       "    this.format_dropdown = undefined;\n",
       "\n",
       "    this.image_mode = 'full';\n",
       "\n",
       "    this.root = $('<div/>');\n",
       "    this._root_extra_style(this.root)\n",
       "    this.root.attr('style', 'display: inline-block');\n",
       "\n",
       "    $(parent_element).append(this.root);\n",
       "\n",
       "    this._init_header(this);\n",
       "    this._init_canvas(this);\n",
       "    this._init_toolbar(this);\n",
       "\n",
       "    var fig = this;\n",
       "\n",
       "    this.waiting = false;\n",
       "\n",
       "    this.ws.onopen =  function () {\n",
       "            fig.send_message(\"supports_binary\", {value: fig.supports_binary});\n",
       "            fig.send_message(\"send_image_mode\", {});\n",
       "            if (mpl.ratio != 1) {\n",
       "                fig.send_message(\"set_dpi_ratio\", {'dpi_ratio': mpl.ratio});\n",
       "            }\n",
       "            fig.send_message(\"refresh\", {});\n",
       "        }\n",
       "\n",
       "    this.imageObj.onload = function() {\n",
       "            if (fig.image_mode == 'full') {\n",
       "                // Full images could contain transparency (where diff images\n",
       "                // almost always do), so we need to clear the canvas so that\n",
       "                // there is no ghosting.\n",
       "                fig.context.clearRect(0, 0, fig.canvas.width, fig.canvas.height);\n",
       "            }\n",
       "            fig.context.drawImage(fig.imageObj, 0, 0);\n",
       "        };\n",
       "\n",
       "    this.imageObj.onunload = function() {\n",
       "        fig.ws.close();\n",
       "    }\n",
       "\n",
       "    this.ws.onmessage = this._make_on_message_function(this);\n",
       "\n",
       "    this.ondownload = ondownload;\n",
       "}\n",
       "\n",
       "mpl.figure.prototype._init_header = function() {\n",
       "    var titlebar = $(\n",
       "        '<div class=\"ui-dialog-titlebar ui-widget-header ui-corner-all ' +\n",
       "        'ui-helper-clearfix\"/>');\n",
       "    var titletext = $(\n",
       "        '<div class=\"ui-dialog-title\" style=\"width: 100%; ' +\n",
       "        'text-align: center; padding: 3px;\"/>');\n",
       "    titlebar.append(titletext)\n",
       "    this.root.append(titlebar);\n",
       "    this.header = titletext[0];\n",
       "}\n",
       "\n",
       "\n",
       "\n",
       "mpl.figure.prototype._canvas_extra_style = function(canvas_div) {\n",
       "\n",
       "}\n",
       "\n",
       "\n",
       "mpl.figure.prototype._root_extra_style = function(canvas_div) {\n",
       "\n",
       "}\n",
       "\n",
       "mpl.figure.prototype._init_canvas = function() {\n",
       "    var fig = this;\n",
       "\n",
       "    var canvas_div = $('<div/>');\n",
       "\n",
       "    canvas_div.attr('style', 'position: relative; clear: both; outline: 0');\n",
       "\n",
       "    function canvas_keyboard_event(event) {\n",
       "        return fig.key_event(event, event['data']);\n",
       "    }\n",
       "\n",
       "    canvas_div.keydown('key_press', canvas_keyboard_event);\n",
       "    canvas_div.keyup('key_release', canvas_keyboard_event);\n",
       "    this.canvas_div = canvas_div\n",
       "    this._canvas_extra_style(canvas_div)\n",
       "    this.root.append(canvas_div);\n",
       "\n",
       "    var canvas = $('<canvas/>');\n",
       "    canvas.addClass('mpl-canvas');\n",
       "    canvas.attr('style', \"left: 0; top: 0; z-index: 0; outline: 0\")\n",
       "\n",
       "    this.canvas = canvas[0];\n",
       "    this.context = canvas[0].getContext(\"2d\");\n",
       "\n",
       "    var backingStore = this.context.backingStorePixelRatio ||\n",
       "\tthis.context.webkitBackingStorePixelRatio ||\n",
       "\tthis.context.mozBackingStorePixelRatio ||\n",
       "\tthis.context.msBackingStorePixelRatio ||\n",
       "\tthis.context.oBackingStorePixelRatio ||\n",
       "\tthis.context.backingStorePixelRatio || 1;\n",
       "\n",
       "    mpl.ratio = (window.devicePixelRatio || 1) / backingStore;\n",
       "\n",
       "    var rubberband = $('<canvas/>');\n",
       "    rubberband.attr('style', \"position: absolute; left: 0; top: 0; z-index: 1;\")\n",
       "\n",
       "    var pass_mouse_events = true;\n",
       "\n",
       "    canvas_div.resizable({\n",
       "        start: function(event, ui) {\n",
       "            pass_mouse_events = false;\n",
       "        },\n",
       "        resize: function(event, ui) {\n",
       "            fig.request_resize(ui.size.width, ui.size.height);\n",
       "        },\n",
       "        stop: function(event, ui) {\n",
       "            pass_mouse_events = true;\n",
       "            fig.request_resize(ui.size.width, ui.size.height);\n",
       "        },\n",
       "    });\n",
       "\n",
       "    function mouse_event_fn(event) {\n",
       "        if (pass_mouse_events)\n",
       "            return fig.mouse_event(event, event['data']);\n",
       "    }\n",
       "\n",
       "    rubberband.mousedown('button_press', mouse_event_fn);\n",
       "    rubberband.mouseup('button_release', mouse_event_fn);\n",
       "    // Throttle sequential mouse events to 1 every 20ms.\n",
       "    rubberband.mousemove('motion_notify', mouse_event_fn);\n",
       "\n",
       "    rubberband.mouseenter('figure_enter', mouse_event_fn);\n",
       "    rubberband.mouseleave('figure_leave', mouse_event_fn);\n",
       "\n",
       "    canvas_div.on(\"wheel\", function (event) {\n",
       "        event = event.originalEvent;\n",
       "        event['data'] = 'scroll'\n",
       "        if (event.deltaY < 0) {\n",
       "            event.step = 1;\n",
       "        } else {\n",
       "            event.step = -1;\n",
       "        }\n",
       "        mouse_event_fn(event);\n",
       "    });\n",
       "\n",
       "    canvas_div.append(canvas);\n",
       "    canvas_div.append(rubberband);\n",
       "\n",
       "    this.rubberband = rubberband;\n",
       "    this.rubberband_canvas = rubberband[0];\n",
       "    this.rubberband_context = rubberband[0].getContext(\"2d\");\n",
       "    this.rubberband_context.strokeStyle = \"#000000\";\n",
       "\n",
       "    this._resize_canvas = function(width, height) {\n",
       "        // Keep the size of the canvas, canvas container, and rubber band\n",
       "        // canvas in synch.\n",
       "        canvas_div.css('width', width)\n",
       "        canvas_div.css('height', height)\n",
       "\n",
       "        canvas.attr('width', width * mpl.ratio);\n",
       "        canvas.attr('height', height * mpl.ratio);\n",
       "        canvas.attr('style', 'width: ' + width + 'px; height: ' + height + 'px;');\n",
       "\n",
       "        rubberband.attr('width', width);\n",
       "        rubberband.attr('height', height);\n",
       "    }\n",
       "\n",
       "    // Set the figure to an initial 600x600px, this will subsequently be updated\n",
       "    // upon first draw.\n",
       "    this._resize_canvas(600, 600);\n",
       "\n",
       "    // Disable right mouse context menu.\n",
       "    $(this.rubberband_canvas).bind(\"contextmenu\",function(e){\n",
       "        return false;\n",
       "    });\n",
       "\n",
       "    function set_focus () {\n",
       "        canvas.focus();\n",
       "        canvas_div.focus();\n",
       "    }\n",
       "\n",
       "    window.setTimeout(set_focus, 100);\n",
       "}\n",
       "\n",
       "mpl.figure.prototype._init_toolbar = function() {\n",
       "    var fig = this;\n",
       "\n",
       "    var nav_element = $('<div/>');\n",
       "    nav_element.attr('style', 'width: 100%');\n",
       "    this.root.append(nav_element);\n",
       "\n",
       "    // Define a callback function for later on.\n",
       "    function toolbar_event(event) {\n",
       "        return fig.toolbar_button_onclick(event['data']);\n",
       "    }\n",
       "    function toolbar_mouse_event(event) {\n",
       "        return fig.toolbar_button_onmouseover(event['data']);\n",
       "    }\n",
       "\n",
       "    for(var toolbar_ind in mpl.toolbar_items) {\n",
       "        var name = mpl.toolbar_items[toolbar_ind][0];\n",
       "        var tooltip = mpl.toolbar_items[toolbar_ind][1];\n",
       "        var image = mpl.toolbar_items[toolbar_ind][2];\n",
       "        var method_name = mpl.toolbar_items[toolbar_ind][3];\n",
       "\n",
       "        if (!name) {\n",
       "            // put a spacer in here.\n",
       "            continue;\n",
       "        }\n",
       "        var button = $('<button/>');\n",
       "        button.addClass('ui-button ui-widget ui-state-default ui-corner-all ' +\n",
       "                        'ui-button-icon-only');\n",
       "        button.attr('role', 'button');\n",
       "        button.attr('aria-disabled', 'false');\n",
       "        button.click(method_name, toolbar_event);\n",
       "        button.mouseover(tooltip, toolbar_mouse_event);\n",
       "\n",
       "        var icon_img = $('<span/>');\n",
       "        icon_img.addClass('ui-button-icon-primary ui-icon');\n",
       "        icon_img.addClass(image);\n",
       "        icon_img.addClass('ui-corner-all');\n",
       "\n",
       "        var tooltip_span = $('<span/>');\n",
       "        tooltip_span.addClass('ui-button-text');\n",
       "        tooltip_span.html(tooltip);\n",
       "\n",
       "        button.append(icon_img);\n",
       "        button.append(tooltip_span);\n",
       "\n",
       "        nav_element.append(button);\n",
       "    }\n",
       "\n",
       "    var fmt_picker_span = $('<span/>');\n",
       "\n",
       "    var fmt_picker = $('<select/>');\n",
       "    fmt_picker.addClass('mpl-toolbar-option ui-widget ui-widget-content');\n",
       "    fmt_picker_span.append(fmt_picker);\n",
       "    nav_element.append(fmt_picker_span);\n",
       "    this.format_dropdown = fmt_picker[0];\n",
       "\n",
       "    for (var ind in mpl.extensions) {\n",
       "        var fmt = mpl.extensions[ind];\n",
       "        var option = $(\n",
       "            '<option/>', {selected: fmt === mpl.default_extension}).html(fmt);\n",
       "        fmt_picker.append(option);\n",
       "    }\n",
       "\n",
       "    // Add hover states to the ui-buttons\n",
       "    $( \".ui-button\" ).hover(\n",
       "        function() { $(this).addClass(\"ui-state-hover\");},\n",
       "        function() { $(this).removeClass(\"ui-state-hover\");}\n",
       "    );\n",
       "\n",
       "    var status_bar = $('<span class=\"mpl-message\"/>');\n",
       "    nav_element.append(status_bar);\n",
       "    this.message = status_bar[0];\n",
       "}\n",
       "\n",
       "mpl.figure.prototype.request_resize = function(x_pixels, y_pixels) {\n",
       "    // Request matplotlib to resize the figure. Matplotlib will then trigger a resize in the client,\n",
       "    // which will in turn request a refresh of the image.\n",
       "    this.send_message('resize', {'width': x_pixels, 'height': y_pixels});\n",
       "}\n",
       "\n",
       "mpl.figure.prototype.send_message = function(type, properties) {\n",
       "    properties['type'] = type;\n",
       "    properties['figure_id'] = this.id;\n",
       "    this.ws.send(JSON.stringify(properties));\n",
       "}\n",
       "\n",
       "mpl.figure.prototype.send_draw_message = function() {\n",
       "    if (!this.waiting) {\n",
       "        this.waiting = true;\n",
       "        this.ws.send(JSON.stringify({type: \"draw\", figure_id: this.id}));\n",
       "    }\n",
       "}\n",
       "\n",
       "\n",
       "mpl.figure.prototype.handle_save = function(fig, msg) {\n",
       "    var format_dropdown = fig.format_dropdown;\n",
       "    var format = format_dropdown.options[format_dropdown.selectedIndex].value;\n",
       "    fig.ondownload(fig, format);\n",
       "}\n",
       "\n",
       "\n",
       "mpl.figure.prototype.handle_resize = function(fig, msg) {\n",
       "    var size = msg['size'];\n",
       "    if (size[0] != fig.canvas.width || size[1] != fig.canvas.height) {\n",
       "        fig._resize_canvas(size[0], size[1]);\n",
       "        fig.send_message(\"refresh\", {});\n",
       "    };\n",
       "}\n",
       "\n",
       "mpl.figure.prototype.handle_rubberband = function(fig, msg) {\n",
       "    var x0 = msg['x0'] / mpl.ratio;\n",
       "    var y0 = (fig.canvas.height - msg['y0']) / mpl.ratio;\n",
       "    var x1 = msg['x1'] / mpl.ratio;\n",
       "    var y1 = (fig.canvas.height - msg['y1']) / mpl.ratio;\n",
       "    x0 = Math.floor(x0) + 0.5;\n",
       "    y0 = Math.floor(y0) + 0.5;\n",
       "    x1 = Math.floor(x1) + 0.5;\n",
       "    y1 = Math.floor(y1) + 0.5;\n",
       "    var min_x = Math.min(x0, x1);\n",
       "    var min_y = Math.min(y0, y1);\n",
       "    var width = Math.abs(x1 - x0);\n",
       "    var height = Math.abs(y1 - y0);\n",
       "\n",
       "    fig.rubberband_context.clearRect(\n",
       "        0, 0, fig.canvas.width / mpl.ratio, fig.canvas.height / mpl.ratio);\n",
       "\n",
       "    fig.rubberband_context.strokeRect(min_x, min_y, width, height);\n",
       "}\n",
       "\n",
       "mpl.figure.prototype.handle_figure_label = function(fig, msg) {\n",
       "    // Updates the figure title.\n",
       "    fig.header.textContent = msg['label'];\n",
       "}\n",
       "\n",
       "mpl.figure.prototype.handle_cursor = function(fig, msg) {\n",
       "    var cursor = msg['cursor'];\n",
       "    switch(cursor)\n",
       "    {\n",
       "    case 0:\n",
       "        cursor = 'pointer';\n",
       "        break;\n",
       "    case 1:\n",
       "        cursor = 'default';\n",
       "        break;\n",
       "    case 2:\n",
       "        cursor = 'crosshair';\n",
       "        break;\n",
       "    case 3:\n",
       "        cursor = 'move';\n",
       "        break;\n",
       "    }\n",
       "    fig.rubberband_canvas.style.cursor = cursor;\n",
       "}\n",
       "\n",
       "mpl.figure.prototype.handle_message = function(fig, msg) {\n",
       "    fig.message.textContent = msg['message'];\n",
       "}\n",
       "\n",
       "mpl.figure.prototype.handle_draw = function(fig, msg) {\n",
       "    // Request the server to send over a new figure.\n",
       "    fig.send_draw_message();\n",
       "}\n",
       "\n",
       "mpl.figure.prototype.handle_image_mode = function(fig, msg) {\n",
       "    fig.image_mode = msg['mode'];\n",
       "}\n",
       "\n",
       "mpl.figure.prototype.updated_canvas_event = function() {\n",
       "    // Called whenever the canvas gets updated.\n",
       "    this.send_message(\"ack\", {});\n",
       "}\n",
       "\n",
       "// A function to construct a web socket function for onmessage handling.\n",
       "// Called in the figure constructor.\n",
       "mpl.figure.prototype._make_on_message_function = function(fig) {\n",
       "    return function socket_on_message(evt) {\n",
       "        if (evt.data instanceof Blob) {\n",
       "            /* FIXME: We get \"Resource interpreted as Image but\n",
       "             * transferred with MIME type text/plain:\" errors on\n",
       "             * Chrome.  But how to set the MIME type?  It doesn't seem\n",
       "             * to be part of the websocket stream */\n",
       "            evt.data.type = \"image/png\";\n",
       "\n",
       "            /* Free the memory for the previous frames */\n",
       "            if (fig.imageObj.src) {\n",
       "                (window.URL || window.webkitURL).revokeObjectURL(\n",
       "                    fig.imageObj.src);\n",
       "            }\n",
       "\n",
       "            fig.imageObj.src = (window.URL || window.webkitURL).createObjectURL(\n",
       "                evt.data);\n",
       "            fig.updated_canvas_event();\n",
       "            fig.waiting = false;\n",
       "            return;\n",
       "        }\n",
       "        else if (typeof evt.data === 'string' && evt.data.slice(0, 21) == \"data:image/png;base64\") {\n",
       "            fig.imageObj.src = evt.data;\n",
       "            fig.updated_canvas_event();\n",
       "            fig.waiting = false;\n",
       "            return;\n",
       "        }\n",
       "\n",
       "        var msg = JSON.parse(evt.data);\n",
       "        var msg_type = msg['type'];\n",
       "\n",
       "        // Call the  \"handle_{type}\" callback, which takes\n",
       "        // the figure and JSON message as its only arguments.\n",
       "        try {\n",
       "            var callback = fig[\"handle_\" + msg_type];\n",
       "        } catch (e) {\n",
       "            console.log(\"No handler for the '\" + msg_type + \"' message type: \", msg);\n",
       "            return;\n",
       "        }\n",
       "\n",
       "        if (callback) {\n",
       "            try {\n",
       "                // console.log(\"Handling '\" + msg_type + \"' message: \", msg);\n",
       "                callback(fig, msg);\n",
       "            } catch (e) {\n",
       "                console.log(\"Exception inside the 'handler_\" + msg_type + \"' callback:\", e, e.stack, msg);\n",
       "            }\n",
       "        }\n",
       "    };\n",
       "}\n",
       "\n",
       "// from http://stackoverflow.com/questions/1114465/getting-mouse-location-in-canvas\n",
       "mpl.findpos = function(e) {\n",
       "    //this section is from http://www.quirksmode.org/js/events_properties.html\n",
       "    var targ;\n",
       "    if (!e)\n",
       "        e = window.event;\n",
       "    if (e.target)\n",
       "        targ = e.target;\n",
       "    else if (e.srcElement)\n",
       "        targ = e.srcElement;\n",
       "    if (targ.nodeType == 3) // defeat Safari bug\n",
       "        targ = targ.parentNode;\n",
       "\n",
       "    // jQuery normalizes the pageX and pageY\n",
       "    // pageX,Y are the mouse positions relative to the document\n",
       "    // offset() returns the position of the element relative to the document\n",
       "    var x = e.pageX - $(targ).offset().left;\n",
       "    var y = e.pageY - $(targ).offset().top;\n",
       "\n",
       "    return {\"x\": x, \"y\": y};\n",
       "};\n",
       "\n",
       "/*\n",
       " * return a copy of an object with only non-object keys\n",
       " * we need this to avoid circular references\n",
       " * http://stackoverflow.com/a/24161582/3208463\n",
       " */\n",
       "function simpleKeys (original) {\n",
       "  return Object.keys(original).reduce(function (obj, key) {\n",
       "    if (typeof original[key] !== 'object')\n",
       "        obj[key] = original[key]\n",
       "    return obj;\n",
       "  }, {});\n",
       "}\n",
       "\n",
       "mpl.figure.prototype.mouse_event = function(event, name) {\n",
       "    var canvas_pos = mpl.findpos(event)\n",
       "\n",
       "    if (name === 'button_press')\n",
       "    {\n",
       "        this.canvas.focus();\n",
       "        this.canvas_div.focus();\n",
       "    }\n",
       "\n",
       "    var x = canvas_pos.x * mpl.ratio;\n",
       "    var y = canvas_pos.y * mpl.ratio;\n",
       "\n",
       "    this.send_message(name, {x: x, y: y, button: event.button,\n",
       "                             step: event.step,\n",
       "                             guiEvent: simpleKeys(event)});\n",
       "\n",
       "    /* This prevents the web browser from automatically changing to\n",
       "     * the text insertion cursor when the button is pressed.  We want\n",
       "     * to control all of the cursor setting manually through the\n",
       "     * 'cursor' event from matplotlib */\n",
       "    event.preventDefault();\n",
       "    return false;\n",
       "}\n",
       "\n",
       "mpl.figure.prototype._key_event_extra = function(event, name) {\n",
       "    // Handle any extra behaviour associated with a key event\n",
       "}\n",
       "\n",
       "mpl.figure.prototype.key_event = function(event, name) {\n",
       "\n",
       "    // Prevent repeat events\n",
       "    if (name == 'key_press')\n",
       "    {\n",
       "        if (event.which === this._key)\n",
       "            return;\n",
       "        else\n",
       "            this._key = event.which;\n",
       "    }\n",
       "    if (name == 'key_release')\n",
       "        this._key = null;\n",
       "\n",
       "    var value = '';\n",
       "    if (event.ctrlKey && event.which != 17)\n",
       "        value += \"ctrl+\";\n",
       "    if (event.altKey && event.which != 18)\n",
       "        value += \"alt+\";\n",
       "    if (event.shiftKey && event.which != 16)\n",
       "        value += \"shift+\";\n",
       "\n",
       "    value += 'k';\n",
       "    value += event.which.toString();\n",
       "\n",
       "    this._key_event_extra(event, name);\n",
       "\n",
       "    this.send_message(name, {key: value,\n",
       "                             guiEvent: simpleKeys(event)});\n",
       "    return false;\n",
       "}\n",
       "\n",
       "mpl.figure.prototype.toolbar_button_onclick = function(name) {\n",
       "    if (name == 'download') {\n",
       "        this.handle_save(this, null);\n",
       "    } else {\n",
       "        this.send_message(\"toolbar_button\", {name: name});\n",
       "    }\n",
       "};\n",
       "\n",
       "mpl.figure.prototype.toolbar_button_onmouseover = function(tooltip) {\n",
       "    this.message.textContent = tooltip;\n",
       "};\n",
       "mpl.toolbar_items = [[\"Home\", \"Reset original view\", \"fa fa-home icon-home\", \"home\"], [\"Back\", \"Back to previous view\", \"fa fa-arrow-left icon-arrow-left\", \"back\"], [\"Forward\", \"Forward to next view\", \"fa fa-arrow-right icon-arrow-right\", \"forward\"], [\"\", \"\", \"\", \"\"], [\"Pan\", \"Pan axes with left mouse, zoom with right\", \"fa fa-arrows icon-move\", \"pan\"], [\"Zoom\", \"Zoom to rectangle\", \"fa fa-square-o icon-check-empty\", \"zoom\"], [\"\", \"\", \"\", \"\"], [\"Download\", \"Download plot\", \"fa fa-floppy-o icon-save\", \"download\"]];\n",
       "\n",
       "mpl.extensions = [\"eps\", \"jpeg\", \"pdf\", \"png\", \"ps\", \"raw\", \"svg\", \"tif\"];\n",
       "\n",
       "mpl.default_extension = \"png\";var comm_websocket_adapter = function(comm) {\n",
       "    // Create a \"websocket\"-like object which calls the given IPython comm\n",
       "    // object with the appropriate methods. Currently this is a non binary\n",
       "    // socket, so there is still some room for performance tuning.\n",
       "    var ws = {};\n",
       "\n",
       "    ws.close = function() {\n",
       "        comm.close()\n",
       "    };\n",
       "    ws.send = function(m) {\n",
       "        //console.log('sending', m);\n",
       "        comm.send(m);\n",
       "    };\n",
       "    // Register the callback with on_msg.\n",
       "    comm.on_msg(function(msg) {\n",
       "        //console.log('receiving', msg['content']['data'], msg);\n",
       "        // Pass the mpl event to the overridden (by mpl) onmessage function.\n",
       "        ws.onmessage(msg['content']['data'])\n",
       "    });\n",
       "    return ws;\n",
       "}\n",
       "\n",
       "mpl.mpl_figure_comm = function(comm, msg) {\n",
       "    // This is the function which gets called when the mpl process\n",
       "    // starts-up an IPython Comm through the \"matplotlib\" channel.\n",
       "\n",
       "    var id = msg.content.data.id;\n",
       "    // Get hold of the div created by the display call when the Comm\n",
       "    // socket was opened in Python.\n",
       "    var element = $(\"#\" + id);\n",
       "    var ws_proxy = comm_websocket_adapter(comm)\n",
       "\n",
       "    function ondownload(figure, format) {\n",
       "        window.open(figure.imageObj.src);\n",
       "    }\n",
       "\n",
       "    var fig = new mpl.figure(id, ws_proxy,\n",
       "                           ondownload,\n",
       "                           element.get(0));\n",
       "\n",
       "    // Call onopen now - mpl needs it, as it is assuming we've passed it a real\n",
       "    // web socket which is closed, not our websocket->open comm proxy.\n",
       "    ws_proxy.onopen();\n",
       "\n",
       "    fig.parent_element = element.get(0);\n",
       "    fig.cell_info = mpl.find_output_cell(\"<div id='\" + id + \"'></div>\");\n",
       "    if (!fig.cell_info) {\n",
       "        console.error(\"Failed to find cell for figure\", id, fig);\n",
       "        return;\n",
       "    }\n",
       "\n",
       "    var output_index = fig.cell_info[2]\n",
       "    var cell = fig.cell_info[0];\n",
       "\n",
       "};\n",
       "\n",
       "mpl.figure.prototype.handle_close = function(fig, msg) {\n",
       "    var width = fig.canvas.width/mpl.ratio\n",
       "    fig.root.unbind('remove')\n",
       "\n",
       "    // Update the output cell to use the data from the current canvas.\n",
       "    fig.push_to_output();\n",
       "    var dataURL = fig.canvas.toDataURL();\n",
       "    // Re-enable the keyboard manager in IPython - without this line, in FF,\n",
       "    // the notebook keyboard shortcuts fail.\n",
       "    IPython.keyboard_manager.enable()\n",
       "    $(fig.parent_element).html('<img src=\"' + dataURL + '\" width=\"' + width + '\">');\n",
       "    fig.close_ws(fig, msg);\n",
       "}\n",
       "\n",
       "mpl.figure.prototype.close_ws = function(fig, msg){\n",
       "    fig.send_message('closing', msg);\n",
       "    // fig.ws.close()\n",
       "}\n",
       "\n",
       "mpl.figure.prototype.push_to_output = function(remove_interactive) {\n",
       "    // Turn the data on the canvas into data in the output cell.\n",
       "    var width = this.canvas.width/mpl.ratio\n",
       "    var dataURL = this.canvas.toDataURL();\n",
       "    this.cell_info[1]['text/html'] = '<img src=\"' + dataURL + '\" width=\"' + width + '\">';\n",
       "}\n",
       "\n",
       "mpl.figure.prototype.updated_canvas_event = function() {\n",
       "    // Tell IPython that the notebook contents must change.\n",
       "    IPython.notebook.set_dirty(true);\n",
       "    this.send_message(\"ack\", {});\n",
       "    var fig = this;\n",
       "    // Wait a second, then push the new image to the DOM so\n",
       "    // that it is saved nicely (might be nice to debounce this).\n",
       "    setTimeout(function () { fig.push_to_output() }, 1000);\n",
       "}\n",
       "\n",
       "mpl.figure.prototype._init_toolbar = function() {\n",
       "    var fig = this;\n",
       "\n",
       "    var nav_element = $('<div/>');\n",
       "    nav_element.attr('style', 'width: 100%');\n",
       "    this.root.append(nav_element);\n",
       "\n",
       "    // Define a callback function for later on.\n",
       "    function toolbar_event(event) {\n",
       "        return fig.toolbar_button_onclick(event['data']);\n",
       "    }\n",
       "    function toolbar_mouse_event(event) {\n",
       "        return fig.toolbar_button_onmouseover(event['data']);\n",
       "    }\n",
       "\n",
       "    for(var toolbar_ind in mpl.toolbar_items){\n",
       "        var name = mpl.toolbar_items[toolbar_ind][0];\n",
       "        var tooltip = mpl.toolbar_items[toolbar_ind][1];\n",
       "        var image = mpl.toolbar_items[toolbar_ind][2];\n",
       "        var method_name = mpl.toolbar_items[toolbar_ind][3];\n",
       "\n",
       "        if (!name) { continue; };\n",
       "\n",
       "        var button = $('<button class=\"btn btn-default\" href=\"#\" title=\"' + name + '\"><i class=\"fa ' + image + ' fa-lg\"></i></button>');\n",
       "        button.click(method_name, toolbar_event);\n",
       "        button.mouseover(tooltip, toolbar_mouse_event);\n",
       "        nav_element.append(button);\n",
       "    }\n",
       "\n",
       "    // Add the status bar.\n",
       "    var status_bar = $('<span class=\"mpl-message\" style=\"text-align:right; float: right;\"/>');\n",
       "    nav_element.append(status_bar);\n",
       "    this.message = status_bar[0];\n",
       "\n",
       "    // Add the close button to the window.\n",
       "    var buttongrp = $('<div class=\"btn-group inline pull-right\"></div>');\n",
       "    var button = $('<button class=\"btn btn-mini btn-primary\" href=\"#\" title=\"Stop Interaction\"><i class=\"fa fa-power-off icon-remove icon-large\"></i></button>');\n",
       "    button.click(function (evt) { fig.handle_close(fig, {}); } );\n",
       "    button.mouseover('Stop Interaction', toolbar_mouse_event);\n",
       "    buttongrp.append(button);\n",
       "    var titlebar = this.root.find($('.ui-dialog-titlebar'));\n",
       "    titlebar.prepend(buttongrp);\n",
       "}\n",
       "\n",
       "mpl.figure.prototype._root_extra_style = function(el){\n",
       "    var fig = this\n",
       "    el.on(\"remove\", function(){\n",
       "\tfig.close_ws(fig, {});\n",
       "    });\n",
       "}\n",
       "\n",
       "mpl.figure.prototype._canvas_extra_style = function(el){\n",
       "    // this is important to make the div 'focusable\n",
       "    el.attr('tabindex', 0)\n",
       "    // reach out to IPython and tell the keyboard manager to turn it's self\n",
       "    // off when our div gets focus\n",
       "\n",
       "    // location in version 3\n",
       "    if (IPython.notebook.keyboard_manager) {\n",
       "        IPython.notebook.keyboard_manager.register_events(el);\n",
       "    }\n",
       "    else {\n",
       "        // location in version 2\n",
       "        IPython.keyboard_manager.register_events(el);\n",
       "    }\n",
       "\n",
       "}\n",
       "\n",
       "mpl.figure.prototype._key_event_extra = function(event, name) {\n",
       "    var manager = IPython.notebook.keyboard_manager;\n",
       "    if (!manager)\n",
       "        manager = IPython.keyboard_manager;\n",
       "\n",
       "    // Check for shift+enter\n",
       "    if (event.shiftKey && event.which == 13) {\n",
       "        this.canvas_div.blur();\n",
       "        event.shiftKey = false;\n",
       "        // Send a \"J\" for go to next cell\n",
       "        event.which = 74;\n",
       "        event.keyCode = 74;\n",
       "        manager.command_mode();\n",
       "        manager.handle_keydown(event);\n",
       "    }\n",
       "}\n",
       "\n",
       "mpl.figure.prototype.handle_save = function(fig, msg) {\n",
       "    fig.ondownload(fig, null);\n",
       "}\n",
       "\n",
       "\n",
       "mpl.find_output_cell = function(html_output) {\n",
       "    // Return the cell and output element which can be found *uniquely* in the notebook.\n",
       "    // Note - this is a bit hacky, but it is done because the \"notebook_saving.Notebook\"\n",
       "    // IPython event is triggered only after the cells have been serialised, which for\n",
       "    // our purposes (turning an active figure into a static one), is too late.\n",
       "    var cells = IPython.notebook.get_cells();\n",
       "    var ncells = cells.length;\n",
       "    for (var i=0; i<ncells; i++) {\n",
       "        var cell = cells[i];\n",
       "        if (cell.cell_type === 'code'){\n",
       "            for (var j=0; j<cell.output_area.outputs.length; j++) {\n",
       "                var data = cell.output_area.outputs[j];\n",
       "                if (data.data) {\n",
       "                    // IPython >= 3 moved mimebundle to data attribute of output\n",
       "                    data = data.data;\n",
       "                }\n",
       "                if (data['text/html'] == html_output) {\n",
       "                    return [cell, data, j];\n",
       "                }\n",
       "            }\n",
       "        }\n",
       "    }\n",
       "}\n",
       "\n",
       "// Register the function which deals with the matplotlib target/channel.\n",
       "// The kernel may be null if the page has been refreshed.\n",
       "if (IPython.notebook.kernel != null) {\n",
       "    IPython.notebook.kernel.comm_manager.register_target('matplotlib', mpl.mpl_figure_comm);\n",
       "}\n"
      ],
      "text/plain": [
       "<IPython.core.display.Javascript object>"
      ]
     },
     "metadata": {},
     "output_type": "display_data"
    },
    {
     "data": {
      "text/html": [
       "<img src=\"data:image/png;base64,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\" width=\"799.5333333333333\">"
      ],
      "text/plain": [
       "<IPython.core.display.HTML object>"
      ]
     },
     "metadata": {},
     "output_type": "display_data"
    },
    {
     "data": {
      "text/plain": [
       "<matplotlib.axes._subplots.AxesSubplot at 0x7f1843cad518>"
      ]
     },
     "execution_count": 60,
     "metadata": {},
     "output_type": "execute_result"
    }
   ],
   "source": [
    "cova = df.cov()\n",
    "f, ax = plt.subplots(figsize=(8, 6))\n",
    "cmap = sns.diverging_palette(150, 10, as_cmap=True)\n",
    "mask = np.triu(np.ones_like(cova, dtype=np.bool))\n",
    "sns.heatmap(cova, mask = mask, cmap = cmap)"
   ]
  },
  {
   "cell_type": "code",
   "execution_count": null,
   "metadata": {},
   "outputs": [],
   "source": [
    "l = df.columns.values\n",
    "rows = 7\n",
    "columns = 5\n",
    "plt.figure(figsize=(6*columns, 6*rows))\n",
    "for i in range(0,len(l)):\n",
    "    plt.subplot(rows+1,columns,i+1)\n",
    "    sns.distplot(df[l[i]],kde=True) "
   ]
  },
  {
   "cell_type": "code",
   "execution_count": 61,
   "metadata": {},
   "outputs": [],
   "source": [
    "#drop highly correlated features\n",
    "\n",
    "column_names = list(df)\n",
    "length = len(column_names)\n",
    "deleted = []\n",
    "for i in range(0,length):\n",
    "    col = column_names[i]\n",
    "    if col in deleted:\n",
    "        continue\n",
    "    x_cor = abs(cova[col])\n",
    "    correlated_features = list(x_cor[x_cor>0.8].to_frame().index)\n",
    "    correlated_features.remove(col)\n",
    "    \n",
    "    for y in correlated_features:\n",
    "        deleted.append(y)\n",
    "        df = df.drop(y, axis=1)\n",
    "    cova = df.cov()"
   ]
  },
  {
   "cell_type": "code",
   "execution_count": null,
   "metadata": {},
   "outputs": [],
   "source": []
  },
  {
   "cell_type": "code",
   "execution_count": null,
   "metadata": {},
   "outputs": [],
   "source": []
  },
  {
   "cell_type": "markdown",
   "metadata": {},
   "source": [
    "<h2>2.Finding outliers</h2>\n",
    "<ol>\n",
    "    <li>PAM Clustering</li>\n",
    "    <li>Reconstruction error of autoencoder</li>\n",
    "</ol>\n",
    "\n",
    "Simplifying assumptions:\n",
    "<ul>\n",
    "    <li>the objective is to detect outliers in the provided dataset, not to create a robust model that will generalize well, therefore considering the small size of dataset, divison of dataset into train and validation will be neglected. Models will be trained on all provided data</li>\n",
    "    <li>since we know the percentage of outliers in the dataset, the number of seeked outliers will be fixed and set to 5 (preference for false positives among outliers, that can be analysed manually in further steps of analysis) </li>\n",
    "</ul>"
   ]
  },
  {
   "cell_type": "markdown",
   "metadata": {},
   "source": [
    "<h3>2.1 PAM Clustering</h3>\n",
    "PAM Clustering algorithm was chosen for anomaly detection due to its good robustness towards outliers among the ones belonging to k-centers algorithms. The number of clusters will be chosen corresponding to the internal evaulation criterion - silhouette width. The clustering maximizing silhouette width will be applied [1].\n",
    "\n",
    "Outliers will be chosen as elements that have maximum distance to the closes medoid.\n",
    "\n",
    "\n",
    "\n"
   ]
  },
  {
   "cell_type": "code",
   "execution_count": 31,
   "metadata": {},
   "outputs": [
    {
     "name": "stdout",
     "output_type": "stream",
     "text": [
      "Number of clusters 2, avg silh: 0.17251634514962555\n",
      "Number of clusters 3, avg silh: -0.024864590714183333\n",
      "Number of clusters 4, avg silh: 0.1635242056529558\n",
      "Number of clusters 5, avg silh: 0.1317204752927541\n",
      "Number of clusters 6, avg silh: 0.1190423674834056\n",
      "Number of clusters 7, avg silh: 0.05568794717264774\n",
      "Number of clusters 8, avg silh: 0.06582268050260962\n",
      "Number of clusters 9, avg silh: 0.04173094418505561\n"
     ]
    }
   ],
   "source": [
    "num_clusters = 10\n",
    "\n",
    "\n",
    "for x in range(2,num_clusters):\n",
    "    km = KMedoids(n_clusters=x)\n",
    "    kmeans = km.fit(df)\n",
    "    centroids = kmeans.cluster_centers_\n",
    "    y_kmeans = kmeans.predict(df)\n",
    "    silhouette_avg = silhouette_score(df, y_kmeans)\n",
    "    print(f\"Number of clusters {x}, avg silh: {silhouette_avg}\")\n"
   ]
  },
  {
   "cell_type": "code",
   "execution_count": 32,
   "metadata": {},
   "outputs": [],
   "source": [
    "km = KMedoids(n_clusters=2)\n",
    "kmeans = km.fit(df)"
   ]
  },
  {
   "cell_type": "code",
   "execution_count": 33,
   "metadata": {},
   "outputs": [],
   "source": [
    "outliers_indices = np.argsort(kmeans.transform(df).sum(axis=1))[-3:]"
   ]
  },
  {
   "cell_type": "code",
   "execution_count": null,
   "metadata": {},
   "outputs": [],
   "source": [
    "viz.show_pca(df, outliers_indices, names)"
   ]
  },
  {
   "cell_type": "code",
   "execution_count": 37,
   "metadata": {},
   "outputs": [
    {
     "data": {
      "application/vnd.plotly.v1+json": {
       "config": {
        "plotlyServerURL": "https://plot.ly"
       },
       "data": [
        {
         "customdata": [
          [
           6470
          ],
          [
           92595
          ],
          [
           3034
          ],
          [
           1074
          ],
          [
           5
          ],
          [
           41108
          ],
          [
           102321
          ],
          [
           660
          ],
          [
           228200
          ],
          [
           77532
          ],
          [
           23394
          ],
          [
           22172
          ],
          [
           23165
          ],
          [
           576
          ],
          [
           258499
          ],
          [
           28948
          ],
          [
           44644
          ],
          [
           24300
          ],
          [
           2644
          ],
          [
           10770
          ],
          [
           232009
          ],
          [
           182072
          ],
          [
           13593
          ],
          [
           12685
          ],
          [
           9022
          ],
          [
           47188
          ],
          [
           1136
          ],
          [
           17979
          ],
          [
           9500
          ],
          [
           4230
          ],
          [
           4299
          ],
          [
           63956
          ],
          [
           35028
          ],
          [
           17155
          ],
          [
           13532
          ],
          [
           4354
          ],
          [
           52727
          ],
          [
           14900
          ],
          [
           43457
          ],
          [
           10600
          ],
          [
           40212
          ],
          [
           15207
          ],
          [
           4145789
          ],
          [
           27008
          ],
          [
           861457
          ],
          [
           13449
          ],
          [
           30687
          ],
          [
           6436
          ],
          [
           15429
          ],
          [
           7
          ],
          [
           296
          ],
          [
           183218
          ],
          [
           1539
          ],
          [
           889
          ],
          [
           40061
          ],
          [
           15752
          ],
          [
           440
          ],
          [
           28186
          ],
          [
           22938
          ],
          [
           37650
          ],
          [
           15229
          ],
          [
           5788
          ],
          [
           12778
          ],
          [
           6184
          ],
          [
           2436
          ],
          [
           126474
          ],
          [
           5502
          ],
          [
           10671
          ],
          [
           12331
          ],
          [
           52
          ],
          [
           6552
          ],
          [
           54438
          ],
          [
           19953
          ],
          [
           41421
          ],
          [
           12369
          ],
          [
           44923
          ],
          [
           775
          ],
          [
           6786
          ],
          [
           49067
          ],
          [
           12208
          ],
          [
           24895
          ],
          [
           46796
          ],
          [
           37249
          ],
          [
           32313
          ],
          [
           16265
          ],
          [
           21604
          ],
          [
           2169
          ],
          [
           53497
          ],
          [
           2019
          ],
          [
           18942
          ],
          [
           36253
          ],
          [
           39741
          ],
          [
           12785
          ],
          [
           57166
          ],
          [
           3603
          ],
          [
           38674
          ],
          [
           2344626
          ],
          [
           26447
          ],
          [
           17972
          ],
          [
           1946
          ],
          [
           359053
          ],
          [
           15126
          ],
          [
           40874
          ],
          [
           1800
          ],
          [
           27895
          ],
          [
           19507
          ],
          [
           12083
          ],
          [
           11083
          ],
          [
           39562
          ],
          [
           12347
          ],
          [
           44908
          ],
          [
           3454
          ],
          [
           2760
          ],
          [
           10565
          ],
          [
           12166
          ],
          [
           80737
          ],
          [
           19829
          ],
          [
           71317
          ],
          [
           37649
          ],
          [
           4520
          ],
          [
           25786
          ],
          [
           25681
          ],
          [
           30077
          ],
          [
           25036
          ],
          [
           26474
          ],
          [
           21260
          ],
          [
           14012
          ],
          [
           22276
          ],
          [
           15292
          ],
          [
           6890
          ],
          [
           20934
          ],
          [
           24251
          ],
          [
           38775
          ],
          [
           29773
          ],
          [
           16839
          ],
          [
           22897
          ],
          [
           17575
          ],
          [
           33461
          ],
          [
           8208
          ],
          [
           148810
          ],
          [
           80098
          ],
          [
           60161
          ],
          [
           49741
          ],
          [
           23924
          ],
          [
           28490
          ],
          [
           42009
          ],
          [
           25817
          ],
          [
           3412
          ],
          [
           36958
          ],
          [
           6564
          ],
          [
           174011
          ],
          [
           17575
          ],
          [
           9345
          ],
          [
           14624
          ],
          [
           10013
          ],
          [
           7849
          ],
          [
           14332
          ],
          [
           19182
          ],
          [
           14082
          ],
          [
           1858
          ],
          [
           77814
          ],
          [
           8311
          ],
          [
           15586
          ],
          [
           9155
          ],
          [
           51941
          ],
          [
           1592
          ],
          [
           23306
          ],
          [
           37798
          ],
          [
           31865
          ],
          [
           1373
          ],
          [
           26486
          ],
          [
           161
          ],
          [
           5857
          ],
          [
           11747
          ],
          [
           22741
          ],
          [
           8082
          ],
          [
           8966
          ],
          [
           9939
          ],
          [
           20836
          ],
          [
           3863
          ],
          [
           26506
          ],
          [
           18725
          ],
          [
           3772
          ],
          [
           22268
          ],
          [
           8
          ],
          [
           322
          ],
          [
           600
          ],
          [
           75971
          ],
          [
           5107
          ],
          [
           82474
          ],
          [
           4538
          ],
          [
           3190
          ],
          [
           47355
          ],
          [
           4
          ],
          [
           25947
          ],
          [
           10431
          ],
          [
           115219
          ],
          [
           33974
          ],
          [
           19478
          ],
          [
           136021
          ],
          [
           67489
          ],
          [
           8458
          ],
          [
           23519
          ],
          [
           3162
          ],
          [
           12619
          ],
          [
           21159
          ],
          [
           1173
          ],
          [
           14933
          ],
          [
           3197
          ],
          [
           41805
          ],
          [
           82
          ],
          [
           2836
          ],
          [
           1151
          ],
          [
           11356
          ],
          [
           1611
          ],
          [
           260
          ],
          [
           50
          ],
          [
           94
          ],
          [
           338
          ],
          [
           12504
          ],
          [
           843
          ],
          [
           30
          ],
          [
           3831
          ],
          [
           18675
          ],
          [
           51
          ],
          [
           136139
          ],
          [
           111921
          ],
          [
           322
          ],
          [
           3149
          ],
          [
           2393
          ],
          [
           931
          ],
          [
           10094
          ],
          [
           16213
          ],
          [
           286
          ],
          [
           2556
          ],
          [
           400
          ],
          [
           533
          ],
          [
           30061
          ],
          [
           314
          ],
          [
           9353
          ],
          [
           7
          ],
          [
           9121
          ],
          [
           879
          ],
          [
           272
          ],
          [
           280
          ],
          [
           3135
          ],
          [
           6873
          ],
          [
           3900
          ],
          [
           31666
          ],
          [
           9738
          ],
          [
           25616
          ],
          [
           20000
          ],
          [
           21915
          ],
          [
           17199
          ],
          [
           6776
          ],
          [
           23382
          ],
          [
           59
          ],
          [
           16064
          ],
          [
           23615
          ],
          [
           47896
          ],
          [
           549
          ],
          [
           6786
          ],
          [
           18659
          ],
          [
           33072
          ],
          [
           47
          ]
         ],
         "hovertemplate": "type=normal<br>c1=%{x}<br>c2=%{y}<br>entity_name=%{customdata[0]}<extra></extra>",
         "legendgroup": "normal",
         "marker": {
          "color": "#636efa",
          "symbol": "circle"
         },
         "mode": "markers",
         "name": "normal",
         "showlegend": true,
         "type": "scatter",
         "x": [
          0.2926802107333376,
          0.501039512730767,
          -2.892230134521756,
          1.0576157717515227,
          -3.556337257725958,
          0.9841503291278363,
          1.1775474865564122,
          -2.826740179092615,
          2.171917501125567,
          2.2762466706962847,
          0.7942683079309498,
          0.9212255867875137,
          0.5376866752772004,
          -4.26837955568724,
          2.9219309512864657,
          0.5206274907806705,
          1.8299931232438635,
          -1.10065116577463,
          -1.6689218762410927,
          0.6142321605037021,
          0.5740638345117014,
          2.2004463622072086,
          -1.3826622475138635,
          0.4524431825196926,
          -3.944232171431804,
          0.3912342373822334,
          -1.0738561499187793,
          0.3093311914545125,
          0.45197426883618436,
          -1.4459153107772316,
          -2.852997566753046,
          1.7187958342628198,
          1.8356034124329155,
          0.2968277933289529,
          0.5871974048866005,
          -0.6157126397350643,
          1.589321271640809,
          0.6675576216024846,
          1.9493288028745395,
          0.2313762311282677,
          1.1927643752961163,
          0.6148389066915169,
          2.5868457545759678,
          1.1259407996290067,
          2.19674502373544,
          -0.945728057057721,
          0.761853388684114,
          -0.8435940752181804,
          0.6410222083096385,
          -4.607484768490859,
          -1.7127949651212853,
          2.278230846767301,
          -1.636414514921984,
          -5.825191065746596,
          0.27558973457833835,
          -0.9983243442853095,
          -2.8179053871050397,
          -3.772624640895861,
          0.6128608216250699,
          0.9978910208385823,
          1.1630774153093202,
          0.4526180048790995,
          0.46529628729978056,
          -1.5734864774013029,
          -5.454924642086963,
          -5.001830276504807,
          -1.0529633305789639,
          0.5166309100035015,
          0.6993463746952304,
          -1.7052566331524268,
          -1.8584309221944424,
          1.636940713962129,
          1.429647724314307,
          1.655512796737619,
          0.5433695295626767,
          1.3342005402343737,
          0.03184768223301246,
          -0.6091045549277825,
          1.1782548720756285,
          0.4069287240955423,
          1.6620044729643693,
          2.0552552463912694,
          -0.10072471508846277,
          0.5137948137974017,
          0.981236122680211,
          0.5241616820315458,
          -0.8651052529760926,
          1.7919708237055305,
          0.3599536208343089,
          0.7828353002813727,
          0.8153400705408116,
          0.8694607308791829,
          0.7121044938951634,
          1.5015047438115994,
          -4.0964690236587895,
          0.7947632653594405,
          2.1001463969343117,
          1.0397170913943596,
          1.8679645742015623,
          -1.4672895458745565,
          2.1870595715208445,
          -1.3153678930047967,
          -1.644325013416234,
          0.9507209897380924,
          1.2435874037500723,
          0.4387553823026033,
          1.9910218590326327,
          1.3143914066397848,
          1.1082880021161117,
          0.4206514499026655,
          1.5772250995397763,
          -1.8106821771308677,
          -1.5444971014519522,
          0.551328274703334,
          1.757229252629257,
          0.831703069606105,
          1.5453079361743562,
          0.6677986745611474,
          1.6073138629252437,
          1.0918517637834162,
          0.570415435643539,
          0.4867149056412928,
          0.6649858272001072,
          0.676629217962301,
          1.495926656715142,
          0.584438441243152,
          0.16707824612189012,
          0.7460742460483999,
          1.2469532853569922,
          -0.2047444607561189,
          0.7316974402973716,
          1.2316520916007958,
          0.8068797545554663,
          1.5358954111443734,
          0.5374476546817477,
          1.7235100835726136,
          1.0459863335818702,
          1.5624202957948576,
          0.43096257430024776,
          1.5682086919692646,
          0.8036197388670696,
          0.7068497891449896,
          1.248032276179828,
          0.8636973416781951,
          0.41087655653580246,
          0.8870668712555592,
          0.200635427280754,
          -3.255881526528405,
          1.5110594144460208,
          -2.272279010649619,
          -0.3913161802677948,
          -0.10631121233975115,
          -0.04405202829124801,
          0.42256351639206247,
          0.5433327698041843,
          1.0671094504187841,
          0.6023328634080327,
          2.015820927070858,
          0.13445125353336965,
          1.277759815018947,
          1.8828659339701879,
          0.43664093216041266,
          1.332897041602571,
          1.7659645610645216,
          2.235390941927499,
          -1.497413272824079,
          -0.09181376188788432,
          1.8373901033708815,
          1.364241304052489,
          0.47787831069579045,
          0.9340965975233531,
          -1.9638831328070507,
          1.285340056168416,
          0.04402383301601047,
          1.7663507387227864,
          0.7049184791950182,
          0.8312970481552114,
          0.7675905656880825,
          0.37056607816491954,
          -1.2093315680754906,
          1.3598424436986318,
          1.5569429427927903,
          1.2035383626014664,
          -1.6064475009710528,
          -0.17644235510281037,
          -1.848512876763121,
          -2.130636563893346,
          -2.0540553622816176,
          -0.3423467742939059,
          -2.1631507941643733,
          0.9100217770897594,
          0.5039211232753436,
          2.5799124969076015,
          -0.6885883895939728,
          1.2854379601311703,
          0.4605514133553873,
          0.9630028070009602,
          0.772437813327501,
          1.3678782497329183,
          0.24310790611128116,
          2.95391097487216,
          -0.334648786139841,
          0.2969086241311321,
          0.16717988301788383,
          0.5753795901727868,
          1.6073455801060526,
          -0.3085381458667645,
          0.35530882536780856,
          -0.745882634898463,
          0.6137128627985988,
          -2.3418116536428757,
          -1.558226042557553,
          0.15770945608710932,
          -2.5047519611168263,
          -2.6087405644725608,
          -0.8069067755119033,
          -1.3950035075169835,
          -0.7120096343381805,
          -1.8473033718665197,
          -1.4961319360866374,
          -2.4559280333283926,
          -2.826379941296961,
          -1.7363592262365606,
          -2.5887024011847513,
          -3.5677519305792575,
          -0.8355666151459038,
          0.028737752330262406,
          0.5528450670105018,
          -1.7298406409349447,
          -1.454475954171096,
          -0.32489689124585347,
          0.8038154511090672,
          -2.625748386998345,
          -0.8725625761839365,
          0.12850399848209787,
          -2.3643514560929773,
          -0.8217768387056028,
          -1.0468370344338425,
          -1.7636212506081506,
          -2.8796469923214856,
          1.3204582743124536,
          -3.6633056721393316,
          -3.14482155452287,
          -1.2643562648957916,
          -2.1246632228576052,
          -2.0741974819780356,
          -1.4298916985884165,
          -3.6397790210967567,
          0.9742423851058643,
          -1.1022199804168993,
          2.1337279737201373,
          1.0860007190030239,
          1.165199644409914,
          1.0020377336767048,
          0.9138689035849739,
          0.44647409637328606,
          -0.6537770100642899,
          0.7866544619987725,
          -1.0598162393096817,
          1.5291441988289893,
          -5.27969948289156,
          -1.948335440073433,
          0.45858558290468326,
          0.8288239397753547,
          0.6810398255040716
         ],
         "xaxis": "x",
         "y": [
          -0.31299888491215544,
          -0.7413701318181554,
          -0.988755310535247,
          0.2670292351653309,
          -5.473496127651643,
          -0.8031552351681412,
          0.32342883347572815,
          -2.463400803891062,
          0.7203065286521012,
          0.796528751414581,
          -0.4952356933591413,
          -0.21319377853260882,
          -1.1297402091916748,
          -0.4107787500044408,
          1.0650442408347047,
          -1.058474359483334,
          0.645885208578617,
          -2.2324601397053225,
          -2.444701308649122,
          -0.9787553378288972,
          -0.9372704992344107,
          0.7727652865019923,
          -1.70154804087608,
          -1.0148038059419149,
          -3.478188600992452,
          -0.9911825272705989,
          -1.3692434677197876,
          -0.7811701514373371,
          -1.0252882227421478,
          -2.8526500632630176,
          -0.6952829856989704,
          0.44162621374995853,
          0.5323609752877133,
          -1.1600278940436004,
          -0.6644164176722753,
          -0.09702127816415547,
          0.4274545272345443,
          -0.5418170857650806,
          0.7018063482782331,
          -1.2691395570324062,
          -0.1039774989628163,
          -1.0782555260004973,
          -0.32782231441747395,
          -0.3180398473495341,
          0.2602139354602994,
          -1.4814702612290476,
          -0.8579208566135916,
          -1.8804337097595625,
          -0.10034330713069349,
          3.6254602210951266,
          -0.2917023257299142,
          0.727110849088856,
          -2.696733694825664,
          -0.05131642834016039,
          -0.9435491750672688,
          -0.48986135744369574,
          -2.079500507322264,
          1.465343818873605,
          -0.9307329710477547,
          -0.5981396763042256,
          0.3600184102511881,
          0.633631670363101,
          -1.0469535958559244,
          -0.9545904123775264,
          3.5603466351096302,
          0.8621827871544845,
          -1.1909000892350587,
          -1.176804796741698,
          -1.0325756886732484,
          -1.9049721144522915,
          -0.989556516717412,
          0.7570759549757515,
          0.8480637598852454,
          0.4022123811268318,
          -1.1782651137885654,
          0.5112609740768402,
          1.468744114291958,
          -0.357565748663528,
          -0.15662789592023255,
          -1.2128491425885386,
          0.6080576533056958,
          0.6160570879471032,
          -1.1390435310079234,
          -1.1628006135829256,
          -0.4791370022972658,
          -1.212181227307147,
          -1.8564126145841142,
          0.8160119734483735,
          0.9414835723500399,
          -0.5318994759119602,
          -0.23892089881448084,
          -0.6639018137217584,
          0.18287106801952707,
          0.48483332879555824,
          -1.3090293335413088,
          -0.6757040874554112,
          -0.4232802322025094,
          -0.29577816136672846,
          0.5844373412953852,
          -3.5781851654688546,
          1.2407760579300624,
          -0.5520452563268954,
          -0.9927080914592185,
          0.3388244007237707,
          -0.24876214071412278,
          -1.2611579613041968,
          0.6333647214473237,
          0.4186653348386584,
          -0.2030386223092031,
          -1.0252250459465768,
          0.249159727840472,
          -2.6119454917211558,
          -0.5258964091702124,
          -0.952854548878405,
          0.3712733601107631,
          -0.7474978087762122,
          0.6390464200325734,
          -0.9572649265639434,
          0.7372718380739152,
          0.5593776067908325,
          -0.9951178879701849,
          -0.7052793615100199,
          -0.9103437855917742,
          -0.4659719172125205,
          0.4707544052094719,
          -0.9609463686936796,
          -0.8725857596971036,
          -0.9978686308136242,
          -0.15872716925388894,
          -0.7093193251967204,
          -0.7744312486280193,
          0.2534823821987245,
          -0.17086023868266942,
          0.2014886576832486,
          -0.986577472382371,
          0.3392456832026881,
          0.8571662379928988,
          0.36090597913219885,
          -1.0941915467956902,
          0.009692746178171348,
          -0.9467444359458064,
          -0.9097209903696726,
          -0.35033389068027593,
          -0.27272475348618064,
          -1.0124581718491175,
          0.006131057259123358,
          -0.5802470600730968,
          -1.5096369790475581,
          0.4283641923908591,
          -1.0493765779221167,
          0.14980832385039763,
          -0.7549245737530029,
          -1.1189457804052714,
          -1.3119896074641468,
          -0.817550965886226,
          0.1137723795800614,
          -0.695992427574094,
          0.7895236845127592,
          -1.1162824415779509,
          1.3730158371668677,
          0.7895328899886305,
          -1.1782088528438566,
          0.33558147887712725,
          0.5883074117788692,
          0.78597842830685,
          -0.8471066304141999,
          -0.8584843409544383,
          0.5315903344748152,
          0.46820519078037803,
          -0.2600750442176603,
          -0.3887066592800385,
          -2.3631913871290395,
          0.4023546561499933,
          -0.8490794855695603,
          0.908509982305949,
          -0.2559331068332679,
          0.2922969855713314,
          -0.6147275026698684,
          -1.1728693284863994,
          -1.0632177112889785,
          0.9050705073184049,
          1.0657820091659047,
          1.4612205743931685,
          0.8909830369595935,
          3.3516337976052046,
          0.7095010643519502,
          0.4332495820001498,
          2.2528266246282005,
          2.084758994364433,
          0.5130954999639562,
          1.2704260151662996,
          1.1066057705986712,
          1.338818829511293,
          3.2079036354468426,
          -0.29188330544301855,
          -1.187482519293643,
          -0.664903542140868,
          -0.9016221446522329,
          0.5928605072210448,
          -1.3219354434006791,
          1.1496454021005085,
          -1.194095759351469,
          -1.170282786959182,
          -0.17112214850248947,
          -1.0166876875672708,
          0.25079738000738916,
          -0.6481567388113865,
          -0.4688201723656061,
          -2.0577211501285015,
          -0.9390301770492931,
          1.3470854153412706,
          1.3735826991202018,
          2.4308791919854738,
          0.980507683493065,
          0.9891644952301264,
          2.6740384990842947,
          1.1907831774810629,
          1.889174779411854,
          1.4931621396993673,
          1.3803538632261996,
          1.362925607156328,
          0.7232607330856993,
          1.005324180987571,
          0.3451712449429019,
          0.5331179335562952,
          0.9871084806957331,
          1.5937210598431093,
          2.0815304958110987,
          0.9091296588910249,
          0.5501663215116483,
          1.9276113418305123,
          2.5694324995566125,
          0.5215746259431451,
          1.9321422909473769,
          2.843494669216186,
          0.5821761033857857,
          1.2320205548218768,
          1.0560714051635358,
          1.408108950535679,
          0.3807218987636318,
          1.0936972727093806,
          1.1997334143757326,
          -0.005888971722903428,
          1.720954950044562,
          0.8496357709772344,
          0.4738892258685297,
          1.1481841620171687,
          -0.5498045141483551,
          -0.2681001052817585,
          -0.3328303250677676,
          0.7378112809719621,
          -0.6909551200944845,
          -0.14692116354154555,
          -0.7911952734907849,
          0.25060012066403825,
          -0.36314984046657617,
          0.7272207375883641,
          -0.3332058908101434,
          -0.03665813194759517,
          0.20077595006088028,
          -0.8826304962178639,
          -0.07126634547396407,
          -1.1450015286548219,
          -0.7023212065517682,
          0.6157167504651596
         ],
         "yaxis": "y"
        },
        {
         "customdata": [
          [
           5818263
          ],
          [
           25
          ],
          [
           192
          ]
         ],
         "hovertemplate": "type=outlier<br>c1=%{x}<br>c2=%{y}<br>entity_name=%{customdata[0]}<extra></extra>",
         "legendgroup": "outlier",
         "marker": {
          "color": "#EF553B",
          "symbol": "circle"
         },
         "mode": "markers",
         "name": "outlier",
         "showlegend": true,
         "type": "scatter",
         "x": [
          6.074632234222473,
          -1.6978394674569142,
          -3.1332794725064486
         ],
         "xaxis": "x",
         "y": [
          1.6235377276278606,
          9.668186517487431,
          12.61433241801409
         ],
         "yaxis": "y"
        }
       ],
       "layout": {
        "legend": {
         "title": {
          "text": "type"
         },
         "tracegroupgap": 0
        },
        "margin": {
         "t": 60
        },
        "template": {
         "data": {
          "bar": [
           {
            "error_x": {
             "color": "#2a3f5f"
            },
            "error_y": {
             "color": "#2a3f5f"
            },
            "marker": {
             "line": {
              "color": "#E5ECF6",
              "width": 0.5
             }
            },
            "type": "bar"
           }
          ],
          "barpolar": [
           {
            "marker": {
             "line": {
              "color": "#E5ECF6",
              "width": 0.5
             }
            },
            "type": "barpolar"
           }
          ],
          "carpet": [
           {
            "aaxis": {
             "endlinecolor": "#2a3f5f",
             "gridcolor": "white",
             "linecolor": "white",
             "minorgridcolor": "white",
             "startlinecolor": "#2a3f5f"
            },
            "baxis": {
             "endlinecolor": "#2a3f5f",
             "gridcolor": "white",
             "linecolor": "white",
             "minorgridcolor": "white",
             "startlinecolor": "#2a3f5f"
            },
            "type": "carpet"
           }
          ],
          "choropleth": [
           {
            "colorbar": {
             "outlinewidth": 0,
             "ticks": ""
            },
            "type": "choropleth"
           }
          ],
          "contour": [
           {
            "colorbar": {
             "outlinewidth": 0,
             "ticks": ""
            },
            "colorscale": [
             [
              0,
              "#0d0887"
             ],
             [
              0.1111111111111111,
              "#46039f"
             ],
             [
              0.2222222222222222,
              "#7201a8"
             ],
             [
              0.3333333333333333,
              "#9c179e"
             ],
             [
              0.4444444444444444,
              "#bd3786"
             ],
             [
              0.5555555555555556,
              "#d8576b"
             ],
             [
              0.6666666666666666,
              "#ed7953"
             ],
             [
              0.7777777777777778,
              "#fb9f3a"
             ],
             [
              0.8888888888888888,
              "#fdca26"
             ],
             [
              1,
              "#f0f921"
             ]
            ],
            "type": "contour"
           }
          ],
          "contourcarpet": [
           {
            "colorbar": {
             "outlinewidth": 0,
             "ticks": ""
            },
            "type": "contourcarpet"
           }
          ],
          "heatmap": [
           {
            "colorbar": {
             "outlinewidth": 0,
             "ticks": ""
            },
            "colorscale": [
             [
              0,
              "#0d0887"
             ],
             [
              0.1111111111111111,
              "#46039f"
             ],
             [
              0.2222222222222222,
              "#7201a8"
             ],
             [
              0.3333333333333333,
              "#9c179e"
             ],
             [
              0.4444444444444444,
              "#bd3786"
             ],
             [
              0.5555555555555556,
              "#d8576b"
             ],
             [
              0.6666666666666666,
              "#ed7953"
             ],
             [
              0.7777777777777778,
              "#fb9f3a"
             ],
             [
              0.8888888888888888,
              "#fdca26"
             ],
             [
              1,
              "#f0f921"
             ]
            ],
            "type": "heatmap"
           }
          ],
          "heatmapgl": [
           {
            "colorbar": {
             "outlinewidth": 0,
             "ticks": ""
            },
            "colorscale": [
             [
              0,
              "#0d0887"
             ],
             [
              0.1111111111111111,
              "#46039f"
             ],
             [
              0.2222222222222222,
              "#7201a8"
             ],
             [
              0.3333333333333333,
              "#9c179e"
             ],
             [
              0.4444444444444444,
              "#bd3786"
             ],
             [
              0.5555555555555556,
              "#d8576b"
             ],
             [
              0.6666666666666666,
              "#ed7953"
             ],
             [
              0.7777777777777778,
              "#fb9f3a"
             ],
             [
              0.8888888888888888,
              "#fdca26"
             ],
             [
              1,
              "#f0f921"
             ]
            ],
            "type": "heatmapgl"
           }
          ],
          "histogram": [
           {
            "marker": {
             "colorbar": {
              "outlinewidth": 0,
              "ticks": ""
             }
            },
            "type": "histogram"
           }
          ],
          "histogram2d": [
           {
            "colorbar": {
             "outlinewidth": 0,
             "ticks": ""
            },
            "colorscale": [
             [
              0,
              "#0d0887"
             ],
             [
              0.1111111111111111,
              "#46039f"
             ],
             [
              0.2222222222222222,
              "#7201a8"
             ],
             [
              0.3333333333333333,
              "#9c179e"
             ],
             [
              0.4444444444444444,
              "#bd3786"
             ],
             [
              0.5555555555555556,
              "#d8576b"
             ],
             [
              0.6666666666666666,
              "#ed7953"
             ],
             [
              0.7777777777777778,
              "#fb9f3a"
             ],
             [
              0.8888888888888888,
              "#fdca26"
             ],
             [
              1,
              "#f0f921"
             ]
            ],
            "type": "histogram2d"
           }
          ],
          "histogram2dcontour": [
           {
            "colorbar": {
             "outlinewidth": 0,
             "ticks": ""
            },
            "colorscale": [
             [
              0,
              "#0d0887"
             ],
             [
              0.1111111111111111,
              "#46039f"
             ],
             [
              0.2222222222222222,
              "#7201a8"
             ],
             [
              0.3333333333333333,
              "#9c179e"
             ],
             [
              0.4444444444444444,
              "#bd3786"
             ],
             [
              0.5555555555555556,
              "#d8576b"
             ],
             [
              0.6666666666666666,
              "#ed7953"
             ],
             [
              0.7777777777777778,
              "#fb9f3a"
             ],
             [
              0.8888888888888888,
              "#fdca26"
             ],
             [
              1,
              "#f0f921"
             ]
            ],
            "type": "histogram2dcontour"
           }
          ],
          "mesh3d": [
           {
            "colorbar": {
             "outlinewidth": 0,
             "ticks": ""
            },
            "type": "mesh3d"
           }
          ],
          "parcoords": [
           {
            "line": {
             "colorbar": {
              "outlinewidth": 0,
              "ticks": ""
             }
            },
            "type": "parcoords"
           }
          ],
          "pie": [
           {
            "automargin": true,
            "type": "pie"
           }
          ],
          "scatter": [
           {
            "marker": {
             "colorbar": {
              "outlinewidth": 0,
              "ticks": ""
             }
            },
            "type": "scatter"
           }
          ],
          "scatter3d": [
           {
            "line": {
             "colorbar": {
              "outlinewidth": 0,
              "ticks": ""
             }
            },
            "marker": {
             "colorbar": {
              "outlinewidth": 0,
              "ticks": ""
             }
            },
            "type": "scatter3d"
           }
          ],
          "scattercarpet": [
           {
            "marker": {
             "colorbar": {
              "outlinewidth": 0,
              "ticks": ""
             }
            },
            "type": "scattercarpet"
           }
          ],
          "scattergeo": [
           {
            "marker": {
             "colorbar": {
              "outlinewidth": 0,
              "ticks": ""
             }
            },
            "type": "scattergeo"
           }
          ],
          "scattergl": [
           {
            "marker": {
             "colorbar": {
              "outlinewidth": 0,
              "ticks": ""
             }
            },
            "type": "scattergl"
           }
          ],
          "scattermapbox": [
           {
            "marker": {
             "colorbar": {
              "outlinewidth": 0,
              "ticks": ""
             }
            },
            "type": "scattermapbox"
           }
          ],
          "scatterpolar": [
           {
            "marker": {
             "colorbar": {
              "outlinewidth": 0,
              "ticks": ""
             }
            },
            "type": "scatterpolar"
           }
          ],
          "scatterpolargl": [
           {
            "marker": {
             "colorbar": {
              "outlinewidth": 0,
              "ticks": ""
             }
            },
            "type": "scatterpolargl"
           }
          ],
          "scatterternary": [
           {
            "marker": {
             "colorbar": {
              "outlinewidth": 0,
              "ticks": ""
             }
            },
            "type": "scatterternary"
           }
          ],
          "surface": [
           {
            "colorbar": {
             "outlinewidth": 0,
             "ticks": ""
            },
            "colorscale": [
             [
              0,
              "#0d0887"
             ],
             [
              0.1111111111111111,
              "#46039f"
             ],
             [
              0.2222222222222222,
              "#7201a8"
             ],
             [
              0.3333333333333333,
              "#9c179e"
             ],
             [
              0.4444444444444444,
              "#bd3786"
             ],
             [
              0.5555555555555556,
              "#d8576b"
             ],
             [
              0.6666666666666666,
              "#ed7953"
             ],
             [
              0.7777777777777778,
              "#fb9f3a"
             ],
             [
              0.8888888888888888,
              "#fdca26"
             ],
             [
              1,
              "#f0f921"
             ]
            ],
            "type": "surface"
           }
          ],
          "table": [
           {
            "cells": {
             "fill": {
              "color": "#EBF0F8"
             },
             "line": {
              "color": "white"
             }
            },
            "header": {
             "fill": {
              "color": "#C8D4E3"
             },
             "line": {
              "color": "white"
             }
            },
            "type": "table"
           }
          ]
         },
         "layout": {
          "annotationdefaults": {
           "arrowcolor": "#2a3f5f",
           "arrowhead": 0,
           "arrowwidth": 1
          },
          "coloraxis": {
           "colorbar": {
            "outlinewidth": 0,
            "ticks": ""
           }
          },
          "colorscale": {
           "diverging": [
            [
             0,
             "#8e0152"
            ],
            [
             0.1,
             "#c51b7d"
            ],
            [
             0.2,
             "#de77ae"
            ],
            [
             0.3,
             "#f1b6da"
            ],
            [
             0.4,
             "#fde0ef"
            ],
            [
             0.5,
             "#f7f7f7"
            ],
            [
             0.6,
             "#e6f5d0"
            ],
            [
             0.7,
             "#b8e186"
            ],
            [
             0.8,
             "#7fbc41"
            ],
            [
             0.9,
             "#4d9221"
            ],
            [
             1,
             "#276419"
            ]
           ],
           "sequential": [
            [
             0,
             "#0d0887"
            ],
            [
             0.1111111111111111,
             "#46039f"
            ],
            [
             0.2222222222222222,
             "#7201a8"
            ],
            [
             0.3333333333333333,
             "#9c179e"
            ],
            [
             0.4444444444444444,
             "#bd3786"
            ],
            [
             0.5555555555555556,
             "#d8576b"
            ],
            [
             0.6666666666666666,
             "#ed7953"
            ],
            [
             0.7777777777777778,
             "#fb9f3a"
            ],
            [
             0.8888888888888888,
             "#fdca26"
            ],
            [
             1,
             "#f0f921"
            ]
           ],
           "sequentialminus": [
            [
             0,
             "#0d0887"
            ],
            [
             0.1111111111111111,
             "#46039f"
            ],
            [
             0.2222222222222222,
             "#7201a8"
            ],
            [
             0.3333333333333333,
             "#9c179e"
            ],
            [
             0.4444444444444444,
             "#bd3786"
            ],
            [
             0.5555555555555556,
             "#d8576b"
            ],
            [
             0.6666666666666666,
             "#ed7953"
            ],
            [
             0.7777777777777778,
             "#fb9f3a"
            ],
            [
             0.8888888888888888,
             "#fdca26"
            ],
            [
             1,
             "#f0f921"
            ]
           ]
          },
          "colorway": [
           "#636efa",
           "#EF553B",
           "#00cc96",
           "#ab63fa",
           "#FFA15A",
           "#19d3f3",
           "#FF6692",
           "#B6E880",
           "#FF97FF",
           "#FECB52"
          ],
          "font": {
           "color": "#2a3f5f"
          },
          "geo": {
           "bgcolor": "white",
           "lakecolor": "white",
           "landcolor": "#E5ECF6",
           "showlakes": true,
           "showland": true,
           "subunitcolor": "white"
          },
          "hoverlabel": {
           "align": "left"
          },
          "hovermode": "closest",
          "mapbox": {
           "style": "light"
          },
          "paper_bgcolor": "white",
          "plot_bgcolor": "#E5ECF6",
          "polar": {
           "angularaxis": {
            "gridcolor": "white",
            "linecolor": "white",
            "ticks": ""
           },
           "bgcolor": "#E5ECF6",
           "radialaxis": {
            "gridcolor": "white",
            "linecolor": "white",
            "ticks": ""
           }
          },
          "scene": {
           "xaxis": {
            "backgroundcolor": "#E5ECF6",
            "gridcolor": "white",
            "gridwidth": 2,
            "linecolor": "white",
            "showbackground": true,
            "ticks": "",
            "zerolinecolor": "white"
           },
           "yaxis": {
            "backgroundcolor": "#E5ECF6",
            "gridcolor": "white",
            "gridwidth": 2,
            "linecolor": "white",
            "showbackground": true,
            "ticks": "",
            "zerolinecolor": "white"
           },
           "zaxis": {
            "backgroundcolor": "#E5ECF6",
            "gridcolor": "white",
            "gridwidth": 2,
            "linecolor": "white",
            "showbackground": true,
            "ticks": "",
            "zerolinecolor": "white"
           }
          },
          "shapedefaults": {
           "line": {
            "color": "#2a3f5f"
           }
          },
          "ternary": {
           "aaxis": {
            "gridcolor": "white",
            "linecolor": "white",
            "ticks": ""
           },
           "baxis": {
            "gridcolor": "white",
            "linecolor": "white",
            "ticks": ""
           },
           "bgcolor": "#E5ECF6",
           "caxis": {
            "gridcolor": "white",
            "linecolor": "white",
            "ticks": ""
           }
          },
          "title": {
           "x": 0.05
          },
          "xaxis": {
           "automargin": true,
           "gridcolor": "white",
           "linecolor": "white",
           "ticks": "",
           "title": {
            "standoff": 15
           },
           "zerolinecolor": "white",
           "zerolinewidth": 2
          },
          "yaxis": {
           "automargin": true,
           "gridcolor": "white",
           "linecolor": "white",
           "ticks": "",
           "title": {
            "standoff": 15
           },
           "zerolinecolor": "white",
           "zerolinewidth": 2
          }
         }
        },
        "title": {
         "text": "PCA"
        },
        "xaxis": {
         "anchor": "y",
         "domain": [
          0,
          1
         ],
         "title": {
          "text": "c1"
         }
        },
        "yaxis": {
         "anchor": "x",
         "domain": [
          0,
          1
         ],
         "title": {
          "text": "c2"
         }
        }
       }
      },
      "text/html": [
       "<div>\n",
       "        \n",
       "        \n",
       "            <div id=\"01129fc5-f3bc-45a2-a78a-afb9ec461ee8\" class=\"plotly-graph-div\" style=\"height:525px; width:100%;\"></div>\n",
       "            <script type=\"text/javascript\">\n",
       "                require([\"plotly\"], function(Plotly) {\n",
       "                    window.PLOTLYENV=window.PLOTLYENV || {};\n",
       "                    \n",
       "                if (document.getElementById(\"01129fc5-f3bc-45a2-a78a-afb9ec461ee8\")) {\n",
       "                    Plotly.newPlot(\n",
       "                        '01129fc5-f3bc-45a2-a78a-afb9ec461ee8',\n",
       "                        [{\"customdata\": [[6470], [92595], [3034], [1074], [5], [41108], [102321], [660], [228200], [77532], [23394], [22172], [23165], [576], [258499], [28948], [44644], [24300], [2644], [10770], [232009], [182072], [13593], [12685], [9022], [47188], [1136], [17979], [9500], [4230], [4299], [63956], [35028], [17155], [13532], [4354], [52727], [14900], [43457], [10600], [40212], [15207], [4145789], [27008], [861457], [13449], [30687], [6436], [15429], [7], [296], [183218], [1539], [889], [40061], [15752], [440], [28186], [22938], [37650], [15229], [5788], [12778], [6184], [2436], [126474], [5502], [10671], [12331], [52], [6552], [54438], [19953], [41421], [12369], [44923], [775], [6786], [49067], [12208], [24895], [46796], [37249], [32313], [16265], [21604], [2169], [53497], [2019], [18942], [36253], [39741], [12785], [57166], [3603], [38674], [2344626], [26447], [17972], [1946], [359053], [15126], [40874], [1800], [27895], [19507], [12083], [11083], [39562], [12347], [44908], [3454], [2760], [10565], [12166], [80737], [19829], [71317], [37649], [4520], [25786], [25681], [30077], [25036], [26474], [21260], [14012], [22276], [15292], [6890], [20934], [24251], [38775], [29773], [16839], [22897], [17575], [33461], [8208], [148810], [80098], [60161], [49741], [23924], [28490], [42009], [25817], [3412], [36958], [6564], [174011], [17575], [9345], [14624], [10013], [7849], [14332], [19182], [14082], [1858], [77814], [8311], [15586], [9155], [51941], [1592], [23306], [37798], [31865], [1373], [26486], [161], [5857], [11747], [22741], [8082], [8966], [9939], [20836], [3863], [26506], [18725], [3772], [22268], [8], [322], [600], [75971], [5107], [82474], [4538], [3190], [47355], [4], [25947], [10431], [115219], [33974], [19478], [136021], [67489], [8458], [23519], [3162], [12619], [21159], [1173], [14933], [3197], [41805], [82], [2836], [1151], [11356], [1611], [260], [50], [94], [338], [12504], [843], [30], [3831], [18675], [51], [136139], [111921], [322], [3149], [2393], [931], [10094], [16213], [286], [2556], [400], [533], [30061], [314], [9353], [7], [9121], [879], [272], [280], [3135], [6873], [3900], [31666], [9738], [25616], [20000], [21915], [17199], [6776], [23382], [59], [16064], [23615], [47896], [549], [6786], [18659], [33072], [47]], \"hovertemplate\": \"type=normal<br>c1=%{x}<br>c2=%{y}<br>entity_name=%{customdata[0]}<extra></extra>\", \"legendgroup\": \"normal\", \"marker\": {\"color\": \"#636efa\", \"symbol\": \"circle\"}, \"mode\": \"markers\", \"name\": \"normal\", \"showlegend\": true, \"type\": \"scatter\", \"x\": [0.2926802107333376, 0.501039512730767, -2.892230134521756, 1.0576157717515227, -3.556337257725958, 0.9841503291278363, 1.1775474865564122, -2.826740179092615, 2.171917501125567, 2.2762466706962847, 0.7942683079309498, 0.9212255867875137, 0.5376866752772004, -4.26837955568724, 2.9219309512864657, 0.5206274907806705, 1.8299931232438635, -1.10065116577463, -1.6689218762410927, 0.6142321605037021, 0.5740638345117014, 2.2004463622072086, -1.3826622475138635, 0.4524431825196926, -3.944232171431804, 0.3912342373822334, -1.0738561499187793, 0.3093311914545125, 0.45197426883618436, -1.4459153107772316, -2.852997566753046, 1.7187958342628198, 1.8356034124329155, 0.2968277933289529, 0.5871974048866005, -0.6157126397350643, 1.589321271640809, 0.6675576216024846, 1.9493288028745395, 0.2313762311282677, 1.1927643752961163, 0.6148389066915169, 2.5868457545759678, 1.1259407996290067, 2.19674502373544, -0.945728057057721, 0.761853388684114, -0.8435940752181804, 0.6410222083096385, -4.607484768490859, -1.7127949651212853, 2.278230846767301, -1.636414514921984, -5.825191065746596, 0.27558973457833835, -0.9983243442853095, -2.8179053871050397, -3.772624640895861, 0.6128608216250699, 0.9978910208385823, 1.1630774153093202, 0.4526180048790995, 0.46529628729978056, -1.5734864774013029, -5.454924642086963, -5.001830276504807, -1.0529633305789639, 0.5166309100035015, 0.6993463746952304, -1.7052566331524268, -1.8584309221944424, 1.636940713962129, 1.429647724314307, 1.655512796737619, 0.5433695295626767, 1.3342005402343737, 0.03184768223301246, -0.6091045549277825, 1.1782548720756285, 0.4069287240955423, 1.6620044729643693, 2.0552552463912694, -0.10072471508846277, 0.5137948137974017, 0.981236122680211, 0.5241616820315458, -0.8651052529760926, 1.7919708237055305, 0.3599536208343089, 0.7828353002813727, 0.8153400705408116, 0.8694607308791829, 0.7121044938951634, 1.5015047438115994, -4.0964690236587895, 0.7947632653594405, 2.1001463969343117, 1.0397170913943596, 1.8679645742015623, -1.4672895458745565, 2.1870595715208445, -1.3153678930047967, -1.644325013416234, 0.9507209897380924, 1.2435874037500723, 0.4387553823026033, 1.9910218590326327, 1.3143914066397848, 1.1082880021161117, 0.4206514499026655, 1.5772250995397763, -1.8106821771308677, -1.5444971014519522, 0.551328274703334, 1.757229252629257, 0.831703069606105, 1.5453079361743562, 0.6677986745611474, 1.6073138629252437, 1.0918517637834162, 0.570415435643539, 0.4867149056412928, 0.6649858272001072, 0.676629217962301, 1.495926656715142, 0.584438441243152, 0.16707824612189012, 0.7460742460483999, 1.2469532853569922, -0.2047444607561189, 0.7316974402973716, 1.2316520916007958, 0.8068797545554663, 1.5358954111443734, 0.5374476546817477, 1.7235100835726136, 1.0459863335818702, 1.5624202957948576, 0.43096257430024776, 1.5682086919692646, 0.8036197388670696, 0.7068497891449896, 1.248032276179828, 0.8636973416781951, 0.41087655653580246, 0.8870668712555592, 0.200635427280754, -3.255881526528405, 1.5110594144460208, -2.272279010649619, -0.3913161802677948, -0.10631121233975115, -0.04405202829124801, 0.42256351639206247, 0.5433327698041843, 1.0671094504187841, 0.6023328634080327, 2.015820927070858, 0.13445125353336965, 1.277759815018947, 1.8828659339701879, 0.43664093216041266, 1.332897041602571, 1.7659645610645216, 2.235390941927499, -1.497413272824079, -0.09181376188788432, 1.8373901033708815, 1.364241304052489, 0.47787831069579045, 0.9340965975233531, -1.9638831328070507, 1.285340056168416, 0.04402383301601047, 1.7663507387227864, 0.7049184791950182, 0.8312970481552114, 0.7675905656880825, 0.37056607816491954, -1.2093315680754906, 1.3598424436986318, 1.5569429427927903, 1.2035383626014664, -1.6064475009710528, -0.17644235510281037, -1.848512876763121, -2.130636563893346, -2.0540553622816176, -0.3423467742939059, -2.1631507941643733, 0.9100217770897594, 0.5039211232753436, 2.5799124969076015, -0.6885883895939728, 1.2854379601311703, 0.4605514133553873, 0.9630028070009602, 0.772437813327501, 1.3678782497329183, 0.24310790611128116, 2.95391097487216, -0.334648786139841, 0.2969086241311321, 0.16717988301788383, 0.5753795901727868, 1.6073455801060526, -0.3085381458667645, 0.35530882536780856, -0.745882634898463, 0.6137128627985988, -2.3418116536428757, -1.558226042557553, 0.15770945608710932, -2.5047519611168263, -2.6087405644725608, -0.8069067755119033, -1.3950035075169835, -0.7120096343381805, -1.8473033718665197, -1.4961319360866374, -2.4559280333283926, -2.826379941296961, -1.7363592262365606, -2.5887024011847513, -3.5677519305792575, -0.8355666151459038, 0.028737752330262406, 0.5528450670105018, -1.7298406409349447, -1.454475954171096, -0.32489689124585347, 0.8038154511090672, -2.625748386998345, -0.8725625761839365, 0.12850399848209787, -2.3643514560929773, -0.8217768387056028, -1.0468370344338425, -1.7636212506081506, -2.8796469923214856, 1.3204582743124536, -3.6633056721393316, -3.14482155452287, -1.2643562648957916, -2.1246632228576052, -2.0741974819780356, -1.4298916985884165, -3.6397790210967567, 0.9742423851058643, -1.1022199804168993, 2.1337279737201373, 1.0860007190030239, 1.165199644409914, 1.0020377336767048, 0.9138689035849739, 0.44647409637328606, -0.6537770100642899, 0.7866544619987725, -1.0598162393096817, 1.5291441988289893, -5.27969948289156, -1.948335440073433, 0.45858558290468326, 0.8288239397753547, 0.6810398255040716], \"xaxis\": \"x\", \"y\": [-0.31299888491215544, -0.7413701318181554, -0.988755310535247, 0.2670292351653309, -5.473496127651643, -0.8031552351681412, 0.32342883347572815, -2.463400803891062, 0.7203065286521012, 0.796528751414581, -0.4952356933591413, -0.21319377853260882, -1.1297402091916748, -0.4107787500044408, 1.0650442408347047, -1.058474359483334, 0.645885208578617, -2.2324601397053225, -2.444701308649122, -0.9787553378288972, -0.9372704992344107, 0.7727652865019923, -1.70154804087608, -1.0148038059419149, -3.478188600992452, -0.9911825272705989, -1.3692434677197876, -0.7811701514373371, -1.0252882227421478, -2.8526500632630176, -0.6952829856989704, 0.44162621374995853, 0.5323609752877133, -1.1600278940436004, -0.6644164176722753, -0.09702127816415547, 0.4274545272345443, -0.5418170857650806, 0.7018063482782331, -1.2691395570324062, -0.1039774989628163, -1.0782555260004973, -0.32782231441747395, -0.3180398473495341, 0.2602139354602994, -1.4814702612290476, -0.8579208566135916, -1.8804337097595625, -0.10034330713069349, 3.6254602210951266, -0.2917023257299142, 0.727110849088856, -2.696733694825664, -0.05131642834016039, -0.9435491750672688, -0.48986135744369574, -2.079500507322264, 1.465343818873605, -0.9307329710477547, -0.5981396763042256, 0.3600184102511881, 0.633631670363101, -1.0469535958559244, -0.9545904123775264, 3.5603466351096302, 0.8621827871544845, -1.1909000892350587, -1.176804796741698, -1.0325756886732484, -1.9049721144522915, -0.989556516717412, 0.7570759549757515, 0.8480637598852454, 0.4022123811268318, -1.1782651137885654, 0.5112609740768402, 1.468744114291958, -0.357565748663528, -0.15662789592023255, -1.2128491425885386, 0.6080576533056958, 0.6160570879471032, -1.1390435310079234, -1.1628006135829256, -0.4791370022972658, -1.212181227307147, -1.8564126145841142, 0.8160119734483735, 0.9414835723500399, -0.5318994759119602, -0.23892089881448084, -0.6639018137217584, 0.18287106801952707, 0.48483332879555824, -1.3090293335413088, -0.6757040874554112, -0.4232802322025094, -0.29577816136672846, 0.5844373412953852, -3.5781851654688546, 1.2407760579300624, -0.5520452563268954, -0.9927080914592185, 0.3388244007237707, -0.24876214071412278, -1.2611579613041968, 0.6333647214473237, 0.4186653348386584, -0.2030386223092031, -1.0252250459465768, 0.249159727840472, -2.6119454917211558, -0.5258964091702124, -0.952854548878405, 0.3712733601107631, -0.7474978087762122, 0.6390464200325734, -0.9572649265639434, 0.7372718380739152, 0.5593776067908325, -0.9951178879701849, -0.7052793615100199, -0.9103437855917742, -0.4659719172125205, 0.4707544052094719, -0.9609463686936796, -0.8725857596971036, -0.9978686308136242, -0.15872716925388894, -0.7093193251967204, -0.7744312486280193, 0.2534823821987245, -0.17086023868266942, 0.2014886576832486, -0.986577472382371, 0.3392456832026881, 0.8571662379928988, 0.36090597913219885, -1.0941915467956902, 0.009692746178171348, -0.9467444359458064, -0.9097209903696726, -0.35033389068027593, -0.27272475348618064, -1.0124581718491175, 0.006131057259123358, -0.5802470600730968, -1.5096369790475581, 0.4283641923908591, -1.0493765779221167, 0.14980832385039763, -0.7549245737530029, -1.1189457804052714, -1.3119896074641468, -0.817550965886226, 0.1137723795800614, -0.695992427574094, 0.7895236845127592, -1.1162824415779509, 1.3730158371668677, 0.7895328899886305, -1.1782088528438566, 0.33558147887712725, 0.5883074117788692, 0.78597842830685, -0.8471066304141999, -0.8584843409544383, 0.5315903344748152, 0.46820519078037803, -0.2600750442176603, -0.3887066592800385, -2.3631913871290395, 0.4023546561499933, -0.8490794855695603, 0.908509982305949, -0.2559331068332679, 0.2922969855713314, -0.6147275026698684, -1.1728693284863994, -1.0632177112889785, 0.9050705073184049, 1.0657820091659047, 1.4612205743931685, 0.8909830369595935, 3.3516337976052046, 0.7095010643519502, 0.4332495820001498, 2.2528266246282005, 2.084758994364433, 0.5130954999639562, 1.2704260151662996, 1.1066057705986712, 1.338818829511293, 3.2079036354468426, -0.29188330544301855, -1.187482519293643, -0.664903542140868, -0.9016221446522329, 0.5928605072210448, -1.3219354434006791, 1.1496454021005085, -1.194095759351469, -1.170282786959182, -0.17112214850248947, -1.0166876875672708, 0.25079738000738916, -0.6481567388113865, -0.4688201723656061, -2.0577211501285015, -0.9390301770492931, 1.3470854153412706, 1.3735826991202018, 2.4308791919854738, 0.980507683493065, 0.9891644952301264, 2.6740384990842947, 1.1907831774810629, 1.889174779411854, 1.4931621396993673, 1.3803538632261996, 1.362925607156328, 0.7232607330856993, 1.005324180987571, 0.3451712449429019, 0.5331179335562952, 0.9871084806957331, 1.5937210598431093, 2.0815304958110987, 0.9091296588910249, 0.5501663215116483, 1.9276113418305123, 2.5694324995566125, 0.5215746259431451, 1.9321422909473769, 2.843494669216186, 0.5821761033857857, 1.2320205548218768, 1.0560714051635358, 1.408108950535679, 0.3807218987636318, 1.0936972727093806, 1.1997334143757326, -0.005888971722903428, 1.720954950044562, 0.8496357709772344, 0.4738892258685297, 1.1481841620171687, -0.5498045141483551, -0.2681001052817585, -0.3328303250677676, 0.7378112809719621, -0.6909551200944845, -0.14692116354154555, -0.7911952734907849, 0.25060012066403825, -0.36314984046657617, 0.7272207375883641, -0.3332058908101434, -0.03665813194759517, 0.20077595006088028, -0.8826304962178639, -0.07126634547396407, -1.1450015286548219, -0.7023212065517682, 0.6157167504651596], \"yaxis\": \"y\"}, {\"customdata\": [[5818263], [25], [192]], \"hovertemplate\": \"type=outlier<br>c1=%{x}<br>c2=%{y}<br>entity_name=%{customdata[0]}<extra></extra>\", \"legendgroup\": \"outlier\", \"marker\": {\"color\": \"#EF553B\", \"symbol\": \"circle\"}, \"mode\": \"markers\", \"name\": \"outlier\", \"showlegend\": true, \"type\": \"scatter\", \"x\": [6.074632234222473, -1.6978394674569142, -3.1332794725064486], \"xaxis\": \"x\", \"y\": [1.6235377276278606, 9.668186517487431, 12.61433241801409], \"yaxis\": \"y\"}],\n",
       "                        {\"legend\": {\"title\": {\"text\": \"type\"}, \"tracegroupgap\": 0}, \"margin\": {\"t\": 60}, \"template\": {\"data\": {\"bar\": [{\"error_x\": {\"color\": \"#2a3f5f\"}, \"error_y\": {\"color\": \"#2a3f5f\"}, \"marker\": {\"line\": {\"color\": \"#E5ECF6\", \"width\": 0.5}}, \"type\": \"bar\"}], \"barpolar\": [{\"marker\": {\"line\": {\"color\": \"#E5ECF6\", \"width\": 0.5}}, \"type\": \"barpolar\"}], \"carpet\": [{\"aaxis\": {\"endlinecolor\": \"#2a3f5f\", \"gridcolor\": \"white\", \"linecolor\": \"white\", \"minorgridcolor\": \"white\", \"startlinecolor\": \"#2a3f5f\"}, \"baxis\": {\"endlinecolor\": \"#2a3f5f\", \"gridcolor\": \"white\", \"linecolor\": \"white\", \"minorgridcolor\": \"white\", \"startlinecolor\": \"#2a3f5f\"}, \"type\": \"carpet\"}], \"choropleth\": [{\"colorbar\": {\"outlinewidth\": 0, \"ticks\": \"\"}, \"type\": \"choropleth\"}], \"contour\": [{\"colorbar\": {\"outlinewidth\": 0, \"ticks\": \"\"}, \"colorscale\": [[0.0, \"#0d0887\"], [0.1111111111111111, \"#46039f\"], [0.2222222222222222, \"#7201a8\"], [0.3333333333333333, \"#9c179e\"], [0.4444444444444444, \"#bd3786\"], [0.5555555555555556, \"#d8576b\"], [0.6666666666666666, \"#ed7953\"], [0.7777777777777778, \"#fb9f3a\"], [0.8888888888888888, \"#fdca26\"], [1.0, \"#f0f921\"]], \"type\": \"contour\"}], \"contourcarpet\": [{\"colorbar\": {\"outlinewidth\": 0, \"ticks\": \"\"}, \"type\": \"contourcarpet\"}], \"heatmap\": [{\"colorbar\": {\"outlinewidth\": 0, \"ticks\": \"\"}, \"colorscale\": [[0.0, \"#0d0887\"], [0.1111111111111111, \"#46039f\"], [0.2222222222222222, \"#7201a8\"], [0.3333333333333333, \"#9c179e\"], [0.4444444444444444, \"#bd3786\"], [0.5555555555555556, \"#d8576b\"], [0.6666666666666666, \"#ed7953\"], [0.7777777777777778, \"#fb9f3a\"], [0.8888888888888888, \"#fdca26\"], [1.0, \"#f0f921\"]], \"type\": \"heatmap\"}], \"heatmapgl\": [{\"colorbar\": {\"outlinewidth\": 0, \"ticks\": \"\"}, \"colorscale\": [[0.0, \"#0d0887\"], [0.1111111111111111, \"#46039f\"], [0.2222222222222222, \"#7201a8\"], [0.3333333333333333, \"#9c179e\"], [0.4444444444444444, \"#bd3786\"], [0.5555555555555556, \"#d8576b\"], [0.6666666666666666, \"#ed7953\"], [0.7777777777777778, \"#fb9f3a\"], [0.8888888888888888, \"#fdca26\"], [1.0, \"#f0f921\"]], \"type\": \"heatmapgl\"}], \"histogram\": [{\"marker\": {\"colorbar\": {\"outlinewidth\": 0, \"ticks\": \"\"}}, \"type\": \"histogram\"}], \"histogram2d\": [{\"colorbar\": {\"outlinewidth\": 0, \"ticks\": \"\"}, \"colorscale\": [[0.0, \"#0d0887\"], [0.1111111111111111, \"#46039f\"], [0.2222222222222222, \"#7201a8\"], [0.3333333333333333, \"#9c179e\"], [0.4444444444444444, \"#bd3786\"], [0.5555555555555556, \"#d8576b\"], [0.6666666666666666, \"#ed7953\"], [0.7777777777777778, \"#fb9f3a\"], [0.8888888888888888, \"#fdca26\"], [1.0, \"#f0f921\"]], \"type\": \"histogram2d\"}], \"histogram2dcontour\": [{\"colorbar\": {\"outlinewidth\": 0, \"ticks\": \"\"}, \"colorscale\": [[0.0, \"#0d0887\"], [0.1111111111111111, \"#46039f\"], [0.2222222222222222, \"#7201a8\"], [0.3333333333333333, \"#9c179e\"], [0.4444444444444444, \"#bd3786\"], [0.5555555555555556, \"#d8576b\"], [0.6666666666666666, \"#ed7953\"], [0.7777777777777778, \"#fb9f3a\"], [0.8888888888888888, \"#fdca26\"], [1.0, \"#f0f921\"]], \"type\": \"histogram2dcontour\"}], \"mesh3d\": [{\"colorbar\": {\"outlinewidth\": 0, \"ticks\": \"\"}, \"type\": \"mesh3d\"}], \"parcoords\": [{\"line\": {\"colorbar\": {\"outlinewidth\": 0, \"ticks\": \"\"}}, \"type\": \"parcoords\"}], \"pie\": [{\"automargin\": true, \"type\": \"pie\"}], \"scatter\": [{\"marker\": {\"colorbar\": {\"outlinewidth\": 0, \"ticks\": \"\"}}, \"type\": \"scatter\"}], \"scatter3d\": [{\"line\": {\"colorbar\": {\"outlinewidth\": 0, \"ticks\": \"\"}}, \"marker\": {\"colorbar\": {\"outlinewidth\": 0, \"ticks\": \"\"}}, \"type\": \"scatter3d\"}], \"scattercarpet\": [{\"marker\": {\"colorbar\": {\"outlinewidth\": 0, \"ticks\": \"\"}}, \"type\": \"scattercarpet\"}], \"scattergeo\": [{\"marker\": {\"colorbar\": {\"outlinewidth\": 0, \"ticks\": \"\"}}, \"type\": \"scattergeo\"}], \"scattergl\": [{\"marker\": {\"colorbar\": {\"outlinewidth\": 0, \"ticks\": \"\"}}, \"type\": \"scattergl\"}], \"scattermapbox\": [{\"marker\": {\"colorbar\": {\"outlinewidth\": 0, \"ticks\": \"\"}}, \"type\": \"scattermapbox\"}], \"scatterpolar\": [{\"marker\": {\"colorbar\": {\"outlinewidth\": 0, \"ticks\": \"\"}}, \"type\": \"scatterpolar\"}], \"scatterpolargl\": [{\"marker\": {\"colorbar\": {\"outlinewidth\": 0, \"ticks\": \"\"}}, \"type\": \"scatterpolargl\"}], \"scatterternary\": [{\"marker\": {\"colorbar\": {\"outlinewidth\": 0, \"ticks\": \"\"}}, \"type\": \"scatterternary\"}], \"surface\": [{\"colorbar\": {\"outlinewidth\": 0, \"ticks\": \"\"}, \"colorscale\": [[0.0, \"#0d0887\"], [0.1111111111111111, \"#46039f\"], [0.2222222222222222, \"#7201a8\"], [0.3333333333333333, \"#9c179e\"], [0.4444444444444444, \"#bd3786\"], [0.5555555555555556, \"#d8576b\"], [0.6666666666666666, \"#ed7953\"], [0.7777777777777778, \"#fb9f3a\"], [0.8888888888888888, \"#fdca26\"], [1.0, \"#f0f921\"]], \"type\": \"surface\"}], \"table\": [{\"cells\": {\"fill\": {\"color\": \"#EBF0F8\"}, \"line\": {\"color\": \"white\"}}, \"header\": {\"fill\": {\"color\": \"#C8D4E3\"}, \"line\": {\"color\": \"white\"}}, \"type\": \"table\"}]}, \"layout\": {\"annotationdefaults\": {\"arrowcolor\": \"#2a3f5f\", \"arrowhead\": 0, \"arrowwidth\": 1}, \"coloraxis\": {\"colorbar\": {\"outlinewidth\": 0, \"ticks\": \"\"}}, \"colorscale\": {\"diverging\": [[0, \"#8e0152\"], [0.1, \"#c51b7d\"], [0.2, \"#de77ae\"], [0.3, \"#f1b6da\"], [0.4, \"#fde0ef\"], [0.5, \"#f7f7f7\"], [0.6, \"#e6f5d0\"], [0.7, \"#b8e186\"], [0.8, \"#7fbc41\"], [0.9, \"#4d9221\"], [1, \"#276419\"]], \"sequential\": [[0.0, \"#0d0887\"], [0.1111111111111111, \"#46039f\"], [0.2222222222222222, \"#7201a8\"], [0.3333333333333333, \"#9c179e\"], [0.4444444444444444, \"#bd3786\"], [0.5555555555555556, \"#d8576b\"], [0.6666666666666666, \"#ed7953\"], [0.7777777777777778, \"#fb9f3a\"], [0.8888888888888888, \"#fdca26\"], [1.0, \"#f0f921\"]], \"sequentialminus\": [[0.0, \"#0d0887\"], [0.1111111111111111, \"#46039f\"], [0.2222222222222222, \"#7201a8\"], [0.3333333333333333, \"#9c179e\"], [0.4444444444444444, \"#bd3786\"], [0.5555555555555556, \"#d8576b\"], [0.6666666666666666, \"#ed7953\"], [0.7777777777777778, \"#fb9f3a\"], [0.8888888888888888, \"#fdca26\"], [1.0, \"#f0f921\"]]}, \"colorway\": [\"#636efa\", \"#EF553B\", \"#00cc96\", \"#ab63fa\", \"#FFA15A\", \"#19d3f3\", \"#FF6692\", \"#B6E880\", \"#FF97FF\", \"#FECB52\"], \"font\": {\"color\": \"#2a3f5f\"}, \"geo\": {\"bgcolor\": \"white\", \"lakecolor\": \"white\", \"landcolor\": \"#E5ECF6\", \"showlakes\": true, \"showland\": true, \"subunitcolor\": \"white\"}, \"hoverlabel\": {\"align\": \"left\"}, \"hovermode\": \"closest\", \"mapbox\": {\"style\": \"light\"}, \"paper_bgcolor\": \"white\", \"plot_bgcolor\": \"#E5ECF6\", \"polar\": {\"angularaxis\": {\"gridcolor\": \"white\", \"linecolor\": \"white\", \"ticks\": \"\"}, \"bgcolor\": \"#E5ECF6\", \"radialaxis\": {\"gridcolor\": \"white\", \"linecolor\": \"white\", \"ticks\": \"\"}}, \"scene\": {\"xaxis\": {\"backgroundcolor\": \"#E5ECF6\", \"gridcolor\": \"white\", \"gridwidth\": 2, \"linecolor\": \"white\", \"showbackground\": true, \"ticks\": \"\", \"zerolinecolor\": \"white\"}, \"yaxis\": {\"backgroundcolor\": \"#E5ECF6\", \"gridcolor\": \"white\", \"gridwidth\": 2, \"linecolor\": \"white\", \"showbackground\": true, \"ticks\": \"\", \"zerolinecolor\": \"white\"}, \"zaxis\": {\"backgroundcolor\": \"#E5ECF6\", \"gridcolor\": \"white\", \"gridwidth\": 2, \"linecolor\": \"white\", \"showbackground\": true, \"ticks\": \"\", \"zerolinecolor\": \"white\"}}, \"shapedefaults\": {\"line\": {\"color\": \"#2a3f5f\"}}, \"ternary\": {\"aaxis\": {\"gridcolor\": \"white\", \"linecolor\": \"white\", \"ticks\": \"\"}, \"baxis\": {\"gridcolor\": \"white\", \"linecolor\": \"white\", \"ticks\": \"\"}, \"bgcolor\": \"#E5ECF6\", \"caxis\": {\"gridcolor\": \"white\", \"linecolor\": \"white\", \"ticks\": \"\"}}, \"title\": {\"x\": 0.05}, \"xaxis\": {\"automargin\": true, \"gridcolor\": \"white\", \"linecolor\": \"white\", \"ticks\": \"\", \"title\": {\"standoff\": 15}, \"zerolinecolor\": \"white\", \"zerolinewidth\": 2}, \"yaxis\": {\"automargin\": true, \"gridcolor\": \"white\", \"linecolor\": \"white\", \"ticks\": \"\", \"title\": {\"standoff\": 15}, \"zerolinecolor\": \"white\", \"zerolinewidth\": 2}}}, \"title\": {\"text\": \"PCA\"}, \"xaxis\": {\"anchor\": \"y\", \"domain\": [0.0, 1.0], \"title\": {\"text\": \"c1\"}}, \"yaxis\": {\"anchor\": \"x\", \"domain\": [0.0, 1.0], \"title\": {\"text\": \"c2\"}}},\n",
       "                        {\"responsive\": true}\n",
       "                    ).then(function(){\n",
       "                            \n",
       "var gd = document.getElementById('01129fc5-f3bc-45a2-a78a-afb9ec461ee8');\n",
       "var x = new MutationObserver(function (mutations, observer) {{\n",
       "        var display = window.getComputedStyle(gd).display;\n",
       "        if (!display || display === 'none') {{\n",
       "            console.log([gd, 'removed!']);\n",
       "            Plotly.purge(gd);\n",
       "            observer.disconnect();\n",
       "        }}\n",
       "}});\n",
       "\n",
       "// Listen for the removal of the full notebook cells\n",
       "var notebookContainer = gd.closest('#notebook-container');\n",
       "if (notebookContainer) {{\n",
       "    x.observe(notebookContainer, {childList: true});\n",
       "}}\n",
       "\n",
       "// Listen for the clearing of the current output cell\n",
       "var outputEl = gd.closest('.output');\n",
       "if (outputEl) {{\n",
       "    x.observe(outputEl, {childList: true});\n",
       "}}\n",
       "\n",
       "                        })\n",
       "                };\n",
       "                });\n",
       "            </script>\n",
       "        </div>"
      ]
     },
     "metadata": {},
     "output_type": "display_data"
    }
   ],
   "source": []
  },
  {
   "cell_type": "code",
   "execution_count": 39,
   "metadata": {},
   "outputs": [
    {
     "data": {
      "application/vnd.plotly.v1+json": {
       "config": {
        "plotlyServerURL": "https://plot.ly"
       },
       "data": [
        {
         "customdata": [
          [
           6470
          ],
          [
           92595
          ],
          [
           3034
          ],
          [
           1074
          ],
          [
           5
          ],
          [
           41108
          ],
          [
           102321
          ],
          [
           660
          ],
          [
           228200
          ],
          [
           77532
          ],
          [
           23394
          ],
          [
           22172
          ],
          [
           23165
          ],
          [
           576
          ],
          [
           258499
          ],
          [
           28948
          ],
          [
           44644
          ],
          [
           24300
          ],
          [
           2644
          ],
          [
           10770
          ],
          [
           232009
          ],
          [
           182072
          ],
          [
           13593
          ],
          [
           12685
          ],
          [
           9022
          ],
          [
           47188
          ],
          [
           1136
          ],
          [
           17979
          ],
          [
           9500
          ],
          [
           4230
          ],
          [
           4299
          ],
          [
           63956
          ],
          [
           35028
          ],
          [
           17155
          ],
          [
           13532
          ],
          [
           4354
          ],
          [
           52727
          ],
          [
           14900
          ],
          [
           43457
          ],
          [
           10600
          ],
          [
           40212
          ],
          [
           15207
          ],
          [
           4145789
          ],
          [
           27008
          ],
          [
           861457
          ],
          [
           13449
          ],
          [
           30687
          ],
          [
           6436
          ],
          [
           15429
          ],
          [
           7
          ],
          [
           296
          ],
          [
           183218
          ],
          [
           1539
          ],
          [
           889
          ],
          [
           40061
          ],
          [
           15752
          ],
          [
           440
          ],
          [
           28186
          ],
          [
           22938
          ],
          [
           37650
          ],
          [
           15229
          ],
          [
           5788
          ],
          [
           12778
          ],
          [
           6184
          ],
          [
           2436
          ],
          [
           126474
          ],
          [
           5502
          ],
          [
           10671
          ],
          [
           12331
          ],
          [
           52
          ],
          [
           6552
          ],
          [
           54438
          ],
          [
           19953
          ],
          [
           41421
          ],
          [
           12369
          ],
          [
           44923
          ],
          [
           775
          ],
          [
           6786
          ],
          [
           49067
          ],
          [
           12208
          ],
          [
           24895
          ],
          [
           46796
          ],
          [
           37249
          ],
          [
           32313
          ],
          [
           16265
          ],
          [
           21604
          ],
          [
           2169
          ],
          [
           53497
          ],
          [
           2019
          ],
          [
           18942
          ],
          [
           36253
          ],
          [
           39741
          ],
          [
           12785
          ],
          [
           57166
          ],
          [
           3603
          ],
          [
           38674
          ],
          [
           2344626
          ],
          [
           26447
          ],
          [
           17972
          ],
          [
           1946
          ],
          [
           359053
          ],
          [
           15126
          ],
          [
           40874
          ],
          [
           1800
          ],
          [
           27895
          ],
          [
           19507
          ],
          [
           12083
          ],
          [
           11083
          ],
          [
           39562
          ],
          [
           12347
          ],
          [
           44908
          ],
          [
           3454
          ],
          [
           2760
          ],
          [
           10565
          ],
          [
           12166
          ],
          [
           80737
          ],
          [
           19829
          ],
          [
           71317
          ],
          [
           37649
          ],
          [
           4520
          ],
          [
           25786
          ],
          [
           25681
          ],
          [
           30077
          ],
          [
           25036
          ],
          [
           26474
          ],
          [
           21260
          ],
          [
           14012
          ],
          [
           22276
          ],
          [
           15292
          ],
          [
           6890
          ],
          [
           20934
          ],
          [
           24251
          ],
          [
           38775
          ],
          [
           29773
          ],
          [
           16839
          ],
          [
           22897
          ],
          [
           17575
          ],
          [
           33461
          ],
          [
           8208
          ],
          [
           148810
          ],
          [
           80098
          ],
          [
           60161
          ],
          [
           49741
          ],
          [
           23924
          ],
          [
           28490
          ],
          [
           42009
          ],
          [
           25817
          ],
          [
           3412
          ],
          [
           36958
          ],
          [
           6564
          ],
          [
           174011
          ],
          [
           17575
          ],
          [
           9345
          ],
          [
           14624
          ],
          [
           10013
          ],
          [
           7849
          ],
          [
           14332
          ],
          [
           19182
          ],
          [
           14082
          ],
          [
           1858
          ],
          [
           77814
          ],
          [
           8311
          ],
          [
           15586
          ],
          [
           9155
          ],
          [
           51941
          ],
          [
           1592
          ],
          [
           23306
          ],
          [
           37798
          ],
          [
           31865
          ],
          [
           1373
          ],
          [
           26486
          ],
          [
           161
          ],
          [
           5857
          ],
          [
           11747
          ],
          [
           22741
          ],
          [
           8082
          ],
          [
           8966
          ],
          [
           9939
          ],
          [
           20836
          ],
          [
           3863
          ],
          [
           26506
          ],
          [
           18725
          ],
          [
           3772
          ],
          [
           22268
          ],
          [
           8
          ],
          [
           322
          ],
          [
           600
          ],
          [
           75971
          ],
          [
           5107
          ],
          [
           82474
          ],
          [
           4538
          ],
          [
           3190
          ],
          [
           47355
          ],
          [
           4
          ],
          [
           25947
          ],
          [
           10431
          ],
          [
           115219
          ],
          [
           33974
          ],
          [
           19478
          ],
          [
           136021
          ],
          [
           67489
          ],
          [
           8458
          ],
          [
           23519
          ],
          [
           3162
          ],
          [
           12619
          ],
          [
           21159
          ],
          [
           1173
          ],
          [
           14933
          ],
          [
           3197
          ],
          [
           41805
          ],
          [
           82
          ],
          [
           2836
          ],
          [
           1151
          ],
          [
           11356
          ],
          [
           1611
          ],
          [
           260
          ],
          [
           50
          ],
          [
           94
          ],
          [
           338
          ],
          [
           12504
          ],
          [
           843
          ],
          [
           30
          ],
          [
           3831
          ],
          [
           18675
          ],
          [
           51
          ],
          [
           136139
          ],
          [
           111921
          ],
          [
           322
          ],
          [
           3149
          ],
          [
           2393
          ],
          [
           931
          ],
          [
           10094
          ],
          [
           16213
          ],
          [
           286
          ],
          [
           2556
          ],
          [
           400
          ],
          [
           533
          ],
          [
           30061
          ],
          [
           314
          ],
          [
           9353
          ],
          [
           7
          ],
          [
           9121
          ],
          [
           879
          ],
          [
           272
          ],
          [
           280
          ],
          [
           3135
          ],
          [
           6873
          ],
          [
           3900
          ],
          [
           31666
          ],
          [
           9738
          ],
          [
           25616
          ],
          [
           20000
          ],
          [
           21915
          ],
          [
           17199
          ],
          [
           6776
          ],
          [
           23382
          ],
          [
           59
          ],
          [
           16064
          ],
          [
           23615
          ],
          [
           47896
          ],
          [
           549
          ],
          [
           6786
          ],
          [
           18659
          ],
          [
           33072
          ],
          [
           47
          ]
         ],
         "hovertemplate": "type=normal<br>c1=%{x}<br>c2=%{y}<br>entity_name=%{customdata[0]}<extra></extra>",
         "legendgroup": "normal",
         "marker": {
          "color": "#636efa",
          "symbol": "circle"
         },
         "mode": "markers",
         "name": "normal",
         "showlegend": true,
         "type": "scatter",
         "x": [
          9.577153205871582,
          23.568696975708008,
          4.454340934753418,
          -3.420797824859619,
          19.001108169555664,
          19.687475204467773,
          10.13994312286377,
          8.037362098693848,
          -6.154289722442627,
          -3.4658336639404297,
          17.441036224365234,
          12.070653915405273,
          36.953330993652344,
          0.18148113787174225,
          10.186822891235352,
          35.827632904052734,
          -8.641616821289062,
          22.477630615234375,
          12.593881607055664,
          33.94184112548828,
          26.538192749023438,
          -5.051578998565674,
          12.429119110107422,
          31.46296501159668,
          9.70517635345459,
          27.357772827148438,
          20.329456329345703,
          21.84886360168457,
          32.67313003540039,
          19.362022399902344,
          4.331390380859375,
          0.9574791193008423,
          -0.6880987286567688,
          39.94439697265625,
          22.06768226623535,
          7.525454044342041,
          -6.753438949584961,
          14.05160903930664,
          -1.8604202270507812,
          43.93441390991211,
          4.202694892883301,
          35.774173736572266,
          22.33342742919922,
          2.039393424987793,
          11.009963989257812,
          17.52522850036621,
          32.718502044677734,
          20.373126983642578,
          -2.250640869140625,
          -0.4041040539741516,
          0.7763572335243225,
          9.283684730529785,
          18.317161560058594,
          -0.7954267859458923,
          23.636550903320312,
          1.7319003343582153,
          2.1439337730407715,
          2.114569664001465,
          31.86465835571289,
          27.465225219726562,
          -4.986932277679443,
          -24.33382797241211,
          37.87043380737305,
          14.95051383972168,
          0.12199658155441284,
          2.291144609451294,
          2.323863983154297,
          34.52785873413086,
          20.30235481262207,
          11.809316635131836,
          10.895416259765625,
          -14.51182746887207,
          -17.08498191833496,
          -5.406385898590088,
          36.568695068359375,
          -12.174555778503418,
          -27.009117126464844,
          9.368688583374023,
          2.8236186504364014,
          31.554195404052734,
          -11.922974586486816,
          3.6721391677856445,
          22.747112274169922,
          36.54075241088867,
          8.730501174926758,
          39.44768524169922,
          22.07949447631836,
          -13.780177116394043,
          -24.895282745361328,
          24.81262969970703,
          12.881234169006348,
          28.524301528930664,
          -22.01353645324707,
          -11.155430793762207,
          6.130562782287598,
          28.4592227935791,
          22.95872688293457,
          6.9928388595581055,
          -7.556760311126709,
          24.172510147094727,
          8.944936752319336,
          11.135346412658691,
          11.360958099365234,
          -20.616729736328125,
          0.5137314200401306,
          34.89016342163086,
          -0.44188785552978516,
          -3.687248706817627,
          4.402792930603027,
          29.12657356262207,
          -3.8648571968078613,
          13.785690307617188,
          1.3830500841140747,
          34.898616790771484,
          -6.970590114593506,
          30.805246353149414,
          -13.295060157775879,
          35.18137741088867,
          -10.767426490783691,
          -18.428932189941406,
          19.501827239990234,
          22.438812255859375,
          32.3175163269043,
          10.722184181213379,
          -12.721907615661621,
          33.51888656616211,
          22.42105484008789,
          37.53494644165039,
          5.693963050842285,
          9.982669830322266,
          30.541685104370117,
          -0.5054190158843994,
          3.72039794921875,
          -1.874153971672058,
          28.214210510253906,
          -6.589588165283203,
          -18.685237884521484,
          4.486183166503906,
          31.87078857421875,
          0.31472209095954895,
          35.89854431152344,
          34.03156661987305,
          1.4884989261627197,
          6.99609899520874,
          27.245769500732422,
          6.9561381340026855,
          20.13384246826172,
          6.657602310180664,
          -10.43027114868164,
          8.50240421295166,
          11.239619255065918,
          19.57495880126953,
          23.357126235961914,
          39.58922576904297,
          18.844816207885742,
          -10.666780471801758,
          26.229637145996094,
          3.242246150970459,
          24.271480560302734,
          -22.758739471435547,
          4.819562911987305,
          32.82572555541992,
          -15.474234580993652,
          -8.43717098236084,
          -3.5531182289123535,
          8.85742473602295,
          19.091144561767578,
          -7.2132248878479,
          -13.53392219543457,
          12.578001976013184,
          -1.2759329080581665,
          17.133371353149414,
          -17.062822341918945,
          10.967635154724121,
          -15.202399253845215,
          9.645964622497559,
          -7.918918609619141,
          11.49226188659668,
          42.92821502685547,
          12.019661903381348,
          -21.24195671081543,
          8.30947494506836,
          -23.364398956298828,
          -41.36388397216797,
          -48.943267822265625,
          -37.02091979980469,
          -41.061973571777344,
          -37.23761749267578,
          -43.67633056640625,
          -29.42508888244629,
          -23.743051528930664,
          -25.08483123779297,
          7.537115097045898,
          -48.151119232177734,
          18.86712074279785,
          38.78480529785156,
          18.783132553100586,
          33.81005859375,
          -15.365979194641113,
          26.367177963256836,
          11.761016845703125,
          21.354833602905273,
          29.27134132385254,
          -23.862215042114258,
          36.52496337890625,
          -4.847838401794434,
          19.342302322387695,
          19.249576568603516,
          19.763391494750977,
          35.41484069824219,
          -32.55526351928711,
          -38.0369758605957,
          -45.939022064208984,
          -31.511991500854492,
          -30.279720306396484,
          -45.82389831542969,
          -37.1097297668457,
          -40.57902908325195,
          -35.79747009277344,
          -37.80960464477539,
          -30.781766891479492,
          -32.728065490722656,
          -36.67521286010742,
          -28.09610366821289,
          -25.959125518798828,
          -43.742122650146484,
          13.775346755981445,
          -44.27555847167969,
          -41.17299270629883,
          -43.45808029174805,
          -42.05968475341797,
          -47.051815032958984,
          -29.453943252563477,
          -42.942832946777344,
          -47.47542190551758,
          -32.041107177734375,
          -39.98469543457031,
          -43.66447830200195,
          -38.403995513916016,
          -28.07050132751465,
          -25.12786865234375,
          -245.8147430419922,
          -26.348793029785156,
          -42.324954986572266,
          -38.97129440307617,
          -42.77922058105469,
          -42.11582946777344,
          -25.01058578491211,
          6.484882354736328,
          12.515446662902832,
          -1.8340075016021729,
          19.401926040649414,
          3.844189405441284,
          19.410547256469727,
          -19.791643142700195,
          19.676448822021484,
          -25.362293243408203,
          8.551497459411621,
          12.624466896057129,
          -0.46393412351608276,
          0.2981325685977936,
          9.708229064941406,
          35.511714935302734,
          30.893850326538086,
          -22.678319931030273
         ],
         "xaxis": "x",
         "y": [
          3.811269760131836,
          10.997577667236328,
          39.54911804199219,
          -23.439401626586914,
          34.23535919189453,
          -20.667766571044922,
          -23.108919143676758,
          37.26936721801758,
          -46.54576873779297,
          -47.44517517089844,
          -16.375072479248047,
          -19.79263687133789,
          7.319060325622559,
          47.755252838134766,
          -45.911842346191406,
          2.6570019721984863,
          -42.8347053527832,
          30.307296752929688,
          34.93031692504883,
          -3.72499418258667,
          -0.6842990517616272,
          -47.4639892578125,
          33.2674446105957,
          2.086857318878174,
          39.80702590942383,
          8.217394828796387,
          23.814233779907227,
          11.89621639251709,
          2.5768439769744873,
          32.28654479980469,
          40.6153564453125,
          -33.947837829589844,
          -42.32219696044922,
          3.8710169792175293,
          -9.613286972045898,
          6.092358589172363,
          -33.02507019042969,
          -9.153756141662598,
          -43.302894592285156,
          5.090747356414795,
          -16.786907196044922,
          5.287781238555908,
          -33.658592224121094,
          -14.198904991149902,
          -43.38138961791992,
          24.500164031982422,
          -10.625162124633789,
          26.117414474487305,
          -21.357912063598633,
          17.285131454467773,
          38.76963806152344,
          -44.83167266845703,
          31.101327896118164,
          46.31404495239258,
          12.655608177185059,
          35.34466552734375,
          32.43364334106445,
          21.063583374023438,
          -3.002532720565796,
          -13.790446281433105,
          -26.58958625793457,
          -36.85089874267578,
          2.910855293273926,
          22.159387588500977,
          18.04133415222168,
          21.870384216308594,
          34.3105354309082,
          9.651418685913086,
          -2.5797150135040283,
          36.74820327758789,
          27.523944854736328,
          -42.03157424926758,
          -40.56571960449219,
          -31.431854248046875,
          10.815895080566406,
          -29.743972778320312,
          -38.63898849487305,
          9.746192932128906,
          -15.420709609985352,
          12.49998664855957,
          -35.276092529296875,
          -42.77372741699219,
          21.394351959228516,
          9.370467185974121,
          -18.18218994140625,
          8.640830993652344,
          25.516616821289062,
          -42.71660614013672,
          -38.716880798339844,
          -9.010392189025879,
          -18.876283645629883,
          -8.719867706298828,
          -28.950727462768555,
          -32.65865707397461,
          41.049888610839844,
          -12.549626350402832,
          -33.07469177246094,
          -18.76458168029785,
          -41.4592399597168,
          30.803062438964844,
          -47.36561965942383,
          20.066911697387695,
          29.63041877746582,
          -29.78107261657715,
          -15.561968803405762,
          11.9585599899292,
          -44.18333053588867,
          -26.471240997314453,
          -14.64462661743164,
          5.185865879058838,
          -32.78847885131836,
          35.22019577026367,
          37.73291015625,
          0.6327376961708069,
          -36.36899185180664,
          -9.212178230285645,
          -34.78323745727539,
          -6.383728981018066,
          -39.70961380004883,
          -32.01929473876953,
          -3.7423532009124756,
          -8.68986701965332,
          -4.7071967124938965,
          -14.133631706237793,
          -32.617698669433594,
          -2.320178985595703,
          15.107970237731934,
          -9.46805191040039,
          -20.499608993530273,
          7.622263431549072,
          -7.586296081542969,
          -26.09361457824707,
          -11.634269714355469,
          -32.22938919067383,
          9.823418617248535,
          -35.020347595214844,
          -39.821189880371094,
          -39.84048080444336,
          7.7503132820129395,
          -30.624258041381836,
          -8.252419471740723,
          -7.067600250244141,
          -17.60220718383789,
          -12.381941795349121,
          11.36705493927002,
          -14.713845252990723,
          11.415458679199219,
          39.386810302734375,
          -31.591266632080078,
          27.107315063476562,
          18.210216522216797,
          16.232439041137695,
          17.67848014831543,
          10.36252498626709,
          -5.045208930969238,
          -27.935529708862305,
          -6.745586395263672,
          -44.31578063964844,
          16.663576126098633,
          -43.11051559448242,
          -44.66422653198242,
          9.068635940551758,
          -30.32065200805664,
          -38.48008728027344,
          -45.66920471191406,
          11.3967866897583,
          14.841919898986816,
          -39.59416580200195,
          -31.168624877929688,
          -9.108820915222168,
          -14.115867614746094,
          30.95906639099121,
          -34.33185577392578,
          7.3811163902282715,
          -44.30458068847656,
          1.9735994338989258,
          -18.910930633544922,
          -15.814177513122559,
          4.563012599945068,
          26.91546058654785,
          -44.3436279296875,
          -48.96992111206055,
          -44.350677490234375,
          47.71031188964844,
          34.26691818237305,
          47.333133697509766,
          50.16807556152344,
          33.47963333129883,
          36.04460525512695,
          48.79888916015625,
          -41.770511627197266,
          -40.13570785522461,
          -45.52306365966797,
          35.65369415283203,
          -24.382383346557617,
          5.971168041229248,
          -17.441917419433594,
          -9.959478378295898,
          -32.31513214111328,
          0.26583147048950195,
          -46.468666076660156,
          20.70863151550293,
          13.013932228088379,
          -28.158843994140625,
          1.0401029586791992,
          -34.62167739868164,
          18.221006393432617,
          9.611185073852539,
          27.364891052246094,
          -2.1208810806274414,
          42.95500183105469,
          43.16885757446289,
          32.40142059326172,
          44.72611999511719,
          44.10602569580078,
          36.63819122314453,
          39.61439895629883,
          37.180912017822266,
          42.07826614379883,
          41.716007232666016,
          42.27346420288086,
          50.91584014892578,
          44.03700637817383,
          47.760719299316406,
          45.139408111572266,
          43.420719146728516,
          -46.654945373535156,
          32.75040817260742,
          46.300567626953125,
          47.37897491455078,
          35.93596267700195,
          31.527931213378906,
          46.9501953125,
          37.91456985473633,
          33.44487380981445,
          50.079593658447266,
          40.181373596191406,
          45.03325653076172,
          45.450157165527344,
          46.12727737426758,
          -43.2657585144043,
          -99.97793579101562,
          48.929840087890625,
          39.62066650390625,
          48.04365921020508,
          49.962005615234375,
          45.083030700683594,
          49.48362350463867,
          -17.484121322631836,
          19.888078689575195,
          -45.14969253540039,
          -19.13018226623535,
          -18.20456314086914,
          -22.160144805908203,
          -28.800546646118164,
          -12.40251350402832,
          -34.48807907104492,
          -13.592016220092773,
          18.568267822265625,
          -32.2723274230957,
          46.39619445800781,
          26.09988021850586,
          7.79774284362793,
          -11.660649299621582,
          -30.769023895263672
         ],
         "yaxis": "y"
        },
        {
         "customdata": [
          [
           5818263
          ],
          [
           25
          ],
          [
           192
          ]
         ],
         "hovertemplate": "type=outlier<br>c1=%{x}<br>c2=%{y}<br>entity_name=%{customdata[0]}<extra></extra>",
         "legendgroup": "outlier",
         "marker": {
          "color": "#EF553B",
          "symbol": "circle"
         },
         "mode": "markers",
         "name": "outlier",
         "showlegend": true,
         "type": "scatter",
         "x": [
          21.023681640625,
          -50.8670654296875,
          -37.42718505859375
         ],
         "xaxis": "x",
         "y": [
          -34.98725509643555,
          35.25578308105469,
          31.51776695251465
         ],
         "yaxis": "y"
        }
       ],
       "layout": {
        "legend": {
         "title": {
          "text": "type"
         },
         "tracegroupgap": 0
        },
        "margin": {
         "t": 60
        },
        "template": {
         "data": {
          "bar": [
           {
            "error_x": {
             "color": "#2a3f5f"
            },
            "error_y": {
             "color": "#2a3f5f"
            },
            "marker": {
             "line": {
              "color": "#E5ECF6",
              "width": 0.5
             }
            },
            "type": "bar"
           }
          ],
          "barpolar": [
           {
            "marker": {
             "line": {
              "color": "#E5ECF6",
              "width": 0.5
             }
            },
            "type": "barpolar"
           }
          ],
          "carpet": [
           {
            "aaxis": {
             "endlinecolor": "#2a3f5f",
             "gridcolor": "white",
             "linecolor": "white",
             "minorgridcolor": "white",
             "startlinecolor": "#2a3f5f"
            },
            "baxis": {
             "endlinecolor": "#2a3f5f",
             "gridcolor": "white",
             "linecolor": "white",
             "minorgridcolor": "white",
             "startlinecolor": "#2a3f5f"
            },
            "type": "carpet"
           }
          ],
          "choropleth": [
           {
            "colorbar": {
             "outlinewidth": 0,
             "ticks": ""
            },
            "type": "choropleth"
           }
          ],
          "contour": [
           {
            "colorbar": {
             "outlinewidth": 0,
             "ticks": ""
            },
            "colorscale": [
             [
              0,
              "#0d0887"
             ],
             [
              0.1111111111111111,
              "#46039f"
             ],
             [
              0.2222222222222222,
              "#7201a8"
             ],
             [
              0.3333333333333333,
              "#9c179e"
             ],
             [
              0.4444444444444444,
              "#bd3786"
             ],
             [
              0.5555555555555556,
              "#d8576b"
             ],
             [
              0.6666666666666666,
              "#ed7953"
             ],
             [
              0.7777777777777778,
              "#fb9f3a"
             ],
             [
              0.8888888888888888,
              "#fdca26"
             ],
             [
              1,
              "#f0f921"
             ]
            ],
            "type": "contour"
           }
          ],
          "contourcarpet": [
           {
            "colorbar": {
             "outlinewidth": 0,
             "ticks": ""
            },
            "type": "contourcarpet"
           }
          ],
          "heatmap": [
           {
            "colorbar": {
             "outlinewidth": 0,
             "ticks": ""
            },
            "colorscale": [
             [
              0,
              "#0d0887"
             ],
             [
              0.1111111111111111,
              "#46039f"
             ],
             [
              0.2222222222222222,
              "#7201a8"
             ],
             [
              0.3333333333333333,
              "#9c179e"
             ],
             [
              0.4444444444444444,
              "#bd3786"
             ],
             [
              0.5555555555555556,
              "#d8576b"
             ],
             [
              0.6666666666666666,
              "#ed7953"
             ],
             [
              0.7777777777777778,
              "#fb9f3a"
             ],
             [
              0.8888888888888888,
              "#fdca26"
             ],
             [
              1,
              "#f0f921"
             ]
            ],
            "type": "heatmap"
           }
          ],
          "heatmapgl": [
           {
            "colorbar": {
             "outlinewidth": 0,
             "ticks": ""
            },
            "colorscale": [
             [
              0,
              "#0d0887"
             ],
             [
              0.1111111111111111,
              "#46039f"
             ],
             [
              0.2222222222222222,
              "#7201a8"
             ],
             [
              0.3333333333333333,
              "#9c179e"
             ],
             [
              0.4444444444444444,
              "#bd3786"
             ],
             [
              0.5555555555555556,
              "#d8576b"
             ],
             [
              0.6666666666666666,
              "#ed7953"
             ],
             [
              0.7777777777777778,
              "#fb9f3a"
             ],
             [
              0.8888888888888888,
              "#fdca26"
             ],
             [
              1,
              "#f0f921"
             ]
            ],
            "type": "heatmapgl"
           }
          ],
          "histogram": [
           {
            "marker": {
             "colorbar": {
              "outlinewidth": 0,
              "ticks": ""
             }
            },
            "type": "histogram"
           }
          ],
          "histogram2d": [
           {
            "colorbar": {
             "outlinewidth": 0,
             "ticks": ""
            },
            "colorscale": [
             [
              0,
              "#0d0887"
             ],
             [
              0.1111111111111111,
              "#46039f"
             ],
             [
              0.2222222222222222,
              "#7201a8"
             ],
             [
              0.3333333333333333,
              "#9c179e"
             ],
             [
              0.4444444444444444,
              "#bd3786"
             ],
             [
              0.5555555555555556,
              "#d8576b"
             ],
             [
              0.6666666666666666,
              "#ed7953"
             ],
             [
              0.7777777777777778,
              "#fb9f3a"
             ],
             [
              0.8888888888888888,
              "#fdca26"
             ],
             [
              1,
              "#f0f921"
             ]
            ],
            "type": "histogram2d"
           }
          ],
          "histogram2dcontour": [
           {
            "colorbar": {
             "outlinewidth": 0,
             "ticks": ""
            },
            "colorscale": [
             [
              0,
              "#0d0887"
             ],
             [
              0.1111111111111111,
              "#46039f"
             ],
             [
              0.2222222222222222,
              "#7201a8"
             ],
             [
              0.3333333333333333,
              "#9c179e"
             ],
             [
              0.4444444444444444,
              "#bd3786"
             ],
             [
              0.5555555555555556,
              "#d8576b"
             ],
             [
              0.6666666666666666,
              "#ed7953"
             ],
             [
              0.7777777777777778,
              "#fb9f3a"
             ],
             [
              0.8888888888888888,
              "#fdca26"
             ],
             [
              1,
              "#f0f921"
             ]
            ],
            "type": "histogram2dcontour"
           }
          ],
          "mesh3d": [
           {
            "colorbar": {
             "outlinewidth": 0,
             "ticks": ""
            },
            "type": "mesh3d"
           }
          ],
          "parcoords": [
           {
            "line": {
             "colorbar": {
              "outlinewidth": 0,
              "ticks": ""
             }
            },
            "type": "parcoords"
           }
          ],
          "pie": [
           {
            "automargin": true,
            "type": "pie"
           }
          ],
          "scatter": [
           {
            "marker": {
             "colorbar": {
              "outlinewidth": 0,
              "ticks": ""
             }
            },
            "type": "scatter"
           }
          ],
          "scatter3d": [
           {
            "line": {
             "colorbar": {
              "outlinewidth": 0,
              "ticks": ""
             }
            },
            "marker": {
             "colorbar": {
              "outlinewidth": 0,
              "ticks": ""
             }
            },
            "type": "scatter3d"
           }
          ],
          "scattercarpet": [
           {
            "marker": {
             "colorbar": {
              "outlinewidth": 0,
              "ticks": ""
             }
            },
            "type": "scattercarpet"
           }
          ],
          "scattergeo": [
           {
            "marker": {
             "colorbar": {
              "outlinewidth": 0,
              "ticks": ""
             }
            },
            "type": "scattergeo"
           }
          ],
          "scattergl": [
           {
            "marker": {
             "colorbar": {
              "outlinewidth": 0,
              "ticks": ""
             }
            },
            "type": "scattergl"
           }
          ],
          "scattermapbox": [
           {
            "marker": {
             "colorbar": {
              "outlinewidth": 0,
              "ticks": ""
             }
            },
            "type": "scattermapbox"
           }
          ],
          "scatterpolar": [
           {
            "marker": {
             "colorbar": {
              "outlinewidth": 0,
              "ticks": ""
             }
            },
            "type": "scatterpolar"
           }
          ],
          "scatterpolargl": [
           {
            "marker": {
             "colorbar": {
              "outlinewidth": 0,
              "ticks": ""
             }
            },
            "type": "scatterpolargl"
           }
          ],
          "scatterternary": [
           {
            "marker": {
             "colorbar": {
              "outlinewidth": 0,
              "ticks": ""
             }
            },
            "type": "scatterternary"
           }
          ],
          "surface": [
           {
            "colorbar": {
             "outlinewidth": 0,
             "ticks": ""
            },
            "colorscale": [
             [
              0,
              "#0d0887"
             ],
             [
              0.1111111111111111,
              "#46039f"
             ],
             [
              0.2222222222222222,
              "#7201a8"
             ],
             [
              0.3333333333333333,
              "#9c179e"
             ],
             [
              0.4444444444444444,
              "#bd3786"
             ],
             [
              0.5555555555555556,
              "#d8576b"
             ],
             [
              0.6666666666666666,
              "#ed7953"
             ],
             [
              0.7777777777777778,
              "#fb9f3a"
             ],
             [
              0.8888888888888888,
              "#fdca26"
             ],
             [
              1,
              "#f0f921"
             ]
            ],
            "type": "surface"
           }
          ],
          "table": [
           {
            "cells": {
             "fill": {
              "color": "#EBF0F8"
             },
             "line": {
              "color": "white"
             }
            },
            "header": {
             "fill": {
              "color": "#C8D4E3"
             },
             "line": {
              "color": "white"
             }
            },
            "type": "table"
           }
          ]
         },
         "layout": {
          "annotationdefaults": {
           "arrowcolor": "#2a3f5f",
           "arrowhead": 0,
           "arrowwidth": 1
          },
          "coloraxis": {
           "colorbar": {
            "outlinewidth": 0,
            "ticks": ""
           }
          },
          "colorscale": {
           "diverging": [
            [
             0,
             "#8e0152"
            ],
            [
             0.1,
             "#c51b7d"
            ],
            [
             0.2,
             "#de77ae"
            ],
            [
             0.3,
             "#f1b6da"
            ],
            [
             0.4,
             "#fde0ef"
            ],
            [
             0.5,
             "#f7f7f7"
            ],
            [
             0.6,
             "#e6f5d0"
            ],
            [
             0.7,
             "#b8e186"
            ],
            [
             0.8,
             "#7fbc41"
            ],
            [
             0.9,
             "#4d9221"
            ],
            [
             1,
             "#276419"
            ]
           ],
           "sequential": [
            [
             0,
             "#0d0887"
            ],
            [
             0.1111111111111111,
             "#46039f"
            ],
            [
             0.2222222222222222,
             "#7201a8"
            ],
            [
             0.3333333333333333,
             "#9c179e"
            ],
            [
             0.4444444444444444,
             "#bd3786"
            ],
            [
             0.5555555555555556,
             "#d8576b"
            ],
            [
             0.6666666666666666,
             "#ed7953"
            ],
            [
             0.7777777777777778,
             "#fb9f3a"
            ],
            [
             0.8888888888888888,
             "#fdca26"
            ],
            [
             1,
             "#f0f921"
            ]
           ],
           "sequentialminus": [
            [
             0,
             "#0d0887"
            ],
            [
             0.1111111111111111,
             "#46039f"
            ],
            [
             0.2222222222222222,
             "#7201a8"
            ],
            [
             0.3333333333333333,
             "#9c179e"
            ],
            [
             0.4444444444444444,
             "#bd3786"
            ],
            [
             0.5555555555555556,
             "#d8576b"
            ],
            [
             0.6666666666666666,
             "#ed7953"
            ],
            [
             0.7777777777777778,
             "#fb9f3a"
            ],
            [
             0.8888888888888888,
             "#fdca26"
            ],
            [
             1,
             "#f0f921"
            ]
           ]
          },
          "colorway": [
           "#636efa",
           "#EF553B",
           "#00cc96",
           "#ab63fa",
           "#FFA15A",
           "#19d3f3",
           "#FF6692",
           "#B6E880",
           "#FF97FF",
           "#FECB52"
          ],
          "font": {
           "color": "#2a3f5f"
          },
          "geo": {
           "bgcolor": "white",
           "lakecolor": "white",
           "landcolor": "#E5ECF6",
           "showlakes": true,
           "showland": true,
           "subunitcolor": "white"
          },
          "hoverlabel": {
           "align": "left"
          },
          "hovermode": "closest",
          "mapbox": {
           "style": "light"
          },
          "paper_bgcolor": "white",
          "plot_bgcolor": "#E5ECF6",
          "polar": {
           "angularaxis": {
            "gridcolor": "white",
            "linecolor": "white",
            "ticks": ""
           },
           "bgcolor": "#E5ECF6",
           "radialaxis": {
            "gridcolor": "white",
            "linecolor": "white",
            "ticks": ""
           }
          },
          "scene": {
           "xaxis": {
            "backgroundcolor": "#E5ECF6",
            "gridcolor": "white",
            "gridwidth": 2,
            "linecolor": "white",
            "showbackground": true,
            "ticks": "",
            "zerolinecolor": "white"
           },
           "yaxis": {
            "backgroundcolor": "#E5ECF6",
            "gridcolor": "white",
            "gridwidth": 2,
            "linecolor": "white",
            "showbackground": true,
            "ticks": "",
            "zerolinecolor": "white"
           },
           "zaxis": {
            "backgroundcolor": "#E5ECF6",
            "gridcolor": "white",
            "gridwidth": 2,
            "linecolor": "white",
            "showbackground": true,
            "ticks": "",
            "zerolinecolor": "white"
           }
          },
          "shapedefaults": {
           "line": {
            "color": "#2a3f5f"
           }
          },
          "ternary": {
           "aaxis": {
            "gridcolor": "white",
            "linecolor": "white",
            "ticks": ""
           },
           "baxis": {
            "gridcolor": "white",
            "linecolor": "white",
            "ticks": ""
           },
           "bgcolor": "#E5ECF6",
           "caxis": {
            "gridcolor": "white",
            "linecolor": "white",
            "ticks": ""
           }
          },
          "title": {
           "x": 0.05
          },
          "xaxis": {
           "automargin": true,
           "gridcolor": "white",
           "linecolor": "white",
           "ticks": "",
           "title": {
            "standoff": 15
           },
           "zerolinecolor": "white",
           "zerolinewidth": 2
          },
          "yaxis": {
           "automargin": true,
           "gridcolor": "white",
           "linecolor": "white",
           "ticks": "",
           "title": {
            "standoff": 15
           },
           "zerolinecolor": "white",
           "zerolinewidth": 2
          }
         }
        },
        "title": {
         "text": "t-SNE"
        },
        "xaxis": {
         "anchor": "y",
         "domain": [
          0,
          1
         ],
         "title": {
          "text": "c1"
         }
        },
        "yaxis": {
         "anchor": "x",
         "domain": [
          0,
          1
         ],
         "title": {
          "text": "c2"
         }
        }
       }
      },
      "text/html": [
       "<div>\n",
       "        \n",
       "        \n",
       "            <div id=\"9f256d62-26b6-4191-836b-e522f0e7571e\" class=\"plotly-graph-div\" style=\"height:525px; width:100%;\"></div>\n",
       "            <script type=\"text/javascript\">\n",
       "                require([\"plotly\"], function(Plotly) {\n",
       "                    window.PLOTLYENV=window.PLOTLYENV || {};\n",
       "                    \n",
       "                if (document.getElementById(\"9f256d62-26b6-4191-836b-e522f0e7571e\")) {\n",
       "                    Plotly.newPlot(\n",
       "                        '9f256d62-26b6-4191-836b-e522f0e7571e',\n",
       "                        [{\"customdata\": [[6470], [92595], [3034], [1074], [5], [41108], [102321], [660], [228200], [77532], [23394], [22172], [23165], [576], [258499], [28948], [44644], [24300], [2644], [10770], [232009], [182072], [13593], [12685], [9022], [47188], [1136], [17979], [9500], [4230], [4299], [63956], [35028], [17155], [13532], [4354], [52727], [14900], [43457], [10600], [40212], [15207], [4145789], [27008], [861457], [13449], [30687], [6436], [15429], [7], [296], [183218], [1539], [889], [40061], [15752], [440], [28186], [22938], [37650], [15229], [5788], [12778], [6184], [2436], [126474], [5502], [10671], [12331], [52], [6552], [54438], [19953], [41421], [12369], [44923], [775], [6786], [49067], [12208], [24895], [46796], [37249], [32313], [16265], [21604], [2169], [53497], [2019], [18942], [36253], [39741], [12785], [57166], [3603], [38674], [2344626], [26447], [17972], [1946], [359053], [15126], [40874], [1800], [27895], [19507], [12083], [11083], [39562], [12347], [44908], [3454], [2760], [10565], [12166], [80737], [19829], [71317], [37649], [4520], [25786], [25681], [30077], [25036], [26474], [21260], [14012], [22276], [15292], [6890], [20934], [24251], [38775], [29773], [16839], [22897], [17575], [33461], [8208], [148810], [80098], [60161], [49741], [23924], [28490], [42009], [25817], [3412], [36958], [6564], [174011], [17575], [9345], [14624], [10013], [7849], [14332], [19182], [14082], [1858], [77814], [8311], [15586], [9155], [51941], [1592], [23306], [37798], [31865], [1373], [26486], [161], [5857], [11747], [22741], [8082], [8966], [9939], [20836], [3863], [26506], [18725], [3772], [22268], [8], [322], [600], [75971], [5107], [82474], [4538], [3190], [47355], [4], [25947], [10431], [115219], [33974], [19478], [136021], [67489], [8458], [23519], [3162], [12619], [21159], [1173], [14933], [3197], [41805], [82], [2836], [1151], [11356], [1611], [260], [50], [94], [338], [12504], [843], [30], [3831], [18675], [51], [136139], [111921], [322], [3149], [2393], [931], [10094], [16213], [286], [2556], [400], [533], [30061], [314], [9353], [7], [9121], [879], [272], [280], [3135], [6873], [3900], [31666], [9738], [25616], [20000], [21915], [17199], [6776], [23382], [59], [16064], [23615], [47896], [549], [6786], [18659], [33072], [47]], \"hovertemplate\": \"type=normal<br>c1=%{x}<br>c2=%{y}<br>entity_name=%{customdata[0]}<extra></extra>\", \"legendgroup\": \"normal\", \"marker\": {\"color\": \"#636efa\", \"symbol\": \"circle\"}, \"mode\": \"markers\", \"name\": \"normal\", \"showlegend\": true, \"type\": \"scatter\", \"x\": [9.577153205871582, 23.568696975708008, 4.454340934753418, -3.420797824859619, 19.001108169555664, 19.687475204467773, 10.13994312286377, 8.037362098693848, -6.154289722442627, -3.4658336639404297, 17.441036224365234, 12.070653915405273, 36.953330993652344, 0.18148113787174225, 10.186822891235352, 35.827632904052734, -8.641616821289062, 22.477630615234375, 12.593881607055664, 33.94184112548828, 26.538192749023438, -5.051578998565674, 12.429119110107422, 31.46296501159668, 9.70517635345459, 27.357772827148438, 20.329456329345703, 21.84886360168457, 32.67313003540039, 19.362022399902344, 4.331390380859375, 0.9574791193008423, -0.6880987286567688, 39.94439697265625, 22.06768226623535, 7.525454044342041, -6.753438949584961, 14.05160903930664, -1.8604202270507812, 43.93441390991211, 4.202694892883301, 35.774173736572266, 22.33342742919922, 2.039393424987793, 11.009963989257812, 17.52522850036621, 32.718502044677734, 20.373126983642578, -2.250640869140625, -0.4041040539741516, 0.7763572335243225, 9.283684730529785, 18.317161560058594, -0.7954267859458923, 23.636550903320312, 1.7319003343582153, 2.1439337730407715, 2.114569664001465, 31.86465835571289, 27.465225219726562, -4.986932277679443, -24.33382797241211, 37.87043380737305, 14.95051383972168, 0.12199658155441284, 2.291144609451294, 2.323863983154297, 34.52785873413086, 20.30235481262207, 11.809316635131836, 10.895416259765625, -14.51182746887207, -17.08498191833496, -5.406385898590088, 36.568695068359375, -12.174555778503418, -27.009117126464844, 9.368688583374023, 2.8236186504364014, 31.554195404052734, -11.922974586486816, 3.6721391677856445, 22.747112274169922, 36.54075241088867, 8.730501174926758, 39.44768524169922, 22.07949447631836, -13.780177116394043, -24.895282745361328, 24.81262969970703, 12.881234169006348, 28.524301528930664, -22.01353645324707, -11.155430793762207, 6.130562782287598, 28.4592227935791, 22.95872688293457, 6.9928388595581055, -7.556760311126709, 24.172510147094727, 8.944936752319336, 11.135346412658691, 11.360958099365234, -20.616729736328125, 0.5137314200401306, 34.89016342163086, -0.44188785552978516, -3.687248706817627, 4.402792930603027, 29.12657356262207, -3.8648571968078613, 13.785690307617188, 1.3830500841140747, 34.898616790771484, -6.970590114593506, 30.805246353149414, -13.295060157775879, 35.18137741088867, -10.767426490783691, -18.428932189941406, 19.501827239990234, 22.438812255859375, 32.3175163269043, 10.722184181213379, -12.721907615661621, 33.51888656616211, 22.42105484008789, 37.53494644165039, 5.693963050842285, 9.982669830322266, 30.541685104370117, -0.5054190158843994, 3.72039794921875, -1.874153971672058, 28.214210510253906, -6.589588165283203, -18.685237884521484, 4.486183166503906, 31.87078857421875, 0.31472209095954895, 35.89854431152344, 34.03156661987305, 1.4884989261627197, 6.99609899520874, 27.245769500732422, 6.9561381340026855, 20.13384246826172, 6.657602310180664, -10.43027114868164, 8.50240421295166, 11.239619255065918, 19.57495880126953, 23.357126235961914, 39.58922576904297, 18.844816207885742, -10.666780471801758, 26.229637145996094, 3.242246150970459, 24.271480560302734, -22.758739471435547, 4.819562911987305, 32.82572555541992, -15.474234580993652, -8.43717098236084, -3.5531182289123535, 8.85742473602295, 19.091144561767578, -7.2132248878479, -13.53392219543457, 12.578001976013184, -1.2759329080581665, 17.133371353149414, -17.062822341918945, 10.967635154724121, -15.202399253845215, 9.645964622497559, -7.918918609619141, 11.49226188659668, 42.92821502685547, 12.019661903381348, -21.24195671081543, 8.30947494506836, -23.364398956298828, -41.36388397216797, -48.943267822265625, -37.02091979980469, -41.061973571777344, -37.23761749267578, -43.67633056640625, -29.42508888244629, -23.743051528930664, -25.08483123779297, 7.537115097045898, -48.151119232177734, 18.86712074279785, 38.78480529785156, 18.783132553100586, 33.81005859375, -15.365979194641113, 26.367177963256836, 11.761016845703125, 21.354833602905273, 29.27134132385254, -23.862215042114258, 36.52496337890625, -4.847838401794434, 19.342302322387695, 19.249576568603516, 19.763391494750977, 35.41484069824219, -32.55526351928711, -38.0369758605957, -45.939022064208984, -31.511991500854492, -30.279720306396484, -45.82389831542969, -37.1097297668457, -40.57902908325195, -35.79747009277344, -37.80960464477539, -30.781766891479492, -32.728065490722656, -36.67521286010742, -28.09610366821289, -25.959125518798828, -43.742122650146484, 13.775346755981445, -44.27555847167969, -41.17299270629883, -43.45808029174805, -42.05968475341797, -47.051815032958984, -29.453943252563477, -42.942832946777344, -47.47542190551758, -32.041107177734375, -39.98469543457031, -43.66447830200195, -38.403995513916016, -28.07050132751465, -25.12786865234375, -245.8147430419922, -26.348793029785156, -42.324954986572266, -38.97129440307617, -42.77922058105469, -42.11582946777344, -25.01058578491211, 6.484882354736328, 12.515446662902832, -1.8340075016021729, 19.401926040649414, 3.844189405441284, 19.410547256469727, -19.791643142700195, 19.676448822021484, -25.362293243408203, 8.551497459411621, 12.624466896057129, -0.46393412351608276, 0.2981325685977936, 9.708229064941406, 35.511714935302734, 30.893850326538086, -22.678319931030273], \"xaxis\": \"x\", \"y\": [3.811269760131836, 10.997577667236328, 39.54911804199219, -23.439401626586914, 34.23535919189453, -20.667766571044922, -23.108919143676758, 37.26936721801758, -46.54576873779297, -47.44517517089844, -16.375072479248047, -19.79263687133789, 7.319060325622559, 47.755252838134766, -45.911842346191406, 2.6570019721984863, -42.8347053527832, 30.307296752929688, 34.93031692504883, -3.72499418258667, -0.6842990517616272, -47.4639892578125, 33.2674446105957, 2.086857318878174, 39.80702590942383, 8.217394828796387, 23.814233779907227, 11.89621639251709, 2.5768439769744873, 32.28654479980469, 40.6153564453125, -33.947837829589844, -42.32219696044922, 3.8710169792175293, -9.613286972045898, 6.092358589172363, -33.02507019042969, -9.153756141662598, -43.302894592285156, 5.090747356414795, -16.786907196044922, 5.287781238555908, -33.658592224121094, -14.198904991149902, -43.38138961791992, 24.500164031982422, -10.625162124633789, 26.117414474487305, -21.357912063598633, 17.285131454467773, 38.76963806152344, -44.83167266845703, 31.101327896118164, 46.31404495239258, 12.655608177185059, 35.34466552734375, 32.43364334106445, 21.063583374023438, -3.002532720565796, -13.790446281433105, -26.58958625793457, -36.85089874267578, 2.910855293273926, 22.159387588500977, 18.04133415222168, 21.870384216308594, 34.3105354309082, 9.651418685913086, -2.5797150135040283, 36.74820327758789, 27.523944854736328, -42.03157424926758, -40.56571960449219, -31.431854248046875, 10.815895080566406, -29.743972778320312, -38.63898849487305, 9.746192932128906, -15.420709609985352, 12.49998664855957, -35.276092529296875, -42.77372741699219, 21.394351959228516, 9.370467185974121, -18.18218994140625, 8.640830993652344, 25.516616821289062, -42.71660614013672, -38.716880798339844, -9.010392189025879, -18.876283645629883, -8.719867706298828, -28.950727462768555, -32.65865707397461, 41.049888610839844, -12.549626350402832, -33.07469177246094, -18.76458168029785, -41.4592399597168, 30.803062438964844, -47.36561965942383, 20.066911697387695, 29.63041877746582, -29.78107261657715, -15.561968803405762, 11.9585599899292, -44.18333053588867, -26.471240997314453, -14.64462661743164, 5.185865879058838, -32.78847885131836, 35.22019577026367, 37.73291015625, 0.6327376961708069, -36.36899185180664, -9.212178230285645, -34.78323745727539, -6.383728981018066, -39.70961380004883, -32.01929473876953, -3.7423532009124756, -8.68986701965332, -4.7071967124938965, -14.133631706237793, -32.617698669433594, -2.320178985595703, 15.107970237731934, -9.46805191040039, -20.499608993530273, 7.622263431549072, -7.586296081542969, -26.09361457824707, -11.634269714355469, -32.22938919067383, 9.823418617248535, -35.020347595214844, -39.821189880371094, -39.84048080444336, 7.7503132820129395, -30.624258041381836, -8.252419471740723, -7.067600250244141, -17.60220718383789, -12.381941795349121, 11.36705493927002, -14.713845252990723, 11.415458679199219, 39.386810302734375, -31.591266632080078, 27.107315063476562, 18.210216522216797, 16.232439041137695, 17.67848014831543, 10.36252498626709, -5.045208930969238, -27.935529708862305, -6.745586395263672, -44.31578063964844, 16.663576126098633, -43.11051559448242, -44.66422653198242, 9.068635940551758, -30.32065200805664, -38.48008728027344, -45.66920471191406, 11.3967866897583, 14.841919898986816, -39.59416580200195, -31.168624877929688, -9.108820915222168, -14.115867614746094, 30.95906639099121, -34.33185577392578, 7.3811163902282715, -44.30458068847656, 1.9735994338989258, -18.910930633544922, -15.814177513122559, 4.563012599945068, 26.91546058654785, -44.3436279296875, -48.96992111206055, -44.350677490234375, 47.71031188964844, 34.26691818237305, 47.333133697509766, 50.16807556152344, 33.47963333129883, 36.04460525512695, 48.79888916015625, -41.770511627197266, -40.13570785522461, -45.52306365966797, 35.65369415283203, -24.382383346557617, 5.971168041229248, -17.441917419433594, -9.959478378295898, -32.31513214111328, 0.26583147048950195, -46.468666076660156, 20.70863151550293, 13.013932228088379, -28.158843994140625, 1.0401029586791992, -34.62167739868164, 18.221006393432617, 9.611185073852539, 27.364891052246094, -2.1208810806274414, 42.95500183105469, 43.16885757446289, 32.40142059326172, 44.72611999511719, 44.10602569580078, 36.63819122314453, 39.61439895629883, 37.180912017822266, 42.07826614379883, 41.716007232666016, 42.27346420288086, 50.91584014892578, 44.03700637817383, 47.760719299316406, 45.139408111572266, 43.420719146728516, -46.654945373535156, 32.75040817260742, 46.300567626953125, 47.37897491455078, 35.93596267700195, 31.527931213378906, 46.9501953125, 37.91456985473633, 33.44487380981445, 50.079593658447266, 40.181373596191406, 45.03325653076172, 45.450157165527344, 46.12727737426758, -43.2657585144043, -99.97793579101562, 48.929840087890625, 39.62066650390625, 48.04365921020508, 49.962005615234375, 45.083030700683594, 49.48362350463867, -17.484121322631836, 19.888078689575195, -45.14969253540039, -19.13018226623535, -18.20456314086914, -22.160144805908203, -28.800546646118164, -12.40251350402832, -34.48807907104492, -13.592016220092773, 18.568267822265625, -32.2723274230957, 46.39619445800781, 26.09988021850586, 7.79774284362793, -11.660649299621582, -30.769023895263672], \"yaxis\": \"y\"}, {\"customdata\": [[5818263], [25], [192]], \"hovertemplate\": \"type=outlier<br>c1=%{x}<br>c2=%{y}<br>entity_name=%{customdata[0]}<extra></extra>\", \"legendgroup\": \"outlier\", \"marker\": {\"color\": \"#EF553B\", \"symbol\": \"circle\"}, \"mode\": \"markers\", \"name\": \"outlier\", \"showlegend\": true, \"type\": \"scatter\", \"x\": [21.023681640625, -50.8670654296875, -37.42718505859375], \"xaxis\": \"x\", \"y\": [-34.98725509643555, 35.25578308105469, 31.51776695251465], \"yaxis\": \"y\"}],\n",
       "                        {\"legend\": {\"title\": {\"text\": \"type\"}, \"tracegroupgap\": 0}, \"margin\": {\"t\": 60}, \"template\": {\"data\": {\"bar\": [{\"error_x\": {\"color\": \"#2a3f5f\"}, \"error_y\": {\"color\": \"#2a3f5f\"}, \"marker\": {\"line\": {\"color\": \"#E5ECF6\", \"width\": 0.5}}, \"type\": \"bar\"}], \"barpolar\": [{\"marker\": {\"line\": {\"color\": \"#E5ECF6\", \"width\": 0.5}}, \"type\": \"barpolar\"}], \"carpet\": [{\"aaxis\": {\"endlinecolor\": \"#2a3f5f\", \"gridcolor\": \"white\", \"linecolor\": \"white\", \"minorgridcolor\": \"white\", \"startlinecolor\": \"#2a3f5f\"}, \"baxis\": {\"endlinecolor\": \"#2a3f5f\", \"gridcolor\": \"white\", \"linecolor\": \"white\", \"minorgridcolor\": \"white\", \"startlinecolor\": \"#2a3f5f\"}, \"type\": \"carpet\"}], \"choropleth\": [{\"colorbar\": {\"outlinewidth\": 0, \"ticks\": \"\"}, \"type\": \"choropleth\"}], \"contour\": [{\"colorbar\": {\"outlinewidth\": 0, \"ticks\": \"\"}, \"colorscale\": [[0.0, \"#0d0887\"], [0.1111111111111111, \"#46039f\"], [0.2222222222222222, \"#7201a8\"], [0.3333333333333333, \"#9c179e\"], [0.4444444444444444, \"#bd3786\"], [0.5555555555555556, \"#d8576b\"], [0.6666666666666666, \"#ed7953\"], [0.7777777777777778, \"#fb9f3a\"], [0.8888888888888888, \"#fdca26\"], [1.0, \"#f0f921\"]], \"type\": \"contour\"}], \"contourcarpet\": [{\"colorbar\": {\"outlinewidth\": 0, \"ticks\": \"\"}, \"type\": \"contourcarpet\"}], \"heatmap\": [{\"colorbar\": {\"outlinewidth\": 0, \"ticks\": \"\"}, \"colorscale\": [[0.0, \"#0d0887\"], [0.1111111111111111, \"#46039f\"], [0.2222222222222222, \"#7201a8\"], [0.3333333333333333, \"#9c179e\"], [0.4444444444444444, \"#bd3786\"], [0.5555555555555556, \"#d8576b\"], [0.6666666666666666, \"#ed7953\"], [0.7777777777777778, \"#fb9f3a\"], [0.8888888888888888, \"#fdca26\"], [1.0, \"#f0f921\"]], \"type\": \"heatmap\"}], \"heatmapgl\": [{\"colorbar\": {\"outlinewidth\": 0, \"ticks\": \"\"}, \"colorscale\": [[0.0, \"#0d0887\"], [0.1111111111111111, \"#46039f\"], [0.2222222222222222, \"#7201a8\"], [0.3333333333333333, \"#9c179e\"], [0.4444444444444444, \"#bd3786\"], [0.5555555555555556, \"#d8576b\"], [0.6666666666666666, \"#ed7953\"], [0.7777777777777778, \"#fb9f3a\"], [0.8888888888888888, \"#fdca26\"], [1.0, \"#f0f921\"]], \"type\": \"heatmapgl\"}], \"histogram\": [{\"marker\": {\"colorbar\": {\"outlinewidth\": 0, \"ticks\": \"\"}}, \"type\": \"histogram\"}], \"histogram2d\": [{\"colorbar\": {\"outlinewidth\": 0, \"ticks\": \"\"}, \"colorscale\": [[0.0, \"#0d0887\"], [0.1111111111111111, \"#46039f\"], [0.2222222222222222, \"#7201a8\"], [0.3333333333333333, \"#9c179e\"], [0.4444444444444444, \"#bd3786\"], [0.5555555555555556, \"#d8576b\"], [0.6666666666666666, \"#ed7953\"], [0.7777777777777778, \"#fb9f3a\"], [0.8888888888888888, \"#fdca26\"], [1.0, \"#f0f921\"]], \"type\": \"histogram2d\"}], \"histogram2dcontour\": [{\"colorbar\": {\"outlinewidth\": 0, \"ticks\": \"\"}, \"colorscale\": [[0.0, \"#0d0887\"], [0.1111111111111111, \"#46039f\"], [0.2222222222222222, \"#7201a8\"], [0.3333333333333333, \"#9c179e\"], [0.4444444444444444, \"#bd3786\"], [0.5555555555555556, \"#d8576b\"], [0.6666666666666666, \"#ed7953\"], [0.7777777777777778, \"#fb9f3a\"], [0.8888888888888888, \"#fdca26\"], [1.0, \"#f0f921\"]], \"type\": \"histogram2dcontour\"}], \"mesh3d\": [{\"colorbar\": {\"outlinewidth\": 0, \"ticks\": \"\"}, \"type\": \"mesh3d\"}], \"parcoords\": [{\"line\": {\"colorbar\": {\"outlinewidth\": 0, \"ticks\": \"\"}}, \"type\": \"parcoords\"}], \"pie\": [{\"automargin\": true, \"type\": \"pie\"}], \"scatter\": [{\"marker\": {\"colorbar\": {\"outlinewidth\": 0, \"ticks\": \"\"}}, \"type\": \"scatter\"}], \"scatter3d\": [{\"line\": {\"colorbar\": {\"outlinewidth\": 0, \"ticks\": \"\"}}, \"marker\": {\"colorbar\": {\"outlinewidth\": 0, \"ticks\": \"\"}}, \"type\": \"scatter3d\"}], \"scattercarpet\": [{\"marker\": {\"colorbar\": {\"outlinewidth\": 0, \"ticks\": \"\"}}, \"type\": \"scattercarpet\"}], \"scattergeo\": [{\"marker\": {\"colorbar\": {\"outlinewidth\": 0, \"ticks\": \"\"}}, \"type\": \"scattergeo\"}], \"scattergl\": [{\"marker\": {\"colorbar\": {\"outlinewidth\": 0, \"ticks\": \"\"}}, \"type\": \"scattergl\"}], \"scattermapbox\": [{\"marker\": {\"colorbar\": {\"outlinewidth\": 0, \"ticks\": \"\"}}, \"type\": \"scattermapbox\"}], \"scatterpolar\": [{\"marker\": {\"colorbar\": {\"outlinewidth\": 0, \"ticks\": \"\"}}, \"type\": \"scatterpolar\"}], \"scatterpolargl\": [{\"marker\": {\"colorbar\": {\"outlinewidth\": 0, \"ticks\": \"\"}}, \"type\": \"scatterpolargl\"}], \"scatterternary\": [{\"marker\": {\"colorbar\": {\"outlinewidth\": 0, \"ticks\": \"\"}}, \"type\": \"scatterternary\"}], \"surface\": [{\"colorbar\": {\"outlinewidth\": 0, \"ticks\": \"\"}, \"colorscale\": [[0.0, \"#0d0887\"], [0.1111111111111111, \"#46039f\"], [0.2222222222222222, \"#7201a8\"], [0.3333333333333333, \"#9c179e\"], [0.4444444444444444, \"#bd3786\"], [0.5555555555555556, \"#d8576b\"], [0.6666666666666666, \"#ed7953\"], [0.7777777777777778, \"#fb9f3a\"], [0.8888888888888888, \"#fdca26\"], [1.0, \"#f0f921\"]], \"type\": \"surface\"}], \"table\": [{\"cells\": {\"fill\": {\"color\": \"#EBF0F8\"}, \"line\": {\"color\": \"white\"}}, \"header\": {\"fill\": {\"color\": \"#C8D4E3\"}, \"line\": {\"color\": \"white\"}}, \"type\": \"table\"}]}, \"layout\": {\"annotationdefaults\": {\"arrowcolor\": \"#2a3f5f\", \"arrowhead\": 0, \"arrowwidth\": 1}, \"coloraxis\": {\"colorbar\": {\"outlinewidth\": 0, \"ticks\": \"\"}}, \"colorscale\": {\"diverging\": [[0, \"#8e0152\"], [0.1, \"#c51b7d\"], [0.2, \"#de77ae\"], [0.3, \"#f1b6da\"], [0.4, \"#fde0ef\"], [0.5, \"#f7f7f7\"], [0.6, \"#e6f5d0\"], [0.7, \"#b8e186\"], [0.8, \"#7fbc41\"], [0.9, \"#4d9221\"], [1, \"#276419\"]], \"sequential\": [[0.0, \"#0d0887\"], [0.1111111111111111, \"#46039f\"], [0.2222222222222222, \"#7201a8\"], [0.3333333333333333, \"#9c179e\"], [0.4444444444444444, \"#bd3786\"], [0.5555555555555556, \"#d8576b\"], [0.6666666666666666, \"#ed7953\"], [0.7777777777777778, \"#fb9f3a\"], [0.8888888888888888, \"#fdca26\"], [1.0, \"#f0f921\"]], \"sequentialminus\": [[0.0, \"#0d0887\"], [0.1111111111111111, \"#46039f\"], [0.2222222222222222, \"#7201a8\"], [0.3333333333333333, \"#9c179e\"], [0.4444444444444444, \"#bd3786\"], [0.5555555555555556, \"#d8576b\"], [0.6666666666666666, \"#ed7953\"], [0.7777777777777778, \"#fb9f3a\"], [0.8888888888888888, \"#fdca26\"], [1.0, \"#f0f921\"]]}, \"colorway\": [\"#636efa\", \"#EF553B\", \"#00cc96\", \"#ab63fa\", \"#FFA15A\", \"#19d3f3\", \"#FF6692\", \"#B6E880\", \"#FF97FF\", \"#FECB52\"], \"font\": {\"color\": \"#2a3f5f\"}, \"geo\": {\"bgcolor\": \"white\", \"lakecolor\": \"white\", \"landcolor\": \"#E5ECF6\", \"showlakes\": true, \"showland\": true, \"subunitcolor\": \"white\"}, \"hoverlabel\": {\"align\": \"left\"}, \"hovermode\": \"closest\", \"mapbox\": {\"style\": \"light\"}, \"paper_bgcolor\": \"white\", \"plot_bgcolor\": \"#E5ECF6\", \"polar\": {\"angularaxis\": {\"gridcolor\": \"white\", \"linecolor\": \"white\", \"ticks\": \"\"}, \"bgcolor\": \"#E5ECF6\", \"radialaxis\": {\"gridcolor\": \"white\", \"linecolor\": \"white\", \"ticks\": \"\"}}, \"scene\": {\"xaxis\": {\"backgroundcolor\": \"#E5ECF6\", \"gridcolor\": \"white\", \"gridwidth\": 2, \"linecolor\": \"white\", \"showbackground\": true, \"ticks\": \"\", \"zerolinecolor\": \"white\"}, \"yaxis\": {\"backgroundcolor\": \"#E5ECF6\", \"gridcolor\": \"white\", \"gridwidth\": 2, \"linecolor\": \"white\", \"showbackground\": true, \"ticks\": \"\", \"zerolinecolor\": \"white\"}, \"zaxis\": {\"backgroundcolor\": \"#E5ECF6\", \"gridcolor\": \"white\", \"gridwidth\": 2, \"linecolor\": \"white\", \"showbackground\": true, \"ticks\": \"\", \"zerolinecolor\": \"white\"}}, \"shapedefaults\": {\"line\": {\"color\": \"#2a3f5f\"}}, \"ternary\": {\"aaxis\": {\"gridcolor\": \"white\", \"linecolor\": \"white\", \"ticks\": \"\"}, \"baxis\": {\"gridcolor\": \"white\", \"linecolor\": \"white\", \"ticks\": \"\"}, \"bgcolor\": \"#E5ECF6\", \"caxis\": {\"gridcolor\": \"white\", \"linecolor\": \"white\", \"ticks\": \"\"}}, \"title\": {\"x\": 0.05}, \"xaxis\": {\"automargin\": true, \"gridcolor\": \"white\", \"linecolor\": \"white\", \"ticks\": \"\", \"title\": {\"standoff\": 15}, \"zerolinecolor\": \"white\", \"zerolinewidth\": 2}, \"yaxis\": {\"automargin\": true, \"gridcolor\": \"white\", \"linecolor\": \"white\", \"ticks\": \"\", \"title\": {\"standoff\": 15}, \"zerolinecolor\": \"white\", \"zerolinewidth\": 2}}}, \"title\": {\"text\": \"t-SNE\"}, \"xaxis\": {\"anchor\": \"y\", \"domain\": [0.0, 1.0], \"title\": {\"text\": \"c1\"}}, \"yaxis\": {\"anchor\": \"x\", \"domain\": [0.0, 1.0], \"title\": {\"text\": \"c2\"}}},\n",
       "                        {\"responsive\": true}\n",
       "                    ).then(function(){\n",
       "                            \n",
       "var gd = document.getElementById('9f256d62-26b6-4191-836b-e522f0e7571e');\n",
       "var x = new MutationObserver(function (mutations, observer) {{\n",
       "        var display = window.getComputedStyle(gd).display;\n",
       "        if (!display || display === 'none') {{\n",
       "            console.log([gd, 'removed!']);\n",
       "            Plotly.purge(gd);\n",
       "            observer.disconnect();\n",
       "        }}\n",
       "}});\n",
       "\n",
       "// Listen for the removal of the full notebook cells\n",
       "var notebookContainer = gd.closest('#notebook-container');\n",
       "if (notebookContainer) {{\n",
       "    x.observe(notebookContainer, {childList: true});\n",
       "}}\n",
       "\n",
       "// Listen for the clearing of the current output cell\n",
       "var outputEl = gd.closest('.output');\n",
       "if (outputEl) {{\n",
       "    x.observe(outputEl, {childList: true});\n",
       "}}\n",
       "\n",
       "                        })\n",
       "                };\n",
       "                });\n",
       "            </script>\n",
       "        </div>"
      ]
     },
     "metadata": {},
     "output_type": "display_data"
    }
   ],
   "source": [
    "viz.show_tsne(df, outliers_indices, names)"
   ]
  },
  {
   "cell_type": "code",
   "execution_count": null,
   "metadata": {},
   "outputs": [],
   "source": []
  },
  {
   "cell_type": "markdown",
   "metadata": {},
   "source": [
    "<h3>2.2 Reconstruction error of autoencoder</h3>\n",
    "Our dataset contains only around 1% of outliers, therefore it is expected, that autoencoder is able to learn  reconstructing well the \"normal\" examples, whereas outliers should produce higher reconstruction error (little data, so the autoencoder will not learn how to reconstruct outliers)[2].\n",
    "\n",
    "Outliers will be chosen as elements that have maximal reconstruction error.\n",
    "\n",
    "\n",
    "Assumptions:\n",
    "The number of neurons in autoencoder's \"bottleneck\" was set to 4 and batch size to 16.\n",
    "\n",
    "\n"
   ]
  },
  {
   "cell_type": "code",
   "execution_count": 44,
   "metadata": {},
   "outputs": [],
   "source": [
    "input_neurons = 19\n",
    "hidden_neurons = 4\n",
    "class AutoEncoder(torch.nn.Module):\n",
    "    def __init__(self):\n",
    "        super(AutoEncoder, self).__init__()\n",
    "        self.fc1 = Linear(input_neurons, hidden_neurons)\n",
    "        self.fc2 = Linear(hidden_neurons, hidden_neurons)\n",
    "        self.fc3 = Linear(hidden_neurons, input_neurons)\n",
    "    \n",
    "    def forward(self, x):\n",
    "        x = self.fc1(x)\n",
    "        x = self.fc2(x)\n",
    "        x = self.fc3(x)\n",
    "        return x\n",
    "model = AutoEncoder()\n",
    "criterion = MSELoss()\n",
    "optimizer = Adam(model.parameters())"
   ]
  },
  {
   "cell_type": "code",
   "execution_count": 45,
   "metadata": {},
   "outputs": [],
   "source": [
    "batch_size = 16\n",
    "num_iters = 250\n",
    "data_tensor = torch.tensor(df.values.astype(np.float32))\n",
    "train_loader = DataLoader(data_tensor, batch_size=batch_size,shuffle=True, num_workers=0)\n",
    "\n"
   ]
  },
  {
   "cell_type": "code",
   "execution_count": 46,
   "metadata": {},
   "outputs": [],
   "source": [
    "def train():\n",
    "    ls = []\n",
    "    for batch_i, batch in enumerate(train_loader):\n",
    "        optimizer.zero_grad()\n",
    "        output = model(batch)\n",
    "        loss = criterion(output, batch)\n",
    "        loss.backward()\n",
    "        optimizer.step()\n",
    "        ls.append(loss.item()/batch_size)\n",
    "    return np.mean(ls)"
   ]
  },
  {
   "cell_type": "code",
   "execution_count": 54,
   "metadata": {},
   "outputs": [
    {
     "data": {
      "application/javascript": [
       "/* Put everything inside the global mpl namespace */\n",
       "window.mpl = {};\n",
       "\n",
       "\n",
       "mpl.get_websocket_type = function() {\n",
       "    if (typeof(WebSocket) !== 'undefined') {\n",
       "        return WebSocket;\n",
       "    } else if (typeof(MozWebSocket) !== 'undefined') {\n",
       "        return MozWebSocket;\n",
       "    } else {\n",
       "        alert('Your browser does not have WebSocket support. ' +\n",
       "              'Please try Chrome, Safari or Firefox ≥ 6. ' +\n",
       "              'Firefox 4 and 5 are also supported but you ' +\n",
       "              'have to enable WebSockets in about:config.');\n",
       "    };\n",
       "}\n",
       "\n",
       "mpl.figure = function(figure_id, websocket, ondownload, parent_element) {\n",
       "    this.id = figure_id;\n",
       "\n",
       "    this.ws = websocket;\n",
       "\n",
       "    this.supports_binary = (this.ws.binaryType != undefined);\n",
       "\n",
       "    if (!this.supports_binary) {\n",
       "        var warnings = document.getElementById(\"mpl-warnings\");\n",
       "        if (warnings) {\n",
       "            warnings.style.display = 'block';\n",
       "            warnings.textContent = (\n",
       "                \"This browser does not support binary websocket messages. \" +\n",
       "                    \"Performance may be slow.\");\n",
       "        }\n",
       "    }\n",
       "\n",
       "    this.imageObj = new Image();\n",
       "\n",
       "    this.context = undefined;\n",
       "    this.message = undefined;\n",
       "    this.canvas = undefined;\n",
       "    this.rubberband_canvas = undefined;\n",
       "    this.rubberband_context = undefined;\n",
       "    this.format_dropdown = undefined;\n",
       "\n",
       "    this.image_mode = 'full';\n",
       "\n",
       "    this.root = $('<div/>');\n",
       "    this._root_extra_style(this.root)\n",
       "    this.root.attr('style', 'display: inline-block');\n",
       "\n",
       "    $(parent_element).append(this.root);\n",
       "\n",
       "    this._init_header(this);\n",
       "    this._init_canvas(this);\n",
       "    this._init_toolbar(this);\n",
       "\n",
       "    var fig = this;\n",
       "\n",
       "    this.waiting = false;\n",
       "\n",
       "    this.ws.onopen =  function () {\n",
       "            fig.send_message(\"supports_binary\", {value: fig.supports_binary});\n",
       "            fig.send_message(\"send_image_mode\", {});\n",
       "            if (mpl.ratio != 1) {\n",
       "                fig.send_message(\"set_dpi_ratio\", {'dpi_ratio': mpl.ratio});\n",
       "            }\n",
       "            fig.send_message(\"refresh\", {});\n",
       "        }\n",
       "\n",
       "    this.imageObj.onload = function() {\n",
       "            if (fig.image_mode == 'full') {\n",
       "                // Full images could contain transparency (where diff images\n",
       "                // almost always do), so we need to clear the canvas so that\n",
       "                // there is no ghosting.\n",
       "                fig.context.clearRect(0, 0, fig.canvas.width, fig.canvas.height);\n",
       "            }\n",
       "            fig.context.drawImage(fig.imageObj, 0, 0);\n",
       "        };\n",
       "\n",
       "    this.imageObj.onunload = function() {\n",
       "        fig.ws.close();\n",
       "    }\n",
       "\n",
       "    this.ws.onmessage = this._make_on_message_function(this);\n",
       "\n",
       "    this.ondownload = ondownload;\n",
       "}\n",
       "\n",
       "mpl.figure.prototype._init_header = function() {\n",
       "    var titlebar = $(\n",
       "        '<div class=\"ui-dialog-titlebar ui-widget-header ui-corner-all ' +\n",
       "        'ui-helper-clearfix\"/>');\n",
       "    var titletext = $(\n",
       "        '<div class=\"ui-dialog-title\" style=\"width: 100%; ' +\n",
       "        'text-align: center; padding: 3px;\"/>');\n",
       "    titlebar.append(titletext)\n",
       "    this.root.append(titlebar);\n",
       "    this.header = titletext[0];\n",
       "}\n",
       "\n",
       "\n",
       "\n",
       "mpl.figure.prototype._canvas_extra_style = function(canvas_div) {\n",
       "\n",
       "}\n",
       "\n",
       "\n",
       "mpl.figure.prototype._root_extra_style = function(canvas_div) {\n",
       "\n",
       "}\n",
       "\n",
       "mpl.figure.prototype._init_canvas = function() {\n",
       "    var fig = this;\n",
       "\n",
       "    var canvas_div = $('<div/>');\n",
       "\n",
       "    canvas_div.attr('style', 'position: relative; clear: both; outline: 0');\n",
       "\n",
       "    function canvas_keyboard_event(event) {\n",
       "        return fig.key_event(event, event['data']);\n",
       "    }\n",
       "\n",
       "    canvas_div.keydown('key_press', canvas_keyboard_event);\n",
       "    canvas_div.keyup('key_release', canvas_keyboard_event);\n",
       "    this.canvas_div = canvas_div\n",
       "    this._canvas_extra_style(canvas_div)\n",
       "    this.root.append(canvas_div);\n",
       "\n",
       "    var canvas = $('<canvas/>');\n",
       "    canvas.addClass('mpl-canvas');\n",
       "    canvas.attr('style', \"left: 0; top: 0; z-index: 0; outline: 0\")\n",
       "\n",
       "    this.canvas = canvas[0];\n",
       "    this.context = canvas[0].getContext(\"2d\");\n",
       "\n",
       "    var backingStore = this.context.backingStorePixelRatio ||\n",
       "\tthis.context.webkitBackingStorePixelRatio ||\n",
       "\tthis.context.mozBackingStorePixelRatio ||\n",
       "\tthis.context.msBackingStorePixelRatio ||\n",
       "\tthis.context.oBackingStorePixelRatio ||\n",
       "\tthis.context.backingStorePixelRatio || 1;\n",
       "\n",
       "    mpl.ratio = (window.devicePixelRatio || 1) / backingStore;\n",
       "\n",
       "    var rubberband = $('<canvas/>');\n",
       "    rubberband.attr('style', \"position: absolute; left: 0; top: 0; z-index: 1;\")\n",
       "\n",
       "    var pass_mouse_events = true;\n",
       "\n",
       "    canvas_div.resizable({\n",
       "        start: function(event, ui) {\n",
       "            pass_mouse_events = false;\n",
       "        },\n",
       "        resize: function(event, ui) {\n",
       "            fig.request_resize(ui.size.width, ui.size.height);\n",
       "        },\n",
       "        stop: function(event, ui) {\n",
       "            pass_mouse_events = true;\n",
       "            fig.request_resize(ui.size.width, ui.size.height);\n",
       "        },\n",
       "    });\n",
       "\n",
       "    function mouse_event_fn(event) {\n",
       "        if (pass_mouse_events)\n",
       "            return fig.mouse_event(event, event['data']);\n",
       "    }\n",
       "\n",
       "    rubberband.mousedown('button_press', mouse_event_fn);\n",
       "    rubberband.mouseup('button_release', mouse_event_fn);\n",
       "    // Throttle sequential mouse events to 1 every 20ms.\n",
       "    rubberband.mousemove('motion_notify', mouse_event_fn);\n",
       "\n",
       "    rubberband.mouseenter('figure_enter', mouse_event_fn);\n",
       "    rubberband.mouseleave('figure_leave', mouse_event_fn);\n",
       "\n",
       "    canvas_div.on(\"wheel\", function (event) {\n",
       "        event = event.originalEvent;\n",
       "        event['data'] = 'scroll'\n",
       "        if (event.deltaY < 0) {\n",
       "            event.step = 1;\n",
       "        } else {\n",
       "            event.step = -1;\n",
       "        }\n",
       "        mouse_event_fn(event);\n",
       "    });\n",
       "\n",
       "    canvas_div.append(canvas);\n",
       "    canvas_div.append(rubberband);\n",
       "\n",
       "    this.rubberband = rubberband;\n",
       "    this.rubberband_canvas = rubberband[0];\n",
       "    this.rubberband_context = rubberband[0].getContext(\"2d\");\n",
       "    this.rubberband_context.strokeStyle = \"#000000\";\n",
       "\n",
       "    this._resize_canvas = function(width, height) {\n",
       "        // Keep the size of the canvas, canvas container, and rubber band\n",
       "        // canvas in synch.\n",
       "        canvas_div.css('width', width)\n",
       "        canvas_div.css('height', height)\n",
       "\n",
       "        canvas.attr('width', width * mpl.ratio);\n",
       "        canvas.attr('height', height * mpl.ratio);\n",
       "        canvas.attr('style', 'width: ' + width + 'px; height: ' + height + 'px;');\n",
       "\n",
       "        rubberband.attr('width', width);\n",
       "        rubberband.attr('height', height);\n",
       "    }\n",
       "\n",
       "    // Set the figure to an initial 600x600px, this will subsequently be updated\n",
       "    // upon first draw.\n",
       "    this._resize_canvas(600, 600);\n",
       "\n",
       "    // Disable right mouse context menu.\n",
       "    $(this.rubberband_canvas).bind(\"contextmenu\",function(e){\n",
       "        return false;\n",
       "    });\n",
       "\n",
       "    function set_focus () {\n",
       "        canvas.focus();\n",
       "        canvas_div.focus();\n",
       "    }\n",
       "\n",
       "    window.setTimeout(set_focus, 100);\n",
       "}\n",
       "\n",
       "mpl.figure.prototype._init_toolbar = function() {\n",
       "    var fig = this;\n",
       "\n",
       "    var nav_element = $('<div/>');\n",
       "    nav_element.attr('style', 'width: 100%');\n",
       "    this.root.append(nav_element);\n",
       "\n",
       "    // Define a callback function for later on.\n",
       "    function toolbar_event(event) {\n",
       "        return fig.toolbar_button_onclick(event['data']);\n",
       "    }\n",
       "    function toolbar_mouse_event(event) {\n",
       "        return fig.toolbar_button_onmouseover(event['data']);\n",
       "    }\n",
       "\n",
       "    for(var toolbar_ind in mpl.toolbar_items) {\n",
       "        var name = mpl.toolbar_items[toolbar_ind][0];\n",
       "        var tooltip = mpl.toolbar_items[toolbar_ind][1];\n",
       "        var image = mpl.toolbar_items[toolbar_ind][2];\n",
       "        var method_name = mpl.toolbar_items[toolbar_ind][3];\n",
       "\n",
       "        if (!name) {\n",
       "            // put a spacer in here.\n",
       "            continue;\n",
       "        }\n",
       "        var button = $('<button/>');\n",
       "        button.addClass('ui-button ui-widget ui-state-default ui-corner-all ' +\n",
       "                        'ui-button-icon-only');\n",
       "        button.attr('role', 'button');\n",
       "        button.attr('aria-disabled', 'false');\n",
       "        button.click(method_name, toolbar_event);\n",
       "        button.mouseover(tooltip, toolbar_mouse_event);\n",
       "\n",
       "        var icon_img = $('<span/>');\n",
       "        icon_img.addClass('ui-button-icon-primary ui-icon');\n",
       "        icon_img.addClass(image);\n",
       "        icon_img.addClass('ui-corner-all');\n",
       "\n",
       "        var tooltip_span = $('<span/>');\n",
       "        tooltip_span.addClass('ui-button-text');\n",
       "        tooltip_span.html(tooltip);\n",
       "\n",
       "        button.append(icon_img);\n",
       "        button.append(tooltip_span);\n",
       "\n",
       "        nav_element.append(button);\n",
       "    }\n",
       "\n",
       "    var fmt_picker_span = $('<span/>');\n",
       "\n",
       "    var fmt_picker = $('<select/>');\n",
       "    fmt_picker.addClass('mpl-toolbar-option ui-widget ui-widget-content');\n",
       "    fmt_picker_span.append(fmt_picker);\n",
       "    nav_element.append(fmt_picker_span);\n",
       "    this.format_dropdown = fmt_picker[0];\n",
       "\n",
       "    for (var ind in mpl.extensions) {\n",
       "        var fmt = mpl.extensions[ind];\n",
       "        var option = $(\n",
       "            '<option/>', {selected: fmt === mpl.default_extension}).html(fmt);\n",
       "        fmt_picker.append(option);\n",
       "    }\n",
       "\n",
       "    // Add hover states to the ui-buttons\n",
       "    $( \".ui-button\" ).hover(\n",
       "        function() { $(this).addClass(\"ui-state-hover\");},\n",
       "        function() { $(this).removeClass(\"ui-state-hover\");}\n",
       "    );\n",
       "\n",
       "    var status_bar = $('<span class=\"mpl-message\"/>');\n",
       "    nav_element.append(status_bar);\n",
       "    this.message = status_bar[0];\n",
       "}\n",
       "\n",
       "mpl.figure.prototype.request_resize = function(x_pixels, y_pixels) {\n",
       "    // Request matplotlib to resize the figure. Matplotlib will then trigger a resize in the client,\n",
       "    // which will in turn request a refresh of the image.\n",
       "    this.send_message('resize', {'width': x_pixels, 'height': y_pixels});\n",
       "}\n",
       "\n",
       "mpl.figure.prototype.send_message = function(type, properties) {\n",
       "    properties['type'] = type;\n",
       "    properties['figure_id'] = this.id;\n",
       "    this.ws.send(JSON.stringify(properties));\n",
       "}\n",
       "\n",
       "mpl.figure.prototype.send_draw_message = function() {\n",
       "    if (!this.waiting) {\n",
       "        this.waiting = true;\n",
       "        this.ws.send(JSON.stringify({type: \"draw\", figure_id: this.id}));\n",
       "    }\n",
       "}\n",
       "\n",
       "\n",
       "mpl.figure.prototype.handle_save = function(fig, msg) {\n",
       "    var format_dropdown = fig.format_dropdown;\n",
       "    var format = format_dropdown.options[format_dropdown.selectedIndex].value;\n",
       "    fig.ondownload(fig, format);\n",
       "}\n",
       "\n",
       "\n",
       "mpl.figure.prototype.handle_resize = function(fig, msg) {\n",
       "    var size = msg['size'];\n",
       "    if (size[0] != fig.canvas.width || size[1] != fig.canvas.height) {\n",
       "        fig._resize_canvas(size[0], size[1]);\n",
       "        fig.send_message(\"refresh\", {});\n",
       "    };\n",
       "}\n",
       "\n",
       "mpl.figure.prototype.handle_rubberband = function(fig, msg) {\n",
       "    var x0 = msg['x0'] / mpl.ratio;\n",
       "    var y0 = (fig.canvas.height - msg['y0']) / mpl.ratio;\n",
       "    var x1 = msg['x1'] / mpl.ratio;\n",
       "    var y1 = (fig.canvas.height - msg['y1']) / mpl.ratio;\n",
       "    x0 = Math.floor(x0) + 0.5;\n",
       "    y0 = Math.floor(y0) + 0.5;\n",
       "    x1 = Math.floor(x1) + 0.5;\n",
       "    y1 = Math.floor(y1) + 0.5;\n",
       "    var min_x = Math.min(x0, x1);\n",
       "    var min_y = Math.min(y0, y1);\n",
       "    var width = Math.abs(x1 - x0);\n",
       "    var height = Math.abs(y1 - y0);\n",
       "\n",
       "    fig.rubberband_context.clearRect(\n",
       "        0, 0, fig.canvas.width / mpl.ratio, fig.canvas.height / mpl.ratio);\n",
       "\n",
       "    fig.rubberband_context.strokeRect(min_x, min_y, width, height);\n",
       "}\n",
       "\n",
       "mpl.figure.prototype.handle_figure_label = function(fig, msg) {\n",
       "    // Updates the figure title.\n",
       "    fig.header.textContent = msg['label'];\n",
       "}\n",
       "\n",
       "mpl.figure.prototype.handle_cursor = function(fig, msg) {\n",
       "    var cursor = msg['cursor'];\n",
       "    switch(cursor)\n",
       "    {\n",
       "    case 0:\n",
       "        cursor = 'pointer';\n",
       "        break;\n",
       "    case 1:\n",
       "        cursor = 'default';\n",
       "        break;\n",
       "    case 2:\n",
       "        cursor = 'crosshair';\n",
       "        break;\n",
       "    case 3:\n",
       "        cursor = 'move';\n",
       "        break;\n",
       "    }\n",
       "    fig.rubberband_canvas.style.cursor = cursor;\n",
       "}\n",
       "\n",
       "mpl.figure.prototype.handle_message = function(fig, msg) {\n",
       "    fig.message.textContent = msg['message'];\n",
       "}\n",
       "\n",
       "mpl.figure.prototype.handle_draw = function(fig, msg) {\n",
       "    // Request the server to send over a new figure.\n",
       "    fig.send_draw_message();\n",
       "}\n",
       "\n",
       "mpl.figure.prototype.handle_image_mode = function(fig, msg) {\n",
       "    fig.image_mode = msg['mode'];\n",
       "}\n",
       "\n",
       "mpl.figure.prototype.updated_canvas_event = function() {\n",
       "    // Called whenever the canvas gets updated.\n",
       "    this.send_message(\"ack\", {});\n",
       "}\n",
       "\n",
       "// A function to construct a web socket function for onmessage handling.\n",
       "// Called in the figure constructor.\n",
       "mpl.figure.prototype._make_on_message_function = function(fig) {\n",
       "    return function socket_on_message(evt) {\n",
       "        if (evt.data instanceof Blob) {\n",
       "            /* FIXME: We get \"Resource interpreted as Image but\n",
       "             * transferred with MIME type text/plain:\" errors on\n",
       "             * Chrome.  But how to set the MIME type?  It doesn't seem\n",
       "             * to be part of the websocket stream */\n",
       "            evt.data.type = \"image/png\";\n",
       "\n",
       "            /* Free the memory for the previous frames */\n",
       "            if (fig.imageObj.src) {\n",
       "                (window.URL || window.webkitURL).revokeObjectURL(\n",
       "                    fig.imageObj.src);\n",
       "            }\n",
       "\n",
       "            fig.imageObj.src = (window.URL || window.webkitURL).createObjectURL(\n",
       "                evt.data);\n",
       "            fig.updated_canvas_event();\n",
       "            fig.waiting = false;\n",
       "            return;\n",
       "        }\n",
       "        else if (typeof evt.data === 'string' && evt.data.slice(0, 21) == \"data:image/png;base64\") {\n",
       "            fig.imageObj.src = evt.data;\n",
       "            fig.updated_canvas_event();\n",
       "            fig.waiting = false;\n",
       "            return;\n",
       "        }\n",
       "\n",
       "        var msg = JSON.parse(evt.data);\n",
       "        var msg_type = msg['type'];\n",
       "\n",
       "        // Call the  \"handle_{type}\" callback, which takes\n",
       "        // the figure and JSON message as its only arguments.\n",
       "        try {\n",
       "            var callback = fig[\"handle_\" + msg_type];\n",
       "        } catch (e) {\n",
       "            console.log(\"No handler for the '\" + msg_type + \"' message type: \", msg);\n",
       "            return;\n",
       "        }\n",
       "\n",
       "        if (callback) {\n",
       "            try {\n",
       "                // console.log(\"Handling '\" + msg_type + \"' message: \", msg);\n",
       "                callback(fig, msg);\n",
       "            } catch (e) {\n",
       "                console.log(\"Exception inside the 'handler_\" + msg_type + \"' callback:\", e, e.stack, msg);\n",
       "            }\n",
       "        }\n",
       "    };\n",
       "}\n",
       "\n",
       "// from http://stackoverflow.com/questions/1114465/getting-mouse-location-in-canvas\n",
       "mpl.findpos = function(e) {\n",
       "    //this section is from http://www.quirksmode.org/js/events_properties.html\n",
       "    var targ;\n",
       "    if (!e)\n",
       "        e = window.event;\n",
       "    if (e.target)\n",
       "        targ = e.target;\n",
       "    else if (e.srcElement)\n",
       "        targ = e.srcElement;\n",
       "    if (targ.nodeType == 3) // defeat Safari bug\n",
       "        targ = targ.parentNode;\n",
       "\n",
       "    // jQuery normalizes the pageX and pageY\n",
       "    // pageX,Y are the mouse positions relative to the document\n",
       "    // offset() returns the position of the element relative to the document\n",
       "    var x = e.pageX - $(targ).offset().left;\n",
       "    var y = e.pageY - $(targ).offset().top;\n",
       "\n",
       "    return {\"x\": x, \"y\": y};\n",
       "};\n",
       "\n",
       "/*\n",
       " * return a copy of an object with only non-object keys\n",
       " * we need this to avoid circular references\n",
       " * http://stackoverflow.com/a/24161582/3208463\n",
       " */\n",
       "function simpleKeys (original) {\n",
       "  return Object.keys(original).reduce(function (obj, key) {\n",
       "    if (typeof original[key] !== 'object')\n",
       "        obj[key] = original[key]\n",
       "    return obj;\n",
       "  }, {});\n",
       "}\n",
       "\n",
       "mpl.figure.prototype.mouse_event = function(event, name) {\n",
       "    var canvas_pos = mpl.findpos(event)\n",
       "\n",
       "    if (name === 'button_press')\n",
       "    {\n",
       "        this.canvas.focus();\n",
       "        this.canvas_div.focus();\n",
       "    }\n",
       "\n",
       "    var x = canvas_pos.x * mpl.ratio;\n",
       "    var y = canvas_pos.y * mpl.ratio;\n",
       "\n",
       "    this.send_message(name, {x: x, y: y, button: event.button,\n",
       "                             step: event.step,\n",
       "                             guiEvent: simpleKeys(event)});\n",
       "\n",
       "    /* This prevents the web browser from automatically changing to\n",
       "     * the text insertion cursor when the button is pressed.  We want\n",
       "     * to control all of the cursor setting manually through the\n",
       "     * 'cursor' event from matplotlib */\n",
       "    event.preventDefault();\n",
       "    return false;\n",
       "}\n",
       "\n",
       "mpl.figure.prototype._key_event_extra = function(event, name) {\n",
       "    // Handle any extra behaviour associated with a key event\n",
       "}\n",
       "\n",
       "mpl.figure.prototype.key_event = function(event, name) {\n",
       "\n",
       "    // Prevent repeat events\n",
       "    if (name == 'key_press')\n",
       "    {\n",
       "        if (event.which === this._key)\n",
       "            return;\n",
       "        else\n",
       "            this._key = event.which;\n",
       "    }\n",
       "    if (name == 'key_release')\n",
       "        this._key = null;\n",
       "\n",
       "    var value = '';\n",
       "    if (event.ctrlKey && event.which != 17)\n",
       "        value += \"ctrl+\";\n",
       "    if (event.altKey && event.which != 18)\n",
       "        value += \"alt+\";\n",
       "    if (event.shiftKey && event.which != 16)\n",
       "        value += \"shift+\";\n",
       "\n",
       "    value += 'k';\n",
       "    value += event.which.toString();\n",
       "\n",
       "    this._key_event_extra(event, name);\n",
       "\n",
       "    this.send_message(name, {key: value,\n",
       "                             guiEvent: simpleKeys(event)});\n",
       "    return false;\n",
       "}\n",
       "\n",
       "mpl.figure.prototype.toolbar_button_onclick = function(name) {\n",
       "    if (name == 'download') {\n",
       "        this.handle_save(this, null);\n",
       "    } else {\n",
       "        this.send_message(\"toolbar_button\", {name: name});\n",
       "    }\n",
       "};\n",
       "\n",
       "mpl.figure.prototype.toolbar_button_onmouseover = function(tooltip) {\n",
       "    this.message.textContent = tooltip;\n",
       "};\n",
       "mpl.toolbar_items = [[\"Home\", \"Reset original view\", \"fa fa-home icon-home\", \"home\"], [\"Back\", \"Back to previous view\", \"fa fa-arrow-left icon-arrow-left\", \"back\"], [\"Forward\", \"Forward to next view\", \"fa fa-arrow-right icon-arrow-right\", \"forward\"], [\"\", \"\", \"\", \"\"], [\"Pan\", \"Pan axes with left mouse, zoom with right\", \"fa fa-arrows icon-move\", \"pan\"], [\"Zoom\", \"Zoom to rectangle\", \"fa fa-square-o icon-check-empty\", \"zoom\"], [\"\", \"\", \"\", \"\"], [\"Download\", \"Download plot\", \"fa fa-floppy-o icon-save\", \"download\"]];\n",
       "\n",
       "mpl.extensions = [\"eps\", \"jpeg\", \"pdf\", \"png\", \"ps\", \"raw\", \"svg\", \"tif\"];\n",
       "\n",
       "mpl.default_extension = \"png\";var comm_websocket_adapter = function(comm) {\n",
       "    // Create a \"websocket\"-like object which calls the given IPython comm\n",
       "    // object with the appropriate methods. Currently this is a non binary\n",
       "    // socket, so there is still some room for performance tuning.\n",
       "    var ws = {};\n",
       "\n",
       "    ws.close = function() {\n",
       "        comm.close()\n",
       "    };\n",
       "    ws.send = function(m) {\n",
       "        //console.log('sending', m);\n",
       "        comm.send(m);\n",
       "    };\n",
       "    // Register the callback with on_msg.\n",
       "    comm.on_msg(function(msg) {\n",
       "        //console.log('receiving', msg['content']['data'], msg);\n",
       "        // Pass the mpl event to the overridden (by mpl) onmessage function.\n",
       "        ws.onmessage(msg['content']['data'])\n",
       "    });\n",
       "    return ws;\n",
       "}\n",
       "\n",
       "mpl.mpl_figure_comm = function(comm, msg) {\n",
       "    // This is the function which gets called when the mpl process\n",
       "    // starts-up an IPython Comm through the \"matplotlib\" channel.\n",
       "\n",
       "    var id = msg.content.data.id;\n",
       "    // Get hold of the div created by the display call when the Comm\n",
       "    // socket was opened in Python.\n",
       "    var element = $(\"#\" + id);\n",
       "    var ws_proxy = comm_websocket_adapter(comm)\n",
       "\n",
       "    function ondownload(figure, format) {\n",
       "        window.open(figure.imageObj.src);\n",
       "    }\n",
       "\n",
       "    var fig = new mpl.figure(id, ws_proxy,\n",
       "                           ondownload,\n",
       "                           element.get(0));\n",
       "\n",
       "    // Call onopen now - mpl needs it, as it is assuming we've passed it a real\n",
       "    // web socket which is closed, not our websocket->open comm proxy.\n",
       "    ws_proxy.onopen();\n",
       "\n",
       "    fig.parent_element = element.get(0);\n",
       "    fig.cell_info = mpl.find_output_cell(\"<div id='\" + id + \"'></div>\");\n",
       "    if (!fig.cell_info) {\n",
       "        console.error(\"Failed to find cell for figure\", id, fig);\n",
       "        return;\n",
       "    }\n",
       "\n",
       "    var output_index = fig.cell_info[2]\n",
       "    var cell = fig.cell_info[0];\n",
       "\n",
       "};\n",
       "\n",
       "mpl.figure.prototype.handle_close = function(fig, msg) {\n",
       "    var width = fig.canvas.width/mpl.ratio\n",
       "    fig.root.unbind('remove')\n",
       "\n",
       "    // Update the output cell to use the data from the current canvas.\n",
       "    fig.push_to_output();\n",
       "    var dataURL = fig.canvas.toDataURL();\n",
       "    // Re-enable the keyboard manager in IPython - without this line, in FF,\n",
       "    // the notebook keyboard shortcuts fail.\n",
       "    IPython.keyboard_manager.enable()\n",
       "    $(fig.parent_element).html('<img src=\"' + dataURL + '\" width=\"' + width + '\">');\n",
       "    fig.close_ws(fig, msg);\n",
       "}\n",
       "\n",
       "mpl.figure.prototype.close_ws = function(fig, msg){\n",
       "    fig.send_message('closing', msg);\n",
       "    // fig.ws.close()\n",
       "}\n",
       "\n",
       "mpl.figure.prototype.push_to_output = function(remove_interactive) {\n",
       "    // Turn the data on the canvas into data in the output cell.\n",
       "    var width = this.canvas.width/mpl.ratio\n",
       "    var dataURL = this.canvas.toDataURL();\n",
       "    this.cell_info[1]['text/html'] = '<img src=\"' + dataURL + '\" width=\"' + width + '\">';\n",
       "}\n",
       "\n",
       "mpl.figure.prototype.updated_canvas_event = function() {\n",
       "    // Tell IPython that the notebook contents must change.\n",
       "    IPython.notebook.set_dirty(true);\n",
       "    this.send_message(\"ack\", {});\n",
       "    var fig = this;\n",
       "    // Wait a second, then push the new image to the DOM so\n",
       "    // that it is saved nicely (might be nice to debounce this).\n",
       "    setTimeout(function () { fig.push_to_output() }, 1000);\n",
       "}\n",
       "\n",
       "mpl.figure.prototype._init_toolbar = function() {\n",
       "    var fig = this;\n",
       "\n",
       "    var nav_element = $('<div/>');\n",
       "    nav_element.attr('style', 'width: 100%');\n",
       "    this.root.append(nav_element);\n",
       "\n",
       "    // Define a callback function for later on.\n",
       "    function toolbar_event(event) {\n",
       "        return fig.toolbar_button_onclick(event['data']);\n",
       "    }\n",
       "    function toolbar_mouse_event(event) {\n",
       "        return fig.toolbar_button_onmouseover(event['data']);\n",
       "    }\n",
       "\n",
       "    for(var toolbar_ind in mpl.toolbar_items){\n",
       "        var name = mpl.toolbar_items[toolbar_ind][0];\n",
       "        var tooltip = mpl.toolbar_items[toolbar_ind][1];\n",
       "        var image = mpl.toolbar_items[toolbar_ind][2];\n",
       "        var method_name = mpl.toolbar_items[toolbar_ind][3];\n",
       "\n",
       "        if (!name) { continue; };\n",
       "\n",
       "        var button = $('<button class=\"btn btn-default\" href=\"#\" title=\"' + name + '\"><i class=\"fa ' + image + ' fa-lg\"></i></button>');\n",
       "        button.click(method_name, toolbar_event);\n",
       "        button.mouseover(tooltip, toolbar_mouse_event);\n",
       "        nav_element.append(button);\n",
       "    }\n",
       "\n",
       "    // Add the status bar.\n",
       "    var status_bar = $('<span class=\"mpl-message\" style=\"text-align:right; float: right;\"/>');\n",
       "    nav_element.append(status_bar);\n",
       "    this.message = status_bar[0];\n",
       "\n",
       "    // Add the close button to the window.\n",
       "    var buttongrp = $('<div class=\"btn-group inline pull-right\"></div>');\n",
       "    var button = $('<button class=\"btn btn-mini btn-primary\" href=\"#\" title=\"Stop Interaction\"><i class=\"fa fa-power-off icon-remove icon-large\"></i></button>');\n",
       "    button.click(function (evt) { fig.handle_close(fig, {}); } );\n",
       "    button.mouseover('Stop Interaction', toolbar_mouse_event);\n",
       "    buttongrp.append(button);\n",
       "    var titlebar = this.root.find($('.ui-dialog-titlebar'));\n",
       "    titlebar.prepend(buttongrp);\n",
       "}\n",
       "\n",
       "mpl.figure.prototype._root_extra_style = function(el){\n",
       "    var fig = this\n",
       "    el.on(\"remove\", function(){\n",
       "\tfig.close_ws(fig, {});\n",
       "    });\n",
       "}\n",
       "\n",
       "mpl.figure.prototype._canvas_extra_style = function(el){\n",
       "    // this is important to make the div 'focusable\n",
       "    el.attr('tabindex', 0)\n",
       "    // reach out to IPython and tell the keyboard manager to turn it's self\n",
       "    // off when our div gets focus\n",
       "\n",
       "    // location in version 3\n",
       "    if (IPython.notebook.keyboard_manager) {\n",
       "        IPython.notebook.keyboard_manager.register_events(el);\n",
       "    }\n",
       "    else {\n",
       "        // location in version 2\n",
       "        IPython.keyboard_manager.register_events(el);\n",
       "    }\n",
       "\n",
       "}\n",
       "\n",
       "mpl.figure.prototype._key_event_extra = function(event, name) {\n",
       "    var manager = IPython.notebook.keyboard_manager;\n",
       "    if (!manager)\n",
       "        manager = IPython.keyboard_manager;\n",
       "\n",
       "    // Check for shift+enter\n",
       "    if (event.shiftKey && event.which == 13) {\n",
       "        this.canvas_div.blur();\n",
       "        event.shiftKey = false;\n",
       "        // Send a \"J\" for go to next cell\n",
       "        event.which = 74;\n",
       "        event.keyCode = 74;\n",
       "        manager.command_mode();\n",
       "        manager.handle_keydown(event);\n",
       "    }\n",
       "}\n",
       "\n",
       "mpl.figure.prototype.handle_save = function(fig, msg) {\n",
       "    fig.ondownload(fig, null);\n",
       "}\n",
       "\n",
       "\n",
       "mpl.find_output_cell = function(html_output) {\n",
       "    // Return the cell and output element which can be found *uniquely* in the notebook.\n",
       "    // Note - this is a bit hacky, but it is done because the \"notebook_saving.Notebook\"\n",
       "    // IPython event is triggered only after the cells have been serialised, which for\n",
       "    // our purposes (turning an active figure into a static one), is too late.\n",
       "    var cells = IPython.notebook.get_cells();\n",
       "    var ncells = cells.length;\n",
       "    for (var i=0; i<ncells; i++) {\n",
       "        var cell = cells[i];\n",
       "        if (cell.cell_type === 'code'){\n",
       "            for (var j=0; j<cell.output_area.outputs.length; j++) {\n",
       "                var data = cell.output_area.outputs[j];\n",
       "                if (data.data) {\n",
       "                    // IPython >= 3 moved mimebundle to data attribute of output\n",
       "                    data = data.data;\n",
       "                }\n",
       "                if (data['text/html'] == html_output) {\n",
       "                    return [cell, data, j];\n",
       "                }\n",
       "            }\n",
       "        }\n",
       "    }\n",
       "}\n",
       "\n",
       "// Register the function which deals with the matplotlib target/channel.\n",
       "// The kernel may be null if the page has been refreshed.\n",
       "if (IPython.notebook.kernel != null) {\n",
       "    IPython.notebook.kernel.comm_manager.register_target('matplotlib', mpl.mpl_figure_comm);\n",
       "}\n"
      ],
      "text/plain": [
       "<IPython.core.display.Javascript object>"
      ]
     },
     "metadata": {},
     "output_type": "display_data"
    },
    {
     "data": {
      "text/html": [
       "<img src=\"data:image/png;base64,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\" width=\"639.85\">"
      ],
      "text/plain": [
       "<IPython.core.display.HTML object>"
      ]
     },
     "metadata": {},
     "output_type": "display_data"
    }
   ],
   "source": [
    "losses=[]\n",
    "for epoch in range(num_iters):\n",
    "    losses.append(train())\n",
    "    \n",
    "\n",
    "plt.plot(np.arange(num_iters),losses)\n",
    "plt.title(\"Loss function\")\n",
    "plt.show()"
   ]
  },
  {
   "cell_type": "code",
   "execution_count": 50,
   "metadata": {},
   "outputs": [],
   "source": [
    "test_loader = DataLoader(data_tensor, batch_size=1,shuffle=False, num_workers=0)\n",
    "\n",
    "errors = []\n",
    "with torch.no_grad():\n",
    "    for batch_i, batch in enumerate(test_loader):\n",
    "        out = model(batch)\n",
    "        err = criterion(out, batch)\n",
    "        errors.append(err.item())"
   ]
  },
  {
   "cell_type": "code",
   "execution_count": 51,
   "metadata": {},
   "outputs": [],
   "source": [
    "outliers_indices_ae = np.argsort(errors)[-3:]"
   ]
  },
  {
   "cell_type": "code",
   "execution_count": null,
   "metadata": {},
   "outputs": [],
   "source": [
    "viz.show_pca(df, outliers_indices_ae, names)"
   ]
  },
  {
   "cell_type": "code",
   "execution_count": 52,
   "metadata": {},
   "outputs": [
    {
     "data": {
      "application/vnd.plotly.v1+json": {
       "config": {
        "plotlyServerURL": "https://plot.ly"
       },
       "data": [
        {
         "customdata": [
          [
           6470
          ],
          [
           92595
          ],
          [
           3034
          ],
          [
           1074
          ],
          [
           5
          ],
          [
           41108
          ],
          [
           102321
          ],
          [
           660
          ],
          [
           228200
          ],
          [
           77532
          ],
          [
           5818263
          ],
          [
           23394
          ],
          [
           22172
          ],
          [
           23165
          ],
          [
           576
          ],
          [
           258499
          ],
          [
           28948
          ],
          [
           44644
          ],
          [
           24300
          ],
          [
           2644
          ],
          [
           10770
          ],
          [
           232009
          ],
          [
           182072
          ],
          [
           13593
          ],
          [
           12685
          ],
          [
           9022
          ],
          [
           47188
          ],
          [
           1136
          ],
          [
           17979
          ],
          [
           9500
          ],
          [
           4230
          ],
          [
           4299
          ],
          [
           63956
          ],
          [
           35028
          ],
          [
           17155
          ],
          [
           13532
          ],
          [
           4354
          ],
          [
           52727
          ],
          [
           14900
          ],
          [
           43457
          ],
          [
           10600
          ],
          [
           40212
          ],
          [
           15207
          ],
          [
           4145789
          ],
          [
           27008
          ],
          [
           861457
          ],
          [
           13449
          ],
          [
           30687
          ],
          [
           6436
          ],
          [
           15429
          ],
          [
           7
          ],
          [
           296
          ],
          [
           183218
          ],
          [
           1539
          ],
          [
           889
          ],
          [
           40061
          ],
          [
           15752
          ],
          [
           28186
          ],
          [
           22938
          ],
          [
           37650
          ],
          [
           15229
          ],
          [
           5788
          ],
          [
           12778
          ],
          [
           6184
          ],
          [
           2436
          ],
          [
           126474
          ],
          [
           5502
          ],
          [
           10671
          ],
          [
           12331
          ],
          [
           52
          ],
          [
           6552
          ],
          [
           54438
          ],
          [
           19953
          ],
          [
           41421
          ],
          [
           12369
          ],
          [
           44923
          ],
          [
           775
          ],
          [
           6786
          ],
          [
           49067
          ],
          [
           12208
          ],
          [
           24895
          ],
          [
           46796
          ],
          [
           37249
          ],
          [
           32313
          ],
          [
           16265
          ],
          [
           21604
          ],
          [
           2169
          ],
          [
           53497
          ],
          [
           2019
          ],
          [
           18942
          ],
          [
           36253
          ],
          [
           39741
          ],
          [
           12785
          ],
          [
           57166
          ],
          [
           3603
          ],
          [
           38674
          ],
          [
           2344626
          ],
          [
           26447
          ],
          [
           17972
          ],
          [
           359053
          ],
          [
           15126
          ],
          [
           40874
          ],
          [
           1800
          ],
          [
           27895
          ],
          [
           19507
          ],
          [
           12083
          ],
          [
           11083
          ],
          [
           39562
          ],
          [
           12347
          ],
          [
           44908
          ],
          [
           3454
          ],
          [
           2760
          ],
          [
           10565
          ],
          [
           12166
          ],
          [
           80737
          ],
          [
           19829
          ],
          [
           71317
          ],
          [
           37649
          ],
          [
           4520
          ],
          [
           25786
          ],
          [
           25681
          ],
          [
           30077
          ],
          [
           25036
          ],
          [
           26474
          ],
          [
           21260
          ],
          [
           14012
          ],
          [
           22276
          ],
          [
           15292
          ],
          [
           6890
          ],
          [
           20934
          ],
          [
           24251
          ],
          [
           38775
          ],
          [
           29773
          ],
          [
           16839
          ],
          [
           22897
          ],
          [
           17575
          ],
          [
           33461
          ],
          [
           8208
          ],
          [
           148810
          ],
          [
           80098
          ],
          [
           60161
          ],
          [
           49741
          ],
          [
           23924
          ],
          [
           28490
          ],
          [
           42009
          ],
          [
           25817
          ],
          [
           3412
          ],
          [
           36958
          ],
          [
           6564
          ],
          [
           174011
          ],
          [
           17575
          ],
          [
           9345
          ],
          [
           14624
          ],
          [
           10013
          ],
          [
           7849
          ],
          [
           14332
          ],
          [
           19182
          ],
          [
           14082
          ],
          [
           1858
          ],
          [
           77814
          ],
          [
           8311
          ],
          [
           15586
          ],
          [
           9155
          ],
          [
           51941
          ],
          [
           1592
          ],
          [
           23306
          ],
          [
           37798
          ],
          [
           31865
          ],
          [
           1373
          ],
          [
           26486
          ],
          [
           161
          ],
          [
           5857
          ],
          [
           11747
          ],
          [
           22741
          ],
          [
           8082
          ],
          [
           8966
          ],
          [
           9939
          ],
          [
           20836
          ],
          [
           3863
          ],
          [
           26506
          ],
          [
           18725
          ],
          [
           3772
          ],
          [
           22268
          ],
          [
           25
          ],
          [
           8
          ],
          [
           322
          ],
          [
           600
          ],
          [
           192
          ],
          [
           75971
          ],
          [
           5107
          ],
          [
           82474
          ],
          [
           4538
          ],
          [
           3190
          ],
          [
           47355
          ],
          [
           4
          ],
          [
           25947
          ],
          [
           10431
          ],
          [
           115219
          ],
          [
           33974
          ],
          [
           19478
          ],
          [
           136021
          ],
          [
           67489
          ],
          [
           8458
          ],
          [
           23519
          ],
          [
           3162
          ],
          [
           12619
          ],
          [
           21159
          ],
          [
           1173
          ],
          [
           14933
          ],
          [
           3197
          ],
          [
           41805
          ],
          [
           82
          ],
          [
           2836
          ],
          [
           1151
          ],
          [
           11356
          ],
          [
           1611
          ],
          [
           260
          ],
          [
           50
          ],
          [
           94
          ],
          [
           338
          ],
          [
           12504
          ],
          [
           843
          ],
          [
           30
          ],
          [
           3831
          ],
          [
           18675
          ],
          [
           51
          ],
          [
           136139
          ],
          [
           111921
          ],
          [
           322
          ],
          [
           3149
          ],
          [
           2393
          ],
          [
           931
          ],
          [
           10094
          ],
          [
           16213
          ],
          [
           286
          ],
          [
           2556
          ],
          [
           400
          ],
          [
           533
          ],
          [
           30061
          ],
          [
           314
          ],
          [
           9353
          ],
          [
           7
          ],
          [
           879
          ],
          [
           272
          ],
          [
           280
          ],
          [
           3135
          ],
          [
           6873
          ],
          [
           3900
          ],
          [
           31666
          ],
          [
           9738
          ],
          [
           25616
          ],
          [
           20000
          ],
          [
           21915
          ],
          [
           17199
          ],
          [
           6776
          ],
          [
           23382
          ],
          [
           59
          ],
          [
           16064
          ],
          [
           23615
          ],
          [
           47896
          ],
          [
           549
          ],
          [
           6786
          ],
          [
           18659
          ],
          [
           33072
          ],
          [
           47
          ]
         ],
         "hovertemplate": "type=normal<br>c1=%{x}<br>c2=%{y}<br>entity_name=%{customdata[0]}<extra></extra>",
         "legendgroup": "normal",
         "marker": {
          "color": "#636efa",
          "symbol": "circle"
         },
         "mode": "markers",
         "name": "normal",
         "showlegend": true,
         "type": "scatter",
         "x": [
          0.2926802107333376,
          0.501039512730767,
          -2.892230134521756,
          1.0576157717515227,
          -3.556337257725958,
          0.9841503291278363,
          1.1775474865564122,
          -2.826740179092615,
          2.171917501125567,
          2.2762466706962847,
          6.074632234222473,
          0.7942683079309498,
          0.9212255867875137,
          0.5376866752772004,
          -4.26837955568724,
          2.9219309512864657,
          0.5206274907806705,
          1.8299931232438635,
          -1.10065116577463,
          -1.6689218762410927,
          0.6142321605037021,
          0.5740638345117014,
          2.2004463622072086,
          -1.3826622475138635,
          0.4524431825196926,
          -3.944232171431804,
          0.3912342373822334,
          -1.0738561499187793,
          0.3093311914545125,
          0.45197426883618436,
          -1.4459153107772316,
          -2.852997566753046,
          1.7187958342628198,
          1.8356034124329155,
          0.2968277933289529,
          0.5871974048866005,
          -0.6157126397350643,
          1.589321271640809,
          0.6675576216024846,
          1.9493288028745395,
          0.2313762311282677,
          1.1927643752961163,
          0.6148389066915169,
          2.5868457545759678,
          1.1259407996290067,
          2.19674502373544,
          -0.945728057057721,
          0.761853388684114,
          -0.8435940752181804,
          0.6410222083096385,
          -4.607484768490859,
          -1.7127949651212853,
          2.278230846767301,
          -1.636414514921984,
          -5.825191065746596,
          0.27558973457833835,
          -0.9983243442853095,
          -3.772624640895861,
          0.6128608216250699,
          0.9978910208385823,
          1.1630774153093202,
          0.4526180048790995,
          0.46529628729978056,
          -1.5734864774013029,
          -5.454924642086963,
          -5.001830276504807,
          -1.0529633305789639,
          0.5166309100035015,
          0.6993463746952304,
          -1.7052566331524268,
          -1.8584309221944424,
          1.636940713962129,
          1.429647724314307,
          1.655512796737619,
          0.5433695295626767,
          1.3342005402343737,
          0.03184768223301246,
          -0.6091045549277825,
          1.1782548720756285,
          0.4069287240955423,
          1.6620044729643693,
          2.0552552463912694,
          -0.10072471508846277,
          0.5137948137974017,
          0.981236122680211,
          0.5241616820315458,
          -0.8651052529760926,
          1.7919708237055305,
          0.3599536208343089,
          0.7828353002813727,
          0.8153400705408116,
          0.8694607308791829,
          0.7121044938951634,
          1.5015047438115994,
          -4.0964690236587895,
          0.7947632653594405,
          2.1001463969343117,
          1.0397170913943596,
          1.8679645742015623,
          2.1870595715208445,
          -1.3153678930047967,
          -1.644325013416234,
          0.9507209897380924,
          1.2435874037500723,
          0.4387553823026033,
          1.9910218590326327,
          1.3143914066397848,
          1.1082880021161117,
          0.4206514499026655,
          1.5772250995397763,
          -1.8106821771308677,
          -1.5444971014519522,
          0.551328274703334,
          1.757229252629257,
          0.831703069606105,
          1.5453079361743562,
          0.6677986745611474,
          1.6073138629252437,
          1.0918517637834162,
          0.570415435643539,
          0.4867149056412928,
          0.6649858272001072,
          0.676629217962301,
          1.495926656715142,
          0.584438441243152,
          0.16707824612189012,
          0.7460742460483999,
          1.2469532853569922,
          -0.2047444607561189,
          0.7316974402973716,
          1.2316520916007958,
          0.8068797545554663,
          1.5358954111443734,
          0.5374476546817477,
          1.7235100835726136,
          1.0459863335818702,
          1.5624202957948576,
          0.43096257430024776,
          1.5682086919692646,
          0.8036197388670696,
          0.7068497891449896,
          1.248032276179828,
          0.8636973416781951,
          0.41087655653580246,
          0.8870668712555592,
          0.200635427280754,
          -3.255881526528405,
          1.5110594144460208,
          -2.272279010649619,
          -0.3913161802677948,
          -0.10631121233975115,
          -0.04405202829124801,
          0.42256351639206247,
          0.5433327698041843,
          1.0671094504187841,
          0.6023328634080327,
          2.015820927070858,
          0.13445125353336965,
          1.277759815018947,
          1.8828659339701879,
          0.43664093216041266,
          1.332897041602571,
          1.7659645610645216,
          2.235390941927499,
          -1.497413272824079,
          -0.09181376188788432,
          1.8373901033708815,
          1.364241304052489,
          0.47787831069579045,
          0.9340965975233531,
          -1.9638831328070507,
          1.285340056168416,
          0.04402383301601047,
          1.7663507387227864,
          0.7049184791950182,
          0.8312970481552114,
          0.7675905656880825,
          0.37056607816491954,
          -1.2093315680754906,
          1.3598424436986318,
          1.5569429427927903,
          1.2035383626014664,
          -1.6064475009710528,
          -1.6978394674569142,
          -0.17644235510281037,
          -1.848512876763121,
          -2.130636563893346,
          -3.1332794725064486,
          -2.0540553622816176,
          -0.3423467742939059,
          -2.1631507941643733,
          0.9100217770897594,
          0.5039211232753436,
          2.5799124969076015,
          -0.6885883895939728,
          1.2854379601311703,
          0.4605514133553873,
          0.9630028070009602,
          0.772437813327501,
          1.3678782497329183,
          0.24310790611128116,
          2.95391097487216,
          -0.334648786139841,
          0.2969086241311321,
          0.16717988301788383,
          0.5753795901727868,
          1.6073455801060526,
          -0.3085381458667645,
          0.35530882536780856,
          -0.745882634898463,
          0.6137128627985988,
          -2.3418116536428757,
          -1.558226042557553,
          0.15770945608710932,
          -2.5047519611168263,
          -2.6087405644725608,
          -0.8069067755119033,
          -1.3950035075169835,
          -0.7120096343381805,
          -1.8473033718665197,
          -1.4961319360866374,
          -2.4559280333283926,
          -2.826379941296961,
          -1.7363592262365606,
          -2.5887024011847513,
          -3.5677519305792575,
          -0.8355666151459038,
          0.028737752330262406,
          0.5528450670105018,
          -1.7298406409349447,
          -1.454475954171096,
          -0.32489689124585347,
          0.8038154511090672,
          -2.625748386998345,
          -0.8725625761839365,
          0.12850399848209787,
          -2.3643514560929773,
          -0.8217768387056028,
          -1.0468370344338425,
          -1.7636212506081506,
          -2.8796469923214856,
          1.3204582743124536,
          -3.14482155452287,
          -1.2643562648957916,
          -2.1246632228576052,
          -2.0741974819780356,
          -1.4298916985884165,
          -3.6397790210967567,
          0.9742423851058643,
          -1.1022199804168993,
          2.1337279737201373,
          1.0860007190030239,
          1.165199644409914,
          1.0020377336767048,
          0.9138689035849739,
          0.44647409637328606,
          -0.6537770100642899,
          0.7866544619987725,
          -1.0598162393096817,
          1.5291441988289893,
          -5.27969948289156,
          -1.948335440073433,
          0.45858558290468326,
          0.8288239397753547,
          0.6810398255040716
         ],
         "xaxis": "x",
         "y": [
          -0.31299888491215544,
          -0.7413701318181554,
          -0.988755310535247,
          0.2670292351653309,
          -5.473496127651643,
          -0.8031552351681412,
          0.32342883347572815,
          -2.463400803891062,
          0.7203065286521012,
          0.796528751414581,
          1.6235377276278606,
          -0.4952356933591413,
          -0.21319377853260882,
          -1.1297402091916748,
          -0.4107787500044408,
          1.0650442408347047,
          -1.058474359483334,
          0.645885208578617,
          -2.2324601397053225,
          -2.444701308649122,
          -0.9787553378288972,
          -0.9372704992344107,
          0.7727652865019923,
          -1.70154804087608,
          -1.0148038059419149,
          -3.478188600992452,
          -0.9911825272705989,
          -1.3692434677197876,
          -0.7811701514373371,
          -1.0252882227421478,
          -2.8526500632630176,
          -0.6952829856989704,
          0.44162621374995853,
          0.5323609752877133,
          -1.1600278940436004,
          -0.6644164176722753,
          -0.09702127816415547,
          0.4274545272345443,
          -0.5418170857650806,
          0.7018063482782331,
          -1.2691395570324062,
          -0.1039774989628163,
          -1.0782555260004973,
          -0.32782231441747395,
          -0.3180398473495341,
          0.2602139354602994,
          -1.4814702612290476,
          -0.8579208566135916,
          -1.8804337097595625,
          -0.10034330713069349,
          3.6254602210951266,
          -0.2917023257299142,
          0.727110849088856,
          -2.696733694825664,
          -0.05131642834016039,
          -0.9435491750672688,
          -0.48986135744369574,
          1.465343818873605,
          -0.9307329710477547,
          -0.5981396763042256,
          0.3600184102511881,
          0.633631670363101,
          -1.0469535958559244,
          -0.9545904123775264,
          3.5603466351096302,
          0.8621827871544845,
          -1.1909000892350587,
          -1.176804796741698,
          -1.0325756886732484,
          -1.9049721144522915,
          -0.989556516717412,
          0.7570759549757515,
          0.8480637598852454,
          0.4022123811268318,
          -1.1782651137885654,
          0.5112609740768402,
          1.468744114291958,
          -0.357565748663528,
          -0.15662789592023255,
          -1.2128491425885386,
          0.6080576533056958,
          0.6160570879471032,
          -1.1390435310079234,
          -1.1628006135829256,
          -0.4791370022972658,
          -1.212181227307147,
          -1.8564126145841142,
          0.8160119734483735,
          0.9414835723500399,
          -0.5318994759119602,
          -0.23892089881448084,
          -0.6639018137217584,
          0.18287106801952707,
          0.48483332879555824,
          -1.3090293335413088,
          -0.6757040874554112,
          -0.4232802322025094,
          -0.29577816136672846,
          0.5844373412953852,
          1.2407760579300624,
          -0.5520452563268954,
          -0.9927080914592185,
          0.3388244007237707,
          -0.24876214071412278,
          -1.2611579613041968,
          0.6333647214473237,
          0.4186653348386584,
          -0.2030386223092031,
          -1.0252250459465768,
          0.249159727840472,
          -2.6119454917211558,
          -0.5258964091702124,
          -0.952854548878405,
          0.3712733601107631,
          -0.7474978087762122,
          0.6390464200325734,
          -0.9572649265639434,
          0.7372718380739152,
          0.5593776067908325,
          -0.9951178879701849,
          -0.7052793615100199,
          -0.9103437855917742,
          -0.4659719172125205,
          0.4707544052094719,
          -0.9609463686936796,
          -0.8725857596971036,
          -0.9978686308136242,
          -0.15872716925388894,
          -0.7093193251967204,
          -0.7744312486280193,
          0.2534823821987245,
          -0.17086023868266942,
          0.2014886576832486,
          -0.986577472382371,
          0.3392456832026881,
          0.8571662379928988,
          0.36090597913219885,
          -1.0941915467956902,
          0.009692746178171348,
          -0.9467444359458064,
          -0.9097209903696726,
          -0.35033389068027593,
          -0.27272475348618064,
          -1.0124581718491175,
          0.006131057259123358,
          -0.5802470600730968,
          -1.5096369790475581,
          0.4283641923908591,
          -1.0493765779221167,
          0.14980832385039763,
          -0.7549245737530029,
          -1.1189457804052714,
          -1.3119896074641468,
          -0.817550965886226,
          0.1137723795800614,
          -0.695992427574094,
          0.7895236845127592,
          -1.1162824415779509,
          1.3730158371668677,
          0.7895328899886305,
          -1.1782088528438566,
          0.33558147887712725,
          0.5883074117788692,
          0.78597842830685,
          -0.8471066304141999,
          -0.8584843409544383,
          0.5315903344748152,
          0.46820519078037803,
          -0.2600750442176603,
          -0.3887066592800385,
          -2.3631913871290395,
          0.4023546561499933,
          -0.8490794855695603,
          0.908509982305949,
          -0.2559331068332679,
          0.2922969855713314,
          -0.6147275026698684,
          -1.1728693284863994,
          -1.0632177112889785,
          0.9050705073184049,
          1.0657820091659047,
          1.4612205743931685,
          0.8909830369595935,
          9.668186517487431,
          3.3516337976052046,
          0.7095010643519502,
          0.4332495820001498,
          12.61433241801409,
          2.2528266246282005,
          2.084758994364433,
          0.5130954999639562,
          1.2704260151662996,
          1.1066057705986712,
          1.338818829511293,
          3.2079036354468426,
          -0.29188330544301855,
          -1.187482519293643,
          -0.664903542140868,
          -0.9016221446522329,
          0.5928605072210448,
          -1.3219354434006791,
          1.1496454021005085,
          -1.194095759351469,
          -1.170282786959182,
          -0.17112214850248947,
          -1.0166876875672708,
          0.25079738000738916,
          -0.6481567388113865,
          -0.4688201723656061,
          -2.0577211501285015,
          -0.9390301770492931,
          1.3470854153412706,
          1.3735826991202018,
          2.4308791919854738,
          0.980507683493065,
          0.9891644952301264,
          2.6740384990842947,
          1.1907831774810629,
          1.889174779411854,
          1.4931621396993673,
          1.3803538632261996,
          1.362925607156328,
          0.7232607330856993,
          1.005324180987571,
          0.3451712449429019,
          0.5331179335562952,
          0.9871084806957331,
          1.5937210598431093,
          2.0815304958110987,
          0.9091296588910249,
          0.5501663215116483,
          1.9276113418305123,
          2.5694324995566125,
          0.5215746259431451,
          1.9321422909473769,
          2.843494669216186,
          0.5821761033857857,
          1.2320205548218768,
          1.0560714051635358,
          1.408108950535679,
          0.3807218987636318,
          1.0936972727093806,
          -0.005888971722903428,
          1.720954950044562,
          0.8496357709772344,
          0.4738892258685297,
          1.1481841620171687,
          -0.5498045141483551,
          -0.2681001052817585,
          -0.3328303250677676,
          0.7378112809719621,
          -0.6909551200944845,
          -0.14692116354154555,
          -0.7911952734907849,
          0.25060012066403825,
          -0.36314984046657617,
          0.7272207375883641,
          -0.3332058908101434,
          -0.03665813194759517,
          0.20077595006088028,
          -0.8826304962178639,
          -0.07126634547396407,
          -1.1450015286548219,
          -0.7023212065517682,
          0.6157167504651596
         ],
         "yaxis": "y"
        },
        {
         "customdata": [
          [
           440
          ],
          [
           1946
          ],
          [
           9121
          ]
         ],
         "hovertemplate": "type=outlier<br>c1=%{x}<br>c2=%{y}<br>entity_name=%{customdata[0]}<extra></extra>",
         "legendgroup": "outlier",
         "marker": {
          "color": "#EF553B",
          "symbol": "circle"
         },
         "mode": "markers",
         "name": "outlier",
         "showlegend": true,
         "type": "scatter",
         "x": [
          -2.8179053871050397,
          -1.4672895458745565,
          -3.6633056721393316
         ],
         "xaxis": "x",
         "y": [
          -2.079500507322264,
          -3.5781851654688546,
          1.1997334143757326
         ],
         "yaxis": "y"
        }
       ],
       "layout": {
        "legend": {
         "title": {
          "text": "type"
         },
         "tracegroupgap": 0
        },
        "margin": {
         "t": 60
        },
        "template": {
         "data": {
          "bar": [
           {
            "error_x": {
             "color": "#2a3f5f"
            },
            "error_y": {
             "color": "#2a3f5f"
            },
            "marker": {
             "line": {
              "color": "#E5ECF6",
              "width": 0.5
             }
            },
            "type": "bar"
           }
          ],
          "barpolar": [
           {
            "marker": {
             "line": {
              "color": "#E5ECF6",
              "width": 0.5
             }
            },
            "type": "barpolar"
           }
          ],
          "carpet": [
           {
            "aaxis": {
             "endlinecolor": "#2a3f5f",
             "gridcolor": "white",
             "linecolor": "white",
             "minorgridcolor": "white",
             "startlinecolor": "#2a3f5f"
            },
            "baxis": {
             "endlinecolor": "#2a3f5f",
             "gridcolor": "white",
             "linecolor": "white",
             "minorgridcolor": "white",
             "startlinecolor": "#2a3f5f"
            },
            "type": "carpet"
           }
          ],
          "choropleth": [
           {
            "colorbar": {
             "outlinewidth": 0,
             "ticks": ""
            },
            "type": "choropleth"
           }
          ],
          "contour": [
           {
            "colorbar": {
             "outlinewidth": 0,
             "ticks": ""
            },
            "colorscale": [
             [
              0,
              "#0d0887"
             ],
             [
              0.1111111111111111,
              "#46039f"
             ],
             [
              0.2222222222222222,
              "#7201a8"
             ],
             [
              0.3333333333333333,
              "#9c179e"
             ],
             [
              0.4444444444444444,
              "#bd3786"
             ],
             [
              0.5555555555555556,
              "#d8576b"
             ],
             [
              0.6666666666666666,
              "#ed7953"
             ],
             [
              0.7777777777777778,
              "#fb9f3a"
             ],
             [
              0.8888888888888888,
              "#fdca26"
             ],
             [
              1,
              "#f0f921"
             ]
            ],
            "type": "contour"
           }
          ],
          "contourcarpet": [
           {
            "colorbar": {
             "outlinewidth": 0,
             "ticks": ""
            },
            "type": "contourcarpet"
           }
          ],
          "heatmap": [
           {
            "colorbar": {
             "outlinewidth": 0,
             "ticks": ""
            },
            "colorscale": [
             [
              0,
              "#0d0887"
             ],
             [
              0.1111111111111111,
              "#46039f"
             ],
             [
              0.2222222222222222,
              "#7201a8"
             ],
             [
              0.3333333333333333,
              "#9c179e"
             ],
             [
              0.4444444444444444,
              "#bd3786"
             ],
             [
              0.5555555555555556,
              "#d8576b"
             ],
             [
              0.6666666666666666,
              "#ed7953"
             ],
             [
              0.7777777777777778,
              "#fb9f3a"
             ],
             [
              0.8888888888888888,
              "#fdca26"
             ],
             [
              1,
              "#f0f921"
             ]
            ],
            "type": "heatmap"
           }
          ],
          "heatmapgl": [
           {
            "colorbar": {
             "outlinewidth": 0,
             "ticks": ""
            },
            "colorscale": [
             [
              0,
              "#0d0887"
             ],
             [
              0.1111111111111111,
              "#46039f"
             ],
             [
              0.2222222222222222,
              "#7201a8"
             ],
             [
              0.3333333333333333,
              "#9c179e"
             ],
             [
              0.4444444444444444,
              "#bd3786"
             ],
             [
              0.5555555555555556,
              "#d8576b"
             ],
             [
              0.6666666666666666,
              "#ed7953"
             ],
             [
              0.7777777777777778,
              "#fb9f3a"
             ],
             [
              0.8888888888888888,
              "#fdca26"
             ],
             [
              1,
              "#f0f921"
             ]
            ],
            "type": "heatmapgl"
           }
          ],
          "histogram": [
           {
            "marker": {
             "colorbar": {
              "outlinewidth": 0,
              "ticks": ""
             }
            },
            "type": "histogram"
           }
          ],
          "histogram2d": [
           {
            "colorbar": {
             "outlinewidth": 0,
             "ticks": ""
            },
            "colorscale": [
             [
              0,
              "#0d0887"
             ],
             [
              0.1111111111111111,
              "#46039f"
             ],
             [
              0.2222222222222222,
              "#7201a8"
             ],
             [
              0.3333333333333333,
              "#9c179e"
             ],
             [
              0.4444444444444444,
              "#bd3786"
             ],
             [
              0.5555555555555556,
              "#d8576b"
             ],
             [
              0.6666666666666666,
              "#ed7953"
             ],
             [
              0.7777777777777778,
              "#fb9f3a"
             ],
             [
              0.8888888888888888,
              "#fdca26"
             ],
             [
              1,
              "#f0f921"
             ]
            ],
            "type": "histogram2d"
           }
          ],
          "histogram2dcontour": [
           {
            "colorbar": {
             "outlinewidth": 0,
             "ticks": ""
            },
            "colorscale": [
             [
              0,
              "#0d0887"
             ],
             [
              0.1111111111111111,
              "#46039f"
             ],
             [
              0.2222222222222222,
              "#7201a8"
             ],
             [
              0.3333333333333333,
              "#9c179e"
             ],
             [
              0.4444444444444444,
              "#bd3786"
             ],
             [
              0.5555555555555556,
              "#d8576b"
             ],
             [
              0.6666666666666666,
              "#ed7953"
             ],
             [
              0.7777777777777778,
              "#fb9f3a"
             ],
             [
              0.8888888888888888,
              "#fdca26"
             ],
             [
              1,
              "#f0f921"
             ]
            ],
            "type": "histogram2dcontour"
           }
          ],
          "mesh3d": [
           {
            "colorbar": {
             "outlinewidth": 0,
             "ticks": ""
            },
            "type": "mesh3d"
           }
          ],
          "parcoords": [
           {
            "line": {
             "colorbar": {
              "outlinewidth": 0,
              "ticks": ""
             }
            },
            "type": "parcoords"
           }
          ],
          "pie": [
           {
            "automargin": true,
            "type": "pie"
           }
          ],
          "scatter": [
           {
            "marker": {
             "colorbar": {
              "outlinewidth": 0,
              "ticks": ""
             }
            },
            "type": "scatter"
           }
          ],
          "scatter3d": [
           {
            "line": {
             "colorbar": {
              "outlinewidth": 0,
              "ticks": ""
             }
            },
            "marker": {
             "colorbar": {
              "outlinewidth": 0,
              "ticks": ""
             }
            },
            "type": "scatter3d"
           }
          ],
          "scattercarpet": [
           {
            "marker": {
             "colorbar": {
              "outlinewidth": 0,
              "ticks": ""
             }
            },
            "type": "scattercarpet"
           }
          ],
          "scattergeo": [
           {
            "marker": {
             "colorbar": {
              "outlinewidth": 0,
              "ticks": ""
             }
            },
            "type": "scattergeo"
           }
          ],
          "scattergl": [
           {
            "marker": {
             "colorbar": {
              "outlinewidth": 0,
              "ticks": ""
             }
            },
            "type": "scattergl"
           }
          ],
          "scattermapbox": [
           {
            "marker": {
             "colorbar": {
              "outlinewidth": 0,
              "ticks": ""
             }
            },
            "type": "scattermapbox"
           }
          ],
          "scatterpolar": [
           {
            "marker": {
             "colorbar": {
              "outlinewidth": 0,
              "ticks": ""
             }
            },
            "type": "scatterpolar"
           }
          ],
          "scatterpolargl": [
           {
            "marker": {
             "colorbar": {
              "outlinewidth": 0,
              "ticks": ""
             }
            },
            "type": "scatterpolargl"
           }
          ],
          "scatterternary": [
           {
            "marker": {
             "colorbar": {
              "outlinewidth": 0,
              "ticks": ""
             }
            },
            "type": "scatterternary"
           }
          ],
          "surface": [
           {
            "colorbar": {
             "outlinewidth": 0,
             "ticks": ""
            },
            "colorscale": [
             [
              0,
              "#0d0887"
             ],
             [
              0.1111111111111111,
              "#46039f"
             ],
             [
              0.2222222222222222,
              "#7201a8"
             ],
             [
              0.3333333333333333,
              "#9c179e"
             ],
             [
              0.4444444444444444,
              "#bd3786"
             ],
             [
              0.5555555555555556,
              "#d8576b"
             ],
             [
              0.6666666666666666,
              "#ed7953"
             ],
             [
              0.7777777777777778,
              "#fb9f3a"
             ],
             [
              0.8888888888888888,
              "#fdca26"
             ],
             [
              1,
              "#f0f921"
             ]
            ],
            "type": "surface"
           }
          ],
          "table": [
           {
            "cells": {
             "fill": {
              "color": "#EBF0F8"
             },
             "line": {
              "color": "white"
             }
            },
            "header": {
             "fill": {
              "color": "#C8D4E3"
             },
             "line": {
              "color": "white"
             }
            },
            "type": "table"
           }
          ]
         },
         "layout": {
          "annotationdefaults": {
           "arrowcolor": "#2a3f5f",
           "arrowhead": 0,
           "arrowwidth": 1
          },
          "coloraxis": {
           "colorbar": {
            "outlinewidth": 0,
            "ticks": ""
           }
          },
          "colorscale": {
           "diverging": [
            [
             0,
             "#8e0152"
            ],
            [
             0.1,
             "#c51b7d"
            ],
            [
             0.2,
             "#de77ae"
            ],
            [
             0.3,
             "#f1b6da"
            ],
            [
             0.4,
             "#fde0ef"
            ],
            [
             0.5,
             "#f7f7f7"
            ],
            [
             0.6,
             "#e6f5d0"
            ],
            [
             0.7,
             "#b8e186"
            ],
            [
             0.8,
             "#7fbc41"
            ],
            [
             0.9,
             "#4d9221"
            ],
            [
             1,
             "#276419"
            ]
           ],
           "sequential": [
            [
             0,
             "#0d0887"
            ],
            [
             0.1111111111111111,
             "#46039f"
            ],
            [
             0.2222222222222222,
             "#7201a8"
            ],
            [
             0.3333333333333333,
             "#9c179e"
            ],
            [
             0.4444444444444444,
             "#bd3786"
            ],
            [
             0.5555555555555556,
             "#d8576b"
            ],
            [
             0.6666666666666666,
             "#ed7953"
            ],
            [
             0.7777777777777778,
             "#fb9f3a"
            ],
            [
             0.8888888888888888,
             "#fdca26"
            ],
            [
             1,
             "#f0f921"
            ]
           ],
           "sequentialminus": [
            [
             0,
             "#0d0887"
            ],
            [
             0.1111111111111111,
             "#46039f"
            ],
            [
             0.2222222222222222,
             "#7201a8"
            ],
            [
             0.3333333333333333,
             "#9c179e"
            ],
            [
             0.4444444444444444,
             "#bd3786"
            ],
            [
             0.5555555555555556,
             "#d8576b"
            ],
            [
             0.6666666666666666,
             "#ed7953"
            ],
            [
             0.7777777777777778,
             "#fb9f3a"
            ],
            [
             0.8888888888888888,
             "#fdca26"
            ],
            [
             1,
             "#f0f921"
            ]
           ]
          },
          "colorway": [
           "#636efa",
           "#EF553B",
           "#00cc96",
           "#ab63fa",
           "#FFA15A",
           "#19d3f3",
           "#FF6692",
           "#B6E880",
           "#FF97FF",
           "#FECB52"
          ],
          "font": {
           "color": "#2a3f5f"
          },
          "geo": {
           "bgcolor": "white",
           "lakecolor": "white",
           "landcolor": "#E5ECF6",
           "showlakes": true,
           "showland": true,
           "subunitcolor": "white"
          },
          "hoverlabel": {
           "align": "left"
          },
          "hovermode": "closest",
          "mapbox": {
           "style": "light"
          },
          "paper_bgcolor": "white",
          "plot_bgcolor": "#E5ECF6",
          "polar": {
           "angularaxis": {
            "gridcolor": "white",
            "linecolor": "white",
            "ticks": ""
           },
           "bgcolor": "#E5ECF6",
           "radialaxis": {
            "gridcolor": "white",
            "linecolor": "white",
            "ticks": ""
           }
          },
          "scene": {
           "xaxis": {
            "backgroundcolor": "#E5ECF6",
            "gridcolor": "white",
            "gridwidth": 2,
            "linecolor": "white",
            "showbackground": true,
            "ticks": "",
            "zerolinecolor": "white"
           },
           "yaxis": {
            "backgroundcolor": "#E5ECF6",
            "gridcolor": "white",
            "gridwidth": 2,
            "linecolor": "white",
            "showbackground": true,
            "ticks": "",
            "zerolinecolor": "white"
           },
           "zaxis": {
            "backgroundcolor": "#E5ECF6",
            "gridcolor": "white",
            "gridwidth": 2,
            "linecolor": "white",
            "showbackground": true,
            "ticks": "",
            "zerolinecolor": "white"
           }
          },
          "shapedefaults": {
           "line": {
            "color": "#2a3f5f"
           }
          },
          "ternary": {
           "aaxis": {
            "gridcolor": "white",
            "linecolor": "white",
            "ticks": ""
           },
           "baxis": {
            "gridcolor": "white",
            "linecolor": "white",
            "ticks": ""
           },
           "bgcolor": "#E5ECF6",
           "caxis": {
            "gridcolor": "white",
            "linecolor": "white",
            "ticks": ""
           }
          },
          "title": {
           "x": 0.05
          },
          "xaxis": {
           "automargin": true,
           "gridcolor": "white",
           "linecolor": "white",
           "ticks": "",
           "title": {
            "standoff": 15
           },
           "zerolinecolor": "white",
           "zerolinewidth": 2
          },
          "yaxis": {
           "automargin": true,
           "gridcolor": "white",
           "linecolor": "white",
           "ticks": "",
           "title": {
            "standoff": 15
           },
           "zerolinecolor": "white",
           "zerolinewidth": 2
          }
         }
        },
        "title": {
         "text": "PCA"
        },
        "xaxis": {
         "anchor": "y",
         "domain": [
          0,
          1
         ],
         "title": {
          "text": "c1"
         }
        },
        "yaxis": {
         "anchor": "x",
         "domain": [
          0,
          1
         ],
         "title": {
          "text": "c2"
         }
        }
       }
      },
      "text/html": [
       "<div>\n",
       "        \n",
       "        \n",
       "            <div id=\"77b5db82-5306-4caf-9a1d-d3b9782bf49a\" class=\"plotly-graph-div\" style=\"height:525px; width:100%;\"></div>\n",
       "            <script type=\"text/javascript\">\n",
       "                require([\"plotly\"], function(Plotly) {\n",
       "                    window.PLOTLYENV=window.PLOTLYENV || {};\n",
       "                    \n",
       "                if (document.getElementById(\"77b5db82-5306-4caf-9a1d-d3b9782bf49a\")) {\n",
       "                    Plotly.newPlot(\n",
       "                        '77b5db82-5306-4caf-9a1d-d3b9782bf49a',\n",
       "                        [{\"customdata\": [[6470], [92595], [3034], [1074], [5], [41108], [102321], [660], [228200], [77532], [5818263], [23394], [22172], [23165], [576], [258499], [28948], [44644], [24300], [2644], [10770], [232009], [182072], [13593], [12685], [9022], [47188], [1136], [17979], [9500], [4230], [4299], [63956], [35028], [17155], [13532], [4354], [52727], [14900], [43457], [10600], [40212], [15207], [4145789], [27008], [861457], [13449], [30687], [6436], [15429], [7], [296], [183218], [1539], [889], [40061], [15752], [28186], [22938], [37650], [15229], [5788], [12778], [6184], [2436], [126474], [5502], [10671], [12331], [52], [6552], [54438], [19953], [41421], [12369], [44923], [775], [6786], [49067], [12208], [24895], [46796], [37249], [32313], [16265], [21604], [2169], [53497], [2019], [18942], [36253], [39741], [12785], [57166], [3603], [38674], [2344626], [26447], [17972], [359053], [15126], [40874], [1800], [27895], [19507], [12083], [11083], [39562], [12347], [44908], [3454], [2760], [10565], [12166], [80737], [19829], [71317], [37649], [4520], [25786], [25681], [30077], [25036], [26474], [21260], [14012], [22276], [15292], [6890], [20934], [24251], [38775], [29773], [16839], [22897], [17575], [33461], [8208], [148810], [80098], [60161], [49741], [23924], [28490], [42009], [25817], [3412], [36958], [6564], [174011], [17575], [9345], [14624], [10013], [7849], [14332], [19182], [14082], [1858], [77814], [8311], [15586], [9155], [51941], [1592], [23306], [37798], [31865], [1373], [26486], [161], [5857], [11747], [22741], [8082], [8966], [9939], [20836], [3863], [26506], [18725], [3772], [22268], [25], [8], [322], [600], [192], [75971], [5107], [82474], [4538], [3190], [47355], [4], [25947], [10431], [115219], [33974], [19478], [136021], [67489], [8458], [23519], [3162], [12619], [21159], [1173], [14933], [3197], [41805], [82], [2836], [1151], [11356], [1611], [260], [50], [94], [338], [12504], [843], [30], [3831], [18675], [51], [136139], [111921], [322], [3149], [2393], [931], [10094], [16213], [286], [2556], [400], [533], [30061], [314], [9353], [7], [879], [272], [280], [3135], [6873], [3900], [31666], [9738], [25616], [20000], [21915], [17199], [6776], [23382], [59], [16064], [23615], [47896], [549], [6786], [18659], [33072], [47]], \"hovertemplate\": \"type=normal<br>c1=%{x}<br>c2=%{y}<br>entity_name=%{customdata[0]}<extra></extra>\", \"legendgroup\": \"normal\", \"marker\": {\"color\": \"#636efa\", \"symbol\": \"circle\"}, \"mode\": \"markers\", \"name\": \"normal\", \"showlegend\": true, \"type\": \"scatter\", \"x\": [0.2926802107333376, 0.501039512730767, -2.892230134521756, 1.0576157717515227, -3.556337257725958, 0.9841503291278363, 1.1775474865564122, -2.826740179092615, 2.171917501125567, 2.2762466706962847, 6.074632234222473, 0.7942683079309498, 0.9212255867875137, 0.5376866752772004, -4.26837955568724, 2.9219309512864657, 0.5206274907806705, 1.8299931232438635, -1.10065116577463, -1.6689218762410927, 0.6142321605037021, 0.5740638345117014, 2.2004463622072086, -1.3826622475138635, 0.4524431825196926, -3.944232171431804, 0.3912342373822334, -1.0738561499187793, 0.3093311914545125, 0.45197426883618436, -1.4459153107772316, -2.852997566753046, 1.7187958342628198, 1.8356034124329155, 0.2968277933289529, 0.5871974048866005, -0.6157126397350643, 1.589321271640809, 0.6675576216024846, 1.9493288028745395, 0.2313762311282677, 1.1927643752961163, 0.6148389066915169, 2.5868457545759678, 1.1259407996290067, 2.19674502373544, -0.945728057057721, 0.761853388684114, -0.8435940752181804, 0.6410222083096385, -4.607484768490859, -1.7127949651212853, 2.278230846767301, -1.636414514921984, -5.825191065746596, 0.27558973457833835, -0.9983243442853095, -3.772624640895861, 0.6128608216250699, 0.9978910208385823, 1.1630774153093202, 0.4526180048790995, 0.46529628729978056, -1.5734864774013029, -5.454924642086963, -5.001830276504807, -1.0529633305789639, 0.5166309100035015, 0.6993463746952304, -1.7052566331524268, -1.8584309221944424, 1.636940713962129, 1.429647724314307, 1.655512796737619, 0.5433695295626767, 1.3342005402343737, 0.03184768223301246, -0.6091045549277825, 1.1782548720756285, 0.4069287240955423, 1.6620044729643693, 2.0552552463912694, -0.10072471508846277, 0.5137948137974017, 0.981236122680211, 0.5241616820315458, -0.8651052529760926, 1.7919708237055305, 0.3599536208343089, 0.7828353002813727, 0.8153400705408116, 0.8694607308791829, 0.7121044938951634, 1.5015047438115994, -4.0964690236587895, 0.7947632653594405, 2.1001463969343117, 1.0397170913943596, 1.8679645742015623, 2.1870595715208445, -1.3153678930047967, -1.644325013416234, 0.9507209897380924, 1.2435874037500723, 0.4387553823026033, 1.9910218590326327, 1.3143914066397848, 1.1082880021161117, 0.4206514499026655, 1.5772250995397763, -1.8106821771308677, -1.5444971014519522, 0.551328274703334, 1.757229252629257, 0.831703069606105, 1.5453079361743562, 0.6677986745611474, 1.6073138629252437, 1.0918517637834162, 0.570415435643539, 0.4867149056412928, 0.6649858272001072, 0.676629217962301, 1.495926656715142, 0.584438441243152, 0.16707824612189012, 0.7460742460483999, 1.2469532853569922, -0.2047444607561189, 0.7316974402973716, 1.2316520916007958, 0.8068797545554663, 1.5358954111443734, 0.5374476546817477, 1.7235100835726136, 1.0459863335818702, 1.5624202957948576, 0.43096257430024776, 1.5682086919692646, 0.8036197388670696, 0.7068497891449896, 1.248032276179828, 0.8636973416781951, 0.41087655653580246, 0.8870668712555592, 0.200635427280754, -3.255881526528405, 1.5110594144460208, -2.272279010649619, -0.3913161802677948, -0.10631121233975115, -0.04405202829124801, 0.42256351639206247, 0.5433327698041843, 1.0671094504187841, 0.6023328634080327, 2.015820927070858, 0.13445125353336965, 1.277759815018947, 1.8828659339701879, 0.43664093216041266, 1.332897041602571, 1.7659645610645216, 2.235390941927499, -1.497413272824079, -0.09181376188788432, 1.8373901033708815, 1.364241304052489, 0.47787831069579045, 0.9340965975233531, -1.9638831328070507, 1.285340056168416, 0.04402383301601047, 1.7663507387227864, 0.7049184791950182, 0.8312970481552114, 0.7675905656880825, 0.37056607816491954, -1.2093315680754906, 1.3598424436986318, 1.5569429427927903, 1.2035383626014664, -1.6064475009710528, -1.6978394674569142, -0.17644235510281037, -1.848512876763121, -2.130636563893346, -3.1332794725064486, -2.0540553622816176, -0.3423467742939059, -2.1631507941643733, 0.9100217770897594, 0.5039211232753436, 2.5799124969076015, -0.6885883895939728, 1.2854379601311703, 0.4605514133553873, 0.9630028070009602, 0.772437813327501, 1.3678782497329183, 0.24310790611128116, 2.95391097487216, -0.334648786139841, 0.2969086241311321, 0.16717988301788383, 0.5753795901727868, 1.6073455801060526, -0.3085381458667645, 0.35530882536780856, -0.745882634898463, 0.6137128627985988, -2.3418116536428757, -1.558226042557553, 0.15770945608710932, -2.5047519611168263, -2.6087405644725608, -0.8069067755119033, -1.3950035075169835, -0.7120096343381805, -1.8473033718665197, -1.4961319360866374, -2.4559280333283926, -2.826379941296961, -1.7363592262365606, -2.5887024011847513, -3.5677519305792575, -0.8355666151459038, 0.028737752330262406, 0.5528450670105018, -1.7298406409349447, -1.454475954171096, -0.32489689124585347, 0.8038154511090672, -2.625748386998345, -0.8725625761839365, 0.12850399848209787, -2.3643514560929773, -0.8217768387056028, -1.0468370344338425, -1.7636212506081506, -2.8796469923214856, 1.3204582743124536, -3.14482155452287, -1.2643562648957916, -2.1246632228576052, -2.0741974819780356, -1.4298916985884165, -3.6397790210967567, 0.9742423851058643, -1.1022199804168993, 2.1337279737201373, 1.0860007190030239, 1.165199644409914, 1.0020377336767048, 0.9138689035849739, 0.44647409637328606, -0.6537770100642899, 0.7866544619987725, -1.0598162393096817, 1.5291441988289893, -5.27969948289156, -1.948335440073433, 0.45858558290468326, 0.8288239397753547, 0.6810398255040716], \"xaxis\": \"x\", \"y\": [-0.31299888491215544, -0.7413701318181554, -0.988755310535247, 0.2670292351653309, -5.473496127651643, -0.8031552351681412, 0.32342883347572815, -2.463400803891062, 0.7203065286521012, 0.796528751414581, 1.6235377276278606, -0.4952356933591413, -0.21319377853260882, -1.1297402091916748, -0.4107787500044408, 1.0650442408347047, -1.058474359483334, 0.645885208578617, -2.2324601397053225, -2.444701308649122, -0.9787553378288972, -0.9372704992344107, 0.7727652865019923, -1.70154804087608, -1.0148038059419149, -3.478188600992452, -0.9911825272705989, -1.3692434677197876, -0.7811701514373371, -1.0252882227421478, -2.8526500632630176, -0.6952829856989704, 0.44162621374995853, 0.5323609752877133, -1.1600278940436004, -0.6644164176722753, -0.09702127816415547, 0.4274545272345443, -0.5418170857650806, 0.7018063482782331, -1.2691395570324062, -0.1039774989628163, -1.0782555260004973, -0.32782231441747395, -0.3180398473495341, 0.2602139354602994, -1.4814702612290476, -0.8579208566135916, -1.8804337097595625, -0.10034330713069349, 3.6254602210951266, -0.2917023257299142, 0.727110849088856, -2.696733694825664, -0.05131642834016039, -0.9435491750672688, -0.48986135744369574, 1.465343818873605, -0.9307329710477547, -0.5981396763042256, 0.3600184102511881, 0.633631670363101, -1.0469535958559244, -0.9545904123775264, 3.5603466351096302, 0.8621827871544845, -1.1909000892350587, -1.176804796741698, -1.0325756886732484, -1.9049721144522915, -0.989556516717412, 0.7570759549757515, 0.8480637598852454, 0.4022123811268318, -1.1782651137885654, 0.5112609740768402, 1.468744114291958, -0.357565748663528, -0.15662789592023255, -1.2128491425885386, 0.6080576533056958, 0.6160570879471032, -1.1390435310079234, -1.1628006135829256, -0.4791370022972658, -1.212181227307147, -1.8564126145841142, 0.8160119734483735, 0.9414835723500399, -0.5318994759119602, -0.23892089881448084, -0.6639018137217584, 0.18287106801952707, 0.48483332879555824, -1.3090293335413088, -0.6757040874554112, -0.4232802322025094, -0.29577816136672846, 0.5844373412953852, 1.2407760579300624, -0.5520452563268954, -0.9927080914592185, 0.3388244007237707, -0.24876214071412278, -1.2611579613041968, 0.6333647214473237, 0.4186653348386584, -0.2030386223092031, -1.0252250459465768, 0.249159727840472, -2.6119454917211558, -0.5258964091702124, -0.952854548878405, 0.3712733601107631, -0.7474978087762122, 0.6390464200325734, -0.9572649265639434, 0.7372718380739152, 0.5593776067908325, -0.9951178879701849, -0.7052793615100199, -0.9103437855917742, -0.4659719172125205, 0.4707544052094719, -0.9609463686936796, -0.8725857596971036, -0.9978686308136242, -0.15872716925388894, -0.7093193251967204, -0.7744312486280193, 0.2534823821987245, -0.17086023868266942, 0.2014886576832486, -0.986577472382371, 0.3392456832026881, 0.8571662379928988, 0.36090597913219885, -1.0941915467956902, 0.009692746178171348, -0.9467444359458064, -0.9097209903696726, -0.35033389068027593, -0.27272475348618064, -1.0124581718491175, 0.006131057259123358, -0.5802470600730968, -1.5096369790475581, 0.4283641923908591, -1.0493765779221167, 0.14980832385039763, -0.7549245737530029, -1.1189457804052714, -1.3119896074641468, -0.817550965886226, 0.1137723795800614, -0.695992427574094, 0.7895236845127592, -1.1162824415779509, 1.3730158371668677, 0.7895328899886305, -1.1782088528438566, 0.33558147887712725, 0.5883074117788692, 0.78597842830685, -0.8471066304141999, -0.8584843409544383, 0.5315903344748152, 0.46820519078037803, -0.2600750442176603, -0.3887066592800385, -2.3631913871290395, 0.4023546561499933, -0.8490794855695603, 0.908509982305949, -0.2559331068332679, 0.2922969855713314, -0.6147275026698684, -1.1728693284863994, -1.0632177112889785, 0.9050705073184049, 1.0657820091659047, 1.4612205743931685, 0.8909830369595935, 9.668186517487431, 3.3516337976052046, 0.7095010643519502, 0.4332495820001498, 12.61433241801409, 2.2528266246282005, 2.084758994364433, 0.5130954999639562, 1.2704260151662996, 1.1066057705986712, 1.338818829511293, 3.2079036354468426, -0.29188330544301855, -1.187482519293643, -0.664903542140868, -0.9016221446522329, 0.5928605072210448, -1.3219354434006791, 1.1496454021005085, -1.194095759351469, -1.170282786959182, -0.17112214850248947, -1.0166876875672708, 0.25079738000738916, -0.6481567388113865, -0.4688201723656061, -2.0577211501285015, -0.9390301770492931, 1.3470854153412706, 1.3735826991202018, 2.4308791919854738, 0.980507683493065, 0.9891644952301264, 2.6740384990842947, 1.1907831774810629, 1.889174779411854, 1.4931621396993673, 1.3803538632261996, 1.362925607156328, 0.7232607330856993, 1.005324180987571, 0.3451712449429019, 0.5331179335562952, 0.9871084806957331, 1.5937210598431093, 2.0815304958110987, 0.9091296588910249, 0.5501663215116483, 1.9276113418305123, 2.5694324995566125, 0.5215746259431451, 1.9321422909473769, 2.843494669216186, 0.5821761033857857, 1.2320205548218768, 1.0560714051635358, 1.408108950535679, 0.3807218987636318, 1.0936972727093806, -0.005888971722903428, 1.720954950044562, 0.8496357709772344, 0.4738892258685297, 1.1481841620171687, -0.5498045141483551, -0.2681001052817585, -0.3328303250677676, 0.7378112809719621, -0.6909551200944845, -0.14692116354154555, -0.7911952734907849, 0.25060012066403825, -0.36314984046657617, 0.7272207375883641, -0.3332058908101434, -0.03665813194759517, 0.20077595006088028, -0.8826304962178639, -0.07126634547396407, -1.1450015286548219, -0.7023212065517682, 0.6157167504651596], \"yaxis\": \"y\"}, {\"customdata\": [[440], [1946], [9121]], \"hovertemplate\": \"type=outlier<br>c1=%{x}<br>c2=%{y}<br>entity_name=%{customdata[0]}<extra></extra>\", \"legendgroup\": \"outlier\", \"marker\": {\"color\": \"#EF553B\", \"symbol\": \"circle\"}, \"mode\": \"markers\", \"name\": \"outlier\", \"showlegend\": true, \"type\": \"scatter\", \"x\": [-2.8179053871050397, -1.4672895458745565, -3.6633056721393316], \"xaxis\": \"x\", \"y\": [-2.079500507322264, -3.5781851654688546, 1.1997334143757326], \"yaxis\": \"y\"}],\n",
       "                        {\"legend\": {\"title\": {\"text\": \"type\"}, \"tracegroupgap\": 0}, \"margin\": {\"t\": 60}, \"template\": {\"data\": {\"bar\": [{\"error_x\": {\"color\": \"#2a3f5f\"}, \"error_y\": {\"color\": \"#2a3f5f\"}, \"marker\": {\"line\": {\"color\": \"#E5ECF6\", \"width\": 0.5}}, \"type\": \"bar\"}], \"barpolar\": [{\"marker\": {\"line\": {\"color\": \"#E5ECF6\", \"width\": 0.5}}, \"type\": \"barpolar\"}], \"carpet\": [{\"aaxis\": {\"endlinecolor\": \"#2a3f5f\", \"gridcolor\": \"white\", \"linecolor\": \"white\", \"minorgridcolor\": \"white\", \"startlinecolor\": \"#2a3f5f\"}, \"baxis\": {\"endlinecolor\": \"#2a3f5f\", \"gridcolor\": \"white\", \"linecolor\": \"white\", \"minorgridcolor\": \"white\", \"startlinecolor\": \"#2a3f5f\"}, \"type\": \"carpet\"}], \"choropleth\": [{\"colorbar\": {\"outlinewidth\": 0, \"ticks\": \"\"}, \"type\": \"choropleth\"}], \"contour\": [{\"colorbar\": {\"outlinewidth\": 0, \"ticks\": \"\"}, \"colorscale\": [[0.0, \"#0d0887\"], [0.1111111111111111, \"#46039f\"], [0.2222222222222222, \"#7201a8\"], [0.3333333333333333, \"#9c179e\"], [0.4444444444444444, \"#bd3786\"], [0.5555555555555556, \"#d8576b\"], [0.6666666666666666, \"#ed7953\"], [0.7777777777777778, \"#fb9f3a\"], [0.8888888888888888, \"#fdca26\"], [1.0, \"#f0f921\"]], \"type\": \"contour\"}], \"contourcarpet\": [{\"colorbar\": {\"outlinewidth\": 0, \"ticks\": \"\"}, \"type\": \"contourcarpet\"}], \"heatmap\": [{\"colorbar\": {\"outlinewidth\": 0, \"ticks\": \"\"}, \"colorscale\": [[0.0, \"#0d0887\"], [0.1111111111111111, \"#46039f\"], [0.2222222222222222, \"#7201a8\"], [0.3333333333333333, \"#9c179e\"], [0.4444444444444444, \"#bd3786\"], [0.5555555555555556, \"#d8576b\"], [0.6666666666666666, \"#ed7953\"], [0.7777777777777778, \"#fb9f3a\"], [0.8888888888888888, \"#fdca26\"], [1.0, \"#f0f921\"]], \"type\": \"heatmap\"}], \"heatmapgl\": [{\"colorbar\": {\"outlinewidth\": 0, \"ticks\": \"\"}, \"colorscale\": [[0.0, \"#0d0887\"], [0.1111111111111111, \"#46039f\"], [0.2222222222222222, \"#7201a8\"], [0.3333333333333333, \"#9c179e\"], [0.4444444444444444, \"#bd3786\"], [0.5555555555555556, \"#d8576b\"], [0.6666666666666666, \"#ed7953\"], [0.7777777777777778, \"#fb9f3a\"], [0.8888888888888888, \"#fdca26\"], [1.0, \"#f0f921\"]], \"type\": \"heatmapgl\"}], \"histogram\": [{\"marker\": {\"colorbar\": {\"outlinewidth\": 0, \"ticks\": \"\"}}, \"type\": \"histogram\"}], \"histogram2d\": [{\"colorbar\": {\"outlinewidth\": 0, \"ticks\": \"\"}, \"colorscale\": [[0.0, \"#0d0887\"], [0.1111111111111111, \"#46039f\"], [0.2222222222222222, \"#7201a8\"], [0.3333333333333333, \"#9c179e\"], [0.4444444444444444, \"#bd3786\"], [0.5555555555555556, \"#d8576b\"], [0.6666666666666666, \"#ed7953\"], [0.7777777777777778, \"#fb9f3a\"], [0.8888888888888888, \"#fdca26\"], [1.0, \"#f0f921\"]], \"type\": \"histogram2d\"}], \"histogram2dcontour\": [{\"colorbar\": {\"outlinewidth\": 0, \"ticks\": \"\"}, \"colorscale\": [[0.0, \"#0d0887\"], [0.1111111111111111, \"#46039f\"], [0.2222222222222222, \"#7201a8\"], [0.3333333333333333, \"#9c179e\"], [0.4444444444444444, \"#bd3786\"], [0.5555555555555556, \"#d8576b\"], [0.6666666666666666, \"#ed7953\"], [0.7777777777777778, \"#fb9f3a\"], [0.8888888888888888, \"#fdca26\"], [1.0, \"#f0f921\"]], \"type\": \"histogram2dcontour\"}], \"mesh3d\": [{\"colorbar\": {\"outlinewidth\": 0, \"ticks\": \"\"}, \"type\": \"mesh3d\"}], \"parcoords\": [{\"line\": {\"colorbar\": {\"outlinewidth\": 0, \"ticks\": \"\"}}, \"type\": \"parcoords\"}], \"pie\": [{\"automargin\": true, \"type\": \"pie\"}], \"scatter\": [{\"marker\": {\"colorbar\": {\"outlinewidth\": 0, \"ticks\": \"\"}}, \"type\": \"scatter\"}], \"scatter3d\": [{\"line\": {\"colorbar\": {\"outlinewidth\": 0, \"ticks\": \"\"}}, \"marker\": {\"colorbar\": {\"outlinewidth\": 0, \"ticks\": \"\"}}, \"type\": \"scatter3d\"}], \"scattercarpet\": [{\"marker\": {\"colorbar\": {\"outlinewidth\": 0, \"ticks\": \"\"}}, \"type\": \"scattercarpet\"}], \"scattergeo\": [{\"marker\": {\"colorbar\": {\"outlinewidth\": 0, \"ticks\": \"\"}}, \"type\": \"scattergeo\"}], \"scattergl\": [{\"marker\": {\"colorbar\": {\"outlinewidth\": 0, \"ticks\": \"\"}}, \"type\": \"scattergl\"}], \"scattermapbox\": [{\"marker\": {\"colorbar\": {\"outlinewidth\": 0, \"ticks\": \"\"}}, \"type\": \"scattermapbox\"}], \"scatterpolar\": [{\"marker\": {\"colorbar\": {\"outlinewidth\": 0, \"ticks\": \"\"}}, \"type\": \"scatterpolar\"}], \"scatterpolargl\": [{\"marker\": {\"colorbar\": {\"outlinewidth\": 0, \"ticks\": \"\"}}, \"type\": \"scatterpolargl\"}], \"scatterternary\": [{\"marker\": {\"colorbar\": {\"outlinewidth\": 0, \"ticks\": \"\"}}, \"type\": \"scatterternary\"}], \"surface\": [{\"colorbar\": {\"outlinewidth\": 0, \"ticks\": \"\"}, \"colorscale\": [[0.0, \"#0d0887\"], [0.1111111111111111, \"#46039f\"], [0.2222222222222222, \"#7201a8\"], [0.3333333333333333, \"#9c179e\"], [0.4444444444444444, \"#bd3786\"], [0.5555555555555556, \"#d8576b\"], [0.6666666666666666, \"#ed7953\"], [0.7777777777777778, \"#fb9f3a\"], [0.8888888888888888, \"#fdca26\"], [1.0, \"#f0f921\"]], \"type\": \"surface\"}], \"table\": [{\"cells\": {\"fill\": {\"color\": \"#EBF0F8\"}, \"line\": {\"color\": \"white\"}}, \"header\": {\"fill\": {\"color\": \"#C8D4E3\"}, \"line\": {\"color\": \"white\"}}, \"type\": \"table\"}]}, \"layout\": {\"annotationdefaults\": {\"arrowcolor\": \"#2a3f5f\", \"arrowhead\": 0, \"arrowwidth\": 1}, \"coloraxis\": {\"colorbar\": {\"outlinewidth\": 0, \"ticks\": \"\"}}, \"colorscale\": {\"diverging\": [[0, \"#8e0152\"], [0.1, \"#c51b7d\"], [0.2, \"#de77ae\"], [0.3, \"#f1b6da\"], [0.4, \"#fde0ef\"], [0.5, \"#f7f7f7\"], [0.6, \"#e6f5d0\"], [0.7, \"#b8e186\"], [0.8, \"#7fbc41\"], [0.9, \"#4d9221\"], [1, \"#276419\"]], \"sequential\": [[0.0, \"#0d0887\"], [0.1111111111111111, \"#46039f\"], [0.2222222222222222, \"#7201a8\"], [0.3333333333333333, \"#9c179e\"], [0.4444444444444444, \"#bd3786\"], [0.5555555555555556, \"#d8576b\"], [0.6666666666666666, \"#ed7953\"], [0.7777777777777778, \"#fb9f3a\"], [0.8888888888888888, \"#fdca26\"], [1.0, \"#f0f921\"]], \"sequentialminus\": [[0.0, \"#0d0887\"], [0.1111111111111111, \"#46039f\"], [0.2222222222222222, \"#7201a8\"], [0.3333333333333333, \"#9c179e\"], [0.4444444444444444, \"#bd3786\"], [0.5555555555555556, \"#d8576b\"], [0.6666666666666666, \"#ed7953\"], [0.7777777777777778, \"#fb9f3a\"], [0.8888888888888888, \"#fdca26\"], [1.0, \"#f0f921\"]]}, \"colorway\": [\"#636efa\", \"#EF553B\", \"#00cc96\", \"#ab63fa\", \"#FFA15A\", \"#19d3f3\", \"#FF6692\", \"#B6E880\", \"#FF97FF\", \"#FECB52\"], \"font\": {\"color\": \"#2a3f5f\"}, \"geo\": {\"bgcolor\": \"white\", \"lakecolor\": \"white\", \"landcolor\": \"#E5ECF6\", \"showlakes\": true, \"showland\": true, \"subunitcolor\": \"white\"}, \"hoverlabel\": {\"align\": \"left\"}, \"hovermode\": \"closest\", \"mapbox\": {\"style\": \"light\"}, \"paper_bgcolor\": \"white\", \"plot_bgcolor\": \"#E5ECF6\", \"polar\": {\"angularaxis\": {\"gridcolor\": \"white\", \"linecolor\": \"white\", \"ticks\": \"\"}, \"bgcolor\": \"#E5ECF6\", \"radialaxis\": {\"gridcolor\": \"white\", \"linecolor\": \"white\", \"ticks\": \"\"}}, \"scene\": {\"xaxis\": {\"backgroundcolor\": \"#E5ECF6\", \"gridcolor\": \"white\", \"gridwidth\": 2, \"linecolor\": \"white\", \"showbackground\": true, \"ticks\": \"\", \"zerolinecolor\": \"white\"}, \"yaxis\": {\"backgroundcolor\": \"#E5ECF6\", \"gridcolor\": \"white\", \"gridwidth\": 2, \"linecolor\": \"white\", \"showbackground\": true, \"ticks\": \"\", \"zerolinecolor\": \"white\"}, \"zaxis\": {\"backgroundcolor\": \"#E5ECF6\", \"gridcolor\": \"white\", \"gridwidth\": 2, \"linecolor\": \"white\", \"showbackground\": true, \"ticks\": \"\", \"zerolinecolor\": \"white\"}}, \"shapedefaults\": {\"line\": {\"color\": \"#2a3f5f\"}}, \"ternary\": {\"aaxis\": {\"gridcolor\": \"white\", \"linecolor\": \"white\", \"ticks\": \"\"}, \"baxis\": {\"gridcolor\": \"white\", \"linecolor\": \"white\", \"ticks\": \"\"}, \"bgcolor\": \"#E5ECF6\", \"caxis\": {\"gridcolor\": \"white\", \"linecolor\": \"white\", \"ticks\": \"\"}}, \"title\": {\"x\": 0.05}, \"xaxis\": {\"automargin\": true, \"gridcolor\": \"white\", \"linecolor\": \"white\", \"ticks\": \"\", \"title\": {\"standoff\": 15}, \"zerolinecolor\": \"white\", \"zerolinewidth\": 2}, \"yaxis\": {\"automargin\": true, \"gridcolor\": \"white\", \"linecolor\": \"white\", \"ticks\": \"\", \"title\": {\"standoff\": 15}, \"zerolinecolor\": \"white\", \"zerolinewidth\": 2}}}, \"title\": {\"text\": \"PCA\"}, \"xaxis\": {\"anchor\": \"y\", \"domain\": [0.0, 1.0], \"title\": {\"text\": \"c1\"}}, \"yaxis\": {\"anchor\": \"x\", \"domain\": [0.0, 1.0], \"title\": {\"text\": \"c2\"}}},\n",
       "                        {\"responsive\": true}\n",
       "                    ).then(function(){\n",
       "                            \n",
       "var gd = document.getElementById('77b5db82-5306-4caf-9a1d-d3b9782bf49a');\n",
       "var x = new MutationObserver(function (mutations, observer) {{\n",
       "        var display = window.getComputedStyle(gd).display;\n",
       "        if (!display || display === 'none') {{\n",
       "            console.log([gd, 'removed!']);\n",
       "            Plotly.purge(gd);\n",
       "            observer.disconnect();\n",
       "        }}\n",
       "}});\n",
       "\n",
       "// Listen for the removal of the full notebook cells\n",
       "var notebookContainer = gd.closest('#notebook-container');\n",
       "if (notebookContainer) {{\n",
       "    x.observe(notebookContainer, {childList: true});\n",
       "}}\n",
       "\n",
       "// Listen for the clearing of the current output cell\n",
       "var outputEl = gd.closest('.output');\n",
       "if (outputEl) {{\n",
       "    x.observe(outputEl, {childList: true});\n",
       "}}\n",
       "\n",
       "                        })\n",
       "                };\n",
       "                });\n",
       "            </script>\n",
       "        </div>"
      ]
     },
     "metadata": {},
     "output_type": "display_data"
    }
   ],
   "source": [
    "viz.show_tsne(df, outliers_indices_ae, names)\n"
   ]
  },
  {
   "cell_type": "code",
   "execution_count": 53,
   "metadata": {},
   "outputs": [
    {
     "data": {
      "application/vnd.plotly.v1+json": {
       "config": {
        "plotlyServerURL": "https://plot.ly"
       },
       "data": [
        {
         "customdata": [
          [
           6470
          ],
          [
           92595
          ],
          [
           3034
          ],
          [
           1074
          ],
          [
           5
          ],
          [
           41108
          ],
          [
           102321
          ],
          [
           660
          ],
          [
           228200
          ],
          [
           77532
          ],
          [
           5818263
          ],
          [
           23394
          ],
          [
           22172
          ],
          [
           23165
          ],
          [
           576
          ],
          [
           258499
          ],
          [
           28948
          ],
          [
           44644
          ],
          [
           24300
          ],
          [
           2644
          ],
          [
           10770
          ],
          [
           232009
          ],
          [
           182072
          ],
          [
           13593
          ],
          [
           12685
          ],
          [
           9022
          ],
          [
           47188
          ],
          [
           1136
          ],
          [
           17979
          ],
          [
           9500
          ],
          [
           4230
          ],
          [
           4299
          ],
          [
           63956
          ],
          [
           35028
          ],
          [
           17155
          ],
          [
           13532
          ],
          [
           4354
          ],
          [
           52727
          ],
          [
           14900
          ],
          [
           43457
          ],
          [
           10600
          ],
          [
           40212
          ],
          [
           15207
          ],
          [
           4145789
          ],
          [
           27008
          ],
          [
           861457
          ],
          [
           13449
          ],
          [
           30687
          ],
          [
           6436
          ],
          [
           15429
          ],
          [
           7
          ],
          [
           296
          ],
          [
           183218
          ],
          [
           1539
          ],
          [
           889
          ],
          [
           40061
          ],
          [
           15752
          ],
          [
           28186
          ],
          [
           22938
          ],
          [
           37650
          ],
          [
           15229
          ],
          [
           5788
          ],
          [
           12778
          ],
          [
           6184
          ],
          [
           2436
          ],
          [
           126474
          ],
          [
           5502
          ],
          [
           10671
          ],
          [
           12331
          ],
          [
           52
          ],
          [
           6552
          ],
          [
           54438
          ],
          [
           19953
          ],
          [
           41421
          ],
          [
           12369
          ],
          [
           44923
          ],
          [
           775
          ],
          [
           6786
          ],
          [
           49067
          ],
          [
           12208
          ],
          [
           24895
          ],
          [
           46796
          ],
          [
           37249
          ],
          [
           32313
          ],
          [
           16265
          ],
          [
           21604
          ],
          [
           2169
          ],
          [
           53497
          ],
          [
           2019
          ],
          [
           18942
          ],
          [
           36253
          ],
          [
           39741
          ],
          [
           12785
          ],
          [
           57166
          ],
          [
           3603
          ],
          [
           38674
          ],
          [
           2344626
          ],
          [
           26447
          ],
          [
           17972
          ],
          [
           359053
          ],
          [
           15126
          ],
          [
           40874
          ],
          [
           1800
          ],
          [
           27895
          ],
          [
           19507
          ],
          [
           12083
          ],
          [
           11083
          ],
          [
           39562
          ],
          [
           12347
          ],
          [
           44908
          ],
          [
           3454
          ],
          [
           2760
          ],
          [
           10565
          ],
          [
           12166
          ],
          [
           80737
          ],
          [
           19829
          ],
          [
           71317
          ],
          [
           37649
          ],
          [
           4520
          ],
          [
           25786
          ],
          [
           25681
          ],
          [
           30077
          ],
          [
           25036
          ],
          [
           26474
          ],
          [
           21260
          ],
          [
           14012
          ],
          [
           22276
          ],
          [
           15292
          ],
          [
           6890
          ],
          [
           20934
          ],
          [
           24251
          ],
          [
           38775
          ],
          [
           29773
          ],
          [
           16839
          ],
          [
           22897
          ],
          [
           17575
          ],
          [
           33461
          ],
          [
           8208
          ],
          [
           148810
          ],
          [
           80098
          ],
          [
           60161
          ],
          [
           49741
          ],
          [
           23924
          ],
          [
           28490
          ],
          [
           42009
          ],
          [
           25817
          ],
          [
           3412
          ],
          [
           36958
          ],
          [
           6564
          ],
          [
           174011
          ],
          [
           17575
          ],
          [
           9345
          ],
          [
           14624
          ],
          [
           10013
          ],
          [
           7849
          ],
          [
           14332
          ],
          [
           19182
          ],
          [
           14082
          ],
          [
           1858
          ],
          [
           77814
          ],
          [
           8311
          ],
          [
           15586
          ],
          [
           9155
          ],
          [
           51941
          ],
          [
           1592
          ],
          [
           23306
          ],
          [
           37798
          ],
          [
           31865
          ],
          [
           1373
          ],
          [
           26486
          ],
          [
           161
          ],
          [
           5857
          ],
          [
           11747
          ],
          [
           22741
          ],
          [
           8082
          ],
          [
           8966
          ],
          [
           9939
          ],
          [
           20836
          ],
          [
           3863
          ],
          [
           26506
          ],
          [
           18725
          ],
          [
           3772
          ],
          [
           22268
          ],
          [
           25
          ],
          [
           8
          ],
          [
           322
          ],
          [
           600
          ],
          [
           192
          ],
          [
           75971
          ],
          [
           5107
          ],
          [
           82474
          ],
          [
           4538
          ],
          [
           3190
          ],
          [
           47355
          ],
          [
           4
          ],
          [
           25947
          ],
          [
           10431
          ],
          [
           115219
          ],
          [
           33974
          ],
          [
           19478
          ],
          [
           136021
          ],
          [
           67489
          ],
          [
           8458
          ],
          [
           23519
          ],
          [
           3162
          ],
          [
           12619
          ],
          [
           21159
          ],
          [
           1173
          ],
          [
           14933
          ],
          [
           3197
          ],
          [
           41805
          ],
          [
           82
          ],
          [
           2836
          ],
          [
           1151
          ],
          [
           11356
          ],
          [
           1611
          ],
          [
           260
          ],
          [
           50
          ],
          [
           94
          ],
          [
           338
          ],
          [
           12504
          ],
          [
           843
          ],
          [
           30
          ],
          [
           3831
          ],
          [
           18675
          ],
          [
           51
          ],
          [
           136139
          ],
          [
           111921
          ],
          [
           322
          ],
          [
           3149
          ],
          [
           2393
          ],
          [
           931
          ],
          [
           10094
          ],
          [
           16213
          ],
          [
           286
          ],
          [
           2556
          ],
          [
           400
          ],
          [
           533
          ],
          [
           30061
          ],
          [
           314
          ],
          [
           9353
          ],
          [
           7
          ],
          [
           879
          ],
          [
           272
          ],
          [
           280
          ],
          [
           3135
          ],
          [
           6873
          ],
          [
           3900
          ],
          [
           31666
          ],
          [
           9738
          ],
          [
           25616
          ],
          [
           20000
          ],
          [
           21915
          ],
          [
           17199
          ],
          [
           6776
          ],
          [
           23382
          ],
          [
           59
          ],
          [
           16064
          ],
          [
           23615
          ],
          [
           47896
          ],
          [
           549
          ],
          [
           6786
          ],
          [
           18659
          ],
          [
           33072
          ],
          [
           47
          ]
         ],
         "hovertemplate": "type=normal<br>c1=%{x}<br>c2=%{y}<br>entity_name=%{customdata[0]}<extra></extra>",
         "legendgroup": "normal",
         "marker": {
          "color": "#636efa",
          "symbol": "circle"
         },
         "mode": "markers",
         "name": "normal",
         "showlegend": true,
         "type": "scatter",
         "x": [
          3.885887861251831,
          20.246843338012695,
          30.08875274658203,
          -22.23282814025879,
          35.26160430908203,
          -6.486879348754883,
          -13.76261043548584,
          30.686134338378906,
          -40.36576843261719,
          -38.9734992980957,
          -4.441323757171631,
          -4.362724304199219,
          -9.993122100830078,
          26.738666534423828,
          36.1799430847168,
          -27.6159610748291,
          22.355520248413086,
          -39.74830627441406,
          34.40687942504883,
          31.695419311523438,
          15.975460052490234,
          20.284744262695312,
          -40.17873001098633,
          30.27443504333496,
          18.906591415405273,
          33.727230072021484,
          20.769561767578125,
          27.781526565551758,
          19.795808792114258,
          20.09701156616211,
          33.92621612548828,
          30.84149169921875,
          -26.619918823242188,
          -33.35822677612305,
          25.997148513793945,
          2.886042594909668,
          4.5820631980896,
          -31.675979614257812,
          1.432085394859314,
          -34.90843963623047,
          29.825178146362305,
          -12.40880298614502,
          24.379056930541992,
          -2.599318265914917,
          -9.796263694763184,
          -25.31269073486328,
          26.474618911743164,
          11.664867401123047,
          29.63003921508789,
          -19.81622886657715,
          9.21399211883545,
          27.198169708251953,
          -27.5791072845459,
          32.33169937133789,
          34.41254425048828,
          21.55682945251465,
          25.122825622558594,
          13.530967712402344,
          15.253483772277832,
          0.7147406339645386,
          -25.704118728637695,
          -47.71611022949219,
          23.88018035888672,
          22.519344329833984,
          10.106621742248535,
          14.215177536010742,
          24.681814193725586,
          26.958200454711914,
          12.74840259552002,
          32.63414001464844,
          24.73504066467285,
          -43.62618637084961,
          -44.58507537841797,
          -29.567821502685547,
          29.195438385009766,
          -33.55405044555664,
          -50.96125411987305,
          8.511685371398926,
          -11.236625671386719,
          26.967544555664062,
          -37.10752868652344,
          -30.348804473876953,
          27.54836082458496,
          28.06094741821289,
          -10.615699768066406,
          29.4089298248291,
          30.236637115478516,
          -43.544639587402344,
          -49.373023986816406,
          5.405736446380615,
          -8.753318786621094,
          8.089241027832031,
          -40.63679122924805,
          -34.75437927246094,
          32.329830169677734,
          1.6969451904296875,
          -1.7352696657180786,
          -12.001383781433105,
          -38.00490188598633,
          -29.5390625,
          18.35385513305664,
          26.716590881347656,
          -40.108787536621094,
          -11.83520793914795,
          28.949193954467773,
          -34.47521209716797,
          -24.68473243713379,
          -10.431567192077637,
          19.574012756347656,
          -29.405851364135742,
          32.68414306640625,
          26.76799774169922,
          20.204843521118164,
          -34.14957809448242,
          9.543575286865234,
          -37.81511688232422,
          16.01959228515625,
          -39.27349853515625,
          -39.858463287353516,
          11.353473663330078,
          3.371699571609497,
          14.124113082885742,
          -6.22629451751709,
          -35.91777801513672,
          16.92671012878418,
          22.57599639892578,
          13.548672676086426,
          -14.27417278289795,
          7.519062042236328,
          10.264183044433594,
          -22.13027000427246,
          -14.631837844848633,
          -27.561298370361328,
          22.588550567626953,
          -32.95355224609375,
          -45.32815170288086,
          -27.77042579650879,
          23.711559295654297,
          -24.86180877685547,
          14.57521915435791,
          14.779067039489746,
          -8.756549835205078,
          -7.120913982391357,
          23.126245498657227,
          -9.02365493774414,
          18.311803817749023,
          31.385169982910156,
          -33.479000091552734,
          22.868392944335938,
          16.98054313659668,
          21.523826599121094,
          25.163726806640625,
          30.83733558654785,
          9.891251564025879,
          -31.183141708374023,
          3.8467350006103516,
          -31.742591857910156,
          24.967147827148438,
          -50.62759017944336,
          -30.84156036376953,
          25.375761032104492,
          -36.45573425292969,
          -36.6735725402832,
          -37.81722640991211,
          9.302074432373047,
          20.09377670288086,
          -36.50761795043945,
          -35.54965591430664,
          -0.15118245780467987,
          -10.31385326385498,
          31.472450256347656,
          -40.37238311767578,
          8.103276252746582,
          -45.69278335571289,
          2.498253107070923,
          -21.226898193359375,
          -7.212377071380615,
          28.73693084716797,
          24.970855712890625,
          -50.279823303222656,
          -31.105789184570312,
          -51.918907165527344,
          5.555530548095703,
          0.2911401093006134,
          2.4378111362457275,
          9.982465744018555,
          5.768191814422607,
          -0.4579218924045563,
          1.2126890420913696,
          7.095500946044922,
          19.358352661132812,
          -50.50294876098633,
          -50.45635223388672,
          -29.366382598876953,
          2.695391893386841,
          -9.95367431640625,
          26.872095108032227,
          -4.452437400817871,
          11.911975860595703,
          -37.71748352050781,
          21.271764755249023,
          -26.787616729736328,
          26.120853424072266,
          25.74834442138672,
          -41.56749725341797,
          21.550678253173828,
          -31.38756561279297,
          22.93781089782715,
          16.36412811279297,
          30.251977920532227,
          18.23641586303711,
          14.915021896362305,
          9.72952651977539,
          6.002239227294922,
          15.452757835388184,
          16.796998977661133,
          4.778848171234131,
          11.449915885925293,
          9.555370330810547,
          12.168998718261719,
          10.23515510559082,
          16.789587020874023,
          21.692249298095703,
          10.886594772338867,
          16.51152801513672,
          19.359222412109375,
          3.332156181335449,
          -25.381744384765625,
          7.548750400543213,
          5.945580005645752,
          3.512434720993042,
          8.681440353393555,
          5.2447028160095215,
          17.673805236816406,
          6.993247985839844,
          4.134832382202148,
          21.281892776489258,
          7.849852561950684,
          3.585772752761841,
          8.862278938293457,
          17.870670318603516,
          -52.557132720947266,
          15.330519676208496,
          6.789410591125488,
          7.923736095428467,
          4.064001560211182,
          5.159406661987305,
          15.037635803222656,
          -11.752522468566895,
          19.13743782043457,
          -36.17823791503906,
          -5.431985378265381,
          -13.617112159729004,
          -7.8364691734313965,
          -38.82102584838867,
          -0.4213005006313324,
          -46.92119216918945,
          -7.12657356262207,
          18.18165397644043,
          -26.564199447631836,
          35.039154052734375,
          22.85102653503418,
          26.159523010253906,
          9.067205429077148,
          -42.3486328125
         ],
         "xaxis": "x",
         "y": [
          -3.4575889110565186,
          -5.330774784088135,
          27.603708267211914,
          -11.154329299926758,
          12.723591804504395,
          -27.50640296936035,
          -20.527496337890625,
          23.320858001708984,
          -26.42545509338379,
          -28.943286895751953,
          -38.465911865234375,
          -22.98418617248535,
          -20.207134246826172,
          -17.821725845336914,
          34.785179138183594,
          -37.21833038330078,
          -19.776535034179688,
          -21.97648048400879,
          7.4787163734436035,
          18.23706817626953,
          -21.97275733947754,
          -30.25653648376465,
          -27.872194290161133,
          17.311864852905273,
          -16.664718627929688,
          23.6583309173584,
          -10.029382705688477,
          5.359210968017578,
          -3.4014713764190674,
          -17.28307342529297,
          11.217421531677246,
          28.399105072021484,
          -21.858444213867188,
          -27.0943546295166,
          -22.309789657592773,
          -21.20909309387207,
          -0.1374858021736145,
          -15.831766128540039,
          -15.056415557861328,
          -26.984590530395508,
          -24.42119789123535,
          -11.33383846282959,
          -18.162094116210938,
          -38.024200439453125,
          -8.847650527954102,
          -35.8471565246582,
          7.949133396148682,
          -24.051513671875,
          6.73159646987915,
          -10.57982349395752,
          15.5228910446167,
          30.09412384033203,
          -35.7846794128418,
          11.358503341674805,
          34.9208869934082,
          -4.268995761871338,
          27.11360740661621,
          17.060781478881836,
          -20.039339065551758,
          -8.716922760009766,
          -12.238990783691406,
          -7.0760722160339355,
          -21.263874053955078,
          8.513216018676758,
          15.827217102050781,
          17.566089630126953,
          25.98102569580078,
          -14.438200950622559,
          -13.244057655334473,
          20.011720657348633,
          14.918896675109863,
          -17.517234802246094,
          -14.703004837036133,
          -15.538114547729492,
          -15.26961612701416,
          -9.671669006347656,
          -6.709165096282959,
          1.896836280822754,
          -9.469404220581055,
          -10.291451454162598,
          -14.019705772399902,
          -30.459484100341797,
          1.89204740524292,
          -16.20017433166504,
          -16.350793838500977,
          -18.957569122314453,
          5.010599613189697,
          -18.53903579711914,
          -8.15077018737793,
          -19.533079147338867,
          -20.326887130737305,
          -20.750347137451172,
          -2.471245288848877,
          -12.561336517333984,
          27.247875213623047,
          -10.06844425201416,
          -37.8568229675293,
          -15.249526023864746,
          -21.6567325592041,
          -37.4656867980957,
          10.026262283325195,
          15.872366905212402,
          -4.035048484802246,
          -7.406848430633545,
          -13.211980819702148,
          -28.63254737854004,
          -13.103320121765137,
          -10.96325969696045,
          -13.220298767089844,
          -17.622234344482422,
          17.473464965820312,
          28.94269561767578,
          -20.324138641357422,
          -18.179195404052734,
          -22.692424774169922,
          -12.718925476074219,
          -25.229219436645508,
          -18.17020034790039,
          -7.225188255310059,
          -12.966076850891113,
          -20.358280181884766,
          -21.593433380126953,
          -15.598875999450684,
          -11.475852012634277,
          -20.848867416381836,
          -1.6961252689361572,
          -28.62265396118164,
          -15.2587251663208,
          -0.14428803324699402,
          -21.12936019897461,
          -15.08961296081543,
          -9.364262580871582,
          -18.605998992919922,
          -9.73076343536377,
          -17.403282165527344,
          -13.078177452087402,
          -28.82461929321289,
          -13.622018814086914,
          -18.948558807373047,
          -26.857641220092773,
          -24.722436904907227,
          -7.3949384689331055,
          -11.505308151245117,
          -7.934916973114014,
          -13.070874214172363,
          -2.3713459968566895,
          25.761428833007812,
          -12.237908363342285,
          16.550607681274414,
          8.714340209960938,
          1.2076036930084229,
          -0.8915555477142334,
          -17.939741134643555,
          -12.851771354675293,
          -9.329476356506348,
          -16.12555503845215,
          -31.28849983215332,
          -2.2596089839935303,
          -12.942317008972168,
          -32.644371032714844,
          -13.509146690368652,
          -7.882462501525879,
          -18.79120635986328,
          -27.560998916625977,
          3.479199171066284,
          0.7840096950531006,
          -20.456745147705078,
          -9.830832481384277,
          -14.738626480102539,
          -5.144721508026123,
          12.217771530151367,
          -9.887643814086914,
          -0.9924618005752563,
          -18.77225112915039,
          -5.184286117553711,
          -4.884829521179199,
          -17.18450927734375,
          -24.010934829711914,
          13.638760566711426,
          -14.893473625183105,
          -38.2431755065918,
          -13.49878978729248,
          56.7260856628418,
          72.65473175048828,
          72.62737274169922,
          56.50836944580078,
          54.149314880371094,
          64.67015838623047,
          63.278053283691406,
          69.2918701171875,
          53.89012908935547,
          -11.260905265808105,
          -9.121658325195312,
          -35.12260055541992,
          71.04863739013672,
          -29.372886657714844,
          -20.086896896362305,
          -24.748445510864258,
          -25.335525512695312,
          -9.462515830993652,
          -30.183807373046875,
          -38.694984436035156,
          2.57716703414917,
          -8.270402908325195,
          -0.6526689529418945,
          -21.364694595336914,
          -18.32240104675293,
          2.6449804306030273,
          -2.907954692840576,
          7.985438346862793,
          -22.307226181030273,
          59.235416412353516,
          60.68611526489258,
          73.33375549316406,
          57.177791595458984,
          57.46289825439453,
          69.42110443115234,
          63.971378326416016,
          67.00585174560547,
          61.26728820800781,
          62.0758056640625,
          59.419776916503906,
          57.05830001831055,
          59.54228210449219,
          53.785797119140625,
          50.967628479003906,
          61.26982879638672,
          -40.184688568115234,
          72.53401184082031,
          58.12302780151367,
          57.244327545166016,
          68.77655029296875,
          74.55856323242188,
          54.72998046875,
          67.28499603271484,
          72.91678619384766,
          56.027984619140625,
          63.52546310424805,
          59.63804244995117,
          58.56869125366211,
          52.93706130981445,
          -11.498260498046875,
          51.79786682128906,
          65.50794982910156,
          56.114315032958984,
          54.49201965332031,
          59.492897033691406,
          50.323246002197266,
          -13.870107650756836,
          8.849648475646973,
          -28.360183715820312,
          -26.304426193237305,
          -12.110615730285645,
          -28.266735076904297,
          -3.8266170024871826,
          -22.447216033935547,
          -4.583677291870117,
          -13.548283576965332,
          7.895331382751465,
          -19.63643455505371,
          33.99201583862305,
          14.954684257507324,
          -16.394105911254883,
          -24.75196075439453,
          -3.44201397895813
         ],
         "yaxis": "y"
        },
        {
         "customdata": [
          [
           440
          ],
          [
           1946
          ],
          [
           9121
          ]
         ],
         "hovertemplate": "type=outlier<br>c1=%{x}<br>c2=%{y}<br>entity_name=%{customdata[0]}<extra></extra>",
         "legendgroup": "outlier",
         "marker": {
          "color": "#EF553B",
          "symbol": "circle"
         },
         "mode": "markers",
         "name": "outlier",
         "showlegend": true,
         "type": "scatter",
         "x": [
          23.073713302612305,
          35.84791564941406,
          0.31787052750587463
         ],
         "xaxis": "x",
         "y": [
          24.940855026245117,
          6.422305583953857,
          -244.31320190429688
         ],
         "yaxis": "y"
        }
       ],
       "layout": {
        "legend": {
         "title": {
          "text": "type"
         },
         "tracegroupgap": 0
        },
        "margin": {
         "t": 60
        },
        "template": {
         "data": {
          "bar": [
           {
            "error_x": {
             "color": "#2a3f5f"
            },
            "error_y": {
             "color": "#2a3f5f"
            },
            "marker": {
             "line": {
              "color": "#E5ECF6",
              "width": 0.5
             }
            },
            "type": "bar"
           }
          ],
          "barpolar": [
           {
            "marker": {
             "line": {
              "color": "#E5ECF6",
              "width": 0.5
             }
            },
            "type": "barpolar"
           }
          ],
          "carpet": [
           {
            "aaxis": {
             "endlinecolor": "#2a3f5f",
             "gridcolor": "white",
             "linecolor": "white",
             "minorgridcolor": "white",
             "startlinecolor": "#2a3f5f"
            },
            "baxis": {
             "endlinecolor": "#2a3f5f",
             "gridcolor": "white",
             "linecolor": "white",
             "minorgridcolor": "white",
             "startlinecolor": "#2a3f5f"
            },
            "type": "carpet"
           }
          ],
          "choropleth": [
           {
            "colorbar": {
             "outlinewidth": 0,
             "ticks": ""
            },
            "type": "choropleth"
           }
          ],
          "contour": [
           {
            "colorbar": {
             "outlinewidth": 0,
             "ticks": ""
            },
            "colorscale": [
             [
              0,
              "#0d0887"
             ],
             [
              0.1111111111111111,
              "#46039f"
             ],
             [
              0.2222222222222222,
              "#7201a8"
             ],
             [
              0.3333333333333333,
              "#9c179e"
             ],
             [
              0.4444444444444444,
              "#bd3786"
             ],
             [
              0.5555555555555556,
              "#d8576b"
             ],
             [
              0.6666666666666666,
              "#ed7953"
             ],
             [
              0.7777777777777778,
              "#fb9f3a"
             ],
             [
              0.8888888888888888,
              "#fdca26"
             ],
             [
              1,
              "#f0f921"
             ]
            ],
            "type": "contour"
           }
          ],
          "contourcarpet": [
           {
            "colorbar": {
             "outlinewidth": 0,
             "ticks": ""
            },
            "type": "contourcarpet"
           }
          ],
          "heatmap": [
           {
            "colorbar": {
             "outlinewidth": 0,
             "ticks": ""
            },
            "colorscale": [
             [
              0,
              "#0d0887"
             ],
             [
              0.1111111111111111,
              "#46039f"
             ],
             [
              0.2222222222222222,
              "#7201a8"
             ],
             [
              0.3333333333333333,
              "#9c179e"
             ],
             [
              0.4444444444444444,
              "#bd3786"
             ],
             [
              0.5555555555555556,
              "#d8576b"
             ],
             [
              0.6666666666666666,
              "#ed7953"
             ],
             [
              0.7777777777777778,
              "#fb9f3a"
             ],
             [
              0.8888888888888888,
              "#fdca26"
             ],
             [
              1,
              "#f0f921"
             ]
            ],
            "type": "heatmap"
           }
          ],
          "heatmapgl": [
           {
            "colorbar": {
             "outlinewidth": 0,
             "ticks": ""
            },
            "colorscale": [
             [
              0,
              "#0d0887"
             ],
             [
              0.1111111111111111,
              "#46039f"
             ],
             [
              0.2222222222222222,
              "#7201a8"
             ],
             [
              0.3333333333333333,
              "#9c179e"
             ],
             [
              0.4444444444444444,
              "#bd3786"
             ],
             [
              0.5555555555555556,
              "#d8576b"
             ],
             [
              0.6666666666666666,
              "#ed7953"
             ],
             [
              0.7777777777777778,
              "#fb9f3a"
             ],
             [
              0.8888888888888888,
              "#fdca26"
             ],
             [
              1,
              "#f0f921"
             ]
            ],
            "type": "heatmapgl"
           }
          ],
          "histogram": [
           {
            "marker": {
             "colorbar": {
              "outlinewidth": 0,
              "ticks": ""
             }
            },
            "type": "histogram"
           }
          ],
          "histogram2d": [
           {
            "colorbar": {
             "outlinewidth": 0,
             "ticks": ""
            },
            "colorscale": [
             [
              0,
              "#0d0887"
             ],
             [
              0.1111111111111111,
              "#46039f"
             ],
             [
              0.2222222222222222,
              "#7201a8"
             ],
             [
              0.3333333333333333,
              "#9c179e"
             ],
             [
              0.4444444444444444,
              "#bd3786"
             ],
             [
              0.5555555555555556,
              "#d8576b"
             ],
             [
              0.6666666666666666,
              "#ed7953"
             ],
             [
              0.7777777777777778,
              "#fb9f3a"
             ],
             [
              0.8888888888888888,
              "#fdca26"
             ],
             [
              1,
              "#f0f921"
             ]
            ],
            "type": "histogram2d"
           }
          ],
          "histogram2dcontour": [
           {
            "colorbar": {
             "outlinewidth": 0,
             "ticks": ""
            },
            "colorscale": [
             [
              0,
              "#0d0887"
             ],
             [
              0.1111111111111111,
              "#46039f"
             ],
             [
              0.2222222222222222,
              "#7201a8"
             ],
             [
              0.3333333333333333,
              "#9c179e"
             ],
             [
              0.4444444444444444,
              "#bd3786"
             ],
             [
              0.5555555555555556,
              "#d8576b"
             ],
             [
              0.6666666666666666,
              "#ed7953"
             ],
             [
              0.7777777777777778,
              "#fb9f3a"
             ],
             [
              0.8888888888888888,
              "#fdca26"
             ],
             [
              1,
              "#f0f921"
             ]
            ],
            "type": "histogram2dcontour"
           }
          ],
          "mesh3d": [
           {
            "colorbar": {
             "outlinewidth": 0,
             "ticks": ""
            },
            "type": "mesh3d"
           }
          ],
          "parcoords": [
           {
            "line": {
             "colorbar": {
              "outlinewidth": 0,
              "ticks": ""
             }
            },
            "type": "parcoords"
           }
          ],
          "pie": [
           {
            "automargin": true,
            "type": "pie"
           }
          ],
          "scatter": [
           {
            "marker": {
             "colorbar": {
              "outlinewidth": 0,
              "ticks": ""
             }
            },
            "type": "scatter"
           }
          ],
          "scatter3d": [
           {
            "line": {
             "colorbar": {
              "outlinewidth": 0,
              "ticks": ""
             }
            },
            "marker": {
             "colorbar": {
              "outlinewidth": 0,
              "ticks": ""
             }
            },
            "type": "scatter3d"
           }
          ],
          "scattercarpet": [
           {
            "marker": {
             "colorbar": {
              "outlinewidth": 0,
              "ticks": ""
             }
            },
            "type": "scattercarpet"
           }
          ],
          "scattergeo": [
           {
            "marker": {
             "colorbar": {
              "outlinewidth": 0,
              "ticks": ""
             }
            },
            "type": "scattergeo"
           }
          ],
          "scattergl": [
           {
            "marker": {
             "colorbar": {
              "outlinewidth": 0,
              "ticks": ""
             }
            },
            "type": "scattergl"
           }
          ],
          "scattermapbox": [
           {
            "marker": {
             "colorbar": {
              "outlinewidth": 0,
              "ticks": ""
             }
            },
            "type": "scattermapbox"
           }
          ],
          "scatterpolar": [
           {
            "marker": {
             "colorbar": {
              "outlinewidth": 0,
              "ticks": ""
             }
            },
            "type": "scatterpolar"
           }
          ],
          "scatterpolargl": [
           {
            "marker": {
             "colorbar": {
              "outlinewidth": 0,
              "ticks": ""
             }
            },
            "type": "scatterpolargl"
           }
          ],
          "scatterternary": [
           {
            "marker": {
             "colorbar": {
              "outlinewidth": 0,
              "ticks": ""
             }
            },
            "type": "scatterternary"
           }
          ],
          "surface": [
           {
            "colorbar": {
             "outlinewidth": 0,
             "ticks": ""
            },
            "colorscale": [
             [
              0,
              "#0d0887"
             ],
             [
              0.1111111111111111,
              "#46039f"
             ],
             [
              0.2222222222222222,
              "#7201a8"
             ],
             [
              0.3333333333333333,
              "#9c179e"
             ],
             [
              0.4444444444444444,
              "#bd3786"
             ],
             [
              0.5555555555555556,
              "#d8576b"
             ],
             [
              0.6666666666666666,
              "#ed7953"
             ],
             [
              0.7777777777777778,
              "#fb9f3a"
             ],
             [
              0.8888888888888888,
              "#fdca26"
             ],
             [
              1,
              "#f0f921"
             ]
            ],
            "type": "surface"
           }
          ],
          "table": [
           {
            "cells": {
             "fill": {
              "color": "#EBF0F8"
             },
             "line": {
              "color": "white"
             }
            },
            "header": {
             "fill": {
              "color": "#C8D4E3"
             },
             "line": {
              "color": "white"
             }
            },
            "type": "table"
           }
          ]
         },
         "layout": {
          "annotationdefaults": {
           "arrowcolor": "#2a3f5f",
           "arrowhead": 0,
           "arrowwidth": 1
          },
          "coloraxis": {
           "colorbar": {
            "outlinewidth": 0,
            "ticks": ""
           }
          },
          "colorscale": {
           "diverging": [
            [
             0,
             "#8e0152"
            ],
            [
             0.1,
             "#c51b7d"
            ],
            [
             0.2,
             "#de77ae"
            ],
            [
             0.3,
             "#f1b6da"
            ],
            [
             0.4,
             "#fde0ef"
            ],
            [
             0.5,
             "#f7f7f7"
            ],
            [
             0.6,
             "#e6f5d0"
            ],
            [
             0.7,
             "#b8e186"
            ],
            [
             0.8,
             "#7fbc41"
            ],
            [
             0.9,
             "#4d9221"
            ],
            [
             1,
             "#276419"
            ]
           ],
           "sequential": [
            [
             0,
             "#0d0887"
            ],
            [
             0.1111111111111111,
             "#46039f"
            ],
            [
             0.2222222222222222,
             "#7201a8"
            ],
            [
             0.3333333333333333,
             "#9c179e"
            ],
            [
             0.4444444444444444,
             "#bd3786"
            ],
            [
             0.5555555555555556,
             "#d8576b"
            ],
            [
             0.6666666666666666,
             "#ed7953"
            ],
            [
             0.7777777777777778,
             "#fb9f3a"
            ],
            [
             0.8888888888888888,
             "#fdca26"
            ],
            [
             1,
             "#f0f921"
            ]
           ],
           "sequentialminus": [
            [
             0,
             "#0d0887"
            ],
            [
             0.1111111111111111,
             "#46039f"
            ],
            [
             0.2222222222222222,
             "#7201a8"
            ],
            [
             0.3333333333333333,
             "#9c179e"
            ],
            [
             0.4444444444444444,
             "#bd3786"
            ],
            [
             0.5555555555555556,
             "#d8576b"
            ],
            [
             0.6666666666666666,
             "#ed7953"
            ],
            [
             0.7777777777777778,
             "#fb9f3a"
            ],
            [
             0.8888888888888888,
             "#fdca26"
            ],
            [
             1,
             "#f0f921"
            ]
           ]
          },
          "colorway": [
           "#636efa",
           "#EF553B",
           "#00cc96",
           "#ab63fa",
           "#FFA15A",
           "#19d3f3",
           "#FF6692",
           "#B6E880",
           "#FF97FF",
           "#FECB52"
          ],
          "font": {
           "color": "#2a3f5f"
          },
          "geo": {
           "bgcolor": "white",
           "lakecolor": "white",
           "landcolor": "#E5ECF6",
           "showlakes": true,
           "showland": true,
           "subunitcolor": "white"
          },
          "hoverlabel": {
           "align": "left"
          },
          "hovermode": "closest",
          "mapbox": {
           "style": "light"
          },
          "paper_bgcolor": "white",
          "plot_bgcolor": "#E5ECF6",
          "polar": {
           "angularaxis": {
            "gridcolor": "white",
            "linecolor": "white",
            "ticks": ""
           },
           "bgcolor": "#E5ECF6",
           "radialaxis": {
            "gridcolor": "white",
            "linecolor": "white",
            "ticks": ""
           }
          },
          "scene": {
           "xaxis": {
            "backgroundcolor": "#E5ECF6",
            "gridcolor": "white",
            "gridwidth": 2,
            "linecolor": "white",
            "showbackground": true,
            "ticks": "",
            "zerolinecolor": "white"
           },
           "yaxis": {
            "backgroundcolor": "#E5ECF6",
            "gridcolor": "white",
            "gridwidth": 2,
            "linecolor": "white",
            "showbackground": true,
            "ticks": "",
            "zerolinecolor": "white"
           },
           "zaxis": {
            "backgroundcolor": "#E5ECF6",
            "gridcolor": "white",
            "gridwidth": 2,
            "linecolor": "white",
            "showbackground": true,
            "ticks": "",
            "zerolinecolor": "white"
           }
          },
          "shapedefaults": {
           "line": {
            "color": "#2a3f5f"
           }
          },
          "ternary": {
           "aaxis": {
            "gridcolor": "white",
            "linecolor": "white",
            "ticks": ""
           },
           "baxis": {
            "gridcolor": "white",
            "linecolor": "white",
            "ticks": ""
           },
           "bgcolor": "#E5ECF6",
           "caxis": {
            "gridcolor": "white",
            "linecolor": "white",
            "ticks": ""
           }
          },
          "title": {
           "x": 0.05
          },
          "xaxis": {
           "automargin": true,
           "gridcolor": "white",
           "linecolor": "white",
           "ticks": "",
           "title": {
            "standoff": 15
           },
           "zerolinecolor": "white",
           "zerolinewidth": 2
          },
          "yaxis": {
           "automargin": true,
           "gridcolor": "white",
           "linecolor": "white",
           "ticks": "",
           "title": {
            "standoff": 15
           },
           "zerolinecolor": "white",
           "zerolinewidth": 2
          }
         }
        },
        "title": {
         "text": "t-SNE"
        },
        "xaxis": {
         "anchor": "y",
         "domain": [
          0,
          1
         ],
         "title": {
          "text": "c1"
         }
        },
        "yaxis": {
         "anchor": "x",
         "domain": [
          0,
          1
         ],
         "title": {
          "text": "c2"
         }
        }
       }
      },
      "text/html": [
       "<div>\n",
       "        \n",
       "        \n",
       "            <div id=\"04d199ca-aa86-4a60-ac8f-c9099170adde\" class=\"plotly-graph-div\" style=\"height:525px; width:100%;\"></div>\n",
       "            <script type=\"text/javascript\">\n",
       "                require([\"plotly\"], function(Plotly) {\n",
       "                    window.PLOTLYENV=window.PLOTLYENV || {};\n",
       "                    \n",
       "                if (document.getElementById(\"04d199ca-aa86-4a60-ac8f-c9099170adde\")) {\n",
       "                    Plotly.newPlot(\n",
       "                        '04d199ca-aa86-4a60-ac8f-c9099170adde',\n",
       "                        [{\"customdata\": [[6470], [92595], [3034], [1074], [5], [41108], [102321], [660], [228200], [77532], [5818263], [23394], [22172], [23165], [576], [258499], [28948], [44644], [24300], [2644], [10770], [232009], [182072], [13593], [12685], [9022], [47188], [1136], [17979], [9500], [4230], [4299], [63956], [35028], [17155], [13532], [4354], [52727], [14900], [43457], [10600], [40212], [15207], [4145789], [27008], [861457], [13449], [30687], [6436], [15429], [7], [296], [183218], [1539], [889], [40061], [15752], [28186], [22938], [37650], [15229], [5788], [12778], [6184], [2436], [126474], [5502], [10671], [12331], [52], [6552], [54438], [19953], [41421], [12369], [44923], [775], [6786], [49067], [12208], [24895], [46796], [37249], [32313], [16265], [21604], [2169], [53497], [2019], [18942], [36253], [39741], [12785], [57166], [3603], [38674], [2344626], [26447], [17972], [359053], [15126], [40874], [1800], [27895], [19507], [12083], [11083], [39562], [12347], [44908], [3454], [2760], [10565], [12166], [80737], [19829], [71317], [37649], [4520], [25786], [25681], [30077], [25036], [26474], [21260], [14012], [22276], [15292], [6890], [20934], [24251], [38775], [29773], [16839], [22897], [17575], [33461], [8208], [148810], [80098], [60161], [49741], [23924], [28490], [42009], [25817], [3412], [36958], [6564], [174011], [17575], [9345], [14624], [10013], [7849], [14332], [19182], [14082], [1858], [77814], [8311], [15586], [9155], [51941], [1592], [23306], [37798], [31865], [1373], [26486], [161], [5857], [11747], [22741], [8082], [8966], [9939], [20836], [3863], [26506], [18725], [3772], [22268], [25], [8], [322], [600], [192], [75971], [5107], [82474], [4538], [3190], [47355], [4], [25947], [10431], [115219], [33974], [19478], [136021], [67489], [8458], [23519], [3162], [12619], [21159], [1173], [14933], [3197], [41805], [82], [2836], [1151], [11356], [1611], [260], [50], [94], [338], [12504], [843], [30], [3831], [18675], [51], [136139], [111921], [322], [3149], [2393], [931], [10094], [16213], [286], [2556], [400], [533], [30061], [314], [9353], [7], [879], [272], [280], [3135], [6873], [3900], [31666], [9738], [25616], [20000], [21915], [17199], [6776], [23382], [59], [16064], [23615], [47896], [549], [6786], [18659], [33072], [47]], \"hovertemplate\": \"type=normal<br>c1=%{x}<br>c2=%{y}<br>entity_name=%{customdata[0]}<extra></extra>\", \"legendgroup\": \"normal\", \"marker\": {\"color\": \"#636efa\", \"symbol\": \"circle\"}, \"mode\": \"markers\", \"name\": \"normal\", \"showlegend\": true, \"type\": \"scatter\", \"x\": [3.885887861251831, 20.246843338012695, 30.08875274658203, -22.23282814025879, 35.26160430908203, -6.486879348754883, -13.76261043548584, 30.686134338378906, -40.36576843261719, -38.9734992980957, -4.441323757171631, -4.362724304199219, -9.993122100830078, 26.738666534423828, 36.1799430847168, -27.6159610748291, 22.355520248413086, -39.74830627441406, 34.40687942504883, 31.695419311523438, 15.975460052490234, 20.284744262695312, -40.17873001098633, 30.27443504333496, 18.906591415405273, 33.727230072021484, 20.769561767578125, 27.781526565551758, 19.795808792114258, 20.09701156616211, 33.92621612548828, 30.84149169921875, -26.619918823242188, -33.35822677612305, 25.997148513793945, 2.886042594909668, 4.5820631980896, -31.675979614257812, 1.432085394859314, -34.90843963623047, 29.825178146362305, -12.40880298614502, 24.379056930541992, -2.599318265914917, -9.796263694763184, -25.31269073486328, 26.474618911743164, 11.664867401123047, 29.63003921508789, -19.81622886657715, 9.21399211883545, 27.198169708251953, -27.5791072845459, 32.33169937133789, 34.41254425048828, 21.55682945251465, 25.122825622558594, 13.530967712402344, 15.253483772277832, 0.7147406339645386, -25.704118728637695, -47.71611022949219, 23.88018035888672, 22.519344329833984, 10.106621742248535, 14.215177536010742, 24.681814193725586, 26.958200454711914, 12.74840259552002, 32.63414001464844, 24.73504066467285, -43.62618637084961, -44.58507537841797, -29.567821502685547, 29.195438385009766, -33.55405044555664, -50.96125411987305, 8.511685371398926, -11.236625671386719, 26.967544555664062, -37.10752868652344, -30.348804473876953, 27.54836082458496, 28.06094741821289, -10.615699768066406, 29.4089298248291, 30.236637115478516, -43.544639587402344, -49.373023986816406, 5.405736446380615, -8.753318786621094, 8.089241027832031, -40.63679122924805, -34.75437927246094, 32.329830169677734, 1.6969451904296875, -1.7352696657180786, -12.001383781433105, -38.00490188598633, -29.5390625, 18.35385513305664, 26.716590881347656, -40.108787536621094, -11.83520793914795, 28.949193954467773, -34.47521209716797, -24.68473243713379, -10.431567192077637, 19.574012756347656, -29.405851364135742, 32.68414306640625, 26.76799774169922, 20.204843521118164, -34.14957809448242, 9.543575286865234, -37.81511688232422, 16.01959228515625, -39.27349853515625, -39.858463287353516, 11.353473663330078, 3.371699571609497, 14.124113082885742, -6.22629451751709, -35.91777801513672, 16.92671012878418, 22.57599639892578, 13.548672676086426, -14.27417278289795, 7.519062042236328, 10.264183044433594, -22.13027000427246, -14.631837844848633, -27.561298370361328, 22.588550567626953, -32.95355224609375, -45.32815170288086, -27.77042579650879, 23.711559295654297, -24.86180877685547, 14.57521915435791, 14.779067039489746, -8.756549835205078, -7.120913982391357, 23.126245498657227, -9.02365493774414, 18.311803817749023, 31.385169982910156, -33.479000091552734, 22.868392944335938, 16.98054313659668, 21.523826599121094, 25.163726806640625, 30.83733558654785, 9.891251564025879, -31.183141708374023, 3.8467350006103516, -31.742591857910156, 24.967147827148438, -50.62759017944336, -30.84156036376953, 25.375761032104492, -36.45573425292969, -36.6735725402832, -37.81722640991211, 9.302074432373047, 20.09377670288086, -36.50761795043945, -35.54965591430664, -0.15118245780467987, -10.31385326385498, 31.472450256347656, -40.37238311767578, 8.103276252746582, -45.69278335571289, 2.498253107070923, -21.226898193359375, -7.212377071380615, 28.73693084716797, 24.970855712890625, -50.279823303222656, -31.105789184570312, -51.918907165527344, 5.555530548095703, 0.2911401093006134, 2.4378111362457275, 9.982465744018555, 5.768191814422607, -0.4579218924045563, 1.2126890420913696, 7.095500946044922, 19.358352661132812, -50.50294876098633, -50.45635223388672, -29.366382598876953, 2.695391893386841, -9.95367431640625, 26.872095108032227, -4.452437400817871, 11.911975860595703, -37.71748352050781, 21.271764755249023, -26.787616729736328, 26.120853424072266, 25.74834442138672, -41.56749725341797, 21.550678253173828, -31.38756561279297, 22.93781089782715, 16.36412811279297, 30.251977920532227, 18.23641586303711, 14.915021896362305, 9.72952651977539, 6.002239227294922, 15.452757835388184, 16.796998977661133, 4.778848171234131, 11.449915885925293, 9.555370330810547, 12.168998718261719, 10.23515510559082, 16.789587020874023, 21.692249298095703, 10.886594772338867, 16.51152801513672, 19.359222412109375, 3.332156181335449, -25.381744384765625, 7.548750400543213, 5.945580005645752, 3.512434720993042, 8.681440353393555, 5.2447028160095215, 17.673805236816406, 6.993247985839844, 4.134832382202148, 21.281892776489258, 7.849852561950684, 3.585772752761841, 8.862278938293457, 17.870670318603516, -52.557132720947266, 15.330519676208496, 6.789410591125488, 7.923736095428467, 4.064001560211182, 5.159406661987305, 15.037635803222656, -11.752522468566895, 19.13743782043457, -36.17823791503906, -5.431985378265381, -13.617112159729004, -7.8364691734313965, -38.82102584838867, -0.4213005006313324, -46.92119216918945, -7.12657356262207, 18.18165397644043, -26.564199447631836, 35.039154052734375, 22.85102653503418, 26.159523010253906, 9.067205429077148, -42.3486328125], \"xaxis\": \"x\", \"y\": [-3.4575889110565186, -5.330774784088135, 27.603708267211914, -11.154329299926758, 12.723591804504395, -27.50640296936035, -20.527496337890625, 23.320858001708984, -26.42545509338379, -28.943286895751953, -38.465911865234375, -22.98418617248535, -20.207134246826172, -17.821725845336914, 34.785179138183594, -37.21833038330078, -19.776535034179688, -21.97648048400879, 7.4787163734436035, 18.23706817626953, -21.97275733947754, -30.25653648376465, -27.872194290161133, 17.311864852905273, -16.664718627929688, 23.6583309173584, -10.029382705688477, 5.359210968017578, -3.4014713764190674, -17.28307342529297, 11.217421531677246, 28.399105072021484, -21.858444213867188, -27.0943546295166, -22.309789657592773, -21.20909309387207, -0.1374858021736145, -15.831766128540039, -15.056415557861328, -26.984590530395508, -24.42119789123535, -11.33383846282959, -18.162094116210938, -38.024200439453125, -8.847650527954102, -35.8471565246582, 7.949133396148682, -24.051513671875, 6.73159646987915, -10.57982349395752, 15.5228910446167, 30.09412384033203, -35.7846794128418, 11.358503341674805, 34.9208869934082, -4.268995761871338, 27.11360740661621, 17.060781478881836, -20.039339065551758, -8.716922760009766, -12.238990783691406, -7.0760722160339355, -21.263874053955078, 8.513216018676758, 15.827217102050781, 17.566089630126953, 25.98102569580078, -14.438200950622559, -13.244057655334473, 20.011720657348633, 14.918896675109863, -17.517234802246094, -14.703004837036133, -15.538114547729492, -15.26961612701416, -9.671669006347656, -6.709165096282959, 1.896836280822754, -9.469404220581055, -10.291451454162598, -14.019705772399902, -30.459484100341797, 1.89204740524292, -16.20017433166504, -16.350793838500977, -18.957569122314453, 5.010599613189697, -18.53903579711914, -8.15077018737793, -19.533079147338867, -20.326887130737305, -20.750347137451172, -2.471245288848877, -12.561336517333984, 27.247875213623047, -10.06844425201416, -37.8568229675293, -15.249526023864746, -21.6567325592041, -37.4656867980957, 10.026262283325195, 15.872366905212402, -4.035048484802246, -7.406848430633545, -13.211980819702148, -28.63254737854004, -13.103320121765137, -10.96325969696045, -13.220298767089844, -17.622234344482422, 17.473464965820312, 28.94269561767578, -20.324138641357422, -18.179195404052734, -22.692424774169922, -12.718925476074219, -25.229219436645508, -18.17020034790039, -7.225188255310059, -12.966076850891113, -20.358280181884766, -21.593433380126953, -15.598875999450684, -11.475852012634277, -20.848867416381836, -1.6961252689361572, -28.62265396118164, -15.2587251663208, -0.14428803324699402, -21.12936019897461, -15.08961296081543, -9.364262580871582, -18.605998992919922, -9.73076343536377, -17.403282165527344, -13.078177452087402, -28.82461929321289, -13.622018814086914, -18.948558807373047, -26.857641220092773, -24.722436904907227, -7.3949384689331055, -11.505308151245117, -7.934916973114014, -13.070874214172363, -2.3713459968566895, 25.761428833007812, -12.237908363342285, 16.550607681274414, 8.714340209960938, 1.2076036930084229, -0.8915555477142334, -17.939741134643555, -12.851771354675293, -9.329476356506348, -16.12555503845215, -31.28849983215332, -2.2596089839935303, -12.942317008972168, -32.644371032714844, -13.509146690368652, -7.882462501525879, -18.79120635986328, -27.560998916625977, 3.479199171066284, 0.7840096950531006, -20.456745147705078, -9.830832481384277, -14.738626480102539, -5.144721508026123, 12.217771530151367, -9.887643814086914, -0.9924618005752563, -18.77225112915039, -5.184286117553711, -4.884829521179199, -17.18450927734375, -24.010934829711914, 13.638760566711426, -14.893473625183105, -38.2431755065918, -13.49878978729248, 56.7260856628418, 72.65473175048828, 72.62737274169922, 56.50836944580078, 54.149314880371094, 64.67015838623047, 63.278053283691406, 69.2918701171875, 53.89012908935547, -11.260905265808105, -9.121658325195312, -35.12260055541992, 71.04863739013672, -29.372886657714844, -20.086896896362305, -24.748445510864258, -25.335525512695312, -9.462515830993652, -30.183807373046875, -38.694984436035156, 2.57716703414917, -8.270402908325195, -0.6526689529418945, -21.364694595336914, -18.32240104675293, 2.6449804306030273, -2.907954692840576, 7.985438346862793, -22.307226181030273, 59.235416412353516, 60.68611526489258, 73.33375549316406, 57.177791595458984, 57.46289825439453, 69.42110443115234, 63.971378326416016, 67.00585174560547, 61.26728820800781, 62.0758056640625, 59.419776916503906, 57.05830001831055, 59.54228210449219, 53.785797119140625, 50.967628479003906, 61.26982879638672, -40.184688568115234, 72.53401184082031, 58.12302780151367, 57.244327545166016, 68.77655029296875, 74.55856323242188, 54.72998046875, 67.28499603271484, 72.91678619384766, 56.027984619140625, 63.52546310424805, 59.63804244995117, 58.56869125366211, 52.93706130981445, -11.498260498046875, 51.79786682128906, 65.50794982910156, 56.114315032958984, 54.49201965332031, 59.492897033691406, 50.323246002197266, -13.870107650756836, 8.849648475646973, -28.360183715820312, -26.304426193237305, -12.110615730285645, -28.266735076904297, -3.8266170024871826, -22.447216033935547, -4.583677291870117, -13.548283576965332, 7.895331382751465, -19.63643455505371, 33.99201583862305, 14.954684257507324, -16.394105911254883, -24.75196075439453, -3.44201397895813], \"yaxis\": \"y\"}, {\"customdata\": [[440], [1946], [9121]], \"hovertemplate\": \"type=outlier<br>c1=%{x}<br>c2=%{y}<br>entity_name=%{customdata[0]}<extra></extra>\", \"legendgroup\": \"outlier\", \"marker\": {\"color\": \"#EF553B\", \"symbol\": \"circle\"}, \"mode\": \"markers\", \"name\": \"outlier\", \"showlegend\": true, \"type\": \"scatter\", \"x\": [23.073713302612305, 35.84791564941406, 0.31787052750587463], \"xaxis\": \"x\", \"y\": [24.940855026245117, 6.422305583953857, -244.31320190429688], \"yaxis\": \"y\"}],\n",
       "                        {\"legend\": {\"title\": {\"text\": \"type\"}, \"tracegroupgap\": 0}, \"margin\": {\"t\": 60}, \"template\": {\"data\": {\"bar\": [{\"error_x\": {\"color\": \"#2a3f5f\"}, \"error_y\": {\"color\": \"#2a3f5f\"}, \"marker\": {\"line\": {\"color\": \"#E5ECF6\", \"width\": 0.5}}, \"type\": \"bar\"}], \"barpolar\": [{\"marker\": {\"line\": {\"color\": \"#E5ECF6\", \"width\": 0.5}}, \"type\": \"barpolar\"}], \"carpet\": [{\"aaxis\": {\"endlinecolor\": \"#2a3f5f\", \"gridcolor\": \"white\", \"linecolor\": \"white\", \"minorgridcolor\": \"white\", \"startlinecolor\": \"#2a3f5f\"}, \"baxis\": {\"endlinecolor\": \"#2a3f5f\", \"gridcolor\": \"white\", \"linecolor\": \"white\", \"minorgridcolor\": \"white\", \"startlinecolor\": \"#2a3f5f\"}, \"type\": \"carpet\"}], \"choropleth\": [{\"colorbar\": {\"outlinewidth\": 0, \"ticks\": \"\"}, \"type\": \"choropleth\"}], \"contour\": [{\"colorbar\": {\"outlinewidth\": 0, \"ticks\": \"\"}, \"colorscale\": [[0.0, \"#0d0887\"], [0.1111111111111111, \"#46039f\"], [0.2222222222222222, \"#7201a8\"], [0.3333333333333333, \"#9c179e\"], [0.4444444444444444, \"#bd3786\"], [0.5555555555555556, \"#d8576b\"], [0.6666666666666666, \"#ed7953\"], [0.7777777777777778, \"#fb9f3a\"], [0.8888888888888888, \"#fdca26\"], [1.0, \"#f0f921\"]], \"type\": \"contour\"}], \"contourcarpet\": [{\"colorbar\": {\"outlinewidth\": 0, \"ticks\": \"\"}, \"type\": \"contourcarpet\"}], \"heatmap\": [{\"colorbar\": {\"outlinewidth\": 0, \"ticks\": \"\"}, \"colorscale\": [[0.0, \"#0d0887\"], [0.1111111111111111, \"#46039f\"], [0.2222222222222222, \"#7201a8\"], [0.3333333333333333, \"#9c179e\"], [0.4444444444444444, \"#bd3786\"], [0.5555555555555556, \"#d8576b\"], [0.6666666666666666, \"#ed7953\"], [0.7777777777777778, \"#fb9f3a\"], [0.8888888888888888, \"#fdca26\"], [1.0, \"#f0f921\"]], \"type\": \"heatmap\"}], \"heatmapgl\": [{\"colorbar\": {\"outlinewidth\": 0, \"ticks\": \"\"}, \"colorscale\": [[0.0, \"#0d0887\"], [0.1111111111111111, \"#46039f\"], [0.2222222222222222, \"#7201a8\"], [0.3333333333333333, \"#9c179e\"], [0.4444444444444444, \"#bd3786\"], [0.5555555555555556, \"#d8576b\"], [0.6666666666666666, \"#ed7953\"], [0.7777777777777778, \"#fb9f3a\"], [0.8888888888888888, \"#fdca26\"], [1.0, \"#f0f921\"]], \"type\": \"heatmapgl\"}], \"histogram\": [{\"marker\": {\"colorbar\": {\"outlinewidth\": 0, \"ticks\": \"\"}}, \"type\": \"histogram\"}], \"histogram2d\": [{\"colorbar\": {\"outlinewidth\": 0, \"ticks\": \"\"}, \"colorscale\": [[0.0, \"#0d0887\"], [0.1111111111111111, \"#46039f\"], [0.2222222222222222, \"#7201a8\"], [0.3333333333333333, \"#9c179e\"], [0.4444444444444444, \"#bd3786\"], [0.5555555555555556, \"#d8576b\"], [0.6666666666666666, \"#ed7953\"], [0.7777777777777778, \"#fb9f3a\"], [0.8888888888888888, \"#fdca26\"], [1.0, \"#f0f921\"]], \"type\": \"histogram2d\"}], \"histogram2dcontour\": [{\"colorbar\": {\"outlinewidth\": 0, \"ticks\": \"\"}, \"colorscale\": [[0.0, \"#0d0887\"], [0.1111111111111111, \"#46039f\"], [0.2222222222222222, \"#7201a8\"], [0.3333333333333333, \"#9c179e\"], [0.4444444444444444, \"#bd3786\"], [0.5555555555555556, \"#d8576b\"], [0.6666666666666666, \"#ed7953\"], [0.7777777777777778, \"#fb9f3a\"], [0.8888888888888888, \"#fdca26\"], [1.0, \"#f0f921\"]], \"type\": \"histogram2dcontour\"}], \"mesh3d\": [{\"colorbar\": {\"outlinewidth\": 0, \"ticks\": \"\"}, \"type\": \"mesh3d\"}], \"parcoords\": [{\"line\": {\"colorbar\": {\"outlinewidth\": 0, \"ticks\": \"\"}}, \"type\": \"parcoords\"}], \"pie\": [{\"automargin\": true, \"type\": \"pie\"}], \"scatter\": [{\"marker\": {\"colorbar\": {\"outlinewidth\": 0, \"ticks\": \"\"}}, \"type\": \"scatter\"}], \"scatter3d\": [{\"line\": {\"colorbar\": {\"outlinewidth\": 0, \"ticks\": \"\"}}, \"marker\": {\"colorbar\": {\"outlinewidth\": 0, \"ticks\": \"\"}}, \"type\": \"scatter3d\"}], \"scattercarpet\": [{\"marker\": {\"colorbar\": {\"outlinewidth\": 0, \"ticks\": \"\"}}, \"type\": \"scattercarpet\"}], \"scattergeo\": [{\"marker\": {\"colorbar\": {\"outlinewidth\": 0, \"ticks\": \"\"}}, \"type\": \"scattergeo\"}], \"scattergl\": [{\"marker\": {\"colorbar\": {\"outlinewidth\": 0, \"ticks\": \"\"}}, \"type\": \"scattergl\"}], \"scattermapbox\": [{\"marker\": {\"colorbar\": {\"outlinewidth\": 0, \"ticks\": \"\"}}, \"type\": \"scattermapbox\"}], \"scatterpolar\": [{\"marker\": {\"colorbar\": {\"outlinewidth\": 0, \"ticks\": \"\"}}, \"type\": \"scatterpolar\"}], \"scatterpolargl\": [{\"marker\": {\"colorbar\": {\"outlinewidth\": 0, \"ticks\": \"\"}}, \"type\": \"scatterpolargl\"}], \"scatterternary\": [{\"marker\": {\"colorbar\": {\"outlinewidth\": 0, \"ticks\": \"\"}}, \"type\": \"scatterternary\"}], \"surface\": [{\"colorbar\": {\"outlinewidth\": 0, \"ticks\": \"\"}, \"colorscale\": [[0.0, \"#0d0887\"], [0.1111111111111111, \"#46039f\"], [0.2222222222222222, \"#7201a8\"], [0.3333333333333333, \"#9c179e\"], [0.4444444444444444, \"#bd3786\"], [0.5555555555555556, \"#d8576b\"], [0.6666666666666666, \"#ed7953\"], [0.7777777777777778, \"#fb9f3a\"], [0.8888888888888888, \"#fdca26\"], [1.0, \"#f0f921\"]], \"type\": \"surface\"}], \"table\": [{\"cells\": {\"fill\": {\"color\": \"#EBF0F8\"}, \"line\": {\"color\": \"white\"}}, \"header\": {\"fill\": {\"color\": \"#C8D4E3\"}, \"line\": {\"color\": \"white\"}}, \"type\": \"table\"}]}, \"layout\": {\"annotationdefaults\": {\"arrowcolor\": \"#2a3f5f\", \"arrowhead\": 0, \"arrowwidth\": 1}, \"coloraxis\": {\"colorbar\": {\"outlinewidth\": 0, \"ticks\": \"\"}}, \"colorscale\": {\"diverging\": [[0, \"#8e0152\"], [0.1, \"#c51b7d\"], [0.2, \"#de77ae\"], [0.3, \"#f1b6da\"], [0.4, \"#fde0ef\"], [0.5, \"#f7f7f7\"], [0.6, \"#e6f5d0\"], [0.7, \"#b8e186\"], [0.8, \"#7fbc41\"], [0.9, \"#4d9221\"], [1, \"#276419\"]], \"sequential\": [[0.0, \"#0d0887\"], [0.1111111111111111, \"#46039f\"], [0.2222222222222222, \"#7201a8\"], [0.3333333333333333, \"#9c179e\"], [0.4444444444444444, \"#bd3786\"], [0.5555555555555556, \"#d8576b\"], [0.6666666666666666, \"#ed7953\"], [0.7777777777777778, \"#fb9f3a\"], [0.8888888888888888, \"#fdca26\"], [1.0, \"#f0f921\"]], \"sequentialminus\": [[0.0, \"#0d0887\"], [0.1111111111111111, \"#46039f\"], [0.2222222222222222, \"#7201a8\"], [0.3333333333333333, \"#9c179e\"], [0.4444444444444444, \"#bd3786\"], [0.5555555555555556, \"#d8576b\"], [0.6666666666666666, \"#ed7953\"], [0.7777777777777778, \"#fb9f3a\"], [0.8888888888888888, \"#fdca26\"], [1.0, \"#f0f921\"]]}, \"colorway\": [\"#636efa\", \"#EF553B\", \"#00cc96\", \"#ab63fa\", \"#FFA15A\", \"#19d3f3\", \"#FF6692\", \"#B6E880\", \"#FF97FF\", \"#FECB52\"], \"font\": {\"color\": \"#2a3f5f\"}, \"geo\": {\"bgcolor\": \"white\", \"lakecolor\": \"white\", \"landcolor\": \"#E5ECF6\", \"showlakes\": true, \"showland\": true, \"subunitcolor\": \"white\"}, \"hoverlabel\": {\"align\": \"left\"}, \"hovermode\": \"closest\", \"mapbox\": {\"style\": \"light\"}, \"paper_bgcolor\": \"white\", \"plot_bgcolor\": \"#E5ECF6\", \"polar\": {\"angularaxis\": {\"gridcolor\": \"white\", \"linecolor\": \"white\", \"ticks\": \"\"}, \"bgcolor\": \"#E5ECF6\", \"radialaxis\": {\"gridcolor\": \"white\", \"linecolor\": \"white\", \"ticks\": \"\"}}, \"scene\": {\"xaxis\": {\"backgroundcolor\": \"#E5ECF6\", \"gridcolor\": \"white\", \"gridwidth\": 2, \"linecolor\": \"white\", \"showbackground\": true, \"ticks\": \"\", \"zerolinecolor\": \"white\"}, \"yaxis\": {\"backgroundcolor\": \"#E5ECF6\", \"gridcolor\": \"white\", \"gridwidth\": 2, \"linecolor\": \"white\", \"showbackground\": true, \"ticks\": \"\", \"zerolinecolor\": \"white\"}, \"zaxis\": {\"backgroundcolor\": \"#E5ECF6\", \"gridcolor\": \"white\", \"gridwidth\": 2, \"linecolor\": \"white\", \"showbackground\": true, \"ticks\": \"\", \"zerolinecolor\": \"white\"}}, \"shapedefaults\": {\"line\": {\"color\": \"#2a3f5f\"}}, \"ternary\": {\"aaxis\": {\"gridcolor\": \"white\", \"linecolor\": \"white\", \"ticks\": \"\"}, \"baxis\": {\"gridcolor\": \"white\", \"linecolor\": \"white\", \"ticks\": \"\"}, \"bgcolor\": \"#E5ECF6\", \"caxis\": {\"gridcolor\": \"white\", \"linecolor\": \"white\", \"ticks\": \"\"}}, \"title\": {\"x\": 0.05}, \"xaxis\": {\"automargin\": true, \"gridcolor\": \"white\", \"linecolor\": \"white\", \"ticks\": \"\", \"title\": {\"standoff\": 15}, \"zerolinecolor\": \"white\", \"zerolinewidth\": 2}, \"yaxis\": {\"automargin\": true, \"gridcolor\": \"white\", \"linecolor\": \"white\", \"ticks\": \"\", \"title\": {\"standoff\": 15}, \"zerolinecolor\": \"white\", \"zerolinewidth\": 2}}}, \"title\": {\"text\": \"t-SNE\"}, \"xaxis\": {\"anchor\": \"y\", \"domain\": [0.0, 1.0], \"title\": {\"text\": \"c1\"}}, \"yaxis\": {\"anchor\": \"x\", \"domain\": [0.0, 1.0], \"title\": {\"text\": \"c2\"}}},\n",
       "                        {\"responsive\": true}\n",
       "                    ).then(function(){\n",
       "                            \n",
       "var gd = document.getElementById('04d199ca-aa86-4a60-ac8f-c9099170adde');\n",
       "var x = new MutationObserver(function (mutations, observer) {{\n",
       "        var display = window.getComputedStyle(gd).display;\n",
       "        if (!display || display === 'none') {{\n",
       "            console.log([gd, 'removed!']);\n",
       "            Plotly.purge(gd);\n",
       "            observer.disconnect();\n",
       "        }}\n",
       "}});\n",
       "\n",
       "// Listen for the removal of the full notebook cells\n",
       "var notebookContainer = gd.closest('#notebook-container');\n",
       "if (notebookContainer) {{\n",
       "    x.observe(notebookContainer, {childList: true});\n",
       "}}\n",
       "\n",
       "// Listen for the clearing of the current output cell\n",
       "var outputEl = gd.closest('.output');\n",
       "if (outputEl) {{\n",
       "    x.observe(outputEl, {childList: true});\n",
       "}}\n",
       "\n",
       "                        })\n",
       "                };\n",
       "                });\n",
       "            </script>\n",
       "        </div>"
      ]
     },
     "metadata": {},
     "output_type": "display_data"
    }
   ],
   "source": []
  },
  {
   "cell_type": "code",
   "execution_count": null,
   "metadata": {},
   "outputs": [],
   "source": []
  },
  {
   "cell_type": "code",
   "execution_count": null,
   "metadata": {},
   "outputs": [],
   "source": []
  },
  {
   "cell_type": "markdown",
   "metadata": {},
   "source": [
    "<h2>Sources</h2>\n",
    "[1] Paweł Cichosz. „Anomaly detection in discussion forum posts using glo-bal vectors”. W:Photonics Applications in Astronomy, Communications,Industry, and High-Energy Physics Experiments 2018. T. 10808. Interna-tional Society for Optics i Photonics. 2018, 108081R.\n",
    "\n",
    "[2] Varun Chandola, Arindam Banerjee i Vipin Kumar. „Anomaly Detection:A Survey”. W:ACM Comput. Surv.41.3 (lip. 2009).issn: 0360-0300.doi:10.1145/1541880.1541882.url:https://doi.org/10.1145/1541880.1541882."
   ]
  },
  {
   "cell_type": "code",
   "execution_count": null,
   "metadata": {},
   "outputs": [],
   "source": []
  },
  {
   "cell_type": "code",
   "execution_count": null,
   "metadata": {},
   "outputs": [],
   "source": []
  },
  {
   "cell_type": "code",
   "execution_count": null,
   "metadata": {},
   "outputs": [],
   "source": []
  },
  {
   "cell_type": "code",
   "execution_count": null,
   "metadata": {},
   "outputs": [],
   "source": []
  },
  {
   "cell_type": "code",
   "execution_count": null,
   "metadata": {},
   "outputs": [],
   "source": []
  }
 ],
 "metadata": {
  "kernelspec": {
   "display_name": "Python 3",
   "language": "python",
   "name": "python3"
  }
 },
 "nbformat": 4,
 "nbformat_minor": 2
}
